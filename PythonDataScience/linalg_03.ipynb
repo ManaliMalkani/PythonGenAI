{
 "cells": [
  {
   "cell_type": "code",
   "execution_count": 5,
   "id": "17945790-6207-4047-87f4-9da84c4a8cf5",
   "metadata": {},
   "outputs": [
    {
     "name": "stdout",
     "output_type": "stream",
     "text": [
      "Collecting wikipedia\n",
      "  Downloading wikipedia-1.4.0.tar.gz (27 kB)\n",
      "  Preparing metadata (setup.py) ... \u001b[?25ldone\n",
      "\u001b[?25hRequirement already satisfied: beautifulsoup4 in /opt/anaconda3/lib/python3.12/site-packages (from wikipedia) (4.12.3)\n",
      "Requirement already satisfied: requests<3.0.0,>=2.0.0 in /opt/anaconda3/lib/python3.12/site-packages (from wikipedia) (2.32.2)\n",
      "Requirement already satisfied: charset-normalizer<4,>=2 in /opt/anaconda3/lib/python3.12/site-packages (from requests<3.0.0,>=2.0.0->wikipedia) (2.0.4)\n",
      "Requirement already satisfied: idna<4,>=2.5 in /opt/anaconda3/lib/python3.12/site-packages (from requests<3.0.0,>=2.0.0->wikipedia) (3.7)\n",
      "Requirement already satisfied: urllib3<3,>=1.21.1 in /opt/anaconda3/lib/python3.12/site-packages (from requests<3.0.0,>=2.0.0->wikipedia) (2.2.2)\n",
      "Requirement already satisfied: certifi>=2017.4.17 in /opt/anaconda3/lib/python3.12/site-packages (from requests<3.0.0,>=2.0.0->wikipedia) (2024.7.4)\n",
      "Requirement already satisfied: soupsieve>1.2 in /opt/anaconda3/lib/python3.12/site-packages (from beautifulsoup4->wikipedia) (2.5)\n",
      "Building wheels for collected packages: wikipedia\n",
      "  Building wheel for wikipedia (setup.py) ... \u001b[?25ldone\n",
      "\u001b[?25h  Created wheel for wikipedia: filename=wikipedia-1.4.0-py3-none-any.whl size=11680 sha256=5000a181c432f1daf3a6a43476b4748ad116208427f234d01de5a5e1ece0c7f4\n",
      "  Stored in directory: /Users/mamalkani/Library/Caches/pip/wheels/63/47/7c/a9688349aa74d228ce0a9023229c6c0ac52ca2a40fe87679b8\n",
      "Successfully built wikipedia\n",
      "Installing collected packages: wikipedia\n",
      "Successfully installed wikipedia-1.4.0\n",
      "Note: you may need to restart the kernel to use updated packages.\n"
     ]
    }
   ],
   "source": [
    "pip install wikipedia"
   ]
  },
  {
   "cell_type": "code",
   "execution_count": 9,
   "id": "9796ca6b-f74a-4afb-8e49-0ff8186d2e91",
   "metadata": {},
   "outputs": [],
   "source": [
    "import wikipedia"
   ]
  },
  {
   "cell_type": "code",
   "execution_count": 11,
   "id": "850b52eb-6398-4acf-9c66-bce5f03e2d57",
   "metadata": {},
   "outputs": [],
   "source": [
    "q1 = wikipedia.page('Deep Learning')\n",
    "q2 = wikipedia.page('Artifical Intelligence')\n",
    "q3 = wikipedia.page('Analytics')\n",
    "q4 = wikipedia.page('Baseball')"
   ]
  },
  {
   "cell_type": "code",
   "execution_count": 13,
   "id": "2b1bb0d9-b00e-49d7-85da-10b9673c1269",
   "metadata": {},
   "outputs": [
    {
     "name": "stdout",
     "output_type": "stream",
     "text": [
      "ML \t 8394 \n",
      "AI \t 13166 \n",
      "soccer \t 2329 \n",
      "tennis \t 9893\n"
     ]
    }
   ],
   "source": [
    "print(\"ML \\t\",     len(q1.content.split()), \"\\n\"\n",
    "      \"AI \\t\",     len(q2.content.split()), \"\\n\"\n",
    "      \"soccer \\t\", len(q3.content.split()), \"\\n\"\n",
    "      \"tennis \\t\", len(q4.content.split()))"
   ]
  },
  {
   "cell_type": "code",
   "execution_count": 19,
   "id": "342ccfbd-ebfd-4450-9529-5acb63d26f88",
   "metadata": {},
   "outputs": [],
   "source": [
    "#print(q1.content)"
   ]
  },
  {
   "cell_type": "code",
   "execution_count": 21,
   "id": "91dc2846-16ac-455a-b633-954e69fcc46f",
   "metadata": {},
   "outputs": [],
   "source": [
    "import numpy as np\n",
    "import pandas as pd"
   ]
  },
  {
   "cell_type": "code",
   "execution_count": 23,
   "id": "35b7025a-76ba-4c29-81a7-9b5e070935bb",
   "metadata": {},
   "outputs": [],
   "source": [
    "from nltk import sent_tokenize, word_tokenize\n",
    "from nltk.stem import PorterStemmer\n",
    "import re"
   ]
  },
  {
   "cell_type": "code",
   "execution_count": 25,
   "id": "f74e2355-f715-40a3-b3d7-e021763991b8",
   "metadata": {},
   "outputs": [],
   "source": [
    "from sklearn.feature_extraction.text import TfidfVectorizer\n",
    "from sklearn.feature_extraction.text import CountVectorizer"
   ]
  },
  {
   "cell_type": "code",
   "execution_count": 27,
   "id": "39481385-7cfd-483a-93d0-f882a9c89930",
   "metadata": {},
   "outputs": [],
   "source": [
    "import matplotlib.pyplot as plt\n",
    "from pandas.plotting import scatter_matrix\n",
    "%matplotlib inline \n",
    "\n",
    "import seaborn as sns\n",
    "sns.set(style=\"white\", color_codes=True)\n",
    "sns.set(font_scale=1.5)"
   ]
  },
  {
   "cell_type": "code",
   "execution_count": 29,
   "id": "9c4c5b00-6fa0-4fe0-8924-c938a507d1a7",
   "metadata": {},
   "outputs": [],
   "source": [
    "cv = CountVectorizer()"
   ]
  },
  {
   "cell_type": "code",
   "execution_count": 33,
   "id": "d5adc1bd-db6d-4980-bb6f-430519dbeea9",
   "metadata": {},
   "outputs": [],
   "source": [
    "cv = cv.fit(([q1.content, \n",
    "              q2.content, \n",
    "              q3.content, \n",
    "              q4.content]))"
   ]
  },
  {
   "cell_type": "code",
   "execution_count": 35,
   "id": "7664b718-1956-493e-b378-e6c973665156",
   "metadata": {},
   "outputs": [
    {
     "data": {
      "text/plain": [
       "5803"
      ]
     },
     "execution_count": 35,
     "metadata": {},
     "output_type": "execute_result"
    }
   ],
   "source": [
    "len(cv.get_feature_names_out())"
   ]
  },
  {
   "cell_type": "code",
   "execution_count": 37,
   "id": "62618dec-f5db-4275-9074-4b89f1bf20ff",
   "metadata": {},
   "outputs": [],
   "source": [
    "X = cv.transform([q1.content, \n",
    "                           q2.content, \n",
    "                           q3.content, \n",
    "                           q4.content]).toarray()"
   ]
  },
  {
   "cell_type": "code",
   "execution_count": 39,
   "id": "4e144db7-c469-49f5-a5f0-74efa031d5f3",
   "metadata": {},
   "outputs": [
    {
     "data": {
      "text/plain": [
       "array([[5, 0, 0, ..., 0, 0, 0],\n",
       "       [2, 0, 0, ..., 1, 0, 0],\n",
       "       [0, 0, 0, ..., 0, 0, 1],\n",
       "       [0, 1, 1, ..., 0, 1, 0]])"
      ]
     },
     "execution_count": 39,
     "metadata": {},
     "output_type": "execute_result"
    }
   ],
   "source": [
    "X"
   ]
  },
  {
   "cell_type": "code",
   "execution_count": 41,
   "id": "6502ca8a-a2e8-4d25-aeb0-fc5039ccc8ca",
   "metadata": {},
   "outputs": [
    {
     "data": {
      "text/plain": [
       "(4, 5803)"
      ]
     },
     "execution_count": 41,
     "metadata": {},
     "output_type": "execute_result"
    }
   ],
   "source": [
    "X.shape"
   ]
  },
  {
   "cell_type": "markdown",
   "id": "7630622e-9937-4500-90f1-7e8aa1df3f77",
   "metadata": {},
   "source": [
    "#### measure similarities (among q1, q2, q3, q4)\n",
    "- euclidean\n",
    "- DOT product (cosine similarity)"
   ]
  },
  {
   "cell_type": "code",
   "execution_count": 48,
   "id": "967096e9-84c4-45de-893b-755c75ef7f27",
   "metadata": {},
   "outputs": [],
   "source": [
    "def euclidean_distance(x, y):\n",
    "    dist = np.sqrt(np.sum((x-y) ** 2))\n",
    "    \n",
    "    return dist"
   ]
  },
  {
   "cell_type": "code",
   "execution_count": 50,
   "id": "ffdea855-f7f3-4a2f-a6eb-95381777e706",
   "metadata": {},
   "outputs": [
    {
     "name": "stdout",
     "output_type": "stream",
     "text": [
      "ML - AI \t 585.0324777309376 \n",
      "ML - soccer \t 524.1946203462985 \n",
      "ML - tennis \t 618.6614583114095\n"
     ]
    }
   ],
   "source": [
    "print(\"ML - AI \\t\",     euclidean_distance(X[0], X[1]), \"\\n\"\n",
    "      \"ML - soccer \\t\", euclidean_distance(X[0], X[2]), \"\\n\"\n",
    "      \"ML - tennis \\t\", euclidean_distance(X[0], X[3]))"
   ]
  },
  {
   "cell_type": "code",
   "execution_count": 52,
   "id": "6b9bd2a8-ad28-4b6c-b77c-4a03ea6ff6b0",
   "metadata": {},
   "outputs": [
    {
     "data": {
      "text/plain": [
       "'Deep learning is a subset of machine learning that focuses on utilizing neural networks to perform tasks such as classification, regression, and repre'"
      ]
     },
     "execution_count": 52,
     "metadata": {},
     "output_type": "execute_result"
    }
   ],
   "source": [
    "q1.content[:150]"
   ]
  },
  {
   "cell_type": "code",
   "execution_count": 54,
   "id": "1b425038-626f-4552-aa23-311b227f6ff3",
   "metadata": {},
   "outputs": [
    {
     "data": {
      "text/plain": [
       "'Artificial intelligence (AI), in its broadest sense, is intelligence exhibited by machines, particularly computer systems. It is a field of research i'"
      ]
     },
     "execution_count": 54,
     "metadata": {},
     "output_type": "execute_result"
    }
   ],
   "source": [
    "q2.content[:150]"
   ]
  },
  {
   "cell_type": "code",
   "execution_count": 78,
   "id": "4be1d6b9-e618-4ade-91c9-1e6f4525d427",
   "metadata": {},
   "outputs": [],
   "source": [
    "def fn_cosine_sim(x,y):\n",
    "    dotp = np.dot(x, y) / np.sqrt(np.dot(x, x) * (np.dot(y, y)))\n",
    "    return dotp"
   ]
  },
  {
   "cell_type": "code",
   "execution_count": 80,
   "id": "29a203d6-b9fc-4e92-8b0d-c60f0349d8f0",
   "metadata": {},
   "outputs": [
    {
     "name": "stdout",
     "output_type": "stream",
     "text": [
      "ML - AI \t 0.8963585893776523 \n",
      "ML - soccer \t 0.774707504445516 \n",
      "ML - tennis \t 0.8164487079337749\n"
     ]
    }
   ],
   "source": [
    "print(\"ML - AI \\t\",     fn_cosine_sim(X[0], X[1]), \"\\n\"\n",
    "      \"ML - soccer \\t\", fn_cosine_sim(X[0], X[2]), \"\\n\"\n",
    "      \"ML - tennis \\t\", fn_cosine_sim(X[0], X[3]))"
   ]
  },
  {
   "cell_type": "markdown",
   "id": "7de56089-124e-40dc-9d27-a9cbfe715fed",
   "metadata": {},
   "source": [
    "# Lot of common words"
   ]
  },
  {
   "cell_type": "code",
   "execution_count": null,
   "id": "667df5b0-7b76-4c35-83db-e9db5c2a2263",
   "metadata": {},
   "outputs": [],
   "source": []
  }
 ],
 "metadata": {
  "kernelspec": {
   "display_name": "Python 3 (ipykernel)",
   "language": "python",
   "name": "python3"
  },
  "language_info": {
   "codemirror_mode": {
    "name": "ipython",
    "version": 3
   },
   "file_extension": ".py",
   "mimetype": "text/x-python",
   "name": "python",
   "nbconvert_exporter": "python",
   "pygments_lexer": "ipython3",
   "version": "3.12.4"
  }
 },
 "nbformat": 4,
 "nbformat_minor": 5
}
