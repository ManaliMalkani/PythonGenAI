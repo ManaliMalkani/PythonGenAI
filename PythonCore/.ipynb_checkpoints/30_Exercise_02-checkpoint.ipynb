{
 "cells": [
  {
   "cell_type": "markdown",
   "id": "c3215a95-0a80-4fb5-a1e2-fbd5b3f4a1fc",
   "metadata": {},
   "source": [
    "# Case studies 1\n",
    "\n",
    "#### Write a program which will find factors of given number and find whether the factor is even or odd."
   ]
  },
  {
   "cell_type": "code",
   "execution_count": 7,
   "id": "ea4f0c76-e4c3-4093-9aba-910c8d7d579b",
   "metadata": {},
   "outputs": [],
   "source": [
    "# define a function\n",
    "def get_factors(x):\n",
    "    # This function takes a number and prints the factors\n",
    "\n",
    "    factors_list = []\n",
    "    prime_factor_list = []\n",
    "    prime_factor_list_temp = []\n",
    "    \n",
    "    for i in range(1, x + 1):\n",
    "        if x % i == 0:\n",
    "            factors_list.append(i)\n",
    "    for i in factors_list:\n",
    "        for j in range(1,i+1):\n",
    "            if i % j == 0:\n",
    "                prime_factor_list_temp.append(j)\n",
    "           \n",
    "#         for j in range(1, i+1):\n",
    "#             if i % j == 0:\n",
    "#                 prime_factor_list_temp.append(j)\n",
    "#             if len(prime_factor_list_temp) == 2 or 1:\n",
    "#                 if x % i == 0:\n",
    "#                     prime_factor_list.append(i)\n",
    "#         prime_factor_list_temp.clear()\n",
    "            \n",
    "    return factors_list, prime_factor_list"
   ]
  },
  {
   "cell_type": "code",
   "execution_count": 13,
   "id": "f6a77e5a-8845-47fe-8f87-20dd77d1e61b",
   "metadata": {},
   "outputs": [
    {
     "name": "stdin",
     "output_type": "stream",
     "text": [
      "Enter a number:  70\n"
     ]
    },
    {
     "name": "stdout",
     "output_type": "stream",
     "text": [
      "[1, 2, 5, 7]\n",
      "The factors of 70 = [1, 2, 5, 7, 10, 14, 35, 70]\n",
      "The prime factors of 70 = [1, 2, 5, 7]\n",
      "the factor 1 is ODD\n",
      "the factor 2 is EVEN\n",
      "the factor 5 is ODD\n",
      "the factor 7 is ODD\n",
      "the factor 10 is EVEN\n",
      "the factor 14 is EVEN\n",
      "the factor 35 is ODD\n",
      "the factor 70 is EVEN\n"
     ]
    }
   ],
   "source": [
    "# uncomment the following line to take input from the user\n",
    "num = int(input(\"Enter a number: \"))\n",
    "\n",
    "factors_list, prime_factor_list = get_factors(num)\n",
    "\n",
    "print(prime_factor_list)\n",
    "print('The factors of {} = {}'.format(num, factors_list))\n",
    "print('The prime factors of {} = {}'.format(num, prime_factor_list))\n",
    "\n",
    "for factor in factors_list:\n",
    "    if factor % 2 ==0:\n",
    "        print('the factor {} is EVEN'.format(factor))\n",
    "    else:\n",
    "        print('the factor {} is ODD'.format(factor))"
   ]
  },
  {
   "cell_type": "markdown",
   "id": "7b889a52-d54b-4967-9595-e1a40dae6bb5",
   "metadata": {},
   "source": [
    "#### Write a code which accepts a sequence of words as input and prints the words in a sequence after sorting them alphabetically. "
   ]
  },
  {
   "cell_type": "code",
   "execution_count": 24,
   "id": "97d42340-8ee1-42b2-88c8-6a27ef83b8ce",
   "metadata": {},
   "outputs": [
    {
     "name": "stdin",
     "output_type": "stream",
     "text": [
      "Enter a string:  gh hgh hgh hgyuty rt6 gf\n"
     ]
    },
    {
     "name": "stdout",
     "output_type": "stream",
     "text": [
      "The sorted words are:\n",
      "gf, gh, hgh, hgh, hgyuty, rt6, "
     ]
    }
   ],
   "source": [
    "# uncomment to take input from the user\n",
    "my_str = input(\"Enter a string: \")\n",
    "\n",
    "# breakdown the string into a list of words\n",
    "words = my_str.split()\n",
    "\n",
    "# sort the list\n",
    "words.sort()\n",
    "\n",
    "# display the sorted words\n",
    "\n",
    "print(\"The sorted words are:\")\n",
    "for word in words:\n",
    "    print(word, end=', ')"
   ]
  },
  {
   "cell_type": "markdown",
   "id": "f0ad7d50-8ee2-4ef1-b4fa-07b0995467ca",
   "metadata": {},
   "source": [
    "#### Write a program, which will find all the numbers between 1000 and 3000 (both included) such that each digit of a number is an even number. The numbers obtained should be printed in a comma separated sequence on a single line. \n",
    "\n",
    "Hint: In case of input data being supplied to the question, it should be assumed to\n",
    "be a console input. Divide each digit with 2 and verify is it even or not."
   ]
  },
  {
   "cell_type": "code",
   "execution_count": 29,
   "id": "f07b5511-c889-484b-9e73-1b00dd085d8d",
   "metadata": {},
   "outputs": [
    {
     "name": "stdout",
     "output_type": "stream",
     "text": [
      "[2222, 2224, 2226, 2228, 2242, 2244, 2246, 2248, 2262, 2264, 2266, 2268, 2282, 2284, 2286, 2288, 2422, 2424, 2426, 2428, 2442, 2444, 2446, 2448, 2462, 2464, 2466, 2468, 2482, 2484, 2486, 2488, 2622, 2624, 2626, 2628, 2642, 2644, 2646, 2648, 2662, 2664, 2666, 2668, 2682, 2684, 2686, 2688, 2822, 2824, 2826, 2828, 2842, 2844, 2846, 2848, 2862, 2864, 2866, 2868, 2882, 2884, 2886, 2888]\n"
     ]
    }
   ],
   "source": [
    "start_number = 1000\n",
    "end_number   = 3000\n",
    "even_list = []\n",
    "\n",
    "for num in range(1000, 3000+1):\n",
    "    \n",
    "    str1     = str(num)\n",
    "    all_even = True\n",
    "    \n",
    "    for ch in str1:\n",
    "        digit = int(ch)\n",
    "               \n",
    "        if digit == 0:\n",
    "            all_even = False\n",
    "            break\n",
    "            \n",
    "        if digit % 2 != 0:\n",
    "            all_even = False\n",
    "            break\n",
    "    \n",
    "    if all_even:       \n",
    "        even_list.append(num)\n",
    "\n",
    "print(even_list)"
   ]
  },
  {
   "cell_type": "markdown",
   "id": "43d1c7b8-75fd-44be-9fff-30d2154a1eb5",
   "metadata": {},
   "source": [
    "#### Write a program that accepts a sentence and calculate the number of letters and digits. \n",
    "\n",
    "Suppose if the entered string is: Python0325\n",
    "Then the output will be: \n",
    "    \n",
    "LETTERS: 6\n",
    "DIGITS:4\n",
    "Hint: Use built-in functions of string"
   ]
  },
  {
   "cell_type": "code",
   "execution_count": 34,
   "id": "0326a1a6-d590-4b95-9524-2ecb7fd852f7",
   "metadata": {},
   "outputs": [
    {
     "name": "stdin",
     "output_type": "stream",
     "text": [
      "Enter a string:  This ia Amai 1\n"
     ]
    },
    {
     "name": "stdout",
     "output_type": "stream",
     "text": [
      "10 1\n"
     ]
    }
   ],
   "source": [
    "# uncomment to take input from the user\n",
    "my_str = input(\"Enter a string: \")\n",
    "\n",
    "count_ch    = 0\n",
    "count_digit = 0\n",
    "\n",
    "for a in my_str: \n",
    "    if (a.isalpha()) == True: \n",
    "        count_ch +=1\n",
    "    \n",
    "    if (a.isdigit()) == True: \n",
    "        count_digit +=1\n",
    "    \n",
    "        \n",
    "print(count_ch, count_digit) "
   ]
  },
  {
   "cell_type": "markdown",
   "id": "1785bed8-3b97-4638-9197-cb0f4b94a0c9",
   "metadata": {},
   "source": [
    "#### Design a code which will find the given number is Palindrome number or not."
   ]
  },
  {
   "cell_type": "code",
   "execution_count": 37,
   "id": "15150a85-02d6-4639-9e82-5af60cd1450b",
   "metadata": {},
   "outputs": [],
   "source": [
    "class Deque:\n",
    "    def __init__(self):\n",
    "        self.items = []\n",
    "\n",
    "    def isEmpty(self):\n",
    "        return self.items == []\n",
    "\n",
    "    def addFront(self, item):\n",
    "        self.items.append(item)\n",
    "\n",
    "    def addRear(self, item):\n",
    "        self.items.insert(0, item)\n",
    "\n",
    "    def removeFront(self):\n",
    "        return self.items.pop()\n",
    "\n",
    "    def removeRear(self):\n",
    "        return self.items.pop(0)\n",
    "\n",
    "    def size(self):\n",
    "        return len(self.items)\n",
    "    \n",
    "    def display_all_items(self):\n",
    "        return (self.items)"
   ]
  },
  {
   "cell_type": "code",
   "execution_count": 39,
   "id": "d30f2308-e4aa-4d73-b28a-7466c5fc1b72",
   "metadata": {},
   "outputs": [],
   "source": [
    "# initialize a stack\n",
    "de=Deque()\n",
    "\n",
    "input_string = 'bat'"
   ]
  },
  {
   "cell_type": "code",
   "execution_count": 41,
   "id": "313f552b-d5f5-4ed3-b236-80defa41e0f4",
   "metadata": {},
   "outputs": [],
   "source": [
    "# read every character of the input string and add to the deque\n",
    "for ch in input_string:\n",
    "    de.addRear(ch)"
   ]
  },
  {
   "cell_type": "code",
   "execution_count": 45,
   "id": "40b93c7c-3515-4258-8005-77cb73343051",
   "metadata": {},
   "outputs": [
    {
     "name": "stdout",
     "output_type": "stream",
     "text": [
      "Input string is 'bat', reverse is 'tab'\n",
      "Not a Palindrome\n"
     ]
    }
   ],
   "source": [
    "# reconstruct from the deque\n",
    "new_string = ''\n",
    "while not de.isEmpty():\n",
    "    new_string = new_string+ de.removeRear()\n",
    "    \n",
    "print('Input string is \\'{}\\', reverse is \\'{}\\''.format(input_string, new_string))\n",
    "\n",
    "if input_string == new_string:\n",
    "    print('Palindrome found')\n",
    "else:\n",
    "    print('Not a Palindrome')"
   ]
  },
  {
   "cell_type": "markdown",
   "id": "da869220-dbf1-43ef-9ea7-001a720356a6",
   "metadata": {},
   "source": [
    "# case studies II"
   ]
  },
  {
   "cell_type": "markdown",
   "id": "301bd31d-c261-4be5-ac28-dd92f9c4a98d",
   "metadata": {},
   "source": [
    "#### What is the output of the following code?"
   ]
  },
  {
   "cell_type": "code",
   "execution_count": 49,
   "id": "be6f3425-b172-4f52-836b-1fa63a3a0704",
   "metadata": {},
   "outputs": [
    {
     "name": "stdout",
     "output_type": "stream",
     "text": [
      "{1, 2, 3, 4}\n"
     ]
    }
   ],
   "source": [
    "nums = set([1,1,2,3,3,3,4,4])\n",
    "print(nums)"
   ]
  },
  {
   "cell_type": "markdown",
   "id": "a0b558b1-75af-4d8c-9acf-3be68acca390",
   "metadata": {},
   "source": [
    "#### What will be the output?"
   ]
  },
  {
   "cell_type": "code",
   "execution_count": 52,
   "id": "1ce1269b-8fb5-43f5-8901-95436c61cb8e",
   "metadata": {},
   "outputs": [
    {
     "name": "stdout",
     "output_type": "stream",
     "text": [
      "['john', 'peter']\n"
     ]
    }
   ],
   "source": [
    "d = {\"john\":40, \"peter\":45}\n",
    "print(list(d.keys()))"
   ]
  },
  {
   "cell_type": "markdown",
   "id": "d46c9a09-cd80-4bd5-9922-33709331bc2b",
   "metadata": {},
   "source": [
    "#### A website requires a user to input username and password to register. Write a programto check the validity of password given by user. Following are the criteria for checking password:\n",
    "\n",
    "    1. At least 1 letter between [a-z]\n",
    "    2. At least 1 number between [0-9]\n",
    "    1. At least 1 letter between [A-Z]\n",
    "    3. At least 1 character from [$#@]\n",
    "    4. Minimum length of transaction password: 6\n",
    "    5. Maximum length of transaction password: 12"
   ]
  },
  {
   "cell_type": "markdown",
   "id": "cb978561-c33d-4d8e-97ed-d3b03d2fc180",
   "metadata": {},
   "source": [
    "# uncomment to take input from the user\n",
    "input_str = input(\"Enter a string: \")\n",
    "\n",
    "passwd_ok_lower  = False\n",
    "passwd_ok_upper  = False\n",
    "passwd_ok_digit  = False\n",
    "passwd_ok_spchar = False\n",
    "passwd_ok_len    = False\n",
    "\n",
    "failure_message = []\n",
    "\n",
    "# check for at least 1 lower case\n",
    "for ch in input_str:\n",
    "    if  ch.islower():\n",
    "        passwd_ok_lower = True\n",
    "        break;\n",
    "        \n",
    "# check for at least 1 upper case\n",
    "for ch in input_str:\n",
    "    if  ch.isupper():\n",
    "        passwd_ok_upper = True\n",
    "        break;\n",
    "        \n",
    "# check for at least 1 upper case\n",
    "for ch in input_str:\n",
    "    if  ch.isdigit():\n",
    "        passwd_ok_digit = True\n",
    "        break;\n",
    "\n",
    "# check for at least 1 upper case\n",
    "for ch in input_str:\n",
    "    if  ch in '$#@':\n",
    "        passwd_ok_spchar = True\n",
    "        break;\n",
    "\n",
    "# check for at least 1 upper case\n",
    "if len(input_str) >= 6 and len(input_str) <= 12:\n",
    "    passwd_ok_len = True\n",
    "    \n",
    "if not passwd_ok_lower:\n",
    "    failure_message.append('At least 1 lower case char [a-z]')\n",
    "    \n",
    "if not passwd_ok_upper:\n",
    "    failure_message.append('At least 1 upper case char [A-Z]')\n",
    "\n",
    "if not passwd_ok_digit:\n",
    "    failure_message.append('At least 1 digit [0-9]')\n",
    "\n",
    "if not passwd_ok_spchar:\n",
    "    failure_message.append('At least 1 special char [$#@]')\n",
    "\n",
    "if not passwd_ok_len:\n",
    "    failure_message.append('len should be betwwen 6 and 12')\n",
    "\n",
    "if passwd_ok_lower  and passwd_ok_upper  and passwd_ok_digit \\\n",
    "                    and passwd_ok_spchar and passwd_ok_len: \n",
    "    print(\"password valid\")\n",
    "else:\n",
    "    print(\"password invalid\")\n",
    "    print(failure_message)"
   ]
  },
  {
   "cell_type": "code",
   "execution_count": 61,
   "id": "f5f1150d-21ce-4d7f-9f4a-78538f708ff1",
   "metadata": {},
   "outputs": [],
   "source": [
    "#### Write a for loop that prints all elements of a list and their position in the list.  a = [4,7,3,2,5,9] "
   ]
  },
  {
   "cell_type": "code",
   "execution_count": 63,
   "id": "17f61c30-4476-433d-a99a-8926e57048df",
   "metadata": {},
   "outputs": [
    {
     "name": "stdout",
     "output_type": "stream",
     "text": [
      "Index  0  is  4\n",
      "Index  1  is  7\n",
      "Index  2  is  3\n",
      "Index  3  is  2\n",
      "Index  4  is  5\n",
      "Index  5  is  9\n"
     ]
    }
   ],
   "source": [
    "a = [4,7,3,2,5,9]\n",
    "\n",
    "for i in a:\n",
    "    print('Index ', a.index(i), ' is ', i)"
   ]
  },
  {
   "cell_type": "markdown",
   "id": "16d2d6ec-2ed8-4950-b225-b515ff5b9203",
   "metadata": {},
   "source": [
    "#### Please write a program which accepts a string from console and print the characters that have even indexes.  \n",
    "\n",
    "Example: If the following string is given as input to the program:  H1e2l3l4o5w6o7r8l9d\n",
    " Then, the output of the program should be:\n",
    " Helloworld\n"
   ]
  },
  {
   "cell_type": "code",
   "execution_count": 66,
   "id": "bce2d29b-7cb2-40c1-bc2a-f3134d17b128",
   "metadata": {},
   "outputs": [
    {
     "name": "stdin",
     "output_type": "stream",
     "text": [
      "Enter a string:  H1e2l3l4o5w6o7r8l9d\n"
     ]
    },
    {
     "name": "stdout",
     "output_type": "stream",
     "text": [
      "Helloworld"
     ]
    }
   ],
   "source": [
    "# uncomment to take input from the user\n",
    "input_str = input(\"Enter a string: \")\n",
    "\n",
    "\n",
    "for ch in input_str:\n",
    "    if input_str.index(ch) % 2 ==0:\n",
    "        print(ch, end='')"
   ]
  },
  {
   "cell_type": "code",
   "execution_count": 68,
   "id": "41a32bed-7397-4ee1-ac19-90361042b092",
   "metadata": {},
   "outputs": [
    {
     "name": "stdin",
     "output_type": "stream",
     "text": [
      "Enter a string:  Manali\n"
     ]
    }
   ],
   "source": [
    "# uncomment to take input from the user\n",
    "input_str = input(\"Enter a string: \")"
   ]
  },
  {
   "cell_type": "code",
   "execution_count": 70,
   "id": "de4ed6d9-bcad-433d-af97-fcf34773f0c2",
   "metadata": {},
   "outputs": [
    {
     "data": {
      "text/plain": [
       "str"
      ]
     },
     "execution_count": 70,
     "metadata": {},
     "output_type": "execute_result"
    }
   ],
   "source": [
    "type(input_str)"
   ]
  },
  {
   "cell_type": "markdown",
   "id": "840df638-5952-4c56-8dbc-24aeb1e012f6",
   "metadata": {},
   "source": [
    "#### Please write a program which accepts a string from console and print it in reverse order.\n",
    " Example: If the following string is given as input to the program:\n",
    " rise to vote sir\n",
    " Then, the output of the program should be:\n",
    " ris etov ot esir"
   ]
  },
  {
   "cell_type": "code",
   "execution_count": 75,
   "id": "83e690b9-c5da-4aac-9d5b-c8917c7d0a9a",
   "metadata": {},
   "outputs": [
    {
     "name": "stdin",
     "output_type": "stream",
     "text": [
      "Enter a string:  sxx dcd\n"
     ]
    },
    {
     "name": "stdout",
     "output_type": "stream",
     "text": [
      "dcdsxx "
     ]
    }
   ],
   "source": [
    "# uncomment to take input from the user\n",
    "input_str = input(\"Enter a string: \")\n",
    "\n",
    "len_str = len(input_str)\n",
    "\n",
    "for cur_pos in range(len_str):\n",
    "    print(input_str[cur_pos + len_str -1 -i], end='')"
   ]
  },
  {
   "cell_type": "markdown",
   "id": "4d87a50c-58d1-49a5-8967-7c0eca07bf4f",
   "metadata": {},
   "source": [
    "#### With two given lists [1,3,6,78,35,55] and [12,24,35,24,88,120,155], write a program to make a list whose elements are intersection of the above given lists."
   ]
  },
  {
   "cell_type": "code",
   "execution_count": 78,
   "id": "57fd5ce2-76d0-4bab-b00b-9ed6bd1c17aa",
   "metadata": {},
   "outputs": [
    {
     "name": "stdout",
     "output_type": "stream",
     "text": [
      "[]\n"
     ]
    }
   ],
   "source": [
    "a = [1, 3, 6, 78, 35, 55]\n",
    "b = [12,24,36,24, 88, 120,155]\n",
    "\n",
    "common_list = []\n",
    "\n",
    "for num in a:\n",
    "    if num in b:\n",
    "        common_list.append(num)\n",
    "\n",
    "print(common_list)"
   ]
  },
  {
   "cell_type": "markdown",
   "id": "c62d9213-149e-4f87-a9ff-77e8ae021543",
   "metadata": {},
   "source": [
    "#### By using list comprehension, please write a program to print the list after removing the value 24 in [12,24,35,24,88,120,155]."
   ]
  },
  {
   "cell_type": "code",
   "execution_count": 81,
   "id": "4dd6cda6-e84d-402f-a363-e4d9f6d986a5",
   "metadata": {},
   "outputs": [
    {
     "data": {
      "text/plain": [
       "[12, 35, 88, 120, 155]"
      ]
     },
     "execution_count": 81,
     "metadata": {},
     "output_type": "execute_result"
    }
   ],
   "source": [
    "a = [12,24,35,24,88,120,155]\n",
    "\n",
    "a_new = [num for num in a if num != 24]\n",
    "\n",
    "a_new"
   ]
  },
  {
   "cell_type": "markdown",
   "id": "f102d89d-fd37-4dd5-95a2-d39fe985bfda",
   "metadata": {},
   "source": [
    "#### By using list comprehension, please write a program to print the list after removing the 0th,4th,5th numbers in [12,24,35,70,88,120,155]."
   ]
  },
  {
   "cell_type": "code",
   "execution_count": 84,
   "id": "57289659-8f46-43a2-95fa-032ed11ca90d",
   "metadata": {},
   "outputs": [],
   "source": [
    "a = [12,24,35,70,88,120,155]"
   ]
  },
  {
   "cell_type": "code",
   "execution_count": 86,
   "id": "f5f79411-7e80-422c-ab74-f37f5a3c015c",
   "metadata": {},
   "outputs": [
    {
     "data": {
      "text/plain": [
       "[24, 70, 120, 155]"
      ]
     },
     "execution_count": 86,
     "metadata": {},
     "output_type": "execute_result"
    }
   ],
   "source": [
    "a = [12,24,35,70,88,120,155]\n",
    "\n",
    "indexes = [0, 4, 2]\n",
    "indexes_sorted = sorted(indexes, reverse=True)\n",
    "\n",
    "for pos in indexes_sorted:\n",
    "    del a[pos]\n",
    "\n",
    "a"
   ]
  },
  {
   "cell_type": "markdown",
   "id": "50b4e4a0-2458-46cd-ad22-90fd2ecfc045",
   "metadata": {},
   "source": [
    "#### By using list comprehension, please write a program to print the list after removing delete numbers which are divisible by 5 and 7 in [12,24,35,70,88,120,155]."
   ]
  },
  {
   "cell_type": "code",
   "execution_count": 89,
   "id": "f957b83e-8767-4822-a80f-7c37af901e4d",
   "metadata": {},
   "outputs": [
    {
     "name": "stdout",
     "output_type": "stream",
     "text": [
      "[24, 70, 120, 155]\n"
     ]
    }
   ],
   "source": [
    "a = [12,24,35,70,88,120,155]\n",
    "\n",
    "indexes_to_delete = []\n",
    "\n",
    "for num in a:\n",
    "    if num % 5 == 0 and num% 7==0:\n",
    "        indexes_to_delete.append(a.index(num))\n",
    "\n",
    "sorted_indexes_to_delete = sorted(indexes_to_delete, reverse=True)\n",
    "\n",
    "for pos in indexes_sorted:\n",
    "    del a[pos]\n",
    "\n",
    "print(a)"
   ]
  },
  {
   "cell_type": "markdown",
   "id": "c76b6fc4-0a02-4416-9227-9d942d2aeb94",
   "metadata": {},
   "source": [
    "#### Write a program to compute 1/2+2/3+3/4+...+n/n+1 with a given n input by console (n>0).\n",
    "Example:\n",
    "If the following n is given as input to the program:\n",
    "5\n",
    "Then, the output of the program should be:\n",
    "3.55"
   ]
  },
  {
   "cell_type": "code",
   "execution_count": 102,
   "id": "1e571b02-7f9f-4c46-bd8d-0609a23bcc0d",
   "metadata": {},
   "outputs": [
    {
     "name": "stdin",
     "output_type": "stream",
     "text": [
      "Enter a string:  3\n"
     ]
    },
    {
     "name": "stdout",
     "output_type": "stream",
     "text": [
      "0.5\n",
      "0.6666666666666666\n",
      "0.75\n",
      "1.9166666666666665\n"
     ]
    }
   ],
   "source": [
    "# uncomment to take input from the user\n",
    "input_num = int(input(\"Enter a string: \"))\n",
    "\n",
    "sum = 0.\n",
    "for num in range(1, input_num + 1):\n",
    "    sum += num/(num+1)\n",
    "    print(num/(num+1))\n",
    "\n",
    "print(sum)"
   ]
  },
  {
   "cell_type": "markdown",
   "id": "5f831049-3e3c-4427-a536-4a4996251266",
   "metadata": {},
   "source": [
    "# case study III"
   ]
  },
  {
   "cell_type": "markdown",
   "id": "fb583d24-17fb-4229-a421-bcd7e51405a0",
   "metadata": {},
   "source": [
    "1. Read the input from command line – Reference ID\n",
    "2. Check for validity – it should be 12 digits and allows a number and alphabet\n",
    "3. Encrypt the Reference ID and print it for reference"
   ]
  },
  {
   "cell_type": "code",
   "execution_count": 112,
   "id": "22558b72-aa11-4e05-9243-3f9d322ce5c7",
   "metadata": {},
   "outputs": [
    {
     "name": "stdin",
     "output_type": "stream",
     "text": [
      "Enter Reference ID:  123456qwerty\n"
     ]
    },
    {
     "name": "stdout",
     "output_type": "stream",
     "text": [
      "Invalid Reference ID! It should be exactly 12 alphanumeric characters.\n"
     ]
    }
   ],
   "source": [
    "import hashlib\n",
    "import re\n",
    "\n",
    "def is_valid_reference_id(ref_id):\n",
    "    \"\"\"Check if the Reference ID is exactly 12 characters and alphanumeric.\"\"\"\n",
    "    return bool(re.fullmatch(r'[A-Za-z0-9]{12}', ref_id))\n",
    "\n",
    "def encrypt_reference_id(ref_id):\n",
    "    \"\"\"Encrypt the Reference ID using SHA-256.\"\"\"\n",
    "    return hashlib.sha256(ref_id.encode()).hexdigest()\n",
    "\n",
    "# Read input from command line\n",
    "reference_id = input(\"Enter Reference ID: \")\n",
    "\n",
    "# Check validity\n",
    "if is_valid_reference_id(reference_id):\n",
    "    encrypted_id = encrypt_reference_id(reference_id)\n",
    "    print(f\"Encrypted Reference ID: {encrypted_id}\")\n",
    "else:\n",
    "    print(\"Invalid Reference ID! It should be exactly 12 alphanumeric characters.\")"
   ]
  },
  {
   "cell_type": "code",
   "execution_count": null,
   "id": "d8a537b8-66b6-429b-8fff-09381cd360d9",
   "metadata": {},
   "outputs": [],
   "source": []
  }
 ],
 "metadata": {
  "kernelspec": {
   "display_name": "Python 3 (ipykernel)",
   "language": "python",
   "name": "python3"
  },
  "language_info": {
   "codemirror_mode": {
    "name": "ipython",
    "version": 3
   },
   "file_extension": ".py",
   "mimetype": "text/x-python",
   "name": "python",
   "nbconvert_exporter": "python",
   "pygments_lexer": "ipython3",
   "version": "3.12.4"
  }
 },
 "nbformat": 4,
 "nbformat_minor": 5
}
