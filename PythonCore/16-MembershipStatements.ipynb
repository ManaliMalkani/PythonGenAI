{
 "cells": [
  {
   "cell_type": "markdown",
   "id": "9ae9cd6f-f425-4a3d-8c56-79f23b240f1f",
   "metadata": {},
   "source": [
    "### Membership statements \n",
    "\n",
    "are used to check whether a value is a member of a sequence (e.g., a list, tuple, string, or set). \n",
    "\n",
    "Python provides two membership operators to perform these checks:\n",
    "\n",
    "`in`: This operator returns True if the specified value is present in the sequence, and False otherwise.\n",
    "\n",
    "`not in`: This operator returns True if the specified value is not present in the sequence, and False if it is present."
   ]
  },
  {
   "cell_type": "code",
   "execution_count": 2,
   "id": "e7eba984-f958-4960-86aa-4cd89420dd8f",
   "metadata": {},
   "outputs": [
    {
     "name": "stdout",
     "output_type": "stream",
     "text": [
      "True\n",
      "True\n",
      "False\n",
      "False\n",
      "True\n",
      "True\n",
      "True\n",
      "True\n",
      "True\n",
      "True\n"
     ]
    }
   ],
   "source": [
    "# Example 1: Lists\n",
    "fruits = ['apple', 'banana', 'orange']\n",
    "\n",
    "print('apple' in fruits)          # Output: True\n",
    "print('grape' not in fruits)      # Output: True\n",
    "print('kiwi' in fruits)           # Output: False\n",
    "print('orange' not in fruits)     # Output: False\n",
    "\n",
    "# Example 2: Strings\n",
    "message = \"Hello, World!\"\n",
    "\n",
    "print('Hello' in message)         # Output: True\n",
    "print('world' not in message)     # Output: True (case-sensitive)\n",
    "\n",
    "# Example 3: Tuples\n",
    "my_tuple = (1, 2, 3)\n",
    "\n",
    "print(1 in my_tuple)              # Output: True\n",
    "print(4 not in my_tuple)          # Output: True\n",
    "\n",
    "# Example 4: Sets\n",
    "my_set = {1, 2, 3}\n",
    "\n",
    "print(2 in my_set)                # Output: True\n",
    "print(4 not in my_set)            # Output: True"
   ]
  },
  {
   "cell_type": "code",
   "execution_count": 14,
   "id": "3844edaf-f670-48e2-8007-b90636bdd803",
   "metadata": {},
   "outputs": [
    {
     "name": "stdout",
     "output_type": "stream",
     "text": [
      "True\n",
      "True\n",
      "False\n",
      "True\n"
     ]
    }
   ],
   "source": [
    "message = \"Python is awesome!\"\n",
    "\n",
    "print('Python' in message)              # Output: True\n",
    "print('is' in message)                  # Output: True\n",
    "print('awesome' not in message)         # Output: False (case-sensitive)\n",
    "print('AwEsOmE' not in message.lower()) # Output: True (case-insensitive)"
   ]
  },
  {
   "cell_type": "code",
   "execution_count": 8,
   "id": "3948ae92-371e-4aab-8e83-9e88d1ae243b",
   "metadata": {},
   "outputs": [
    {
     "name": "stdout",
     "output_type": "stream",
     "text": [
      "True\n",
      "True\n"
     ]
    }
   ],
   "source": [
    "words = ['apple', 'banana', 'orange']\n",
    "\n",
    "print(any('ana' in word for word in words))     # Output: True (at least one word contains 'ana')\n",
    "print(all(len(word) >= 5 for word in words))    # Output: True (all words have a length of 5 or more)"
   ]
  },
  {
   "cell_type": "code",
   "execution_count": 10,
   "id": "9331416a-99a1-4305-a4e6-064c66747118",
   "metadata": {},
   "outputs": [
    {
     "name": "stdout",
     "output_type": "stream",
     "text": [
      "True\n",
      "True\n"
     ]
    }
   ],
   "source": [
    "person = {\n",
    "    'name': 'John Doe',\n",
    "    'age': 30,\n",
    "    'occupation': 'Engineer'\n",
    "}\n",
    "\n",
    "print('name' in person)          # Output: True (checks if key exists)\n",
    "print('gender' not in person)    # Output: True (checks if key does not exist)"
   ]
  },
  {
   "cell_type": "code",
   "execution_count": null,
   "id": "fa9b27c8-0ba7-4750-b234-3dcf99607f62",
   "metadata": {},
   "outputs": [],
   "source": []
  }
 ],
 "metadata": {
  "kernelspec": {
   "display_name": "Python 3 (ipykernel)",
   "language": "python",
   "name": "python3"
  },
  "language_info": {
   "codemirror_mode": {
    "name": "ipython",
    "version": 3
   },
   "file_extension": ".py",
   "mimetype": "text/x-python",
   "name": "python",
   "nbconvert_exporter": "python",
   "pygments_lexer": "ipython3",
   "version": "3.12.4"
  }
 },
 "nbformat": 4,
 "nbformat_minor": 5
}
