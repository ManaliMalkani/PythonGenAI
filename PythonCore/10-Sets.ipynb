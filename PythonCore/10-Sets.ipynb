{
 "cells": [
  {
   "cell_type": "markdown",
   "id": "3f054bf8-ef61-44ee-8790-906abc5424b3",
   "metadata": {},
   "source": [
    "------------\n",
    "#### Data structure - sets\n",
    "--------------"
   ]
  },
  {
   "cell_type": "code",
   "execution_count": 6,
   "id": "0980f737-fec6-4649-b351-191e89ab75c1",
   "metadata": {},
   "outputs": [
    {
     "name": "stdout",
     "output_type": "stream",
     "text": [
      "{0, 1, 3, 4, 5, 7}\n",
      "CPU times: user 322 μs, sys: 96 μs, total: 418 μs\n",
      "Wall time: 406 μs\n"
     ]
    }
   ],
   "source": [
    "%%time\n",
    "# set of integers\n",
    "my_set = {1,5,7,0,3,4, 3, 3 ,3 }\n",
    "print(my_set)"
   ]
  },
  {
   "cell_type": "code",
   "execution_count": 8,
   "id": "22b9b2c1-aac8-4bdf-be5c-2c5ecd4c8868",
   "metadata": {},
   "outputs": [
    {
     "name": "stdout",
     "output_type": "stream",
     "text": [
      "{1.0, 'Hello', (1, 2, 3)}\n"
     ]
    }
   ],
   "source": [
    "# set of mixed datatypes\n",
    "my_set = {1.0, \"Hello\", (1, 2, 3)}\n",
    "print(my_set)"
   ]
  },
  {
   "cell_type": "code",
   "execution_count": 10,
   "id": "b377f218-9e2e-43ac-9954-a3585ce219db",
   "metadata": {},
   "outputs": [
    {
     "data": {
      "text/plain": [
       "{'a', 'e', 'i', 'l', 'z'}"
      ]
     },
     "execution_count": 10,
     "metadata": {},
     "output_type": "execute_result"
    }
   ],
   "source": [
    "my_set = {'a', 'z', 'e', 'i', 'l'}\n",
    "my_set"
   ]
  },
  {
   "cell_type": "code",
   "execution_count": 12,
   "id": "0531a87c-8f44-4f3f-97d1-3965c38457da",
   "metadata": {},
   "outputs": [
    {
     "data": {
      "text/plain": [
       "{'f', 'k'}"
      ]
     },
     "execution_count": 12,
     "metadata": {},
     "output_type": "execute_result"
    }
   ],
   "source": [
    "str1 = set('kfkkkkkkkkkkkkkkfk')\n",
    "str1"
   ]
  },
  {
   "cell_type": "code",
   "execution_count": 14,
   "id": "0597bb06-3798-41f8-89c5-03fde4cd9e70",
   "metadata": {},
   "outputs": [
    {
     "data": {
      "text/plain": [
       "{'f', 'k', 'o'}"
      ]
     },
     "execution_count": 14,
     "metadata": {},
     "output_type": "execute_result"
    }
   ],
   "source": [
    "str1.add('o')\n",
    "str1"
   ]
  },
  {
   "cell_type": "code",
   "execution_count": 22,
   "id": "1bf66b85-aa63-48e5-9fd7-c53f4276db60",
   "metadata": {},
   "outputs": [
    {
     "name": "stdout",
     "output_type": "stream",
     "text": [
      "{1, 3}\n",
      "{1, 2, 3}\n",
      "{1, 2, 3, 4}\n",
      "{1, 2, 3, 4, 5, 6, 8}\n"
     ]
    }
   ],
   "source": [
    "# initialize my_set\n",
    "my_set = {1,3}\n",
    "print(my_set)\n",
    "\n",
    "# if you uncomment line 9,\n",
    "# you will get an error\n",
    "# TypeError: 'set' object does not support indexing\n",
    "\n",
    "#my_set[0]\n",
    "\n",
    "# add an element\n",
    "# Output: {1, 2, 3}\n",
    "my_set.add(2)\n",
    "print(my_set)\n",
    "\n",
    "# add multiple elements\n",
    "# Output: {1, 2, 3, 4}\n",
    "my_set.update([2,3,4])\n",
    "print(my_set)\n",
    "\n",
    "# add list and set\n",
    "# Output: {1, 2, 3, 4, 5, 6, 8}\n",
    "my_set.update([4,5], {1,6,8})\n",
    "print(my_set)"
   ]
  },
  {
   "cell_type": "code",
   "execution_count": 24,
   "id": "d6ca6598-b45f-4f29-a0c2-dee4d34c5dd6",
   "metadata": {},
   "outputs": [],
   "source": [
    "# remove elements from a set\n",
    "# A particular item can be removed from set using methods, \n",
    "# discard() and remove().\n",
    "\n",
    "# The only difference between the two is that, while using discard() \n",
    "# if the item does not exist in the set, it remains unchanged. \n",
    "# But remove() will raise an error in such condition."
   ]
  },
  {
   "cell_type": "code",
   "execution_count": 26,
   "id": "96e15d77-0872-455b-bed8-ccdc71fe2901",
   "metadata": {},
   "outputs": [
    {
     "name": "stdout",
     "output_type": "stream",
     "text": [
      "{1, 2, 4, 5}\n"
     ]
    }
   ],
   "source": [
    "# initialize my_set\n",
    "my_set = {1, 4, 4, 5, 2}\n",
    "print(my_set)"
   ]
  },
  {
   "cell_type": "code",
   "execution_count": 28,
   "id": "49440759-6421-457f-b050-0dcfbed0c893",
   "metadata": {},
   "outputs": [
    {
     "name": "stdout",
     "output_type": "stream",
     "text": [
      "{'n', 'A', 'W', 'a'}\n"
     ]
    }
   ],
   "source": [
    "# initialize my_set\n",
    "my_set = {'n', 'A', 'a', 'W'}\n",
    "print(my_set)"
   ]
  },
  {
   "cell_type": "code",
   "execution_count": 36,
   "id": "358124f8-3495-4db1-89f5-541ee9726b56",
   "metadata": {},
   "outputs": [
    {
     "name": "stdout",
     "output_type": "stream",
     "text": [
      "{1, 4, 5, 6}\n",
      "{1, 5, 6}\n",
      "{1, 5}\n",
      "{1, 5}\n"
     ]
    },
    {
     "ename": "KeyError",
     "evalue": "2",
     "output_type": "error",
     "traceback": [
      "\u001b[0;31m---------------------------------------------------------------------------\u001b[0m",
      "\u001b[0;31mKeyError\u001b[0m                                  Traceback (most recent call last)",
      "Cell \u001b[0;32mIn[36], line 22\u001b[0m\n\u001b[1;32m     16\u001b[0m \u001b[38;5;28mprint\u001b[39m(my_set)\n\u001b[1;32m     18\u001b[0m \u001b[38;5;66;03m# remove an element\u001b[39;00m\n\u001b[1;32m     19\u001b[0m \u001b[38;5;66;03m# not present in my_set\u001b[39;00m\n\u001b[1;32m     20\u001b[0m \u001b[38;5;66;03m# Output: KeyError: 2\u001b[39;00m\n\u001b[0;32m---> 22\u001b[0m my_set\u001b[38;5;241m.\u001b[39mremove(\u001b[38;5;241m2\u001b[39m)\n",
      "\u001b[0;31mKeyError\u001b[0m: 2"
     ]
    }
   ],
   "source": [
    "# initialize my_set\n",
    "my_set = {1, 4, 4, 5, 6}\n",
    "print(my_set)\n",
    "\n",
    "# discard an element\n",
    "my_set.discard(4)\n",
    "print(my_set)\n",
    "\n",
    "# remove an element\n",
    "my_set.remove(6)\n",
    "print(my_set)\n",
    "\n",
    "# discard an element\n",
    "# not present in my_set\n",
    "my_set.discard(2)\n",
    "print(my_set)\n",
    "\n",
    "# remove an element\n",
    "# not present in my_set\n",
    "# Output: KeyError: 2\n",
    "\n",
    "# my_set.remove(2)"
   ]
  },
  {
   "cell_type": "code",
   "execution_count": 38,
   "id": "f37fb9c0-d851-4a7e-820d-ea96ee269c42",
   "metadata": {},
   "outputs": [
    {
     "data": {
      "text/plain": [
       "{'W', 'e', 'h', 'l', 'o'}"
      ]
     },
     "execution_count": 38,
     "metadata": {},
     "output_type": "execute_result"
    }
   ],
   "source": [
    "set(\"Whello\")"
   ]
  },
  {
   "cell_type": "code",
   "execution_count": 40,
   "id": "a4dcbd22-3306-4f44-8755-d28287194d22",
   "metadata": {},
   "outputs": [
    {
     "name": "stdout",
     "output_type": "stream",
     "text": [
      "1st.. {'d', 'W', 'H', 'l', 'r', 'e', 'o'}\n",
      "2nd .. d\n",
      "3rd .. {'H', 'l', 'r', 'e', 'o'}\n",
      "4th .. set()\n"
     ]
    }
   ],
   "source": [
    "# pop() and clear()\n",
    "# initialize my_set\n",
    "# Output: set of unique elements\n",
    "my_set = set(\"HelloWorld\")\n",
    "print('1st..', my_set)\n",
    "\n",
    "# pop an element\n",
    "print('2nd ..', my_set.pop())\n",
    "\n",
    "# pop another element\n",
    "my_set.pop()\n",
    "print('3rd ..', my_set)\n",
    "\n",
    "# clear my_set\n",
    "my_set.clear()\n",
    "print('4th ..', my_set)"
   ]
  },
  {
   "cell_type": "code",
   "execution_count": 42,
   "id": "457517d0-e76d-4f35-96e6-1d7bb887dda3",
   "metadata": {},
   "outputs": [
    {
     "name": "stdout",
     "output_type": "stream",
     "text": [
      "{1, 2, 3, 4, 5, 6, 7, 8}\n"
     ]
    }
   ],
   "source": [
    "# Python Set Operations\n",
    "# UNION\n",
    "A = {1, 2, 3, 4, 5}\n",
    "B = {4, 5, 6, 7, 8}\n",
    "print (A|B)"
   ]
  },
  {
   "cell_type": "code",
   "execution_count": 44,
   "id": "8bea83d4-1b7a-4abc-85e1-5dd3695ea939",
   "metadata": {},
   "outputs": [
    {
     "data": {
      "text/plain": [
       "{1, 2, 3, 4, 5, 6, 7, 8}"
      ]
     },
     "execution_count": 44,
     "metadata": {},
     "output_type": "execute_result"
    }
   ],
   "source": [
    "A.union(B)"
   ]
  },
  {
   "cell_type": "code",
   "execution_count": 46,
   "id": "1d3aa578-dd63-428b-88fe-8991974bf24b",
   "metadata": {},
   "outputs": [
    {
     "name": "stdout",
     "output_type": "stream",
     "text": [
      "{4, 5}\n"
     ]
    }
   ],
   "source": [
    "# INTERSECTION\n",
    "# initialize A and B\n",
    "A = {1, 2, 3, 4, 5}\n",
    "B = {4, 5, 6, 7, 8}\n",
    "\n",
    "print(A&B)"
   ]
  },
  {
   "cell_type": "code",
   "execution_count": 48,
   "id": "139e3bc3-1e33-4404-b08b-8e20566170c5",
   "metadata": {},
   "outputs": [
    {
     "data": {
      "text/plain": [
       "{4, 5}"
      ]
     },
     "execution_count": 48,
     "metadata": {},
     "output_type": "execute_result"
    }
   ],
   "source": [
    "A.intersection(B)"
   ]
  },
  {
   "cell_type": "code",
   "execution_count": 50,
   "id": "773f9870-de45-4707-8bd3-5a1a552a17ac",
   "metadata": {},
   "outputs": [
    {
     "data": {
      "text/plain": [
       "{4, 5}"
      ]
     },
     "execution_count": 50,
     "metadata": {},
     "output_type": "execute_result"
    }
   ],
   "source": [
    "B.intersection(A)"
   ]
  },
  {
   "cell_type": "code",
   "execution_count": 52,
   "id": "b1395df5-884c-48c7-bea8-fdd2335cacfa",
   "metadata": {},
   "outputs": [
    {
     "name": "stdout",
     "output_type": "stream",
     "text": [
      "{1, 2, 3}\n"
     ]
    }
   ],
   "source": [
    "# Set Difference\n",
    "# initialize A and B\n",
    "A = {1, 2, 3, 4, 5}\n",
    "B = {4, 5, 6, 7, 8}\n",
    "\n",
    "# use - operator on A\n",
    "# Output: {1, 2, 3}\n",
    "print(A - B)"
   ]
  },
  {
   "cell_type": "code",
   "execution_count": 54,
   "id": "51b3e707-58aa-4613-920c-42bb2bcf3b69",
   "metadata": {},
   "outputs": [
    {
     "data": {
      "text/plain": [
       "{1, 2, 3}"
      ]
     },
     "execution_count": 54,
     "metadata": {},
     "output_type": "execute_result"
    }
   ],
   "source": [
    "A.difference(B)"
   ]
  },
  {
   "cell_type": "code",
   "execution_count": 56,
   "id": "578b554b-8e2a-4037-b31d-19d518f90d8a",
   "metadata": {},
   "outputs": [
    {
     "data": {
      "text/plain": [
       "{6, 7, 8}"
      ]
     },
     "execution_count": 56,
     "metadata": {},
     "output_type": "execute_result"
    }
   ],
   "source": [
    "B.difference(A)"
   ]
  },
  {
   "cell_type": "code",
   "execution_count": 58,
   "id": "aa245ffd-8f1f-48e4-94bd-efdfbd81cef1",
   "metadata": {},
   "outputs": [
    {
     "name": "stdout",
     "output_type": "stream",
     "text": [
      "{1, 2, 3, 6, 7, 8}\n"
     ]
    }
   ],
   "source": [
    "# Set Symmetric Difference\n",
    "# Symmetric Difference of A and B is a set of elements in both A and B \n",
    "# except those that are common in both.\n",
    "# initialize A and B\n",
    "A = {1, 2, 3, 4, 5}\n",
    "B = {4, 5, 6, 7, 8}\n",
    "\n",
    "print(A ^ B)"
   ]
  },
  {
   "cell_type": "code",
   "execution_count": 66,
   "id": "90659166-2151-4881-82df-829849a67220",
   "metadata": {},
   "outputs": [
    {
     "name": "stdout",
     "output_type": "stream",
     "text": [
      "p e l a "
     ]
    }
   ],
   "source": [
    "# Iterating Through a Set\n",
    "for letter in set(\"apple\"):\n",
    "    print(letter,end=' ')"
   ]
  },
  {
   "cell_type": "code",
   "execution_count": 68,
   "id": "e9e51cda-b4fe-475d-bedc-5596a7723c26",
   "metadata": {},
   "outputs": [],
   "source": [
    "# Creating a Set\n",
    "fruits_set = {\"apple\", \"banana\", \"orange\"}"
   ]
  },
  {
   "cell_type": "code",
   "execution_count": 74,
   "id": "dfb359b7-3d40-4bee-8fb9-7f30a5446cf0",
   "metadata": {},
   "outputs": [
    {
     "name": "stdout",
     "output_type": "stream",
     "text": [
      "{'banana', 'mango', 'kiwi', 'apple', 'papaya', 'orange'}\n",
      "{'banana', 'mango', 'kiwi', 'apple', 'papaya', 'orange'}\n"
     ]
    }
   ],
   "source": [
    "# Adding Elements to a Set\n",
    "fruits_set.add('mango')\n",
    "print(fruits_set)\n",
    "\n",
    "# Adding Multiple Elements to a Set\n",
    "fruits_set.update([\"kiwi\", \"papaya\"])\n",
    "print(fruits_set)  # Output: {\"apple\", \"banana\", \"orange\", \"mango\", \"kiwi\", \"papaya\"}"
   ]
  },
  {
   "cell_type": "code",
   "execution_count": 76,
   "id": "19f78bbe-c3e1-40d8-8081-09cf422a6a97",
   "metadata": {},
   "outputs": [
    {
     "name": "stdout",
     "output_type": "stream",
     "text": [
      "{'banana', 'mango', 'apple', 'papaya', 'orange'}\n",
      "{'banana', 'mango', 'papaya', 'orange'}\n",
      "Removed Item: banana\n",
      "{'mango', 'papaya', 'orange'}\n"
     ]
    }
   ],
   "source": [
    "# Removing an Element from a Set\n",
    "fruits_set.remove(\"kiwi\")\n",
    "print(fruits_set)  # Output: {\"apple\", \"banana\", \"orange\", \"mango\", \"papaya\"}\n",
    "\n",
    "# Discarding an Element (no error if element doesn't exist)\n",
    "fruits_set.discard(\"apple\")\n",
    "print(fruits_set)  # Output: {\"banana\", \"orange\", \"mango\", \"papaya\"}\n",
    "\n",
    "# Removing and Returning an Arbitrary Element\n",
    "removed_item = fruits_set.pop()\n",
    "print(\"Removed Item:\", removed_item)  # Output: (some element from the set)\n",
    "print(fruits_set)  # Output: (updated set without the removed item)"
   ]
  },
  {
   "cell_type": "code",
   "execution_count": 78,
   "id": "990ac22b-8ebf-47f9-b223-2660b5875c73",
   "metadata": {},
   "outputs": [
    {
     "name": "stdout",
     "output_type": "stream",
     "text": [
      "{'mango', 'papaya', 'grape', 'kiwi', 'orange'}\n",
      "{'mango'}\n",
      "{'papaya', 'orange'}\n",
      "{'kiwi', 'papaya', 'grape', 'orange'}\n"
     ]
    }
   ],
   "source": [
    "# Union of Two Sets\n",
    "more_fruits_set = {\"kiwi\", \"grape\", \"mango\"}\n",
    "all_fruits_set = fruits_set.union(more_fruits_set)\n",
    "print(all_fruits_set)  # Output: {\"apple\", \"banana\", \"orange\", \"kiwi\", \"grape\", \"mango\", \"papaya\"}\n",
    "\n",
    "# Intersection of Two Sets\n",
    "common_fruits_set = fruits_set.intersection(more_fruits_set)\n",
    "print(common_fruits_set)  # Output: {\"mango\"}\n",
    "\n",
    "# Difference Between Two Sets\n",
    "different_fruits_set = fruits_set.difference(more_fruits_set)\n",
    "print(different_fruits_set)  # Output: {\"banana\", \"orange\", \"papaya\"}\n",
    "\n",
    "# Symmetric Difference Between Two Sets (Elements not in both sets)\n",
    "symmetric_diff_set = fruits_set.symmetric_difference(more_fruits_set)\n",
    "print(symmetric_diff_set)  # Output: {\"banana\", \"grape\", \"orange\", \"kiwi\", \"papaya\"}\n"
   ]
  },
  {
   "cell_type": "code",
   "execution_count": 86,
   "id": "538be42a-ac6c-449f-826a-ad9ef62bbef8",
   "metadata": {},
   "outputs": [
    {
     "name": "stdout",
     "output_type": "stream",
     "text": [
      "{'mango', 'papaya', 'orange'}\n",
      "False\n",
      "True\n"
     ]
    }
   ],
   "source": [
    "# Set Membership (Checking if an element is present in the set)\n",
    "print(fruits_set)\n",
    "print(\"apple\" in fruits_set)  # Output: False (Removed earlier)\n",
    "print(\"banana\" not in fruits_set)  # Output: False (Still in the set)"
   ]
  },
  {
   "cell_type": "code",
   "execution_count": 92,
   "id": "4c8d4aff-538e-440a-b477-2d5c6dbe98ab",
   "metadata": {},
   "outputs": [
    {
     "name": "stdout",
     "output_type": "stream",
     "text": [
      "True\n",
      "True\n",
      "True\n"
     ]
    }
   ],
   "source": [
    "# Checking if a Set is a Subset of Another Set\n",
    "subset_check = {\"mango\", \"papaya\"}.issubset(fruits_set)\n",
    "print(subset_check)  # Output: True\n",
    "\n",
    "# Checking if a Set is a Superset of Another Set\n",
    "superset_check = fruits_set.issuperset({\"orange\", \"papaya\"})\n",
    "print(superset_check)  # Output: True\n",
    "\n",
    "# Checking if Two Sets are Disjoint (No common elements)\n",
    "disjoint_check = fruits_set.isdisjoint({\"grape\", \"kiwi\"})\n",
    "print(disjoint_check)  # Output: True"
   ]
  },
  {
   "cell_type": "markdown",
   "id": "4ca0deae-120d-438c-8ade-72fef498ea62",
   "metadata": {},
   "source": [
    "- Sets deal with collections of unique elements, meaning each element appears only once in the set.\n",
    "- Set-specific operations, such as union, intersection, difference, and symmetric difference, make tasks like finding common elements or differences between sets efficient.\n",
    "- Sets are particularly useful for eliminating duplicate elements from a list or sequence, as they automatically enforce uniqueness."
   ]
  },
  {
   "cell_type": "code",
   "execution_count": null,
   "id": "65995e60-3158-4975-a781-f60d24fe7516",
   "metadata": {},
   "outputs": [],
   "source": []
  }
 ],
 "metadata": {
  "kernelspec": {
   "display_name": "Python 3 (ipykernel)",
   "language": "python",
   "name": "python3"
  },
  "language_info": {
   "codemirror_mode": {
    "name": "ipython",
    "version": 3
   },
   "file_extension": ".py",
   "mimetype": "text/x-python",
   "name": "python",
   "nbconvert_exporter": "python",
   "pygments_lexer": "ipython3",
   "version": "3.12.4"
  }
 },
 "nbformat": 4,
 "nbformat_minor": 5
}
