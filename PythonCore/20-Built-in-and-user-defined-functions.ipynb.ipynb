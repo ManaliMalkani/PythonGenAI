{
 "cells": [
  {
   "cell_type": "markdown",
   "id": "a6083657-557d-4d66-b8ca-05f9a4b20cf1",
   "metadata": {},
   "source": [
    "---------------\n",
    "### Built-in and user defined functions\n",
    "-----------------\n",
    "\n",
    "Functions in Python can be broadly classified into two types:"
   ]
  },
  {
   "cell_type": "markdown",
   "id": "fd99ed97-54c9-4762-8b69-c0dd21c008c0",
   "metadata": {},
   "source": [
    "**Built-in Functions:**\n",
    "\n",
    "- Built-in functions are functions that come pre-defined with the Python programming language.\n",
    "\n",
    "- These functions are part of the Python Standard Library, and you can use them directly without needing to import any external libraries.\n",
    "\n",
    "- Examples of built-in functions include print(), len(), abs(), max(), min(), sum(), range(), type(), input(), and many more."
   ]
  },
  {
   "cell_type": "code",
   "execution_count": 3,
   "id": "bfa4031e-ff2e-4fe0-8180-f0bc4281cf42",
   "metadata": {},
   "outputs": [
    {
     "name": "stdout",
     "output_type": "stream",
     "text": [
      "5\n",
      "20\n"
     ]
    },
    {
     "name": "stdin",
     "output_type": "stream",
     "text": [
      "Enter your name:  Manali\n"
     ]
    },
    {
     "name": "stdout",
     "output_type": "stream",
     "text": [
      "Hello, Manali\n"
     ]
    }
   ],
   "source": [
    "# Using built-in functions\n",
    "x = abs(-5)\n",
    "print(x)  # Output: 5\n",
    "\n",
    "y = max(10, 5, 20, 8)\n",
    "print(y)  # Output: 20\n",
    "\n",
    "name = input(\"Enter your name: \")\n",
    "print(\"Hello, \" + name)"
   ]
  },
  {
   "cell_type": "markdown",
   "id": "da6c97d4-967a-4a36-9d79-d22d26f3f3f1",
   "metadata": {},
   "source": [
    "**User-Defined Functions:**\n",
    "\n",
    "- User-defined functions are functions that you create and define yourself.\n",
    "- They allow you to write custom code and group related tasks into a single function.\n",
    "- User-defined functions are defined using the def keyword, followed by the function name, parameter list (if any), and a block of code (function body)"
   ]
  },
  {
   "cell_type": "code",
   "execution_count": 8,
   "id": "097ad053-7b99-4ac0-9767-277d32aa579d",
   "metadata": {},
   "outputs": [
    {
     "name": "stdout",
     "output_type": "stream",
     "text": [
      "Hello, Alice!\n",
      "Hello, Bob!\n"
     ]
    }
   ],
   "source": [
    "# User-defined function\n",
    "def greet(name):\n",
    "    print(\"Hello, \" + name + \"!\")\n",
    "\n",
    "# Calling the function\n",
    "greet(\"Alice\")  # Output: Hello, Alice!\n",
    "greet(\"Bob\")    # Output: Hello, Bob!"
   ]
  },
  {
   "cell_type": "markdown",
   "id": "adeb9dcf-e767-44b3-a233-61ecd43b8d8c",
   "metadata": {},
   "source": [
    "#### return multiple values\n",
    "- To do this, you make use of tuples."
   ]
  },
  {
   "cell_type": "code",
   "execution_count": 12,
   "id": "a8d03782-9198-4ac2-b5d3-277d0ca9ed9d",
   "metadata": {},
   "outputs": [],
   "source": [
    "# Define `plus()`\n",
    "def oper(a, b):\n",
    "    summ  = a + b\n",
    "    mult  = a * b\n",
    "    \n",
    "    return (summ, mult)"
   ]
  },
  {
   "cell_type": "code",
   "execution_count": 14,
   "id": "05bbdbce-05db-4260-98bf-c78b77f0d6b4",
   "metadata": {},
   "outputs": [
    {
     "data": {
      "text/plain": [
       "(7, 12)"
      ]
     },
     "execution_count": 14,
     "metadata": {},
     "output_type": "execute_result"
    }
   ],
   "source": [
    "oper(3, 4)"
   ]
  },
  {
   "cell_type": "code",
   "execution_count": 16,
   "id": "a2d6bbf5-2ef0-4fb1-964a-20a698639efa",
   "metadata": {},
   "outputs": [],
   "source": [
    "# Call \n",
    "summ, mult = oper(3, 4)\n",
    "ret_tuple  = oper(3, 4)"
   ]
  },
  {
   "cell_type": "code",
   "execution_count": 18,
   "id": "073846cd-9c45-413c-a168-d0e77a99e311",
   "metadata": {},
   "outputs": [
    {
     "name": "stdout",
     "output_type": "stream",
     "text": [
      "7\n",
      "12\n",
      "(7, 12)\n"
     ]
    }
   ],
   "source": [
    "# Print sum, mult\n",
    "print(summ)\n",
    "print(mult)\n",
    "print(ret_tuple)"
   ]
  },
  {
   "cell_type": "markdown",
   "id": "9979a05f-c914-4f53-b5b7-76a45f8097d3",
   "metadata": {},
   "source": [
    "##### Function Arguments in Python\n",
    "- There are 4 types of arguments that Python UDFs can take:\n",
    "\n",
    "    - `Default` arguments\n",
    "    - `Required` arguments\n",
    "    - `Keyword` arguments\n",
    "    - `Variable number` of arguments"
   ]
  },
  {
   "cell_type": "markdown",
   "id": "e46409ae-16d3-4b3b-a80a-d1b544087d31",
   "metadata": {},
   "source": [
    "**Default Arguments**\n",
    "\n",
    "- take a `default` value if no argument value is passed \n",
    "- You can assign this default value by with the assignment operator ="
   ]
  },
  {
   "cell_type": "code",
   "execution_count": 22,
   "id": "c5331d08-c931-4303-846a-52f1e475f3d0",
   "metadata": {},
   "outputs": [],
   "source": [
    "# Define `plus()` function\n",
    "def plus(a, b = 2):\n",
    "    return a + b"
   ]
  },
  {
   "cell_type": "code",
   "execution_count": 24,
   "id": "88f19479-9810-492c-b95c-ed1f276bf273",
   "metadata": {},
   "outputs": [
    {
     "data": {
      "text/plain": [
       "12"
      ]
     },
     "execution_count": 24,
     "metadata": {},
     "output_type": "execute_result"
    }
   ],
   "source": [
    "# Call `plus()` with only `a` parameter\n",
    "plus(2, b=10)"
   ]
  },
  {
   "cell_type": "code",
   "execution_count": 26,
   "id": "fc566110-1900-48ca-aa9e-bbc7af88ad56",
   "metadata": {},
   "outputs": [
    {
     "data": {
      "text/plain": [
       "22"
      ]
     },
     "execution_count": 26,
     "metadata": {},
     "output_type": "execute_result"
    }
   ],
   "source": [
    "plus(20)"
   ]
  },
  {
   "cell_type": "code",
   "execution_count": 28,
   "id": "696e55b6-5cad-4f5c-b7de-39c587537253",
   "metadata": {},
   "outputs": [
    {
     "data": {
      "text/plain": [
       "6"
      ]
     },
     "execution_count": 28,
     "metadata": {},
     "output_type": "execute_result"
    }
   ],
   "source": [
    "# Call `plus()` with `a` and `b` parameters\n",
    "plus(1, 5)"
   ]
  },
  {
   "cell_type": "markdown",
   "id": "42d6e07b-61e4-4da1-86de-821204efa6b0",
   "metadata": {},
   "source": [
    "**Required Arguments**\n",
    "\n",
    "- The required arguments of a function are those that have to be in there. "
   ]
  },
  {
   "cell_type": "markdown",
   "id": "6c8b7a33-444e-4c6a-aa47-62bf8e4be505",
   "metadata": {},
   "source": [
    "# Define `plus()` with required arguments\n",
    "def plus(a, b):\n",
    "    return a + b"
   ]
  },
  {
   "cell_type": "code",
   "execution_count": 32,
   "id": "e8e0ead8-71e0-4575-9838-f38b8292b107",
   "metadata": {},
   "outputs": [],
   "source": [
    "# Define `plus()` with required arguments\n",
    "def plus(a, b):\n",
    "    return a + b"
   ]
  },
  {
   "cell_type": "code",
   "execution_count": 34,
   "id": "f0da28ef-5d9a-4c7d-8a78-b1bfb865cf00",
   "metadata": {},
   "outputs": [
    {
     "data": {
      "text/plain": [
       "30"
      ]
     },
     "execution_count": 34,
     "metadata": {},
     "output_type": "execute_result"
    }
   ],
   "source": [
    "plus(10, 20)"
   ]
  },
  {
   "cell_type": "code",
   "execution_count": 36,
   "id": "756eff05-89bc-4613-bab0-bc69389c0fac",
   "metadata": {},
   "outputs": [
    {
     "data": {
      "text/plain": [
       "30"
      ]
     },
     "execution_count": 36,
     "metadata": {},
     "output_type": "execute_result"
    }
   ],
   "source": [
    "plus(b=10, a=20)"
   ]
  },
  {
   "cell_type": "code",
   "execution_count": 38,
   "id": "fef465f2-cf70-49ca-842a-9aa7ddf29d57",
   "metadata": {},
   "outputs": [
    {
     "ename": "TypeError",
     "evalue": "plus() missing 1 required positional argument: 'b'",
     "output_type": "error",
     "traceback": [
      "\u001b[0;31m---------------------------------------------------------------------------\u001b[0m",
      "\u001b[0;31mTypeError\u001b[0m                                 Traceback (most recent call last)",
      "Cell \u001b[0;32mIn[38], line 1\u001b[0m\n\u001b[0;32m----> 1\u001b[0m plus(a\u001b[38;5;241m=\u001b[39m\u001b[38;5;241m10\u001b[39m)\n",
      "\u001b[0;31mTypeError\u001b[0m: plus() missing 1 required positional argument: 'b'"
     ]
    }
   ],
   "source": [
    "plus(a=10)"
   ]
  },
  {
   "cell_type": "markdown",
   "id": "e847fbae-f148-4027-b8f2-68b0000472c8",
   "metadata": {},
   "source": [
    "**Variable Number of Arguments**\n",
    "\n",
    "- In cases where you don’t know the exact number of arguments that you want to pass to a function, you can use the following syntax with `*args`"
   ]
  },
  {
   "cell_type": "code",
   "execution_count": 42,
   "id": "9c5e363b-9ef0-4df4-8234-1d0b18fb9315",
   "metadata": {},
   "outputs": [],
   "source": [
    "def my_sum(my_integers):\n",
    "    result = 0\n",
    "    \n",
    "    for x in my_integers:\n",
    "        result += x\n",
    "        \n",
    "    return result"
   ]
  },
  {
   "cell_type": "code",
   "execution_count": 44,
   "id": "12d1c45f-dd49-4f7b-b1ce-0e2bd35771ad",
   "metadata": {},
   "outputs": [
    {
     "data": {
      "text/plain": [
       "6"
      ]
     },
     "execution_count": 44,
     "metadata": {},
     "output_type": "execute_result"
    }
   ],
   "source": [
    "list_of_integers = [1, 2, 3]\n",
    "\n",
    "my_sum(list_of_integers)"
   ]
  },
  {
   "cell_type": "code",
   "execution_count": 46,
   "id": "f3943870-d190-431b-91dd-549e5339ff0b",
   "metadata": {},
   "outputs": [
    {
     "data": {
      "text/plain": [
       "60"
      ]
     },
     "execution_count": 46,
     "metadata": {},
     "output_type": "execute_result"
    }
   ],
   "source": [
    "my_sum([10, 20, 30])"
   ]
  },
  {
   "cell_type": "markdown",
   "id": "e11a1b17-3abb-47eb-8d1c-93f5d784b96a",
   "metadata": {},
   "source": [
    "- This implementation works, but whenever you call this function you’ll also need to `create a list of arguments` to pass to it. \n",
    "\n",
    "- This can be inconvenient, especially if you don’t know up front all the values that should go into the list.\n",
    "\n",
    "- This is where *args can be really useful"
   ]
  },
  {
   "cell_type": "code",
   "execution_count": 62,
   "id": "b25d9327-a62f-49ab-88b1-fa74b6b926bb",
   "metadata": {},
   "outputs": [],
   "source": [
    "# sum_integers_args.py\n",
    "def my_sum(*args):\n",
    "    result = 0\n",
    "    \n",
    "    # Iterating over the Python args tuple\n",
    "    for x in args:\n",
    "        result += x\n",
    "        \n",
    "    return result"
   ]
  },
  {
   "cell_type": "code",
   "execution_count": 60,
   "id": "102cf766-b75b-40a2-8c70-dfdba27e3e4c",
   "metadata": {},
   "outputs": [
    {
     "name": "stdout",
     "output_type": "stream",
     "text": [
      "26\n"
     ]
    }
   ],
   "source": [
    "print(my_sum(1, 2, 3, 7, 13 ))"
   ]
  },
  {
   "cell_type": "code",
   "execution_count": 64,
   "id": "fa18fed9-a169-48b4-ab6d-e9fa7f3d5108",
   "metadata": {},
   "outputs": [
    {
     "ename": "TypeError",
     "evalue": "unsupported operand type(s) for +=: 'int' and 'list'",
     "output_type": "error",
     "traceback": [
      "\u001b[0;31m---------------------------------------------------------------------------\u001b[0m",
      "\u001b[0;31mTypeError\u001b[0m                                 Traceback (most recent call last)",
      "Cell \u001b[0;32mIn[64], line 3\u001b[0m\n\u001b[1;32m      1\u001b[0m list_of_integers \u001b[38;5;241m=\u001b[39m [\u001b[38;5;241m1\u001b[39m, \u001b[38;5;241m2\u001b[39m, \u001b[38;5;241m3\u001b[39m]\n\u001b[0;32m----> 3\u001b[0m my_sum(list_of_integers)\n",
      "Cell \u001b[0;32mIn[62], line 7\u001b[0m, in \u001b[0;36mmy_sum\u001b[0;34m(*args)\u001b[0m\n\u001b[1;32m      5\u001b[0m \u001b[38;5;66;03m# Iterating over the Python args tuple\u001b[39;00m\n\u001b[1;32m      6\u001b[0m \u001b[38;5;28;01mfor\u001b[39;00m x \u001b[38;5;129;01min\u001b[39;00m args:\n\u001b[0;32m----> 7\u001b[0m     result \u001b[38;5;241m+\u001b[39m\u001b[38;5;241m=\u001b[39m x\n\u001b[1;32m      9\u001b[0m \u001b[38;5;28;01mreturn\u001b[39;00m result\n",
      "\u001b[0;31mTypeError\u001b[0m: unsupported operand type(s) for +=: 'int' and 'list'"
     ]
    }
   ],
   "source": [
    "list_of_integers = [1, 2, 3]\n",
    "\n",
    "my_sum(list_of_integers)"
   ]
  },
  {
   "cell_type": "markdown",
   "id": "dec45faf-623c-42f1-a9b5-891afbc0f0c5",
   "metadata": {},
   "source": [
    "- you’re `no longer passing a list` to my_sum(). \n",
    "\n",
    "- Instead, you’re passing three different positional arguments. \n",
    "\n",
    "- my_sum() takes all the parameters that are provided in the input and `packs` them all into a single iterable object named `args`.\n",
    "\n",
    "> Note that `args` is just a name. \n",
    "> You’re not required to use the name `arg`s. \n",
    "> You can choose any name that you prefer, such as integers:"
   ]
  },
  {
   "cell_type": "code",
   "execution_count": 67,
   "id": "6056d35c-40c7-41f3-95da-c14ba0514feb",
   "metadata": {},
   "outputs": [
    {
     "name": "stdout",
     "output_type": "stream",
     "text": [
      "6\n"
     ]
    }
   ],
   "source": [
    "# sum_integers_args_2.py\n",
    "def my_sum(*integers):\n",
    "    result = 0\n",
    "    for x in integers:\n",
    "        result += x\n",
    "    return result\n",
    "\n",
    "print(my_sum(1, 2, 3))"
   ]
  },
  {
   "cell_type": "code",
   "execution_count": 69,
   "id": "020a618d-9cc1-4612-a963-ae0d9ce020d4",
   "metadata": {},
   "outputs": [
    {
     "name": "stdout",
     "output_type": "stream",
     "text": [
      "First time:\n",
      "This is the first argument of 1st function call\n",
      "(2, 3, 4, 5)\n",
      "2\n",
      "3\n",
      "4\n",
      "5\n",
      "Second time:\n",
      "This is the first argument of 2nd function call\n",
      "('asd', 'Bcd')\n",
      "asd\n",
      "Bcd\n",
      "Third time:\n",
      "This is the first argument and only argument of 3rd function call\n",
      "()\n"
     ]
    }
   ],
   "source": [
    "def varFunc(name, *args):\n",
    "        print(\"This is the first argument \"+str(name))\n",
    "        #This print will make you understand that the args is a list\n",
    "        print(args)\n",
    "        for item in args:\n",
    "                print(item)\n",
    "\n",
    "print(\"First time:\")\n",
    "varFunc(\"of 1st function call\", 2, 3, 4, 5)\n",
    "\n",
    "print(\"Second time:\")\n",
    "varFunc(\"of 2nd function call\",\"asd\",\"Bcd\")\n",
    "\n",
    "print(\"Third time:\")\n",
    "varFunc(\"and only argument of 3rd function call\")"
   ]
  },
  {
   "cell_type": "markdown",
   "id": "105e66ee-b4c5-43d6-b4c0-87495547360b",
   "metadata": {},
   "source": [
    "##### Using the Python `kwargs` Variable in Function Definitions\n",
    "\n",
    "**kwargs works just like *args, but instead of accepting positional arguments it accepts keyword (or named) arguments. "
   ]
  },
  {
   "cell_type": "code",
   "execution_count": 72,
   "id": "842fbe8e-3188-462a-a2c3-a8d4a6a2770a",
   "metadata": {},
   "outputs": [
    {
     "name": "stdout",
     "output_type": "stream",
     "text": [
      "RealPythonIsGreat!\n"
     ]
    }
   ],
   "source": [
    "def concatenate(**words):\n",
    "    result = \"\"\n",
    "    for arg in words.values():\n",
    "        result += arg\n",
    "    return result\n",
    "\n",
    "print(concatenate(a=\"Real\", b=\"Python\", c=\"Is\", d=\"Great\", e=\"!\"))"
   ]
  },
  {
   "cell_type": "code",
   "execution_count": 74,
   "id": "e2bd97d5-9604-4c9c-bd95-b31db62e2da1",
   "metadata": {},
   "outputs": [
    {
     "name": "stdout",
     "output_type": "stream",
     "text": [
      "First Person\n",
      "Name: Alice\n",
      "Roll: 234\n",
      "Age: 18\n",
      "Gender: female\n",
      "\n",
      "Second Person\n",
      "Name: Bob\n",
      "Roll: 204\n",
      "Age: 21\n",
      "Gender: male\n",
      "\n",
      "Third Person\n",
      "Name: Trudy\n",
      "Roll: 204\n",
      "Gender: male\n"
     ]
    }
   ],
   "source": [
    "def varFunc(name, roll, **option):\n",
    "        print(\"Name: \"+name)\n",
    "        print(\"Roll: \"+str(roll))\n",
    "        if \"age\" in option :\n",
    "                print(\"Age: \"+ str(option.get(\"age\")))\n",
    "        if \"gender\" in option:\n",
    "                print(\"Gender: \"+ str(option.get(\"gender\")))\n",
    "\n",
    "print(\"First Person\")\n",
    "varFunc(\"Alice\", 234, age=18, gender=\"female\")\n",
    "\n",
    "print(\"\\nSecond Person\")\n",
    "#See, the order of argument age and gender is different now\n",
    "varFunc(\"Bob\", 204, gender=\"male\", age=21)\n",
    "\n",
    "print(\"\\nThird Person\")\n",
    "#We will not pass age as and argument\n",
    "varFunc(\"Trudy\", 204, gender=\"male\")"
   ]
  },
  {
   "cell_type": "markdown",
   "id": "4574c0fb-c64a-4887-b5e5-c6e5d4bb906e",
   "metadata": {},
   "source": [
    "**examples of built-in functions**"
   ]
  },
  {
   "cell_type": "code",
   "execution_count": 78,
   "id": "248699e4-bf8b-4204-8aa1-b58fbff09c9d",
   "metadata": {},
   "outputs": [
    {
     "name": "stdout",
     "output_type": "stream",
     "text": [
      "30\n"
     ]
    }
   ],
   "source": [
    "# 2. max() - Returns the largest item in an iterable or the largest of two or more arguments.\n",
    "numbers = [10, 20, 5, 30]\n",
    "print(max(numbers))  # Output: 30"
   ]
  },
  {
   "cell_type": "code",
   "execution_count": 80,
   "id": "afc5db7d-9c2e-4c60-8b9e-8fdfaac14208",
   "metadata": {},
   "outputs": [
    {
     "name": "stdout",
     "output_type": "stream",
     "text": [
      "5\n"
     ]
    }
   ],
   "source": [
    "# 3. min() - Returns the smallest item in an iterable or the smallest of two or more arguments.\n",
    "print(min(numbers))  # Output: 5"
   ]
  },
  {
   "cell_type": "code",
   "execution_count": 82,
   "id": "86926e9b-0813-45b0-a6d9-b24fba20f9c9",
   "metadata": {},
   "outputs": [
    {
     "name": "stdout",
     "output_type": "stream",
     "text": [
      "5\n"
     ]
    }
   ],
   "source": [
    "# 4. abs() - Returns the absolute value of a number.\n",
    "num = -5\n",
    "print(abs(num))  # Output: 5"
   ]
  },
  {
   "cell_type": "code",
   "execution_count": 84,
   "id": "2aca0310-fa68-4776-aaa3-d568aac399da",
   "metadata": {},
   "outputs": [
    {
     "name": "stdout",
     "output_type": "stream",
     "text": [
      "65\n"
     ]
    }
   ],
   "source": [
    "# 5. sum() - Returns the sum of all elements in an iterable.\n",
    "print(sum(numbers))  # Output: 65"
   ]
  },
  {
   "cell_type": "code",
   "execution_count": 86,
   "id": "0710ffdb-071f-426e-b85b-0b0157f5fa37",
   "metadata": {},
   "outputs": [
    {
     "name": "stdout",
     "output_type": "stream",
     "text": [
      "3.14\n"
     ]
    }
   ],
   "source": [
    "# 6. round() - Rounds a number to the nearest integer or specified decimal places.\n",
    "pi = 3.14159\n",
    "print(round(pi, 2))  # Output: 3.14"
   ]
  },
  {
   "cell_type": "code",
   "execution_count": 88,
   "id": "e79bd71a-0413-40ba-8e11-931ce4182b17",
   "metadata": {},
   "outputs": [
    {
     "name": "stdout",
     "output_type": "stream",
     "text": [
      "[1, 1, 2, 3, 4, 5, 9]\n"
     ]
    }
   ],
   "source": [
    "# 7. sorted() - Returns a new sorted list from the elements of any iterable.\n",
    "unsorted_list = [3, 1, 4, 1, 5, 9, 2]\n",
    "sorted_list   = sorted(unsorted_list)\n",
    "print(sorted_list)  # Output: [1, 1, 2, 3, 4, 5, 9]"
   ]
  },
  {
   "cell_type": "code",
   "execution_count": null,
   "id": "bbf37551-073b-4087-a0d1-6fe90d01ab30",
   "metadata": {},
   "outputs": [],
   "source": [
    "# 8. reversed() - Returns an iterator that yields items in reverse order.\n",
    "reversed_list = list(reversed(unsorted_list))\n",
    "print(reversed_list)  # Output: [2, 9, 5, 1, 4, 1, 3]"
   ]
  },
  {
   "cell_type": "code",
   "execution_count": 90,
   "id": "62bac38b-9fb2-4ce3-b0a4-5a96f15bdf50",
   "metadata": {},
   "outputs": [
    {
     "name": "stdout",
     "output_type": "stream",
     "text": [
      "42\n"
     ]
    }
   ],
   "source": [
    "# 9. str() - Converts an object into a string.\n",
    "number = 42\n",
    "print(str(number))  # Output: '42'"
   ]
  },
  {
   "cell_type": "code",
   "execution_count": 92,
   "id": "8ff8f829-7e6b-4d99-9df7-b6b24f3b619c",
   "metadata": {},
   "outputs": [
    {
     "name": "stdout",
     "output_type": "stream",
     "text": [
      "123\n"
     ]
    }
   ],
   "source": [
    "# 10. int() - Converts a string or number to an integer.\n",
    "num_str = \"123\"\n",
    "print(int(num_str))  # Output: 123"
   ]
  },
  {
   "cell_type": "code",
   "execution_count": 94,
   "id": "816803c7-5cc9-404b-9150-801d26299441",
   "metadata": {},
   "outputs": [
    {
     "name": "stdout",
     "output_type": "stream",
     "text": [
      "3.14\n"
     ]
    }
   ],
   "source": [
    "# 11. float() - Converts a string or number to a floating-point number.\n",
    "pi_str = \"3.14\"\n",
    "print(float(pi_str))  # Output: 3.14"
   ]
  },
  {
   "cell_type": "code",
   "execution_count": 96,
   "id": "d7bb29e7-eb5a-4791-8e68-2cb2b6be56a3",
   "metadata": {},
   "outputs": [
    {
     "name": "stdout",
     "output_type": "stream",
     "text": [
      "['P', 'y', 't', 'h', 'o', 'n']\n"
     ]
    }
   ],
   "source": [
    "# 12. list() - Converts an iterable to a list.\n",
    "text = \"Python\"\n",
    "print(list(text))  # Output: ['P', 'y', 't', 'h', 'o', 'n']"
   ]
  },
  {
   "cell_type": "code",
   "execution_count": 98,
   "id": "5ce20a1d-b7ba-41dc-b212-b5e2bbd4ad96",
   "metadata": {},
   "outputs": [
    {
     "name": "stdout",
     "output_type": "stream",
     "text": [
      "('P', 'y', 't', 'h', 'o', 'n')\n"
     ]
    }
   ],
   "source": [
    "# 13. tuple() - Converts an iterable to a tuple.\n",
    "text_tuple = tuple(text)\n",
    "print(text_tuple)  # Output: ('P', 'y', 't', 'h', 'o', 'n')"
   ]
  },
  {
   "cell_type": "code",
   "execution_count": 100,
   "id": "ef981bb7-ceb9-4462-bdcd-782892a8df2d",
   "metadata": {},
   "outputs": [
    {
     "name": "stdout",
     "output_type": "stream",
     "text": [
      "{1, 2, 3, 4, 5}\n"
     ]
    }
   ],
   "source": [
    "# 14. set() - Converts an iterable to a set, removing duplicate elements.\n",
    "numbers_with_duplicates = [1, 2, 2, 3, 3, 4, 5]\n",
    "unique_numbers = set(numbers_with_duplicates)\n",
    "print(unique_numbers)  # Output: {1, 2, 3, 4, 5}"
   ]
  },
  {
   "cell_type": "code",
   "execution_count": 102,
   "id": "a077a799-70b8-4bf0-9c6c-f138d964b1f6",
   "metadata": {},
   "outputs": [
    {
     "name": "stdout",
     "output_type": "stream",
     "text": [
      "{'a': 1, 'b': 2, 'c': 3}\n"
     ]
    }
   ],
   "source": [
    "# 15. dict() - Creates a dictionary from an iterable of key-value pairs.\n",
    "key_value_pairs = [('a', 1), ('b', 2), ('c', 3)]\n",
    "dictionary = dict(key_value_pairs)\n",
    "print(dictionary)  # Output: {'a': 1, 'b': 2, 'c': 3}"
   ]
  },
  {
   "cell_type": "code",
   "execution_count": 104,
   "id": "d29b610c-5f55-4417-83e2-ee8f6cc9d193",
   "metadata": {},
   "outputs": [
    {
     "name": "stdout",
     "output_type": "stream",
     "text": [
      "False\n"
     ]
    }
   ],
   "source": [
    "# 16. all() - Returns True if all elements in an iterable are true or if the iterable is empty.\n",
    "bool_list = [True, False, True, True]\n",
    "print(all(bool_list))  # Output: False"
   ]
  },
  {
   "cell_type": "code",
   "execution_count": 106,
   "id": "fbb292f3-024e-4c0b-b557-954cc5eccab0",
   "metadata": {},
   "outputs": [
    {
     "name": "stdout",
     "output_type": "stream",
     "text": [
      "True\n"
     ]
    }
   ],
   "source": [
    "# 17. any() - Returns True if any element in an iterable is true.\n",
    "print(any(bool_list))  # Output: True"
   ]
  },
  {
   "cell_type": "code",
   "execution_count": 108,
   "id": "05488f9a-6c09-4823-9ef0-0815cac3a7fb",
   "metadata": {},
   "outputs": [
    {
     "name": "stdout",
     "output_type": "stream",
     "text": [
      "[('Alice', 25), ('Bob', 30), ('Charlie', 22)]\n"
     ]
    }
   ],
   "source": [
    "# 20. zip() - Combines two or more iterables element-wise into a single iterator of tuples.\n",
    "names = ['Alice', 'Bob', 'Charlie']\n",
    "ages  = [25, 30, 22]\n",
    "zipped_data = zip(names, ages)\n",
    "print(list(zipped_data))  # Output: [('Alice', 25), ('Bob', 30), ('Charlie', 22)]"
   ]
  },
  {
   "cell_type": "code",
   "execution_count": 110,
   "id": "306ea3fe-f7c1-4bab-93e8-15d3c5f19545",
   "metadata": {},
   "outputs": [
    {
     "name": "stdout",
     "output_type": "stream",
     "text": [
      "Index: 0, Fruit: apple\n",
      "Index: 1, Fruit: banana\n",
      "Index: 2, Fruit: cherry\n"
     ]
    }
   ],
   "source": [
    "# 21. enumerate() - Returns an iterator of index-value pairs from an iterable.\n",
    "fruits = ['apple', 'banana', 'cherry']\n",
    "for index, fruit in enumerate(fruits):\n",
    "    print(f\"Index: {index}, Fruit: {fruit}\")"
   ]
  },
  {
   "cell_type": "code",
   "execution_count": 112,
   "id": "1640914d-95c4-46b8-b369-d1fbea7e394a",
   "metadata": {},
   "outputs": [
    {
     "name": "stdout",
     "output_type": "stream",
     "text": [
      "[0, 1, 2, 3, 4]\n"
     ]
    }
   ],
   "source": [
    "# 22. range() - Generates a sequence of numbers within a specified range.\n",
    "nums_0_to_4 = range(5)\n",
    "print(list(nums_0_to_4))  # Output: [0, 1, 2, 3, 4]"
   ]
  },
  {
   "cell_type": "code",
   "execution_count": 114,
   "id": "239263f2-7d76-458e-8777-e9c031a2bdd8",
   "metadata": {},
   "outputs": [
    {
     "name": "stdout",
     "output_type": "stream",
     "text": [
      "My name is Alice and I am 30 years old.\n"
     ]
    }
   ],
   "source": [
    "# 27. format() - Formats a string by replacing placeholders with values.\n",
    "name = \"Alice\"\n",
    "age = 30\n",
    "print(\"My name is {} and I am {} years old.\".format(name, age))\n",
    "# Output: \"My name is Alice and I am 30 years old.\""
   ]
  },
  {
   "cell_type": "code",
   "execution_count": 116,
   "id": "7fbc55d0-38c9-449d-9418-a8194661d5e9",
   "metadata": {},
   "outputs": [
    {
     "name": "stdout",
     "output_type": "stream",
     "text": [
      "Hello, World!\n"
     ]
    }
   ],
   "source": [
    "# 28. strip() - Removes leading and trailing whitespaces from a string.\n",
    "text = \"   Hello, World!   \"\n",
    "print(text.strip())  # Output: \"Hello, World!\""
   ]
  },
  {
   "cell_type": "code",
   "execution_count": 118,
   "id": "b512b7ab-a5c7-458e-8569-5a9f13c9ac5b",
   "metadata": {},
   "outputs": [
    {
     "name": "stdout",
     "output_type": "stream",
     "text": [
      "Hello-World-Python\n"
     ]
    }
   ],
   "source": [
    "# 29. join() - Joins elements of an iterable with a specified separator.\n",
    "words = ['Hello', 'World', 'Python']\n",
    "print('-'.join(words))  # Output: \"Hello-World-Python\""
   ]
  },
  {
   "cell_type": "code",
   "execution_count": 120,
   "id": "3b2c47b0-8e09-4c69-adb1-fc6225631bb0",
   "metadata": {},
   "outputs": [
    {
     "name": "stdout",
     "output_type": "stream",
     "text": [
      "['Hello', 'World', 'Python']\n"
     ]
    }
   ],
   "source": [
    "# 30. split() - Splits a string into a list using a specified separator.\n",
    "text = \"Hello, World, Python\"\n",
    "print(text.split(', '))  # Output: ['Hello', 'World', 'Python']"
   ]
  },
  {
   "cell_type": "code",
   "execution_count": 122,
   "id": "bc4ee8e6-275b-4fe3-8887-a3acf2a43412",
   "metadata": {},
   "outputs": [
    {
     "name": "stdout",
     "output_type": "stream",
     "text": [
      "Hello, World!\n"
     ]
    }
   ],
   "source": [
    "# 31. replace() - Replaces occurrences of a substring with another string.\n",
    "text = \"Hello, Python!\"\n",
    "\n",
    "new_text = text.replace(\"Python\", \"World\")\n",
    "\n",
    "print(new_text)  # Output: \"Hello, World!\""
   ]
  },
  {
   "cell_type": "code",
   "execution_count": 124,
   "id": "33a8b07a-f070-49fb-b063-e5186696551c",
   "metadata": {},
   "outputs": [
    {
     "name": "stdout",
     "output_type": "stream",
     "text": [
      "Hello, world!\n",
      "hello, world!\n",
      "HELLO, WORLD!\n"
     ]
    }
   ],
   "source": [
    "# 32. capitalize() - Capitalizes the first character of a string.\n",
    "text = \"hello, world!\"\n",
    "print(text.capitalize())  # Output: \"Hello, world!\"\n",
    "\n",
    "# 33. lower() - Converts a string to lowercase.\n",
    "print(text.lower())  # Output: \"hello, world!\"\n",
    "\n",
    "# 34. upper() - Converts a string to uppercase.\n",
    "print(text.upper())  # Output: \"HELLO, WORLD!\""
   ]
  },
  {
   "cell_type": "code",
   "execution_count": 126,
   "id": "b62cd73a-fea0-41ed-a3fb-75489a56f831",
   "metadata": {},
   "outputs": [
    {
     "name": "stdout",
     "output_type": "stream",
     "text": [
      "True\n",
      "False\n"
     ]
    }
   ],
   "source": [
    "# 35. isdigit() - Returns True if all characters in a string are digits.\n",
    "print(\"123\".isdigit())  # Output: True\n",
    "print(\"abc\".isdigit())  # Output: False"
   ]
  },
  {
   "cell_type": "code",
   "execution_count": 128,
   "id": "a3fb5c61-764a-4ec3-be11-dc1c6de1d213",
   "metadata": {},
   "outputs": [
    {
     "name": "stdout",
     "output_type": "stream",
     "text": [
      "True\n",
      "False\n"
     ]
    }
   ],
   "source": [
    "# 36. isalpha() - Returns True if all characters in a string are alphabetic.\n",
    "print(\"abc\".isalpha())  # Output: True\n",
    "print(\"abc123\".isalpha())  # Output: False"
   ]
  },
  {
   "cell_type": "code",
   "execution_count": 130,
   "id": "4cff5e0b-b03f-4845-b648-27892fb90850",
   "metadata": {},
   "outputs": [
    {
     "name": "stdout",
     "output_type": "stream",
     "text": [
      "True\n",
      "False\n"
     ]
    }
   ],
   "source": [
    "# 37. isalnum() - Returns True if all characters in a string are alphanumeric.\n",
    "print(\"abc123\".isalnum())  # Output: True\n",
    "print(\"abc 123\".isalnum())  # Output: False"
   ]
  },
  {
   "cell_type": "code",
   "execution_count": 132,
   "id": "ab288f02-12ee-4682-be1e-48a514820d35",
   "metadata": {},
   "outputs": [
    {
     "name": "stdout",
     "output_type": "stream",
     "text": [
      "True\n",
      "False\n"
     ]
    }
   ],
   "source": [
    "# 38. isspace() - Returns True if all characters in a string are whitespace characters.\n",
    "print(\"   \".isspace())  # Output: True\n",
    "print(\"abc \".isspace())  # Output: False"
   ]
  },
  {
   "cell_type": "code",
   "execution_count": 134,
   "id": "05877401-99ed-46b7-8859-f59454b37ed6",
   "metadata": {},
   "outputs": [
    {
     "name": "stdout",
     "output_type": "stream",
     "text": [
      "True\n",
      "False\n",
      "True\n",
      "False\n"
     ]
    }
   ],
   "source": [
    "# 39. startswith() - Returns True if a string starts with a specified prefix.\n",
    "text = \"Hello, World!\"\n",
    "print(text.startswith(\"Hello\"))  # Output: True\n",
    "print(text.startswith(\"World\"))  # Output: False\n",
    "\n",
    "# 40. endswith() - Returns True if a string ends with a specified suffix.\n",
    "print(text.endswith(\"World!\"))  # Output: True\n",
    "print(text.endswith(\"Hello\"))  # Output: False"
   ]
  },
  {
   "cell_type": "code",
   "execution_count": 136,
   "id": "6a498fda-b39b-4090-b523-5acfdffd2631",
   "metadata": {},
   "outputs": [
    {
     "name": "stdout",
     "output_type": "stream",
     "text": [
      "3\n"
     ]
    }
   ],
   "source": [
    "# 41. count() - Returns the number of occurrences of a substring in a string.\n",
    "text = \"Hello, Hello, Hello, World!\"\n",
    "print(text.count(\"Hello\"))  # Output: 3"
   ]
  },
  {
   "cell_type": "code",
   "execution_count": 138,
   "id": "a196e1a6-c2a2-40b8-8c7c-244aa39dcd7a",
   "metadata": {},
   "outputs": [
    {
     "name": "stdout",
     "output_type": "stream",
     "text": [
      "Hello, world!\n",
      "HELLO, WoRLd!\n"
     ]
    }
   ],
   "source": [
    "# 49. capitalize() - Converts the first character of a string to uppercase and the rest to lowercase.\n",
    "text = \"hello, wOrlD!\"\n",
    "print(text.capitalize())  # Output: \"Hello, world!\"\n",
    "\n",
    "# 50. swapcase() - Swaps the case of all characters in a string.\n",
    "print(text.swapcase())  # Output: \"HELLO, WoRLd!\""
   ]
  },
  {
   "cell_type": "code",
   "execution_count": null,
   "id": "bfde7f00-7aee-4d01-ad28-f676873a30d3",
   "metadata": {},
   "outputs": [],
   "source": []
  }
 ],
 "metadata": {
  "kernelspec": {
   "display_name": "Python 3 (ipykernel)",
   "language": "python",
   "name": "python3"
  },
  "language_info": {
   "codemirror_mode": {
    "name": "ipython",
    "version": 3
   },
   "file_extension": ".py",
   "mimetype": "text/x-python",
   "name": "python",
   "nbconvert_exporter": "python",
   "pygments_lexer": "ipython3",
   "version": "3.12.4"
  }
 },
 "nbformat": 4,
 "nbformat_minor": 5
}
