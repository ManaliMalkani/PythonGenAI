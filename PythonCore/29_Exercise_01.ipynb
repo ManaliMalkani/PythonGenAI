{
 "cells": [
  {
   "cell_type": "code",
   "execution_count": 1,
   "id": "7adafd68-bab0-4e18-a6a1-4bb3664d90b3",
   "metadata": {},
   "outputs": [
    {
     "name": "stdout",
     "output_type": "stream",
     "text": [
      "[2002, 2009, 2016, 2023, 2037, 2044, 2051, 2058, 2072, 2079, 2086, 2093, 2107, 2114, 2121, 2128, 2142, 2149, 2156, 2163, 2177, 2184, 2191, 2198, 2212, 2219, 2226, 2233, 2247, 2254, 2261, 2268, 2282, 2289, 2296, 2303, 2317, 2324, 2331, 2338, 2352, 2359, 2366, 2373, 2387, 2394, 2401, 2408, 2422, 2429, 2436, 2443, 2457, 2464, 2471, 2478, 2492, 2499, 2506, 2513, 2527, 2534, 2541, 2548, 2562, 2569, 2576, 2583, 2597, 2604, 2611, 2618, 2632, 2639, 2646, 2653, 2667, 2674, 2681, 2688, 2702, 2709, 2716, 2723, 2737, 2744, 2751, 2758, 2772, 2779, 2786, 2793, 2807, 2814, 2821, 2828, 2842, 2849, 2856, 2863, 2877, 2884, 2891, 2898, 2912, 2919, 2926, 2933, 2947, 2954, 2961, 2968, 2982, 2989, 2996, 3003, 3017, 3024, 3031, 3038, 3052, 3059, 3066, 3073, 3087, 3094, 3101, 3108, 3122, 3129, 3136, 3143, 3157, 3164, 3171, 3178, 3192, 3199]\n"
     ]
    }
   ],
   "source": [
    "# Qs 1\n",
    "# Write a program which will find all such numbers which are divisible by 7 \n",
    "# but are not a multiple of 5,\n",
    "# between 2000 and 3200 (both included).\n",
    "# The numbers obtained should be printed in a comma-separated sequence on a \n",
    "# single line.\n",
    "\n",
    "# Consider use range(#begin, #end) method\n",
    "\n",
    "num_array = []\n",
    "\n",
    "start_range  = 2000\n",
    "finish_range = 3200\n",
    "\n",
    "for num in range(start_range, finish_range):\n",
    "    \n",
    "    if (num % 7 == 0) and (num % 5 != 0):\n",
    "        num_array.append(num)\n",
    "\n",
    "print(num_array)\n",
    "# print(','.join(num_array))"
   ]
  },
  {
   "cell_type": "code",
   "execution_count": 2,
   "id": "76a1f172-ceed-4563-9dde-959d33017f1f",
   "metadata": {},
   "outputs": [
    {
     "name": "stdin",
     "output_type": "stream",
     "text": [
      "Enter a number :  6\n"
     ]
    },
    {
     "name": "stdout",
     "output_type": "stream",
     "text": [
      "720\n"
     ]
    }
   ],
   "source": [
    "# Qs 2\n",
    "# Write a program which can compute the factorial of a given numbers.\n",
    "# The results should be printed in a comma-separated sequence on a single line.\n",
    "\n",
    "# define a function\n",
    "def fact(x):\n",
    "    if x == 0:\n",
    "        return 1\n",
    "    return x * fact(x - 1)\n",
    "\n",
    "# call the above function\n",
    "x = int(input('Enter a number : '))\n",
    "\n",
    "print (fact(x))"
   ]
  },
  {
   "cell_type": "code",
   "execution_count": 6,
   "id": "2553788b-7d9a-49b9-8b75-9bb32bfcc9fc",
   "metadata": {},
   "outputs": [
    {
     "name": "stdin",
     "output_type": "stream",
     "text": [
      "Enter a number :  8\n"
     ]
    },
    {
     "name": "stdout",
     "output_type": "stream",
     "text": [
      "{1: 1, 2: 4, 3: 9, 4: 16, 5: 25, 6: 36, 7: 49, 8: 64}\n"
     ]
    }
   ],
   "source": [
    "# Qs 3\n",
    "# With a given integral number n, write a program to generate a dictionary \n",
    "# that contains (i, i*i) such that is an integral number between 1 and n \n",
    "# (both included). and then the program should print the dictionary.\n",
    "# Suppose the following input is supplied to the program:\n",
    "# 8\n",
    "# Then, the output should be:\n",
    "# {1: 1, 2: 4, 3: 9, 4: 16, 5: 25, 6: 36, 7: 49, 8: 64}\n",
    "\n",
    "num = int(input('Enter a number : '))\n",
    "\n",
    "result_dict = dict()\n",
    "\n",
    "for index in range(1, num+1):\n",
    "    result_dict[index]= index * index\n",
    "\n",
    "print (result_dict)"
   ]
  },
  {
   "cell_type": "code",
   "execution_count": 1,
   "id": "6ca0080d-de1d-4773-9bed-92985b2e39c7",
   "metadata": {},
   "outputs": [
    {
     "name": "stdin",
     "output_type": "stream",
     "text": [
      "Enter comma separated series of numbers :  3,8,9,2,99,22,22,33\n"
     ]
    },
    {
     "name": "stdout",
     "output_type": "stream",
     "text": [
      "3,8,9,2,99,22,22,33\n",
      "['3', '8', '9', '2', '99', '22', '22', '33']\n",
      "['3', '8', '9', '2', '99', '22', '22', '33']\n"
     ]
    }
   ],
   "source": [
    "# Qs 4\n",
    "# Write a program which accepts a sequence of comma-separated numbers from \n",
    "# console and generate a list and a tuple which contains every number.\n",
    "# Suppose the following input is supplied to the program:\n",
    "# 34,67,55,33,12,98\n",
    "# Then, the output should be:\n",
    "# ['34', '67', '55', '33', '12', '98']\n",
    "# ('34', '67', '55', '33', '12', '98')\n",
    "\n",
    "num_values_str = input('Enter comma separated series of numbers : ')\n",
    "\n",
    "num_array = num_values_str.split(\",\")\n",
    "\n",
    "num_tuple = tuple(num_array)\n",
    "\n",
    "print(num_values_str)\n",
    "print (num_array)\n",
    "print (num_array)"
   ]
  },
  {
   "cell_type": "code",
   "execution_count": 3,
   "id": "070da592-1b59-41af-b034-32448aca0dc4",
   "metadata": {},
   "outputs": [],
   "source": [
    "# Qs 5\n",
    "# Define a class which has at least two methods:\n",
    "# getString: to get a string from console input\n",
    "# printString: to print the string in upper case.\n",
    "# Also please include simple test function to test the class methods.\n",
    "\n",
    "# Hints:\n",
    "# Use __init__ method to construct some parameters\n",
    "\n",
    "# Solution:\n",
    "# class InputOutString(object):\n",
    "#     def __init__(self):\n",
    "#         self.s = \"\"\n",
    "\n",
    "#     def getString(self):\n",
    "#         self.s = raw_input()\n",
    "\n",
    "#     def printString(self):\n",
    "#         print self.s.upper()\n",
    "\n",
    "# strObj = InputOutString()\n",
    "# strObj.getString()\n",
    "# strObj.printString()"
   ]
  },
  {
   "cell_type": "code",
   "execution_count": 9,
   "id": "891647c2-4eac-4d48-8ab6-eb56e27eed27",
   "metadata": {},
   "outputs": [
    {
     "name": "stdin",
     "output_type": "stream",
     "text": [
      "Enter comma separated numbers:  100,150,180\n"
     ]
    },
    {
     "name": "stdout",
     "output_type": "stream",
     "text": [
      "100,150,180\n",
      "18,22,24\n"
     ]
    }
   ],
   "source": [
    "# Qs 6\n",
    "# Write a program that calculates and prints the value according to the given \n",
    "# formula:\n",
    "# Q = Square root of [(2 * C * D)/H]\n",
    "# Following are the fixed values of C and H:\n",
    "# C is 50. H is 30.\n",
    "\n",
    "# D is the variable whose values should be input to your program in a \n",
    "# comma-separated sequence.\n",
    "\n",
    "# Let us assume the following comma separated input sequence is given to \n",
    "# the program:\n",
    "# 100,150,180\n",
    "# The output of the program should be:\n",
    "# 18,22,24\n",
    "\n",
    "import math\n",
    "c = 50\n",
    "h = 30\n",
    "\n",
    "value_array = []\n",
    "\n",
    "num_array = input(\"Enter comma separated numbers: \")\n",
    "\n",
    "items = [x for x in num_array.split(',')]\n",
    "\n",
    "for d in items:\n",
    "    value_array.append(str(int(round(math.sqrt(2*c*float(d)/h)))))\n",
    "    \n",
    "\n",
    "print(num_array)\n",
    "print (','.join(value_array))"
   ]
  },
  {
   "cell_type": "code",
   "execution_count": 1,
   "id": "2aa747c3-6d73-4ce3-b420-ad1be67f60b3",
   "metadata": {},
   "outputs": [
    {
     "name": "stdin",
     "output_type": "stream",
     "text": [
      "Enter array dimension (m , n e.g. 3 , 5) :  2,3\n"
     ]
    },
    {
     "name": "stdout",
     "output_type": "stream",
     "text": [
      "2,3\n",
      "[[0, 0, 0], [0, 1, 2]]\n"
     ]
    }
   ],
   "source": [
    "# Qs 7\n",
    "# Write a program which takes 2 digits, X,Y as input and generates a \n",
    "# 2-dimensional array. The element value in the i-th row and j-th column of the \n",
    "# array should be i*j.\n",
    "# Note: i=0,1.., X-1; j=0,1,¡­Y-1.\n",
    "\n",
    "# Suppose the following inputs are given to the program:\n",
    "# 3,5\n",
    "# Then, the output of the program should be:\n",
    "# [[0, 0, 0, 0, 0], [0, 1, 2, 3, 4], [0, 2, 4, 6, 8]] \n",
    "\n",
    "input_str = input('Enter array dimension (m , n e.g. 3 , 5) : ')\n",
    "\n",
    "print(input_str)\n",
    "\n",
    "dimensions=[int(x) for x in input_str.split(',')]\n",
    "\n",
    "rowNum=dimensions[0]\n",
    "colNum=dimensions[1]\n",
    "\n",
    "multilist = [[0 for col in range(colNum)] for row in range(rowNum)]\n",
    "\n",
    "for row in range(rowNum):\n",
    "    for col in range(colNum):\n",
    "        multilist[row][col]= row*col\n",
    "\n",
    "print (multilist)"
   ]
  },
  {
   "cell_type": "code",
   "execution_count": 3,
   "id": "0fc240d3-32e3-4c95-b5dc-c91128f532bd",
   "metadata": {},
   "outputs": [
    {
     "name": "stdin",
     "output_type": "stream",
     "text": [
      "Enter comma separated list of words:  without,hello,bag,world,apple\n"
     ]
    },
    {
     "name": "stdout",
     "output_type": "stream",
     "text": [
      "apple,bag,hello,without,world\n"
     ]
    },
    {
     "data": {
      "text/plain": [
       "5"
      ]
     },
     "execution_count": 3,
     "metadata": {},
     "output_type": "execute_result"
    }
   ],
   "source": [
    "# Qs 8\n",
    "# Write a program that accepts a comma separated sequence of words as input \n",
    "# and prints the words in a comma-separated sequence after sorting them \n",
    "# alphabetically.\n",
    "# Suppose the following input is supplied to the program:\n",
    "# without,hello,bag,world\n",
    "# Then, the output should be:\n",
    "# bag,hello,without,world\n",
    "\n",
    "\n",
    "items=[x for x in input('Enter comma separated list of words: ').split(',')]\n",
    "\n",
    "items.sort()\n",
    "\n",
    "print (','.join(items))\n",
    "len(items)"
   ]
  },
  {
   "cell_type": "code",
   "execution_count": 5,
   "id": "5ca9ea64-b6f2-41a2-b0ba-b057355306f7",
   "metadata": {},
   "outputs": [
    {
     "name": "stdin",
     "output_type": "stream",
     "text": [
      "Enter a line of text :  I am Manali. I love India\n",
      "Enter a line of text :  I am Manali. I love India\n",
      "Enter a line of text :  I am Manali. I love India\n",
      "Enter a line of text :  Hello world Practice makes perfect\n",
      "Enter a line of text :  \n"
     ]
    },
    {
     "name": "stdout",
     "output_type": "stream",
     "text": [
      "I AM MANALI. I LOVE INDIA\n",
      "I AM MANALI. I LOVE INDIA\n",
      "I AM MANALI. I LOVE INDIA\n",
      "HELLO WORLD PRACTICE MAKES PERFECT\n"
     ]
    }
   ],
   "source": [
    "# Qs 9\n",
    "# Write a program that accepts sequence of lines as input and prints the lines \n",
    "# after making all characters in the sentence capitalized.\n",
    "# Suppose the following input is supplied to the program:\n",
    "# Hello world\n",
    "# Practice makes perfect\n",
    "# Then, the output should be:\n",
    "# HELLO WORLD\n",
    "# PRACTICE MAKES PERFECT\n",
    "\n",
    "lines_array = []\n",
    "\n",
    "while True:\n",
    "    line = input('Enter a line of text : ')\n",
    "    if line:\n",
    "        lines_array.append(line.upper())\n",
    "    else:\n",
    "        break;\n",
    "\n",
    "for line in lines_array:\n",
    "    print (line)"
   ]
  },
  {
   "cell_type": "code",
   "execution_count": 7,
   "id": "4fbeb3a2-e291-4ce3-baf6-5a0f9caceba1",
   "metadata": {},
   "outputs": [
    {
     "name": "stdin",
     "output_type": "stream",
     "text": [
      " hello world and practice makes perfect and hello world again\n"
     ]
    },
    {
     "name": "stdout",
     "output_type": "stream",
     "text": [
      "again and hello makes perfect practice world\n"
     ]
    }
   ],
   "source": [
    "# Qs 10\n",
    "# Write a program that accepts a sequence of whitespace separated words \n",
    "# as input and prints the words after removing all duplicate words and sorting \n",
    "# them alphanumerically.\n",
    "# Suppose the following input is supplied to the program:\n",
    "# hello world and practice makes perfect and hello world again\n",
    "# Then, the output should be:\n",
    "# again and hello makes perfect practice world\n",
    "\n",
    "words_str = input()\n",
    "\n",
    "words_array = [word for word in words_str.split(\" \")]\n",
    "\n",
    "print (\" \".join(sorted(list(set(words_array)))))"
   ]
  },
  {
   "cell_type": "code",
   "execution_count": 9,
   "id": "0c767115-6487-4e6f-bc91-bbc2d2773ae6",
   "metadata": {},
   "outputs": [
    {
     "name": "stdin",
     "output_type": "stream",
     "text": [
      " Manali s 123\n"
     ]
    },
    {
     "name": "stdout",
     "output_type": "stream",
     "text": [
      "LETTERS :  7\n",
      "DIGITS :  3\n"
     ]
    }
   ],
   "source": [
    "# Qs 11\n",
    "# Write a program that accepts a sentence and calculate the number of letters \n",
    "# and digits.\n",
    "# Suppose the following input is supplied to the program:\n",
    "# hello world! 123\n",
    "# Then, the output should be:\n",
    "# LETTERS 10\n",
    "# DIGITS 3\n",
    "\n",
    "line_str = input()\n",
    "\n",
    "result_dict = {\"DIGITS\":0, \"LETTERS\":0}\n",
    "\n",
    "for char in line_str:\n",
    "    if char.isdigit():\n",
    "        result_dict[\"DIGITS\"]+=1\n",
    "    elif char.isalpha():\n",
    "        result_dict[\"LETTERS\"]+=1\n",
    "    else:\n",
    "        pass\n",
    "    \n",
    "print (\"LETTERS : \", result_dict[\"LETTERS\"])\n",
    "print (\"DIGITS : \", result_dict[\"DIGITS\"])"
   ]
  },
  {
   "cell_type": "code",
   "execution_count": 15,
   "id": "6981e59c-0daa-4d00-9c12-6f52f537980e",
   "metadata": {},
   "outputs": [
    {
     "name": "stdin",
     "output_type": "stream",
     "text": [
      " Manali M\n"
     ]
    },
    {
     "name": "stdout",
     "output_type": "stream",
     "text": [
      "UPPER CASE 2\n",
      "LOWER CASE 5\n"
     ]
    }
   ],
   "source": [
    "# Qs 12\n",
    "# \n",
    "# and lower case letters.\n",
    "# Suppose the following input is supplied to the program:\n",
    "# Hello world!\n",
    "# Then, the output should be:\n",
    "# UPPER CASE 1\n",
    "# LOWER CASE 9\n",
    "\n",
    "line_str = input()\n",
    "\n",
    "result_dict = {\"UPPER CASE\":0, \"LOWER CASE\":0}\n",
    "\n",
    "for char in line_str:\n",
    "    if char.isupper():\n",
    "        result_dict[\"UPPER CASE\"]+=1\n",
    "    elif char.islower():\n",
    "        result_dict[\"LOWER CASE\"]+=1\n",
    "    else:\n",
    "        pass\n",
    "    \n",
    "print (\"UPPER CASE\", result_dict[\"UPPER CASE\"])\n",
    "print (\"LOWER CASE\", result_dict[\"LOWER CASE\"])"
   ]
  },
  {
   "cell_type": "code",
   "execution_count": 17,
   "id": "aebeb454-7827-40e4-ac79-6a4288c5b23a",
   "metadata": {},
   "outputs": [
    {
     "name": "stdout",
     "output_type": "stream",
     "text": [
      "The sum of 1 and 6 is 7.0\n",
      "7.0\n",
      "the sum is  7.0\n"
     ]
    }
   ],
   "source": [
    "# This program adds two numbers\n",
    "\n",
    "num1 = 1\n",
    "num2 = 6\n",
    "\n",
    "# Add two numbers\n",
    "sum = float(num1) + float(num2)\n",
    "\n",
    "# Display the sum\n",
    "print('The sum of {} and {} is {}'.format(num1, num2, sum))\n",
    "print(sum)\n",
    "print(\"the sum is \", sum)"
   ]
  },
  {
   "cell_type": "code",
   "execution_count": 19,
   "id": "10dece67-cd40-4ba2-b778-d31ff422dcbe",
   "metadata": {},
   "outputs": [
    {
     "name": "stdin",
     "output_type": "stream",
     "text": [
      "Enter first number:  5\n",
      "Enter second number:  67\n"
     ]
    },
    {
     "name": "stdout",
     "output_type": "stream",
     "text": [
      "The sum of 5 and 67 is 72.0\n"
     ]
    }
   ],
   "source": [
    "# Store input numbers\n",
    "num1 = input('Enter first number: ')\n",
    "num2 = input('Enter second number: ')\n",
    "\n",
    "# Add two numbers\n",
    "sum = float(num1) + float(num2)\n",
    "\n",
    "# Display the sum\n",
    "print('The sum of {0} and {1} is {2}'.format(num1, num2, sum))"
   ]
  },
  {
   "cell_type": "code",
   "execution_count": 21,
   "id": "dbc194fc-35f9-4232-b9d9-dd3e882507a1",
   "metadata": {},
   "outputs": [
    {
     "name": "stdout",
     "output_type": "stream",
     "text": [
      "The largest number between 10 , 14 and 12 is 14\n"
     ]
    }
   ],
   "source": [
    "# Python program to find the largest number among the three input numbers\n",
    "# change the values of num1, num2 and num3\n",
    "# for a different result\n",
    "num1 = 10\n",
    "num2 = 14\n",
    "num3 = 12\n",
    "\n",
    "# uncomment following lines to take three numbers from user\n",
    "#num1 = float(input(\"Enter first number: \"))\n",
    "#num2 = float(input(\"Enter second number: \"))\n",
    "#num3 = float(input(\"Enter third number: \"))\n",
    "\n",
    "if (num1 >= num2) and (num1 >= num3):\n",
    "    largest = num1\n",
    "elif (num2 >= num1) and (num2 >= num3):\n",
    "    largest = num2\n",
    "else:\n",
    "    largest = num3\n",
    "\n",
    "     \n",
    "print(\"The largest number between\",num1,\",\",num2,\"and\",num3,\"is\",largest)"
   ]
  },
  {
   "cell_type": "code",
   "execution_count": 23,
   "id": "4b7596b3-e3fb-4133-ab8b-525084cca7f7",
   "metadata": {},
   "outputs": [
    {
     "name": "stdin",
     "output_type": "stream",
     "text": [
      "Enter a number:  7\n"
     ]
    },
    {
     "name": "stdout",
     "output_type": "stream",
     "text": [
      "The factorial of 7 is 5040\n"
     ]
    }
   ],
   "source": [
    "# Python program to find the factorial of a number provided by the user.\n",
    "# uncomment to take input from the user\n",
    "num = int(input(\"Enter a number: \"))\n",
    "\n",
    "factorial = 1\n",
    "\n",
    "# check if the number is negative, positive or zero\n",
    "if num < 0:\n",
    "    print(\"Sorry, factorial does not exist for negative numbers\")\n",
    "elif num == 0:\n",
    "    print(\"The factorial of 0 is 1\")\n",
    "else:\n",
    "    for i in range(1, num + 1):\n",
    "        factorial = factorial * i\n",
    "        \n",
    "    print(\"The factorial of\",num,\"is\",factorial)"
   ]
  },
  {
   "cell_type": "markdown",
   "id": "bc0d6bee-b373-4c97-8c8b-8152446030af",
   "metadata": {},
   "source": [
    "## Transpose of a matrix"
   ]
  },
  {
   "cell_type": "code",
   "execution_count": 30,
   "id": "4b6189fd-4f96-43de-97d8-ad4bb9e8e070",
   "metadata": {},
   "outputs": [],
   "source": [
    "def transpose(A): \n",
    "    \n",
    "    B = []\n",
    "  \n",
    "    # iterate over list A to the length of an item  \n",
    "    for i in range(len(A[0])): \n",
    "        \n",
    "        row =[] \n",
    "        for item in A: \n",
    "            \n",
    "            # appending to new list with values and index positions \n",
    "            # i contains index position and item contains values \n",
    "            row.append(item[i]) \n",
    "            \n",
    "        B.append(row) \n",
    "        \n",
    "    return B "
   ]
  },
  {
   "cell_type": "code",
   "execution_count": 32,
   "id": "d479b042-38d0-4bf8-833f-c41a43bf8058",
   "metadata": {},
   "outputs": [
    {
     "data": {
      "text/plain": [
       "[[4, 5, 3, 9], [7, 1, 8, 2], [5, 6, 4, 7]]"
      ]
     },
     "execution_count": 32,
     "metadata": {},
     "output_type": "execute_result"
    }
   ],
   "source": [
    "A = [[4, 5, 3, 9], [7, 1, 8, 2], [5, 6, 4, 7]] \n",
    "A"
   ]
  },
  {
   "cell_type": "code",
   "execution_count": 34,
   "id": "3e1e0460-4cc8-46a3-be94-ee02eb62a584",
   "metadata": {},
   "outputs": [
    {
     "data": {
      "text/plain": [
       "[[4, 7, 5], [5, 1, 6], [3, 8, 4], [9, 2, 7]]"
      ]
     },
     "execution_count": 34,
     "metadata": {},
     "output_type": "execute_result"
    }
   ],
   "source": [
    "transpose(A)"
   ]
  },
  {
   "cell_type": "code",
   "execution_count": null,
   "id": "06df193b-e5a6-4ced-b6d2-762daabc8f58",
   "metadata": {},
   "outputs": [],
   "source": []
  }
 ],
 "metadata": {
  "kernelspec": {
   "display_name": "Python 3 (ipykernel)",
   "language": "python",
   "name": "python3"
  },
  "language_info": {
   "codemirror_mode": {
    "name": "ipython",
    "version": 3
   },
   "file_extension": ".py",
   "mimetype": "text/x-python",
   "name": "python",
   "nbconvert_exporter": "python",
   "pygments_lexer": "ipython3",
   "version": "3.12.4"
  }
 },
 "nbformat": 4,
 "nbformat_minor": 5
}
