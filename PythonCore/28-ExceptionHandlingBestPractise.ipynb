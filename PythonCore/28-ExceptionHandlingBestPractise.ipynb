{
 "cells": [
  {
   "cell_type": "markdown",
   "id": "56d8fc4e-ec71-4a4f-a312-cf68cc19d93c",
   "metadata": {},
   "source": [
    "**Specific Exception Handling:**\n",
    "\n",
    "Catch specific exceptions rather than using a generic except clause. This helps you handle specific error scenarios and avoids catching and hiding unexpected exceptions."
   ]
  },
  {
   "cell_type": "code",
   "execution_count": 2,
   "id": "5f7a7a7d-49b2-4029-993e-9fa104302192",
   "metadata": {},
   "outputs": [],
   "source": [
    "try:\n",
    "    # Some code that may raise specific exceptions\n",
    "    result = my_function()\n",
    "except ValueError as ve:\n",
    "    pass\n",
    "except KeyError as ke:\n",
    "    pass\n",
    "except Exception as e:\n",
    "    pass"
   ]
  },
  {
   "cell_type": "markdown",
   "id": "49b01591-79dd-469f-996e-ca657c1f586a",
   "metadata": {},
   "source": [
    "**Keep Exception Blocks Small:**\n",
    "\n",
    "- Avoid placing too much code inside the try block. Only include the code that might raise an exception. Keeping the block small helps narrow down the scope of the exception and makes debugging easier.\n",
    "Avoid Bare except:\n",
    "\n",
    "**Avoid using bare except:**\n",
    "- clauses as they catch all exceptions, including system exit events and keyboard interrupts, which can hide critical issues.\n",
    "\n",
    "**Use finally Block:**\n",
    "\n",
    "- Use the finally block to include code that should be executed regardless of whether an exception occurs or not. It is commonly used to perform cleanup actions."
   ]
  },
  {
   "cell_type": "markdown",
   "id": "f103aab1-3bbf-4b1c-8be0-d064903073bc",
   "metadata": {},
   "source": [
    "try:\n",
    "    # Some code that may raise exceptions\n",
    "except SomeException as se:\n",
    "    # Handle SomeException\n",
    "finally:\n",
    "    # Code that runs regardless of whether there was an exception or not"
   ]
  },
  {
   "cell_type": "code",
   "execution_count": 23,
   "id": "39ace76e-e4b1-41a3-9255-88f468d14862",
   "metadata": {},
   "outputs": [
    {
     "ename": "IndentationError",
     "evalue": "expected an indented block after 'try' statement on line 1 (3399141002.py, line 3)",
     "output_type": "error",
     "traceback": [
      "\u001b[0;36m  Cell \u001b[0;32mIn[23], line 3\u001b[0;36m\u001b[0m\n\u001b[0;31m    except SomeException as se:\u001b[0m\n\u001b[0m    ^\u001b[0m\n\u001b[0;31mIndentationError\u001b[0m\u001b[0;31m:\u001b[0m expected an indented block after 'try' statement on line 1\n"
     ]
    }
   ],
   "source": [
    "try:\n",
    "    # Some code that may raise exceptions\n",
    "except SomeException as se:\n",
    "    # Handle SomeException\n",
    "finally:\n",
    "    # Code that runs regardless of whether there was an exception or not"
   ]
  },
  {
   "cell_type": "markdown",
   "id": "de65bf75-3ff6-4766-8757-ae3ef9fbf2a9",
   "metadata": {},
   "source": [
    "**Raising Exceptions:**\n",
    "\n",
    "When appropriate, raise custom exceptions using the raise statement. This makes it clear what error conditions your code is handling."
   ]
  },
  {
   "cell_type": "code",
   "execution_count": 26,
   "id": "3d99e827-9a57-4e75-b47b-57c1762b8e56",
   "metadata": {},
   "outputs": [],
   "source": [
    "def divide(a, b):\n",
    "    if b == 0:\n",
    "        raise ValueError(\"Division by zero is not allowed.\")\n",
    "    return a / b"
   ]
  },
  {
   "cell_type": "markdown",
   "id": "5faf73af-98df-4927-95ec-e13c30b75887",
   "metadata": {},
   "source": [
    "**Logging:**\n",
    "\n",
    "Use Python's logging module to log exceptions and errors. Proper logging helps in debugging and monitoring the behavior of your application."
   ]
  },
  {
   "cell_type": "markdown",
   "id": "9f0ab1ea-881f-4b60-8451-209fa501131c",
   "metadata": {},
   "source": [
    "**Use Assertions:**\n",
    "\n",
    "Use assert statements for internal checks that help you catch and debug logical errors during development."
   ]
  },
  {
   "cell_type": "code",
   "execution_count": 30,
   "id": "18584a1b-03f7-4dd4-b95b-9ceda63e0b24",
   "metadata": {},
   "outputs": [],
   "source": [
    "def divide(a, b):\n",
    "    assert b != 0, \"Division by zero is not allowed.\"\n",
    "    return a / b"
   ]
  },
  {
   "cell_type": "markdown",
   "id": "a1c10c80-303e-4252-ae73-8c995a10ad3c",
   "metadata": {},
   "source": [
    "**Context Managers (with statement):**\n",
    "\n",
    "Utilize context managers (with statement) when dealing with resources like files, to ensure proper resource cleanup even in case of exceptions."
   ]
  },
  {
   "cell_type": "code",
   "execution_count": 33,
   "id": "58572fc3-f65f-486f-86f0-ef0d8067b822",
   "metadata": {},
   "outputs": [
    {
     "ename": "SyntaxError",
     "evalue": "incomplete input (529565646.py, line 2)",
     "output_type": "error",
     "traceback": [
      "\u001b[0;36m  Cell \u001b[0;32mIn[33], line 2\u001b[0;36m\u001b[0m\n\u001b[0;31m    # Code to read from the file\u001b[0m\n\u001b[0m                                ^\u001b[0m\n\u001b[0;31mSyntaxError\u001b[0m\u001b[0;31m:\u001b[0m incomplete input\n"
     ]
    }
   ],
   "source": [
    "with open(\"file.txt\", \"r\") as file:\n",
    "    # Code to read from the file\n"
   ]
  },
  {
   "cell_type": "code",
   "execution_count": null,
   "id": "29f3ba47-95fd-4606-a80d-163178a23a1c",
   "metadata": {},
   "outputs": [],
   "source": []
  }
 ],
 "metadata": {
  "kernelspec": {
   "display_name": "Python 3 (ipykernel)",
   "language": "python",
   "name": "python3"
  },
  "language_info": {
   "codemirror_mode": {
    "name": "ipython",
    "version": 3
   },
   "file_extension": ".py",
   "mimetype": "text/x-python",
   "name": "python",
   "nbconvert_exporter": "python",
   "pygments_lexer": "ipython3",
   "version": "3.12.4"
  }
 },
 "nbformat": 4,
 "nbformat_minor": 5
}
