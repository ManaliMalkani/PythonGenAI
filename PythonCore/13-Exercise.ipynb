{
 "cells": [
  {
   "cell_type": "markdown",
   "id": "7c3bf6e9-83d6-4a92-8ddf-e133ba0cf949",
   "metadata": {},
   "source": [
    "**Exercise 01**\n",
    "\n",
    "- find the top n items which highest values in a dictionary"
   ]
  },
  {
   "cell_type": "code",
   "execution_count": 2,
   "id": "d385537c-a2f8-48ef-9fd6-b06d9ce16d9b",
   "metadata": {},
   "outputs": [],
   "source": [
    "data = {'python' : 1000, 'c' : 9898, 'js': 100001, 'mysql': 109383}"
   ]
  },
  {
   "cell_type": "code",
   "execution_count": 4,
   "id": "55a7334f-4510-4824-8669-6f0a680bd825",
   "metadata": {},
   "outputs": [
    {
     "data": {
      "text/plain": [
       "dict_items([('python', 1000), ('c', 9898), ('js', 100001), ('mysql', 109383)])"
      ]
     },
     "execution_count": 4,
     "metadata": {},
     "output_type": "execute_result"
    }
   ],
   "source": [
    "data.items()"
   ]
  },
  {
   "cell_type": "code",
   "execution_count": 6,
   "id": "c3f0c75a-0bc1-40e5-a9d1-4f0e814efff2",
   "metadata": {},
   "outputs": [],
   "source": [
    "n = 2"
   ]
  },
  {
   "cell_type": "code",
   "execution_count": 8,
   "id": "d601510d-1d45-4ce4-a094-1201990bc6c2",
   "metadata": {},
   "outputs": [
    {
     "data": {
      "text/plain": [
       "{'python': 1000, 'c': 9898, 'js': 100001, 'mysql': 109383}"
      ]
     },
     "execution_count": 8,
     "metadata": {},
     "output_type": "execute_result"
    }
   ],
   "source": [
    "data"
   ]
  },
  {
   "cell_type": "code",
   "execution_count": 12,
   "id": "2b5b55eb-a111-46cd-8cfd-16fc069dbb17",
   "metadata": {},
   "outputs": [
    {
     "data": {
      "text/plain": [
       "['c', 'js', 'mysql', 'python']"
      ]
     },
     "execution_count": 12,
     "metadata": {},
     "output_type": "execute_result"
    }
   ],
   "source": [
    "sorted(data)"
   ]
  },
  {
   "cell_type": "code",
   "execution_count": 14,
   "id": "90e02ee7-6ccf-4f9b-b213-e9e8e679e393",
   "metadata": {},
   "outputs": [
    {
     "data": {
      "text/plain": [
       "[('mysql', 109383), ('js', 100001), ('c', 9898), ('python', 1000)]"
      ]
     },
     "execution_count": 14,
     "metadata": {},
     "output_type": "execute_result"
    }
   ],
   "source": [
    "sorted(data.items(),reverse = True, key = lambda item: item[1])"
   ]
  },
  {
   "cell_type": "code",
   "execution_count": 16,
   "id": "6e5af6a6-87de-432d-b376-e5203fee8aae",
   "metadata": {},
   "outputs": [
    {
     "data": {
      "text/plain": [
       "[('mysql', 109383), ('js', 100001)]"
      ]
     },
     "execution_count": 16,
     "metadata": {},
     "output_type": "execute_result"
    }
   ],
   "source": [
    "sorted(data.items(), reverse=True, key= lambda item: item[1])[:n]"
   ]
  },
  {
   "cell_type": "markdown",
   "id": "68d9b2f8-812a-4345-be50-73aa1bf2ad10",
   "metadata": {},
   "source": [
    "**Exercise 02**\n",
    "\n",
    "- check if the keys exist in a given dictionary"
   ]
  },
  {
   "cell_type": "code",
   "execution_count": 19,
   "id": "9bd16efd-acaa-4b70-afc6-c82f8867b3e7",
   "metadata": {},
   "outputs": [],
   "source": [
    "keys_to_check = ['python', 'C']"
   ]
  },
  {
   "cell_type": "code",
   "execution_count": 21,
   "id": "be0c61c6-a615-4822-b274-92b07976815d",
   "metadata": {},
   "outputs": [],
   "source": [
    "data = {'python' : 1000, 'c' : 9898, 'js': 100001, 'mysql': 109383}"
   ]
  },
  {
   "cell_type": "code",
   "execution_count": 23,
   "id": "23b00bab-811d-4df9-90e9-9388b502c01c",
   "metadata": {},
   "outputs": [
    {
     "data": {
      "text/plain": [
       "dict_keys(['python', 'c', 'js', 'mysql'])"
      ]
     },
     "execution_count": 23,
     "metadata": {},
     "output_type": "execute_result"
    }
   ],
   "source": [
    "data.keys()"
   ]
  },
  {
   "cell_type": "code",
   "execution_count": 48,
   "id": "9c60e84f-d894-494e-9aff-dba263ce1546",
   "metadata": {},
   "outputs": [
    {
     "name": "stdout",
     "output_type": "stream",
     "text": [
      "{'python': 1000, 'c': 9898, 'js': 100001, 'mysql': 109383}\n",
      "'python' exists in the dictionary.\n",
      "'C' exists in the dictionary.\n"
     ]
    }
   ],
   "source": [
    "keys_to_check = ['python', 'C']\n",
    "data = {'python': 1000, 'c': 9898, 'js': 100001, 'mysql': 109383}\n",
    "\n",
    "# Convert dictionary keys to lowercase for case-insensitive comparison\n",
    "data_lower = {k.lower(): v for k, v in data.items()}\n",
    "print(data_lower)\n",
    "\n",
    "for key in keys_to_check:\n",
    "    if key.lower() in data_lower:\n",
    "        print(f\"'{key}' exists in the dictionary.\")\n",
    "    else:\n",
    "        print(f\"'{key}' does not exist in the dictionary.\")"
   ]
  },
  {
   "cell_type": "code",
   "execution_count": null,
   "id": "f8f659c9-ae75-4e92-8f12-21c5c1354239",
   "metadata": {},
   "outputs": [],
   "source": []
  },
  {
   "cell_type": "code",
   "execution_count": null,
   "id": "41ef3577-c833-4de9-a82e-9feef1a326f5",
   "metadata": {},
   "outputs": [],
   "source": []
  }
 ],
 "metadata": {
  "kernelspec": {
   "display_name": "Python 3 (ipykernel)",
   "language": "python",
   "name": "python3"
  },
  "language_info": {
   "codemirror_mode": {
    "name": "ipython",
    "version": 3
   },
   "file_extension": ".py",
   "mimetype": "text/x-python",
   "name": "python",
   "nbconvert_exporter": "python",
   "pygments_lexer": "ipython3",
   "version": "3.12.4"
  }
 },
 "nbformat": 4,
 "nbformat_minor": 5
}
