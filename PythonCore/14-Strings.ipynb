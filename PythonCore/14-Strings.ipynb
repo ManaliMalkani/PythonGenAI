{
 "cells": [
  {
   "cell_type": "code",
   "execution_count": 1,
   "id": "2dc56a97-6b11-4bfc-9136-644a922f3aa9",
   "metadata": {},
   "outputs": [
    {
     "name": "stdout",
     "output_type": "stream",
     "text": [
      "Hello1\n",
      "Hello2\n",
      "Hello3\n",
      "Hello4, welcome to\n",
      "           the world of Python\n"
     ]
    }
   ],
   "source": [
    "# all of the following are equivalent\n",
    "my_string = 'Hello1'\n",
    "print(my_string)\n",
    "\n",
    "my_string = \"Hello2\"\n",
    "print(my_string)\n",
    "\n",
    "my_string = '''Hello3'''\n",
    "print(my_string)\n",
    "\n",
    "# triple quotes string can extend multiple lines\n",
    "my_string = \"\"\"Hello4, welcome to\n",
    "           the world of Python\"\"\"\n",
    "print(my_string)"
   ]
  },
  {
   "cell_type": "code",
   "execution_count": 3,
   "id": "a81899b8-a418-4f75-82f9-c7f663d80b0c",
   "metadata": {},
   "outputs": [],
   "source": [
    "str = ' data science class has started ... seems like confusing'"
   ]
  },
  {
   "cell_type": "code",
   "execution_count": 5,
   "id": "ec168cd0-302c-4a4d-a20a-1f13968c30e4",
   "metadata": {},
   "outputs": [
    {
     "data": {
      "text/plain": [
       "'l'"
      ]
     },
     "execution_count": 5,
     "metadata": {},
     "output_type": "execute_result"
    }
   ],
   "source": [
    "str[15]"
   ]
  },
  {
   "cell_type": "code",
   "execution_count": 7,
   "id": "8266d7e8-797e-4929-9b44-62decdc70cbc",
   "metadata": {},
   "outputs": [
    {
     "data": {
      "text/plain": [
       "56"
      ]
     },
     "execution_count": 7,
     "metadata": {},
     "output_type": "execute_result"
    }
   ],
   "source": [
    "len(str)"
   ]
  },
  {
   "cell_type": "code",
   "execution_count": 9,
   "id": "af5ee4fd-c244-4942-8df7-9fc7a9d8bef3",
   "metadata": {},
   "outputs": [
    {
     "ename": "IndexError",
     "evalue": "string index out of range",
     "output_type": "error",
     "traceback": [
      "\u001b[0;31m---------------------------------------------------------------------------\u001b[0m",
      "\u001b[0;31mIndexError\u001b[0m                                Traceback (most recent call last)",
      "Cell \u001b[0;32mIn[9], line 3\u001b[0m\n\u001b[1;32m      1\u001b[0m \u001b[38;5;66;03m# access characters in a string\u001b[39;00m\n\u001b[1;32m      2\u001b[0m \u001b[38;5;66;03m# index must be in range\u001b[39;00m\n\u001b[0;32m----> 3\u001b[0m my_string[\u001b[38;5;241m150\u001b[39m]\n",
      "\u001b[0;31mIndexError\u001b[0m: string index out of range"
     ]
    }
   ],
   "source": [
    "# access characters in a string\n",
    "# index must be in range\n",
    "my_string[150]  "
   ]
  },
  {
   "cell_type": "code",
   "execution_count": 11,
   "id": "f5710abe-cb2f-4f74-a26c-5da0ef8e437f",
   "metadata": {},
   "outputs": [
    {
     "ename": "TypeError",
     "evalue": "string indices must be integers, not 'float'",
     "output_type": "error",
     "traceback": [
      "\u001b[0;31m---------------------------------------------------------------------------\u001b[0m",
      "\u001b[0;31mTypeError\u001b[0m                                 Traceback (most recent call last)",
      "Cell \u001b[0;32mIn[11], line 2\u001b[0m\n\u001b[1;32m      1\u001b[0m \u001b[38;5;66;03m# index must be an integer\u001b[39;00m\n\u001b[0;32m----> 2\u001b[0m my_string[\u001b[38;5;241m1.5\u001b[39m]\n",
      "\u001b[0;31mTypeError\u001b[0m: string indices must be integers, not 'float'"
     ]
    }
   ],
   "source": [
    "# index must be an integer\n",
    "my_string[1.5] "
   ]
  },
  {
   "cell_type": "code",
   "execution_count": 13,
   "id": "6d6dc7e4-96d4-4b1c-81b9-47f5fb24f2ce",
   "metadata": {},
   "outputs": [],
   "source": [
    "# change or delete a string\n",
    "# Strings are immutable. This means that elements of a string cannot be \n",
    "# changed once it has been assigned."
   ]
  },
  {
   "cell_type": "code",
   "execution_count": 15,
   "id": "147ad9e0-f5e5-4ada-b3db-5c1149824e43",
   "metadata": {},
   "outputs": [
    {
     "ename": "TypeError",
     "evalue": "'str' object does not support item assignment",
     "output_type": "error",
     "traceback": [
      "\u001b[0;31m---------------------------------------------------------------------------\u001b[0m",
      "\u001b[0;31mTypeError\u001b[0m                                 Traceback (most recent call last)",
      "Cell \u001b[0;32mIn[15], line 2\u001b[0m\n\u001b[1;32m      1\u001b[0m my_string \u001b[38;5;241m=\u001b[39m \u001b[38;5;124m'\u001b[39m\u001b[38;5;124mprogramiz\u001b[39m\u001b[38;5;124m'\u001b[39m\n\u001b[0;32m----> 2\u001b[0m my_string[\u001b[38;5;241m5\u001b[39m] \u001b[38;5;241m=\u001b[39m \u001b[38;5;124m'\u001b[39m\u001b[38;5;124mR\u001b[39m\u001b[38;5;124m'\u001b[39m\n",
      "\u001b[0;31mTypeError\u001b[0m: 'str' object does not support item assignment"
     ]
    }
   ],
   "source": [
    "my_string = 'programiz'\n",
    "my_string[5] = 'R'"
   ]
  },
  {
   "cell_type": "code",
   "execution_count": 17,
   "id": "0b99440c-efca-4111-8c9f-24e6970223d6",
   "metadata": {},
   "outputs": [
    {
     "data": {
      "text/plain": [
       "'a'"
      ]
     },
     "execution_count": 17,
     "metadata": {},
     "output_type": "execute_result"
    }
   ],
   "source": [
    "my_string[5]"
   ]
  },
  {
   "cell_type": "code",
   "execution_count": 19,
   "id": "15f2c227-5100-4b49-9862-d6ea88e83522",
   "metadata": {},
   "outputs": [],
   "source": [
    "my_string = 'Python'"
   ]
  },
  {
   "cell_type": "code",
   "execution_count": 21,
   "id": "ec416c6a-62f3-44b8-b53f-a4dc97fdccc4",
   "metadata": {},
   "outputs": [],
   "source": [
    "del my_string"
   ]
  },
  {
   "cell_type": "code",
   "execution_count": 23,
   "id": "dc9416f9-366d-46b6-9dce-419eeee7671e",
   "metadata": {},
   "outputs": [
    {
     "name": "stdout",
     "output_type": "stream",
     "text": [
      "str1 + str2 =  Hello World !\n",
      "str1 * 3 = Hello Hello Hello \n"
     ]
    }
   ],
   "source": [
    "# concatenation\n",
    "str1 = 'Hello '\n",
    "str2 ='World !'\n",
    "\n",
    "# using +\n",
    "print('str1 + str2 = ', str1 + str2)\n",
    "\n",
    "# using *\n",
    "print('str1 * 3 =', str1 * 3)"
   ]
  },
  {
   "cell_type": "code",
   "execution_count": 25,
   "id": "92a71b37-deae-4d08-a173-bb0ccb29e763",
   "metadata": {},
   "outputs": [
    {
     "name": "stdout",
     "output_type": "stream",
     "text": [
      "21 letters found\n"
     ]
    }
   ],
   "source": [
    "# iterating\n",
    "count = 0\n",
    "for letter in 'Hello World how r you':\n",
    "    count += 1 \n",
    "    #count = count + 1\n",
    "    \n",
    "print(count,'letters found')"
   ]
  },
  {
   "cell_type": "code",
   "execution_count": 27,
   "id": "bfcad320-1818-4b48-a381-3c6ee00f74c6",
   "metadata": {},
   "outputs": [
    {
     "data": {
      "text/plain": [
       "False"
      ]
     },
     "execution_count": 27,
     "metadata": {},
     "output_type": "execute_result"
    }
   ],
   "source": [
    "my_string = \" Hello How are you\"\n",
    "\n",
    "'cal' in my_string"
   ]
  },
  {
   "cell_type": "code",
   "execution_count": 29,
   "id": "c5721d8a-33e5-4774-a859-401eeaed4209",
   "metadata": {},
   "outputs": [
    {
     "data": {
      "text/plain": [
       "True"
      ]
     },
     "execution_count": 29,
     "metadata": {},
     "output_type": "execute_result"
    }
   ],
   "source": [
    "'Hello' in my_string"
   ]
  },
  {
   "cell_type": "code",
   "execution_count": 31,
   "id": "c10d438f-4c1d-43f7-a1f0-91a53eef5216",
   "metadata": {},
   "outputs": [],
   "source": [
    "i = 0\n",
    "i = i + 1"
   ]
  },
  {
   "cell_type": "code",
   "execution_count": 33,
   "id": "c4335458-9bc4-4c63-ad48-f2ddc823cbed",
   "metadata": {},
   "outputs": [],
   "source": [
    "i += 10\n",
    "i = i + 10"
   ]
  },
  {
   "cell_type": "code",
   "execution_count": 35,
   "id": "9b1c4725-4585-436c-80e9-2c61d09dca72",
   "metadata": {},
   "outputs": [
    {
     "data": {
      "text/plain": [
       "21"
      ]
     },
     "execution_count": 35,
     "metadata": {},
     "output_type": "execute_result"
    }
   ],
   "source": [
    "i"
   ]
  },
  {
   "cell_type": "code",
   "execution_count": 37,
   "id": "254273c2-4a2b-403d-b5a7-18b396a1968d",
   "metadata": {},
   "outputs": [
    {
     "ename": "SyntaxError",
     "evalue": "unterminated string literal (detected at line 2) (85761507.py, line 2)",
     "output_type": "error",
     "traceback": [
      "\u001b[0;36m  Cell \u001b[0;32mIn[37], line 2\u001b[0;36m\u001b[0m\n\u001b[0;31m    print(\"He said, \"What's there?\"\")\u001b[0m\n\u001b[0m                         ^\u001b[0m\n\u001b[0;31mSyntaxError\u001b[0m\u001b[0;31m:\u001b[0m unterminated string literal (detected at line 2)\n"
     ]
    }
   ],
   "source": [
    "# Python String Formatting\n",
    "print(\"He said, \"What's there?\"\")"
   ]
  },
  {
   "cell_type": "code",
   "execution_count": 39,
   "id": "941d76c4-bfe6-4f4c-93f3-03fab0affd2d",
   "metadata": {},
   "outputs": [],
   "source": [
    "# OBJECT\n",
    "# ADT\n",
    "# CONTAINER\n",
    "# SEQUENCE\n",
    "\n",
    "# {data store} + {operational capabilities}"
   ]
  },
  {
   "cell_type": "code",
   "execution_count": 41,
   "id": "ddcf47ae-3eba-4fab-a2bd-ed61145e7dd0",
   "metadata": {},
   "outputs": [],
   "source": [
    "str1 = \"Bangalore is very hot with temp = {}, humidity = {}\""
   ]
  },
  {
   "cell_type": "code",
   "execution_count": 43,
   "id": "1c05dbdd-b29d-4b6d-b2b3-a1d89237c5f7",
   "metadata": {},
   "outputs": [
    {
     "name": "stdout",
     "output_type": "stream",
     "text": [
      "Today is very hot 100, yesterday was nice 90\n"
     ]
    }
   ],
   "source": [
    "print('Today is very hot {}, yesterday was nice {}'.format(100, 90))"
   ]
  },
  {
   "cell_type": "code",
   "execution_count": 45,
   "id": "c28cadbe-f7a3-4f0d-8ebe-75b06fb0ee53",
   "metadata": {},
   "outputs": [
    {
     "name": "stdout",
     "output_type": "stream",
     "text": [
      "Bangalore is very hot with temp = 41, humidity = 84\n"
     ]
    }
   ],
   "source": [
    "print(\"Bangalore is very hot with temp = {}, humidity = {}\".format(41, 84) )"
   ]
  },
  {
   "cell_type": "code",
   "execution_count": 47,
   "id": "1e06cb9f-1e6f-451e-971b-93e25c4c0d03",
   "metadata": {},
   "outputs": [
    {
     "name": "stdout",
     "output_type": "stream",
     "text": [
      "Data science John Bill Sean\n",
      "Data science Sean John Bill\n",
      "Data science Sean Bill John\n"
     ]
    }
   ],
   "source": [
    "print(\"Data science {} {} {}\".format('John','Bill','Sean'))\n",
    "print(\"Data science {2} {0} {1}\".format('John','Bill','Sean'))\n",
    "\n",
    "print(\"Data science {ff} {gg} {kk}\".format(kk='John',gg='Bill',ff='Sean'))"
   ]
  },
  {
   "cell_type": "code",
   "execution_count": 49,
   "id": "c96f6606-0157-4013-96b8-6894b208c0d2",
   "metadata": {},
   "outputs": [
    {
     "name": "stdout",
     "output_type": "stream",
     "text": [
      "KKKKKKKKKKK Data Science ML DL\n"
     ]
    }
   ],
   "source": [
    "print(\"KKKKKKKKKKK {} {} {}\".format('Data Science', 'ML', 'DL'))"
   ]
  },
  {
   "cell_type": "code",
   "execution_count": 51,
   "id": "fc5fc250-a33f-47d7-be41-c19687c101b6",
   "metadata": {},
   "outputs": [
    {
     "name": "stdout",
     "output_type": "stream",
     "text": [
      "Two float numbers : 17699999996.7677 & 2244444444440.567\n",
      "Two float numbers : 17699999996.77 & 2244444444440.57\n",
      "Two float numbers : 17699999996.77 & 2244444444440.57\n"
     ]
    }
   ],
   "source": [
    "# float formatting\n",
    "\n",
    "a = 17699999996.7677\n",
    "b = 2244444444440.5666666\n",
    "print(\"Two float numbers : {} & {}\".format(a, b))\n",
    "print(\"Two float numbers : {:8.2f} & {:.2f}\".format(a, b))\n",
    "print(\"Two float numbers : {:.2f} & {:10.2f}\".format(a, b))"
   ]
  },
  {
   "cell_type": "code",
   "execution_count": 71,
   "id": "b2494612-372f-4fe6-8d67-24ba0dd924ee",
   "metadata": {},
   "outputs": [
    {
     "name": "stdout",
     "output_type": "stream",
     "text": [
      "Hello,                           John !\n"
     ]
    }
   ],
   "source": [
    "name = \"John\"\n",
    "print(\"Hello, %30s !\" % name)"
   ]
  },
  {
   "cell_type": "code",
   "execution_count": 55,
   "id": "97e32dad-b1c8-4ef9-a472-f3316e3608bf",
   "metadata": {},
   "outputs": [
    {
     "name": "stdout",
     "output_type": "stream",
     "text": [
      "Hello, Rajendra Singh\n"
     ]
    }
   ],
   "source": [
    "name = \"Rajendra Singh\"\n",
    "print(\"Hello, {}\".format( name))"
   ]
  },
  {
   "cell_type": "code",
   "execution_count": 79,
   "id": "31fb4d15-41ac-40cd-b14d-f8b57ca224c7",
   "metadata": {},
   "outputs": [
    {
     "name": "stdout",
     "output_type": "stream",
     "text": [
      "Hello, Rajendra Singh\n"
     ]
    }
   ],
   "source": [
    "name = \"Rajendra Singh\"\n",
    "print(\"Hello, {0}\".format(name))"
   ]
  },
  {
   "cell_type": "code",
   "execution_count": 93,
   "id": "6f4f6bca-c5a0-4639-beae-ffce71bb6384",
   "metadata": {},
   "outputs": [
    {
     "name": "stdout",
     "output_type": "stream",
     "text": [
      "Hello, Rajendra SinghJi\n"
     ]
    }
   ],
   "source": [
    "name = \"Rajendra Singh\"\n",
    "age = 10\n",
    "descp = 'DBA'\n",
    "\n",
    "print(\"Hello, {0:2}Ji\".format(name, age, descp))"
   ]
  },
  {
   "cell_type": "code",
   "execution_count": 96,
   "id": "a352d76c-2e8d-4858-ab92-103585b95c74",
   "metadata": {},
   "outputs": [
    {
     "name": "stdout",
     "output_type": "stream",
     "text": [
      "John is 23 years old.\n"
     ]
    }
   ],
   "source": [
    "name = \"John\"\n",
    "age = 23\n",
    "print(\"%s is %d years old.\" % (name, age))"
   ]
  },
  {
   "cell_type": "code",
   "execution_count": 98,
   "id": "b0df7893-baa8-41c9-b728-286e51a52702",
   "metadata": {},
   "outputs": [
    {
     "name": "stdout",
     "output_type": "stream",
     "text": [
      "A list: [1, 2, 3]\n"
     ]
    }
   ],
   "source": [
    "# This prints out: A list: [1, 2, 3]\n",
    "mylist = [1,2,3]\n",
    "print(\"A list: %s\" % mylist)"
   ]
  },
  {
   "cell_type": "code",
   "execution_count": 100,
   "id": "e4f58c3b-7998-4feb-a20b-fb4346c7f304",
   "metadata": {},
   "outputs": [
    {
     "name": "stdout",
     "output_type": "stream",
     "text": [
      "Hello John Doe. Your current balance is $53.44.\n"
     ]
    }
   ],
   "source": [
    "data = (\"John\", \"Doe\", 53.44)\n",
    "format_string = \"Hello %s %s. Your current balance is $%s.\"\n",
    "\n",
    "print(format_string % data)"
   ]
  },
  {
   "cell_type": "code",
   "execution_count": 104,
   "id": "3e5f841b-9368-4c24-ba7b-c9e4366d816e",
   "metadata": {},
   "outputs": [
    {
     "name": "stdout",
     "output_type": "stream",
     "text": [
      "Hello Adam, your balance is 230.2346.\n",
      "Hello Adam, your balance is 230.2346.\n",
      "Hello Adam, your balance is 230.2346.\n",
      "Hello Adam, your balance is 230.2346.\n"
     ]
    }
   ],
   "source": [
    "# default arguments\n",
    "print(\"Hello {}, your balance is {}.\".format(\"Adam\", 230.2346))\n",
    "\n",
    "# positional arguments\n",
    "print(\"Hello {0}, your balance is {1}.\".format(\"Adam\", 230.2346))\n",
    "\n",
    "# keyword arguments\n",
    "print(\"Hello {name}, your balance is {blc}.\".format(blc=230.2346, name=\"Adam\"))\n",
    "\n",
    "# mixed arguments\n",
    "print(\"Hello {0}, your balance is {blc}.\".format(\"Adam\", blc=230.2346))"
   ]
  },
  {
   "cell_type": "code",
   "execution_count": 106,
   "id": "b8dde51c-fc47-42c7-ab6a-44469cf66429",
   "metadata": {},
   "outputs": [
    {
     "name": "stdout",
     "output_type": "stream",
     "text": [
      "   12\n",
      "  1234\n",
      "Hello the number is    12.23\n",
      "00012\n",
      "00012.23\n"
     ]
    }
   ],
   "source": [
    "# integer numbers with minimum width\n",
    "print(\"{:5d}\".format(12))\n",
    "\n",
    "# width doesn't work for numbers longer than padding\n",
    "print(\"{:6d}\".format(1234))\n",
    "\n",
    "# padding for float numbers\n",
    "print(\"Hello the number is {:8.2f}\".format(12.2346))\n",
    "\n",
    "# integer numbers with minimum width filled with zeros\n",
    "print(\"{:05d}\".format(12))\n",
    "\n",
    "# padding for float numbers filled with zeros\n",
    "print(\"{:08.2f}\".format(12.2346))"
   ]
  },
  {
   "cell_type": "code",
   "execution_count": 108,
   "id": "d4f62332-6a66-4e58-ac53-e6a03feef7e3",
   "metadata": {},
   "outputs": [
    {
     "name": "stdout",
     "output_type": "stream",
     "text": [
      "    +12.23     -12.23\n",
      "     12.23     -12.23\n",
      " 12.230000 -12.230000\n"
     ]
    }
   ],
   "source": [
    "# show the + sign\n",
    "print(\"{:+10.2f} {:+10.2f}\".format(12.23, -12.23))\n",
    "\n",
    "# show the - sign only\n",
    "print(\"{:-10.2f} 2.23, -12.{:-10.2f}\".format(123))\n",
    "\n",
    "# show space for + sign\n",
    "print(\"{: f} {: f}\".format(12.23, -12.23))"
   ]
  },
  {
   "cell_type": "code",
   "execution_count": 110,
   "id": "f1e50f46-541e-403d-a698-88b0872cddb7",
   "metadata": {},
   "outputs": [
    {
     "name": "stdout",
     "output_type": "stream",
     "text": [
      "cat  \n",
      "  cat\n",
      " cat \n",
      "**cat**\n"
     ]
    }
   ],
   "source": [
    "# string padding with left alignment\n",
    "print(\"{:5}\".format(\"cat\"))\n",
    "\n",
    "# string padding with right alignment\n",
    "print(\"{:>5}\".format(\"cat\"))\n",
    "\n",
    "# string padding with center alignment\n",
    "print(\"{:^5}\".format(\"cat\"))\n",
    "\n",
    "# string padding with center alignment\n",
    "# and '*' padding character\n",
    "print(\"{:*^7}\".format(\"cat\"))"
   ]
  },
  {
   "cell_type": "code",
   "execution_count": 112,
   "id": "719ad276-89cf-4652-a8f2-0e067bc0b113",
   "metadata": {},
   "outputs": [
    {
     "data": {
      "text/plain": [
       "'kfkfk'"
      ]
     },
     "execution_count": 112,
     "metadata": {},
     "output_type": "execute_result"
    }
   ],
   "source": [
    "s = 'kfkfkfffffffffffffffffff'\n",
    "s[:5]"
   ]
  },
  {
   "cell_type": "markdown",
   "id": "a47a81a7-6f57-422d-b2b0-257be5ff2928",
   "metadata": {},
   "source": [
    "#### Summarize"
   ]
  },
  {
   "cell_type": "code",
   "execution_count": 115,
   "id": "7f218341-4f00-47c5-8e5a-7ee26d9c4d60",
   "metadata": {},
   "outputs": [
    {
     "name": "stdout",
     "output_type": "stream",
     "text": [
      "John Doe\n"
     ]
    }
   ],
   "source": [
    "# Concatenation\n",
    "first_name = \"John\"\n",
    "last_name = \"Doe\"\n",
    "full_name = first_name + \" \" + last_name\n",
    "print(full_name)  # Output: \"John Doe\""
   ]
  },
  {
   "cell_type": "code",
   "execution_count": 117,
   "id": "5707d3c9-a5df-41e5-91e1-3dccf73bd307",
   "metadata": {},
   "outputs": [
    {
     "name": "stdout",
     "output_type": "stream",
     "text": [
      "Length of the message: 13\n"
     ]
    }
   ],
   "source": [
    "# String Length\n",
    "message = \"Hello, World!\"\n",
    "length = len(message)\n",
    "print(\"Length of the message:\", length)  # Output: 13"
   ]
  },
  {
   "cell_type": "code",
   "execution_count": 119,
   "id": "ed8548a7-8470-42dc-9845-512637d0a584",
   "metadata": {},
   "outputs": [
    {
     "name": "stdout",
     "output_type": "stream",
     "text": [
      "Length of the message: 13\n"
     ]
    }
   ],
   "source": [
    "# String Length\n",
    "message = \"Hello, World!\"\n",
    "length = len(message)\n",
    "print(\"Length of the message:\", length)  # Output: 13\n"
   ]
  },
  {
   "cell_type": "code",
   "execution_count": 121,
   "id": "6efb8fa7-8497-4e1d-854a-4144e7c8f69d",
   "metadata": {},
   "outputs": [
    {
     "name": "stdout",
     "output_type": "stream",
     "text": [
      "llo, \n"
     ]
    }
   ],
   "source": [
    "# String Slicing\n",
    "message = \"Hello, World!\"\n",
    "substring = message[2:7]\n",
    "print(substring)  # Output: \"llo, \""
   ]
  },
  {
   "cell_type": "code",
   "execution_count": 123,
   "id": "9745c94f-de2e-4576-b242-11ea19b46b32",
   "metadata": {},
   "outputs": [
    {
     "name": "stdout",
     "output_type": "stream",
     "text": [
      "HELLO, WORLD!\n",
      "hello, world!\n",
      "Hello, world!\n",
      "Hello, Python!\n",
      "Occurrences of 'l': 3\n",
      "True\n",
      "False\n"
     ]
    }
   ],
   "source": [
    "# String Methods\n",
    "message = \"Hello, World!\"\n",
    "\n",
    "# Convert to Uppercase\n",
    "print(message.upper())  # Output: \"HELLO, WORLD!\"\n",
    "\n",
    "# Convert to Lowercase\n",
    "print(message.lower())  # Output: \"hello, world!\"\n",
    "\n",
    "# Capitalize First Letter\n",
    "print(message.capitalize())  # Output: \"Hello, world!\"\n",
    "\n",
    "# Replace Substring\n",
    "new_message = message.replace(\"World\", \"Python\")\n",
    "print(new_message)  # Output: \"Hello, Python\"\n",
    "\n",
    "# Count Occurrences of a Substring\n",
    "count = message.count(\"l\")\n",
    "print(\"Occurrences of 'l':\", count)  # Output: 3\n",
    "\n",
    "# Check if the String Starts or Ends with a Substring\n",
    "print(message.startswith(\"Hello\"))  # Output: True\n",
    "print(message.endswith(\"World\"))    # Output: False"
   ]
  },
  {
   "cell_type": "code",
   "execution_count": 127,
   "id": "5f4f543e-b83c-4d69-9aed-2d4d83b33c0a",
   "metadata": {},
   "outputs": [
    {
     "name": "stdout",
     "output_type": "stream",
     "text": [
      "['Python', 'is', 'awesome!']\n",
      "Python-is-awesome!\n"
     ]
    }
   ],
   "source": [
    "# Splitting and Joining Strings\n",
    "sentence = \"Python is awesome!\"\n",
    "words = sentence.split()  # Splits the string into a list of words\n",
    "print(words)  # Output: [\"Python\", \"is\", \"awesome!\"]\n",
    "\n",
    "# Joining the Words into a String\n",
    "new_sentence = \"-\".join(words)\n",
    "print(new_sentence)  # Output: \"Python-is-awesome!\""
   ]
  },
  {
   "cell_type": "code",
   "execution_count": 129,
   "id": "3e51b3cd-1d91-4491-8af7-35ef2ad73403",
   "metadata": {},
   "outputs": [],
   "source": [
    "text = '''How to Split a String STOP into a List Using Regular STOP Expressions with the re Module\n",
    "The re module in Python provides a powerful way -to split strings based on regular \n",
    "expressions.'''"
   ]
  },
  {
   "cell_type": "code",
   "execution_count": 131,
   "id": "2b1d5b22-bca2-4a8e-88d1-01c90952af2f",
   "metadata": {},
   "outputs": [
    {
     "name": "stdout",
     "output_type": "stream",
     "text": [
      "['Python', 'is', 'awesome!']\n"
     ]
    }
   ],
   "source": [
    "sentence = \"Python is awesome!\"\n",
    "words = sentence.split()  # Splits the string into a list of words\n",
    "print(words)  # Output: [\"Python\", \"is\", \"awesome!\"]"
   ]
  },
  {
   "cell_type": "code",
   "execution_count": 133,
   "id": "00269eca-7d24-42d0-be30-ac41cca3d7c8",
   "metadata": {},
   "outputs": [
    {
     "data": {
      "text/plain": [
       "'Python, is, awesome!'"
      ]
     },
     "execution_count": 133,
     "metadata": {},
     "output_type": "execute_result"
    }
   ],
   "source": [
    "\", \".join(words)"
   ]
  },
  {
   "cell_type": "code",
   "execution_count": null,
   "id": "870ffbec-e8d1-4478-b73c-ede35bd123c7",
   "metadata": {},
   "outputs": [],
   "source": []
  }
 ],
 "metadata": {
  "kernelspec": {
   "display_name": "Python 3 (ipykernel)",
   "language": "python",
   "name": "python3"
  },
  "language_info": {
   "codemirror_mode": {
    "name": "ipython",
    "version": 3
   },
   "file_extension": ".py",
   "mimetype": "text/x-python",
   "name": "python",
   "nbconvert_exporter": "python",
   "pygments_lexer": "ipython3",
   "version": "3.12.4"
  }
 },
 "nbformat": 4,
 "nbformat_minor": 5
}
