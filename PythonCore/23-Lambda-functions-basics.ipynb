{
 "cells": [
  {
   "cell_type": "markdown",
   "id": "e0bb02a7-8065-4953-979a-5597f3778fad",
   "metadata": {},
   "source": [
    "#### Lambda functions \n",
    "\n",
    "- are anonymous functions in Python, which means they don't have a name and are usually used for small, one-line functions."
   ]
  },
  {
   "cell_type": "markdown",
   "id": "c7c76369-fd59-4d3d-8305-c138b017de6f",
   "metadata": {},
   "source": [
    "Exercise 1: Add two numbers using a lambda function"
   ]
  },
  {
   "cell_type": "code",
   "execution_count": 3,
   "id": "a729f61a-8353-4dae-bcb6-a51c5562f7cc",
   "metadata": {},
   "outputs": [
    {
     "name": "stdout",
     "output_type": "stream",
     "text": [
      "15\n"
     ]
    }
   ],
   "source": [
    "add = lambda x, y: x + y\n",
    "\n",
    "result = add(5, 10)\n",
    "print(result)  # Output: 15"
   ]
  },
  {
   "cell_type": "markdown",
   "id": "c87d1376-a92d-4870-be38-d1d39e1c6f96",
   "metadata": {},
   "source": [
    "Exercise 2: Create a lambda function to check if a number is even."
   ]
  },
  {
   "cell_type": "code",
   "execution_count": 6,
   "id": "73552aa2-0f3d-43aa-9cbb-5aa14285e27f",
   "metadata": {},
   "outputs": [
    {
     "name": "stdout",
     "output_type": "stream",
     "text": [
      "True\n",
      "False\n"
     ]
    }
   ],
   "source": [
    "is_even = lambda x: x % 2 == 0\n",
    "\n",
    "print(is_even(10))  # Output: True\n",
    "print(is_even(7))   # Output: False"
   ]
  },
  {
   "cell_type": "markdown",
   "id": "bf9d9242-e70b-419c-89d7-02b33b518b09",
   "metadata": {},
   "source": [
    "Exercise 3: Use a lambda function to sort a list of tuples based on the second element."
   ]
  },
  {
   "cell_type": "code",
   "execution_count": 9,
   "id": "fdeed328-6b8f-4049-ae26-fca48ef3afca",
   "metadata": {},
   "outputs": [
    {
     "name": "stdout",
     "output_type": "stream",
     "text": [
      "[(4, 3), (1, 5), (3, 7), (2, 9)]\n"
     ]
    }
   ],
   "source": [
    "data = [(3, 7), (1, 5), (2, 9), (4, 3)]\n",
    "\n",
    "sorted_data = sorted(data, key=lambda x: x[1])\n",
    "print(sorted_data)  # Output: [(4, 3), (1, 5), (3, 7), (2, 9)]\n"
   ]
  },
  {
   "cell_type": "markdown",
   "id": "9b9a4144-ea4d-4679-ad4c-ab04b7c9429c",
   "metadata": {},
   "source": [
    "Exercise 4: Convert a Celsius temperature to Fahrenheit using a lambda function."
   ]
  },
  {
   "cell_type": "code",
   "execution_count": 14,
   "id": "796fe686-a16b-434b-9a55-4b5e2847ae34",
   "metadata": {},
   "outputs": [
    {
     "name": "stdout",
     "output_type": "stream",
     "text": [
      "77.0\n",
      "32.0\n"
     ]
    }
   ],
   "source": [
    "celsius_to_fahrenheit = lambda celsius: (celsius * 9/5) + 32\n",
    "\n",
    "print(celsius_to_fahrenheit(25))  # Output: 77.0\n",
    "print(celsius_to_fahrenheit(0))   # Output: 32.0"
   ]
  },
  {
   "cell_type": "markdown",
   "id": "20fe9b57-2651-4d7f-8254-d05220fff63c",
   "metadata": {},
   "source": [
    "Exercise 5: Create a lambda function to calculate the area of a rectangle."
   ]
  },
  {
   "cell_type": "code",
   "execution_count": 17,
   "id": "41870707-31cf-470f-a706-b61e24a5d63b",
   "metadata": {},
   "outputs": [
    {
     "name": "stdout",
     "output_type": "stream",
     "text": [
      "50\n",
      "7.0\n"
     ]
    }
   ],
   "source": [
    "rectangle_area = lambda length, width: length * width\n",
    "print(rectangle_area(5, 10))  # Output: 50\n",
    "print(rectangle_area(3.5, 2)) # Output: 7.0"
   ]
  },
  {
   "cell_type": "markdown",
   "id": "1dcb8338-1e2c-410c-8b73-575c379bcd00",
   "metadata": {},
   "source": [
    "Exercise 6: Use a lambda function to filter even numbers from a list."
   ]
  },
  {
   "cell_type": "code",
   "execution_count": 20,
   "id": "1eced284-a024-452b-bc07-cd74fff761b8",
   "metadata": {},
   "outputs": [
    {
     "name": "stdout",
     "output_type": "stream",
     "text": [
      "[2, 4, 6, 8, 10]\n"
     ]
    }
   ],
   "source": [
    "numbers = [1, 2, 3, 4, 5, 6, 7, 8, 9, 10]\n",
    "\n",
    "even_numbers = list(filter(lambda x: x % 2 == 0, numbers))\n",
    "\n",
    "print(even_numbers)  # Output: [2, 4, 6, 8, 10]\n"
   ]
  },
  {
   "cell_type": "markdown",
   "id": "c9bf08ed-c807-4548-b80d-81c170ff36fd",
   "metadata": {},
   "source": [
    "Exercise 7: Create a lambda function to compute the power of a number."
   ]
  },
  {
   "cell_type": "code",
   "execution_count": 23,
   "id": "9b621a54-2077-4f88-ae1e-0f0156eb3f73",
   "metadata": {},
   "outputs": [
    {
     "name": "stdout",
     "output_type": "stream",
     "text": [
      "(8, 2, 4)\n",
      "(25, 5, 10)\n"
     ]
    }
   ],
   "source": [
    "power = lambda base, exponent: (base ** exponent, base, base *2)\n",
    "\n",
    "print(power(2, 3))  # Output: 8\n",
    "print(power(5, 2))  # Output: 25"
   ]
  },
  {
   "cell_type": "code",
   "execution_count": null,
   "id": "301f8882-156a-4d43-9292-aff336d004fc",
   "metadata": {},
   "outputs": [],
   "source": []
  }
 ],
 "metadata": {
  "kernelspec": {
   "display_name": "Python 3 (ipykernel)",
   "language": "python",
   "name": "python3"
  },
  "language_info": {
   "codemirror_mode": {
    "name": "ipython",
    "version": 3
   },
   "file_extension": ".py",
   "mimetype": "text/x-python",
   "name": "python",
   "nbconvert_exporter": "python",
   "pygments_lexer": "ipython3",
   "version": "3.12.4"
  }
 },
 "nbformat": 4,
 "nbformat_minor": 5
}
