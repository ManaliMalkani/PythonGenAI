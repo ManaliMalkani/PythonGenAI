{
 "cells": [
  {
   "cell_type": "markdown",
   "id": "b3fccdaf-867c-4c6e-893c-726dcab7a4b3",
   "metadata": {},
   "source": [
    "-------------------\n",
    "### basic operations with variables\n",
    "\n",
    "----------------------"
   ]
  },
  {
   "cell_type": "code",
   "execution_count": 3,
   "id": "17ae4cf6-c675-422d-b74e-845905028a46",
   "metadata": {},
   "outputs": [
    {
     "name": "stdout",
     "output_type": "stream",
     "text": [
      "Addition: 15\n",
      "Subtraction: 5\n",
      "Multiplication: 50\n",
      "Division: 2.0\n",
      "Floor Division: 2\n",
      "Modulus: 0\n",
      "Exponentiation: 100000\n"
     ]
    }
   ],
   "source": [
    "# Arithmetic Operations with Variables\n",
    "x = 10\n",
    "y = 5\n",
    "\n",
    "# Addition\n",
    "result_add = x + y\n",
    "print(\"Addition:\", result_add)  # Output: 15\n",
    "\n",
    "# Subtraction\n",
    "result_sub = x - y\n",
    "print(\"Subtraction:\", result_sub)  # Output: 5\n",
    "\n",
    "# Multiplication\n",
    "result_mul = x * y\n",
    "print(\"Multiplication:\", result_mul)  # Output: 50\n",
    "\n",
    "# Division (Always results in a float)\n",
    "result_div = x / y\n",
    "print(\"Division:\", result_div)  # Output: 2.0\n",
    "\n",
    "# Floor Division (Results in an integer, discards the fractional part)\n",
    "result_floor_div = x // y\n",
    "print(\"Floor Division:\", result_floor_div)  # Output: 2\n",
    "\n",
    "# Modulus (Remainder after division)\n",
    "result_mod = x % y\n",
    "print(\"Modulus:\", result_mod)  # Output: 0\n",
    "\n",
    "# Exponentiation\n",
    "result_exp = x ** y\n",
    "print(\"Exponentiation:\", result_exp)  # Output: 100000"
   ]
  },
  {
   "cell_type": "code",
   "execution_count": 5,
   "id": "d6fea4ee-3313-47aa-8be4-d37f37c0d3d9",
   "metadata": {},
   "outputs": [
    {
     "data": {
      "text/plain": [
       "1"
      ]
     },
     "execution_count": 5,
     "metadata": {},
     "output_type": "execute_result"
    }
   ],
   "source": [
    "2 ^ 3"
   ]
  },
  {
   "cell_type": "markdown",
   "id": "d3f42d99-e613-4446-bb46-d60b9ffc07ad",
   "metadata": {},
   "source": [
    "**Comparison Operations**"
   ]
  },
  {
   "cell_type": "code",
   "execution_count": 10,
   "id": "55994e2a-be5c-42fa-a7d9-6d4516ac56b9",
   "metadata": {},
   "outputs": [
    {
     "name": "stdout",
     "output_type": "stream",
     "text": [
      "False\n",
      "True\n",
      "False\n",
      "True\n",
      "False\n",
      "True\n"
     ]
    }
   ],
   "source": [
    "x = 5\n",
    "y = 10\n",
    "\n",
    "# Equal to\n",
    "print(x == y)  # Output: False\n",
    "\n",
    "# Not equal to\n",
    "print(x != y)  # Output: True\n",
    "\n",
    "# Greater than\n",
    "print(x > y)   # Output: False\n",
    "\n",
    "# Less than\n",
    "print(x < y)   # Output: True\n",
    "\n",
    "# Greater than or equal to\n",
    "print(x >= y)  # Output: False\n",
    "\n",
    "# Less than or equal to\n",
    "print(x <= y)  # Output: True"
   ]
  },
  {
   "cell_type": "markdown",
   "id": "fc5c6169-98a3-4c6a-bfec-07835871c056",
   "metadata": {},
   "source": [
    "**Logical Operations**"
   ]
  },
  {
   "cell_type": "code",
   "execution_count": 13,
   "id": "d7b91151-58fc-45af-87f8-89a0624afc97",
   "metadata": {},
   "outputs": [
    {
     "name": "stdout",
     "output_type": "stream",
     "text": [
      "False\n",
      "True\n",
      "False\n",
      "True\n"
     ]
    }
   ],
   "source": [
    "p = True\n",
    "q = False\n",
    "\n",
    "# Logical AND\n",
    "result_and = p and q\n",
    "print(result_and)  # Output: False\n",
    "\n",
    "# Logical OR\n",
    "result_or = p or q\n",
    "print(result_or)   # Output: True\n",
    "\n",
    "# Logical NOT\n",
    "result_not_p = not p\n",
    "result_not_q = not q\n",
    "print(result_not_p)  # Output: False\n",
    "print(result_not_q)  # Output: True"
   ]
  },
  {
   "cell_type": "markdown",
   "id": "b4a480f6-6050-4914-ae59-454417afcc19",
   "metadata": {},
   "source": [
    "#### String Manipulation"
   ]
  },
  {
   "cell_type": "code",
   "execution_count": 16,
   "id": "6541f30b-1f0f-4d10-8868-6120e4cf89d4",
   "metadata": {},
   "outputs": [],
   "source": [
    "s = 'String Manipulation with Variables'"
   ]
  },
  {
   "cell_type": "code",
   "execution_count": 18,
   "id": "c55a8de8-f078-4b71-a6e7-8d1f12c1a2d2",
   "metadata": {},
   "outputs": [
    {
     "data": {
      "text/plain": [
       "'S'"
      ]
     },
     "execution_count": 18,
     "metadata": {},
     "output_type": "execute_result"
    }
   ],
   "source": [
    "s[0:1]"
   ]
  },
  {
   "cell_type": "code",
   "execution_count": 20,
   "id": "44e0ad0d-7f04-4584-920d-8d6092879213",
   "metadata": {},
   "outputs": [
    {
     "data": {
      "text/plain": [
       "'String Manipulation with Variables'"
      ]
     },
     "execution_count": 20,
     "metadata": {},
     "output_type": "execute_result"
    }
   ],
   "source": [
    "s[0:]"
   ]
  },
  {
   "cell_type": "code",
   "execution_count": 24,
   "id": "a7421227-efb2-490c-b50b-fccb2797c310",
   "metadata": {},
   "outputs": [
    {
     "name": "stdout",
     "output_type": "stream",
     "text": [
      "Hello, Alice\n",
      "AliceAliceAlice\n",
      "Name Length: 5\n",
      "Substring: lic\n",
      "My age is 30\n"
     ]
    }
   ],
   "source": [
    "# String Manipulation with Variables\n",
    "name = \"Alice\"\n",
    "greeting = \"Hello, \" + name\n",
    "print(greeting)  # Output: \"Hello, Alice\"\n",
    "\n",
    "# String Repetition\n",
    "repeated_name = name * 3\n",
    "print(repeated_name)  # Output: \"AliceAliceAlice\"\n",
    "\n",
    "# String Length\n",
    "name_length = len(name)\n",
    "print(\"Name Length:\", name_length)  # Output: 5\n",
    "\n",
    "# String Slicing\n",
    "substring = name[1:4]\n",
    "print(\"Substring:\", substring)  # Output: \"lic\"\n",
    "\n",
    "# String Concatenation with Integers (Requires explicit type conversion)\n",
    "age = 30\n",
    "message = \"My age is \" + str(age)\n",
    "print(message)  # Output: \"My age is 30\""
   ]
  },
  {
   "cell_type": "code",
   "execution_count": null,
   "id": "b4c3bfb1-adb8-4c6c-b99d-fc9aa71a6f75",
   "metadata": {},
   "outputs": [],
   "source": []
  }
 ],
 "metadata": {
  "kernelspec": {
   "display_name": "Python 3 (ipykernel)",
   "language": "python",
   "name": "python3"
  },
  "language_info": {
   "codemirror_mode": {
    "name": "ipython",
    "version": 3
   },
   "file_extension": ".py",
   "mimetype": "text/x-python",
   "name": "python",
   "nbconvert_exporter": "python",
   "pygments_lexer": "ipython3",
   "version": "3.12.4"
  }
 },
 "nbformat": 4,
 "nbformat_minor": 5
}
