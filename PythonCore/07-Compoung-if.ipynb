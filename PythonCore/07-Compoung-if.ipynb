{
 "cells": [
  {
   "cell_type": "markdown",
   "id": "04c6eafd-a05e-4cec-b3a8-315c181f97d2",
   "metadata": {},
   "source": [
    "----------------\n",
    "### Compound statements\n",
    "----------"
   ]
  },
  {
   "cell_type": "markdown",
   "id": "ba20f82a-174d-4682-94b9-c22871b5278e",
   "metadata": {},
   "source": [
    "`Compound statements` are essential for `organizing` code and controlling the flow of execution in Python. They use indentation (whitespace at the beginning of a line) to group the related statements together. The indentation level must be consistent throughout a compound statement, and it is typically four spaces or one tab.\n",
    "\n",
    "In Python, `indentation` serves as a structural element, and it's crucial for the correct interpretation of the code. Unlike many other programming languages that use curly braces or keywords to define blocks, Python relies on indentation to create compound statements, which results in more readable and structured code."
   ]
  },
  {
   "cell_type": "markdown",
   "id": "c573d84f-ee91-410b-9b42-9cf170a9cbce",
   "metadata": {},
   "source": [
    "**Python If Else**"
   ]
  },
  {
   "cell_type": "markdown",
   "id": "6ea3a063-317f-4158-ab87-1e0d3e860d12",
   "metadata": {},
   "source": [
    "The if-else statement is a staple of most programming languages. It is used to test different conditions and execute code accordingly. \n",
    "\n",
    "The basic syntax is as follows:\n",
    "\n",
    "if condition1 = True:\n",
    "\n",
    "      execute code1\n",
    "\n",
    "else:               \n",
    "\n",
    "      execute code2"
   ]
  },
  {
   "cell_type": "markdown",
   "id": "45a15c62-e0a9-4a70-986b-57c6d307244f",
   "metadata": {},
   "source": [
    "**Example 1**"
   ]
  },
  {
   "cell_type": "code",
   "execution_count": 10,
   "id": "12d458a4-638c-4efa-8283-cca24f23d86d",
   "metadata": {},
   "outputs": [],
   "source": [
    "x = 10\n",
    "\n",
    "if x > 10:\n",
    "    print(x)"
   ]
  },
  {
   "cell_type": "code",
   "execution_count": 12,
   "id": "477048d4-8064-4613-8445-d0967601f595",
   "metadata": {},
   "outputs": [
    {
     "name": "stdout",
     "output_type": "stream",
     "text": [
      "X is smaller than or equal to five!\n"
     ]
    }
   ],
   "source": [
    "x = 5\n",
    "\n",
    "if x > 5:\n",
    "      print (\"X is larger than five!\")\n",
    "else:\n",
    "      print (\"X is smaller than or equal to five!\")"
   ]
  },
  {
   "cell_type": "markdown",
   "id": "0291c15f-ea83-4e97-8fb3-92a1ef01a1f6",
   "metadata": {},
   "source": [
    "**Example 2 : Testing Multiple Conditions with Elif**"
   ]
  },
  {
   "cell_type": "code",
   "execution_count": 18,
   "id": "4891684a-30d9-4c43-a91e-5da3a9487a11",
   "metadata": {},
   "outputs": [
    {
     "name": "stdout",
     "output_type": "stream",
     "text": [
      "Hey, X is exactly 5 !\n"
     ]
    }
   ],
   "source": [
    "x = 5\n",
    "\n",
    "if x == 5:\n",
    "    print(\"Hey, X is exactly 5 !\")\n",
    "elif x > 5:\n",
    "    print(\"X is more than 5\")\n",
    "else:\n",
    "    print(\"X is less than 5\")"
   ]
  },
  {
   "cell_type": "markdown",
   "id": "d2e24688-0895-4497-bd63-2e0533eacffa",
   "metadata": {},
   "source": [
    "**Example 3: Nested If-Else Statements**"
   ]
  },
  {
   "cell_type": "code",
   "execution_count": 23,
   "id": "392bbaad-bfe4-4af5-b777-4ce1583a7bab",
   "metadata": {},
   "outputs": [
    {
     "name": "stdout",
     "output_type": "stream",
     "text": [
      "I will buy 5 dozens\n"
     ]
    }
   ],
   "source": [
    "orange_quality = 'fresh'\n",
    "orange_price = 4.0\n",
    "\n",
    "if orange_quality == 'fresh':\n",
    "    if orange_price < 5:\n",
    "        print('I will buy 5 dozens')\n",
    "    else:\n",
    "        print('I will buy 2 dozens')\n",
    "else:\n",
    "    print('I will noy buy oranges')"
   ]
  },
  {
   "cell_type": "markdown",
   "id": "b4aa7442-8355-462d-a2f6-94d497971402",
   "metadata": {},
   "source": [
    "--------------\n",
    "#### Sample project 1 : determine if the user input is odd or even\n",
    "----------------"
   ]
  },
  {
   "cell_type": "code",
   "execution_count": 32,
   "id": "363c3825-a12e-4eb7-ba31-5410e5d7709a",
   "metadata": {},
   "outputs": [
    {
     "name": "stdout",
     "output_type": "stream",
     "text": [
      "Please enter a number between 1 and 20\n"
     ]
    },
    {
     "name": "stdin",
     "output_type": "stream",
     "text": [
      "> 23\n"
     ]
    },
    {
     "name": "stdout",
     "output_type": "stream",
     "text": [
      "You've entered an invalid number\n"
     ]
    }
   ],
   "source": [
    "print(\"Please enter a number between 1 and 20\")\n",
    "\n",
    "enter_num = int(input(\">\")) #int() added to ensure that the input is treated as a number, not a string\n",
    "\n",
    "if enter_num >=1 and enter_num <=20: #conditional statement that ensures limit is between 1 and 20\n",
    "\n",
    "    print(\"You have entered a valid number\")\n",
    "\n",
    "    if enter_num % 2 == 0:  #test for even/odd\n",
    "        print(\"Your number is even\")\n",
    "\n",
    "    elif enter_num % 2 == 1:\n",
    "        print(\"Your number is odd\")\n",
    "\n",
    "else:\n",
    "    print(\"You've entered an invalid number\")"
   ]
  },
  {
   "cell_type": "markdown",
   "id": "9a715c05-3695-4870-90ad-cf6bd3ebf246",
   "metadata": {},
   "source": [
    "**Function Definition**"
   ]
  },
  {
   "cell_type": "code",
   "execution_count": 2,
   "id": "9d6ded7a-c316-4421-af70-26337268301e",
   "metadata": {},
   "outputs": [],
   "source": [
    "def add_numbers(a, b):\n",
    "    return a + b"
   ]
  },
  {
   "cell_type": "markdown",
   "id": "e0cd0261-86ee-43cd-8774-dffe7928dd54",
   "metadata": {},
   "source": [
    "**Class definition**"
   ]
  },
  {
   "cell_type": "code",
   "execution_count": 11,
   "id": "81a9759c-c66a-462a-9bab-9c910698126c",
   "metadata": {},
   "outputs": [],
   "source": [
    "class Rectangle:\n",
    "    def __init__(self, length, width):\n",
    "        self.length = length\n",
    "        self.width = width\n",
    "\n",
    "    def area(self):\n",
    "        return self.length * self.width"
   ]
  },
  {
   "cell_type": "code",
   "execution_count": null,
   "id": "f6989536-367d-495f-9445-4aa7d7915b95",
   "metadata": {},
   "outputs": [],
   "source": []
  }
 ],
 "metadata": {
  "kernelspec": {
   "display_name": "Python 3 (ipykernel)",
   "language": "python",
   "name": "python3"
  },
  "language_info": {
   "codemirror_mode": {
    "name": "ipython",
    "version": 3
   },
   "file_extension": ".py",
   "mimetype": "text/x-python",
   "name": "python",
   "nbconvert_exporter": "python",
   "pygments_lexer": "ipython3",
   "version": "3.12.4"
  }
 },
 "nbformat": 4,
 "nbformat_minor": 5
}
