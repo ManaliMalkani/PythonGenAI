{
 "cells": [
  {
   "cell_type": "markdown",
   "id": "36be07dd-bacf-4a5c-82a1-eb631ed0d98b",
   "metadata": {},
   "source": [
    "#### Scope and Lifetime of variables\n",
    "- `Scope` of a variable is the portion of a program where the variable is recognized. \n",
    "- Parameters and variables defined inside a function are `not visible` from `outside the function`. \n",
    "    - Hence, they have a `local` scope.\n",
    "\n",
    "- The `lifetime` of a variable is the period throughout which the variable exists in the memory. The lifetime of variables inside a function is as long as the function executes.\n",
    "\n",
    "- They are `destroyed` once we `return` from the function. \n",
    "\n",
    "- Hence, a function does not remember the value of a variable from its previous calls.\n",
    "\n",
    "Here is an example to illustrate the scope of a variable inside a function."
   ]
  },
  {
   "cell_type": "code",
   "execution_count": 2,
   "id": "b8d942b5-1d97-469e-931e-0911c7e9847f",
   "metadata": {},
   "outputs": [],
   "source": [
    "def my_func():\n",
    "    my_var = 10\n",
    "    print(\"Value inside function:\", my_var)"
   ]
  },
  {
   "cell_type": "markdown",
   "id": "e0084bb8-134b-4f3a-b55a-44a0d2688910",
   "metadata": {},
   "source": [
    "- the value of `my_var` is 20 initially. \n",
    "- Even though the function my_func() changed the value of `my_var` to 10, it did not affect the value outside the function.\n",
    "\n",
    "- This is because the variable `my_var` inside the function is different (local to the function) from the one outside. \n",
    "    - Although they have the `same names`, they are two different variables with `different scopes`."
   ]
  },
  {
   "cell_type": "markdown",
   "id": "726fb44c-dabb-48b2-8fc7-273334a69dcc",
   "metadata": {},
   "source": [
    "##### the other side of it ... global variables"
   ]
  },
  {
   "cell_type": "code",
   "execution_count": 10,
   "id": "fd7ee11a-6674-4f31-86e0-ac7960d829fb",
   "metadata": {},
   "outputs": [],
   "source": [
    "def my_func():\n",
    "    \n",
    "    my_var = 10\n",
    "    \n",
    "    print(\"Value inside function:\", my_var)\n",
    "    print(\"Variable from outside the function:\", another_var)"
   ]
  },
  {
   "cell_type": "code",
   "execution_count": 12,
   "id": "d0cb14c9-9491-4638-b087-945302ea82a3",
   "metadata": {},
   "outputs": [
    {
     "name": "stdout",
     "output_type": "stream",
     "text": [
      "Value inside function: 10\n",
      "Variable from outside the function: 200\n",
      "Value outside function: 20\n"
     ]
    }
   ],
   "source": [
    "my_var      = 20\n",
    "another_var = 200\n",
    "\n",
    "my_func()   # value of my_var changes inside the function\n",
    "\n",
    "print(\"Value outside function:\", my_var)"
   ]
  },
  {
   "cell_type": "markdown",
   "id": "5645c4cc-a6fe-4ae2-be70-10205190a10c",
   "metadata": {},
   "source": [
    "So variables outside of the function are visible from inside. They have a `global scope.`\n",
    "\n",
    "We can `read` these values from inside the function. "
   ]
  },
  {
   "cell_type": "markdown",
   "id": "5009002c-6176-4331-8944-5d13cb319095",
   "metadata": {},
   "source": [
    "##### but inside a function, the outside variable cannot be changed unless we declare it with 'global' keyword\n",
    "\n",
    "In order to `modify` the value of variables outside the function, they must be declared as `global` variables using the keyword global."
   ]
  },
  {
   "cell_type": "code",
   "execution_count": 16,
   "id": "5a808a15-9702-4802-8cfb-4222c306d361",
   "metadata": {},
   "outputs": [],
   "source": [
    "def my_func():\n",
    "    \n",
    "    my_var = 10\n",
    "    \n",
    "    print(\"Value inside function:\", my_var)\n",
    "    \n",
    "    another_var += 1\n",
    "    \n",
    "    print(\"Variable from outside the function:\", another_var)"
   ]
  },
  {
   "cell_type": "code",
   "execution_count": 18,
   "id": "ff8a5e1f-4a67-455e-b573-af90242c8fb9",
   "metadata": {},
   "outputs": [
    {
     "name": "stdout",
     "output_type": "stream",
     "text": [
      "Value inside function: 10\n"
     ]
    },
    {
     "ename": "UnboundLocalError",
     "evalue": "cannot access local variable 'another_var' where it is not associated with a value",
     "output_type": "error",
     "traceback": [
      "\u001b[0;31m---------------------------------------------------------------------------\u001b[0m",
      "\u001b[0;31mUnboundLocalError\u001b[0m                         Traceback (most recent call last)",
      "Cell \u001b[0;32mIn[18], line 4\u001b[0m\n\u001b[1;32m      1\u001b[0m my_var      \u001b[38;5;241m=\u001b[39m \u001b[38;5;241m20\u001b[39m\n\u001b[1;32m      2\u001b[0m another_var \u001b[38;5;241m=\u001b[39m \u001b[38;5;241m200\u001b[39m\n\u001b[0;32m----> 4\u001b[0m my_func()   \u001b[38;5;66;03m# value of my_var changes inside the function\u001b[39;00m\n\u001b[1;32m      6\u001b[0m \u001b[38;5;28mprint\u001b[39m(\u001b[38;5;124m\"\u001b[39m\u001b[38;5;124mValue outside function:\u001b[39m\u001b[38;5;124m\"\u001b[39m, my_var)\n",
      "Cell \u001b[0;32mIn[16], line 7\u001b[0m, in \u001b[0;36mmy_func\u001b[0;34m()\u001b[0m\n\u001b[1;32m      3\u001b[0m my_var \u001b[38;5;241m=\u001b[39m \u001b[38;5;241m10\u001b[39m\n\u001b[1;32m      5\u001b[0m \u001b[38;5;28mprint\u001b[39m(\u001b[38;5;124m\"\u001b[39m\u001b[38;5;124mValue inside function:\u001b[39m\u001b[38;5;124m\"\u001b[39m, my_var)\n\u001b[0;32m----> 7\u001b[0m another_var \u001b[38;5;241m+\u001b[39m\u001b[38;5;241m=\u001b[39m \u001b[38;5;241m1\u001b[39m\n\u001b[1;32m      9\u001b[0m \u001b[38;5;28mprint\u001b[39m(\u001b[38;5;124m\"\u001b[39m\u001b[38;5;124mVariable from outside the function:\u001b[39m\u001b[38;5;124m\"\u001b[39m, another_var)\n",
      "\u001b[0;31mUnboundLocalError\u001b[0m: cannot access local variable 'another_var' where it is not associated with a value"
     ]
    }
   ],
   "source": [
    "my_var      = 20\n",
    "another_var = 200\n",
    "\n",
    "my_func()   # value of my_var changes inside the function\n",
    "\n",
    "print(\"Value outside function:\", my_var)"
   ]
  },
  {
   "cell_type": "code",
   "execution_count": 20,
   "id": "932b6024-8d03-4c92-b263-cd18b42e058e",
   "metadata": {},
   "outputs": [],
   "source": [
    "def my_func():\n",
    "    my_var = 10\n",
    "    global another_var\n",
    "    \n",
    "    print(\"Value inside function:\", my_var)\n",
    "    another_var += 1\n",
    "    print(\"Variable from outside the function:\", another_var)"
   ]
  },
  {
   "cell_type": "code",
   "execution_count": 22,
   "id": "a0a6035b-dd8e-47f2-9401-0f449417df9e",
   "metadata": {},
   "outputs": [
    {
     "name": "stdout",
     "output_type": "stream",
     "text": [
      "Value inside function: 10\n",
      "Variable from outside the function: 201\n",
      "Value outside function: 20\n"
     ]
    }
   ],
   "source": [
    "my_var      = 20\n",
    "another_var = 200\n",
    "\n",
    "my_func()   # value of my_var changes inside the function\n",
    "\n",
    "print(\"Value outside function:\", my_var)"
   ]
  },
  {
   "cell_type": "code",
   "execution_count": null,
   "id": "6816b407-8dea-43bf-a971-b72720f4acd5",
   "metadata": {},
   "outputs": [],
   "source": []
  }
 ],
 "metadata": {
  "kernelspec": {
   "display_name": "Python 3 (ipykernel)",
   "language": "python",
   "name": "python3"
  },
  "language_info": {
   "codemirror_mode": {
    "name": "ipython",
    "version": 3
   },
   "file_extension": ".py",
   "mimetype": "text/x-python",
   "name": "python",
   "nbconvert_exporter": "python",
   "pygments_lexer": "ipython3",
   "version": "3.12.4"
  }
 },
 "nbformat": 4,
 "nbformat_minor": 5
}
