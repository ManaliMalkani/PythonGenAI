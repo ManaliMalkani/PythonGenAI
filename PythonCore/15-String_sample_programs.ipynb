{
 "cells": [
  {
   "cell_type": "code",
   "execution_count": 2,
   "id": "6008350b-2ae3-4d95-9627-3e9b0bdfd2a3",
   "metadata": {},
   "outputs": [],
   "source": [
    "import string"
   ]
  },
  {
   "cell_type": "markdown",
   "id": "723be2a0-a4d2-4f6f-8b05-cf98cfa12d5e",
   "metadata": {},
   "source": [
    "## Display punctuation."
   ]
  },
  {
   "cell_type": "code",
   "execution_count": 5,
   "id": "92ead665-883c-44bf-a1e0-e391bf3a77a9",
   "metadata": {},
   "outputs": [
    {
     "name": "stdout",
     "output_type": "stream",
     "text": [
      "[!, \", #, $, %, &, ', (, ), *, +, ,, -, ., /, :, ;, <, =, >, ?, @, [, \\, ], ^, _, `, {, |, }, ~, ]\n"
     ]
    }
   ],
   "source": [
    "\n",
    "print(\"[\", end='')\n",
    "\n",
    "for c in string.punctuation:\n",
    "    print( c, end=', ')\n",
    "    \n",
    "print(\"]\")"
   ]
  },
  {
   "cell_type": "code",
   "execution_count": 7,
   "id": "af62ced6-4d72-4d39-91b5-99adf1c626fa",
   "metadata": {},
   "outputs": [],
   "source": [
    "## test for punctuation"
   ]
  },
  {
   "cell_type": "code",
   "execution_count": 9,
   "id": "3cd426ba-a713-4525-a0e7-9231eb0ef776",
   "metadata": {},
   "outputs": [
    {
     "name": "stdout",
     "output_type": "stream",
     "text": [
      "Punctuation: ,\n",
      "Punctuation: !\n"
     ]
    }
   ],
   "source": [
    "# An input string.\n",
    "name = \"hey, my friend!\"\n",
    "\n",
    "for c in name:\n",
    "    # See if the char is punctuation.\n",
    "    if c in string.punctuation:\n",
    "        print(\"Punctuation: \" + c)"
   ]
  },
  {
   "cell_type": "markdown",
   "id": "1a0e4d40-86c1-4cd6-ae40-80a338ca8067",
   "metadata": {},
   "source": [
    "## remove punctuation from string"
   ]
  },
  {
   "cell_type": "code",
   "execution_count": 20,
   "id": "142af6cb-6e64-4b5d-87c4-e5d587a23c57",
   "metadata": {},
   "outputs": [],
   "source": [
    "def remove_punctuation(value):\n",
    "    result = \"\"\n",
    "    for c in value:\n",
    "        # If char is not punctuation, add it to the result.\n",
    "        if c not in string.punctuation:\n",
    "            result += c\n",
    "    return result"
   ]
  },
  {
   "cell_type": "code",
   "execution_count": 22,
   "id": "0053db1f-a00d-4684-b30f-edbca4efba5d",
   "metadata": {},
   "outputs": [
    {
     "name": "stdout",
     "output_type": "stream",
     "text": [
      "hello, friend!... welcome.\n",
      "hello friend welcome\n"
     ]
    }
   ],
   "source": [
    "# Test our method.\n",
    "temp = \"hello, friend!... welcome.\"\n",
    "print(temp)\n",
    "print(remove_punctuation(temp))"
   ]
  },
  {
   "cell_type": "markdown",
   "id": "8bc593fb-530d-432f-a75d-d402673bb995",
   "metadata": {},
   "source": [
    "Ex : on string translate\n",
    "\n",
    "__maketrans()__ function is used to construct the transition table i.e specify the list of characters that need to be replaced in the whole string or the characters that need to be deleted from the string\n",
    "\n",
    "- str1 : Specifies the list of characters that need to be replaced.\n",
    "- str2 : Specifies the list of characters with which the characters need to be replaced.\n",
    "- str3 : Specifies the list of characters that needs to be deleted."
   ]
  },
  {
   "cell_type": "code",
   "execution_count": 24,
   "id": "daf5c05d-f4cc-4522-a033-99445ccfca78",
   "metadata": {},
   "outputs": [
    {
     "name": "stdout",
     "output_type": "stream",
     "text": [
      "!\"#$%&'()*+,-./:;<=>?@[\\]^_`{|}~\n"
     ]
    }
   ],
   "source": [
    "print(string.punctuation)"
   ]
  },
  {
   "cell_type": "markdown",
   "id": "b5ce1b31-9415-4477-b133-3362c0aef08d",
   "metadata": {},
   "source": [
    "- maketrans() is a method in Python used to create a translation table that maps characters from one set to another, or specifies characters to remove. This translation table can then be passed to the str.translate() method to modify a string according to the mappings and deletions.\n",
    "- str.maketrans() only creates the mapping; it doesn’t modify strings directly. You need to use str.translate() to apply the transformation.\n",
    "- It’s particularly useful when you need efficient and large-scale replacements or deletions of characters in strings.\n",
    "- Syntax: str.maketrans(x, y, z)\n",
    "- x: The string containing characters you want to replace (source characters).\n",
    "- y: The string containing characters you want to replace them with (target characters).\n",
    "- x and y must have the same length.\n",
    "- z: (Optional) The string containing characters you want to remove from the string."
   ]
  },
  {
   "cell_type": "code",
   "execution_count": 28,
   "id": "c25c70f8-40d0-4d47-8425-042e3e615e49",
   "metadata": {},
   "outputs": [
    {
     "name": "stdout",
     "output_type": "stream",
     "text": [
      "The string before translating is :  popcorn-ai.com @@!!\n",
      "The string after translating is  :  popcorn-AI.com \n"
     ]
    }
   ],
   "source": [
    "# specify to translate chars \n",
    "str1 = \"ai\"\n",
    "  \n",
    "# specify to replace with \n",
    "str2 = \"AI\"\n",
    "  \n",
    "# delete chars \n",
    "str3 = '!@'\n",
    "  \n",
    "# target string  \n",
    "trg = \"popcorn-ai.com @@!!\"\n",
    "  \n",
    "# using maketrans() to construct translate table \n",
    "table = trg.maketrans(str1, str2, str3) \n",
    "  \n",
    "# Printing original string  \n",
    "print (\"The string before translating is : \", trg) \n",
    "  \n",
    "# using translate() to make translations. \n",
    "print (\"The string after translating is  : \", trg.translate(table)) "
   ]
  },
  {
   "cell_type": "code",
   "execution_count": null,
   "id": "b8f0cdb1-1a3f-47d5-a5a6-d23dbd2a51c2",
   "metadata": {},
   "outputs": [],
   "source": []
  }
 ],
 "metadata": {
  "kernelspec": {
   "display_name": "Python 3 (ipykernel)",
   "language": "python",
   "name": "python3"
  },
  "language_info": {
   "codemirror_mode": {
    "name": "ipython",
    "version": 3
   },
   "file_extension": ".py",
   "mimetype": "text/x-python",
   "name": "python",
   "nbconvert_exporter": "python",
   "pygments_lexer": "ipython3",
   "version": "3.12.4"
  }
 },
 "nbformat": 4,
 "nbformat_minor": 5
}
