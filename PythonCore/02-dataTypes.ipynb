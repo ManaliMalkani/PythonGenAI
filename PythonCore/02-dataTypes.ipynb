{
 "cells": [
  {
   "cell_type": "markdown",
   "id": "6774a2b5-c298-4129-80c2-9f4c40787fdf",
   "metadata": {},
   "source": [
    "-------------------------\n",
    "### Data types\n",
    "-------------------------"
   ]
  },
  {
   "cell_type": "code",
   "execution_count": 3,
   "id": "a4306864-a638-47dc-be3a-9952b2cc797f",
   "metadata": {},
   "outputs": [],
   "source": [
    "# Numeric Data Types\n",
    "# Integer\n",
    "num_integer = 10"
   ]
  },
  {
   "cell_type": "code",
   "execution_count": 4,
   "id": "d8697c9f-221c-4138-9da7-6aac3554ce52",
   "metadata": {},
   "outputs": [],
   "source": [
    "# Float\n",
    "num_float = 3.14"
   ]
  },
  {
   "cell_type": "code",
   "execution_count": 5,
   "id": "d93b0701-7330-4a8c-9188-d8c90ad2a0c4",
   "metadata": {},
   "outputs": [],
   "source": [
    "# Float\n",
    "num_float = 3.14"
   ]
  },
  {
   "cell_type": "code",
   "execution_count": 27,
   "id": "67f434c5-6003-49f8-93ed-24b687e8ecdc",
   "metadata": {},
   "outputs": [],
   "source": [
    "# Complex\n",
    "num_complex = 2 + 3j"
   ]
  },
  {
   "cell_type": "code",
   "execution_count": 2,
   "id": "effa0c60-233a-437a-909e-cbec93740b6b",
   "metadata": {},
   "outputs": [],
   "source": [
    "# String\n",
    "string_example = \"Hello, World!\""
   ]
  },
  {
   "cell_type": "code",
   "execution_count": 7,
   "id": "47182ddd-61a3-46d8-b257-bf5434cd4469",
   "metadata": {},
   "outputs": [],
   "source": [
    "# Boolean\n",
    "bool_true  = True    # this is for t/f\n",
    "bool_false = False  # this ..."
   ]
  },
  {
   "cell_type": "code",
   "execution_count": 8,
   "id": "bfa3b363-baa6-4953-9c2c-62bf63e55b6a",
   "metadata": {},
   "outputs": [],
   "source": [
    "# List\n",
    "list_example = [1, 2, 3, 4, 5]"
   ]
  },
  {
   "cell_type": "code",
   "execution_count": 11,
   "id": "2abbb35d-1065-4e8b-8a38-28468d640d51",
   "metadata": {},
   "outputs": [
    {
     "data": {
      "text/plain": [
       "[1, 2, 3, 4, 5, 10, 10]"
      ]
     },
     "execution_count": 11,
     "metadata": {},
     "output_type": "execute_result"
    }
   ],
   "source": [
    "list_example.append(10)\n",
    "list_example"
   ]
  },
  {
   "cell_type": "code",
   "execution_count": 19,
   "id": "f25eeb27-ebcd-4560-aba1-b7e5684f029e",
   "metadata": {},
   "outputs": [],
   "source": [
    "# Tuple\n",
    "tuple_example = (6, 7, 8, 9, 10)"
   ]
  },
  {
   "cell_type": "code",
   "execution_count": 21,
   "id": "3c698599-d5fa-485c-8ac1-80b29931c2af",
   "metadata": {},
   "outputs": [],
   "source": [
    "# Set\n",
    "set_example = {11, 12, 13, 14, 15}"
   ]
  },
  {
   "cell_type": "code",
   "execution_count": 23,
   "id": "f23b368c-4752-4aac-a5c7-363771a6865f",
   "metadata": {},
   "outputs": [],
   "source": [
    "# Dictionary\n",
    "dict_example = {'name': 'John', 'age': 30, 'city': 'New York'}"
   ]
  },
  {
   "cell_type": "code",
   "execution_count": 29,
   "id": "3a66aaef-c6cc-42e6-926a-1ba3b8db560b",
   "metadata": {},
   "outputs": [
    {
     "name": "stdout",
     "output_type": "stream",
     "text": [
      "Data Types in Python:\n",
      "Integer: 10 - Type: <class 'int'>\n",
      "Float: 3.14 - Type: <class 'float'>\n",
      "Complex: (2+3j) - Type: <class 'complex'>\n",
      "String: jello, World! - Type: <class 'str'>\n",
      "Boolean (True): True - Type: <class 'bool'>\n",
      "Boolean (False): False - Type: <class 'bool'>\n",
      "List: [1, 2, 3, 4, 5, 10, 10] - Type: <class 'list'>\n",
      "Tuple: (6, 7, 8, 9, 10) - Type: <class 'tuple'>\n",
      "Set: {11, 12, 13, 14, 15} - Type: <class 'set'>\n",
      "Dictionary: {'name': 'John', 'age': 30, 'city': 'New York'} - Type: <class 'dict'>\n"
     ]
    }
   ],
   "source": [
    "# Printing the data types and their examples\n",
    "print(\"Data Types in Python:\")\n",
    "print(f\"Integer: {num_integer} - Type: {type(num_integer)}\")\n",
    "print(f\"Float: {num_float} - Type: {type(num_float)}\")\n",
    "print(f\"Complex: {num_complex} - Type: {type(num_complex)}\")\n",
    "print(f\"String: {string_example} - Type: {type(string_example)}\")\n",
    "print(f\"Boolean (True): {bool_true} - Type: {type(bool_true)}\")\n",
    "print(f\"Boolean (False): {bool_false} - Type: {type(bool_false)}\")\n",
    "print(f\"List: {list_example} - Type: {type(list_example)}\")\n",
    "print(f\"Tuple: {tuple_example} - Type: {type(tuple_example)}\")\n",
    "print(f\"Set: {set_example} - Type: {type(set_example)}\")\n",
    "print(f\"Dictionary: {dict_example} - Type: {type(dict_example)}\")"
   ]
  },
  {
   "cell_type": "code",
   "execution_count": null,
   "id": "cab1b802-552e-46f7-8fb8-ba888692f85a",
   "metadata": {},
   "outputs": [],
   "source": []
  }
 ],
 "metadata": {
  "kernelspec": {
   "display_name": "Python 3 (ipykernel)",
   "language": "python",
   "name": "python3"
  },
  "language_info": {
   "codemirror_mode": {
    "name": "ipython",
    "version": 3
   },
   "file_extension": ".py",
   "mimetype": "text/x-python",
   "name": "python",
   "nbconvert_exporter": "python",
   "pygments_lexer": "ipython3",
   "version": "3.12.4"
  }
 },
 "nbformat": 4,
 "nbformat_minor": 5
}
