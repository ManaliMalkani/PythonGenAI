{
 "cells": [
  {
   "cell_type": "markdown",
   "id": "0e1e329d-7873-47d3-ab7f-550ac7792ebc",
   "metadata": {},
   "source": [
    "----------------------------------\n",
    "#### What is a function in Python?\n",
    "----------------------------------\n",
    "- In Python, a function is a `group of related statements` that performs a specific task.\n",
    "\n",
    "- Functions help break our program into `smaller and modular` chunks. \n",
    "\n",
    "- As our program grows larger and larger, `functions` make it more `organized` and `manageable`.\n",
    "\n",
    "- Furthermore, it `avoids repetition` and makes the code `reusable`."
   ]
  },
  {
   "cell_type": "markdown",
   "id": "ee2eae70-fbe6-4d84-8430-1beff0710ea5",
   "metadata": {},
   "source": [
    "##### Syntax of Function"
   ]
  },
  {
   "cell_type": "code",
   "execution_count": 3,
   "id": "f76337d4-8123-48b9-b1dd-2e17ef861574",
   "metadata": {},
   "outputs": [],
   "source": [
    "def function_name(parameters):\n",
    "    \"\"\"This function does nothing. But it is entirely true ... please wait\"\"\"\n",
    "    statement(s)"
   ]
  },
  {
   "cell_type": "markdown",
   "id": "ab323c13-dd25-4dd1-bd6f-ae6f35718ac8",
   "metadata": {},
   "source": [
    "- `Keyword` `def` that marks the start of the function header.\n",
    "\n",
    "- A `function name` to uniquely identify the function. \n",
    "\n",
    "- Parameters (arguments) through which we pass values to a function. \n",
    "\n",
    "    - They are `optional`.\n",
    "    - A colon (:) to mark the end of the function header.\n",
    "    - `Optional` documentation string (docstring) to `describe` what the function does.\n",
    "    - One or more valid python statements that make up the function body. \n",
    "    - Statements must have the same indentation level (usually 4 spaces).\n",
    "    - An `optional` `return` statement to return a value from the function."
   ]
  },
  {
   "cell_type": "markdown",
   "id": "80514edf-ed6f-4d3b-93c2-8266036d1508",
   "metadata": {},
   "source": [
    "##### Docstrings (''' ''')\n",
    "- The first string after the function header is called the `docstring` and is short for `documentation string`. \n",
    "\n",
    "- It is briefly used to explain what a function does."
   ]
  },
  {
   "cell_type": "code",
   "execution_count": 7,
   "id": "c75427ce-2f5b-4474-a0d5-a26616f2c4e3",
   "metadata": {},
   "outputs": [
    {
     "name": "stdout",
     "output_type": "stream",
     "text": [
      "This function does nothing. But it is entirely true ... please wait\n"
     ]
    }
   ],
   "source": [
    "print(function_name.__doc__)"
   ]
  },
  {
   "cell_type": "code",
   "execution_count": 9,
   "id": "d174858a-85ca-4440-978b-5d043b5c9626",
   "metadata": {},
   "outputs": [],
   "source": [
    "def greet(name):\n",
    "    \"\"\"\n",
    "    This function greets to\n",
    "    the person passed in as\n",
    "    a parameter\n",
    "    \"\"\"\n",
    "    print(\"Hello, \" + name + \". Good morning!\")"
   ]
  },
  {
   "cell_type": "code",
   "execution_count": 23,
   "id": "118c295d-6ddd-46f7-be05-8083c28b1ab8",
   "metadata": {},
   "outputs": [
    {
     "name": "stdout",
     "output_type": "stream",
     "text": [
      "Hello, Manali. Good morning!\n",
      "\n",
      "    This function greets to\n",
      "    the person passed in as\n",
      "    a parameter\n",
      "    \n"
     ]
    }
   ],
   "source": [
    "greet('Manali')\n",
    "print(greet.__doc__)"
   ]
  },
  {
   "cell_type": "code",
   "execution_count": 25,
   "id": "f8228763-6b42-471e-b928-83e2d775e6d3",
   "metadata": {},
   "outputs": [
    {
     "name": "stdout",
     "output_type": "stream",
     "text": [
      "Hello, Michael. Good morning!\n"
     ]
    }
   ],
   "source": [
    "greet('Michael')"
   ]
  },
  {
   "cell_type": "markdown",
   "id": "5ec9990a-8ab9-4a33-93dc-7cb6a648dcae",
   "metadata": {},
   "source": [
    "##### The return statement\n",
    "- nThe `return` statement is used to `exit` a function and go back to the place from where it was called.\n",
    "\n",
    "- Syntax of return\n",
    "    - return [expression_list]"
   ]
  },
  {
   "cell_type": "code",
   "execution_count": 28,
   "id": "82c6ffea-62ef-45fd-b4c7-d5b9d443eb57",
   "metadata": {},
   "outputs": [
    {
     "name": "stdout",
     "output_type": "stream",
     "text": [
      "Hello, May. Good morning!\n",
      "None\n"
     ]
    }
   ],
   "source": [
    "print(greet(\"May\"))"
   ]
  },
  {
   "cell_type": "markdown",
   "id": "e0af90e9-d278-4cd9-a05d-7512fa0e2f0c",
   "metadata": {},
   "source": [
    "Here, `None` is the returned value since `greet()` directly `prints` the name and `no return` statement is used."
   ]
  },
  {
   "cell_type": "code",
   "execution_count": 35,
   "id": "59e0f9c0-7a7e-401a-a000-e8624b3d4885",
   "metadata": {},
   "outputs": [],
   "source": [
    "# Example of return\n",
    "\n",
    "def absolute_value(num):\n",
    "    \"\"\"This function returns the absolute\n",
    "    value of the entered number\"\"\"\n",
    "\n",
    "    if num >= 0:\n",
    "        return num\n",
    "    else:\n",
    "        return -num"
   ]
  },
  {
   "cell_type": "code",
   "execution_count": 37,
   "id": "d48d0d35-b552-443e-b304-86074b76a6a7",
   "metadata": {},
   "outputs": [
    {
     "name": "stdout",
     "output_type": "stream",
     "text": [
      "2\n",
      "4\n"
     ]
    }
   ],
   "source": [
    "print(absolute_value(2))\n",
    "print(absolute_value(-4))"
   ]
  },
  {
   "cell_type": "code",
   "execution_count": null,
   "id": "cf9bfa45-6c6a-4147-9a6f-79011a4e1200",
   "metadata": {},
   "outputs": [],
   "source": []
  }
 ],
 "metadata": {
  "kernelspec": {
   "display_name": "Python 3 (ipykernel)",
   "language": "python",
   "name": "python3"
  },
  "language_info": {
   "codemirror_mode": {
    "name": "ipython",
    "version": 3
   },
   "file_extension": ".py",
   "mimetype": "text/x-python",
   "name": "python",
   "nbconvert_exporter": "python",
   "pygments_lexer": "ipython3",
   "version": "3.12.4"
  }
 },
 "nbformat": 4,
 "nbformat_minor": 5
}
