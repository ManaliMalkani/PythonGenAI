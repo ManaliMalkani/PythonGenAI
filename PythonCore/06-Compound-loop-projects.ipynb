{
 "cells": [
  {
   "cell_type": "code",
   "execution_count": 1,
   "id": "525e789a-da3c-4c22-9e5e-b0db622b05f1",
   "metadata": {},
   "outputs": [],
   "source": [
    "from IPython.display import Image"
   ]
  },
  {
   "cell_type": "markdown",
   "id": "ee6480c3-2ce8-441d-8cb8-60cf327b204b",
   "metadata": {},
   "source": [
    "-------\n",
    "## Python Looping Techniques\n",
    "------\n",
    "\n",
    "- Python programming offers two kinds of loop, the `for loop` and the `while loop`. \n",
    "\n",
    "- Using these loops along with loop control statements like `break` and `continue`, we can create various forms of loop."
   ]
  },
  {
   "cell_type": "markdown",
   "id": "09495281-bb6b-4286-8f96-c3b58a4c6e1f",
   "metadata": {},
   "source": [
    "#### The infinite loop\n",
    "We can create an infinite loop using `while` statement. If the condition of while loop is always True, we get an infinite loop.\n",
    "\n",
    "**Example #1:** Infinite loop using while"
   ]
  },
  {
   "cell_type": "code",
   "execution_count": 4,
   "id": "4a03dd24-58df-4bc9-99eb-5f90f39fb7d0",
   "metadata": {},
   "outputs": [
    {
     "name": "stdin",
     "output_type": "stream",
     "text": [
      "Enter an integer:  1\n"
     ]
    },
    {
     "name": "stdout",
     "output_type": "stream",
     "text": [
      "The double of 1 is 2\n"
     ]
    },
    {
     "name": "stdin",
     "output_type": "stream",
     "text": [
      "Enter an integer:  s\n"
     ]
    },
    {
     "ename": "ValueError",
     "evalue": "invalid literal for int() with base 10: 's'",
     "output_type": "error",
     "traceback": [
      "\u001b[0;31m---------------------------------------------------------------------------\u001b[0m",
      "\u001b[0;31mValueError\u001b[0m                                Traceback (most recent call last)",
      "Cell \u001b[0;32mIn[4], line 5\u001b[0m\n\u001b[1;32m      1\u001b[0m \u001b[38;5;66;03m# An example of infinite loop\u001b[39;00m\n\u001b[1;32m      2\u001b[0m \u001b[38;5;66;03m# press Ctrl + c to exit from the loop\u001b[39;00m\n\u001b[1;32m      4\u001b[0m \u001b[38;5;28;01mwhile\u001b[39;00m \u001b[38;5;28;01mTrue\u001b[39;00m:\n\u001b[0;32m----> 5\u001b[0m    num \u001b[38;5;241m=\u001b[39m \u001b[38;5;28mint\u001b[39m(\u001b[38;5;28minput\u001b[39m(\u001b[38;5;124m\"\u001b[39m\u001b[38;5;124mEnter an integer: \u001b[39m\u001b[38;5;124m\"\u001b[39m))\n\u001b[1;32m      7\u001b[0m    \u001b[38;5;28mprint\u001b[39m(\u001b[38;5;124m\"\u001b[39m\u001b[38;5;124mThe double of\u001b[39m\u001b[38;5;124m\"\u001b[39m, num, \u001b[38;5;124m\"\u001b[39m\u001b[38;5;124mis\u001b[39m\u001b[38;5;124m\"\u001b[39m,\u001b[38;5;241m2\u001b[39m \u001b[38;5;241m*\u001b[39m num)\n",
      "\u001b[0;31mValueError\u001b[0m: invalid literal for int() with base 10: 's'"
     ]
    }
   ],
   "source": [
    "# An example of infinite loop\n",
    "# press Ctrl + c to exit from the loop\n",
    "\n",
    "while True:\n",
    "   num = int(input(\"Enter an integer: \"))\n",
    "\n",
    "   print(\"The double of\", num, \"is\",2 * num)"
   ]
  },
  {
   "cell_type": "markdown",
   "id": "cce746ba-8524-4abe-aa2f-350631998fb7",
   "metadata": {},
   "source": [
    "#### Loop with condition at the top\n",
    "This is a normal `while` loop `without break` statements. \n",
    "\n",
    "The condition of the `while loop` is at the `top` and the loop terminates when this condition is False."
   ]
  },
  {
   "cell_type": "code",
   "execution_count": 13,
   "id": "59b5b3b3-0260-49a4-b691-23b8d94f1a02",
   "metadata": {},
   "outputs": [
    {
     "ename": "FileNotFoundError",
     "evalue": "No such file or directory: 'loops-00.png'",
     "output_type": "error",
     "traceback": [
      "\u001b[0;31m---------------------------------------------------------------------------\u001b[0m",
      "\u001b[0;31mTypeError\u001b[0m                                 Traceback (most recent call last)",
      "File \u001b[0;32m/opt/anaconda3/lib/python3.12/site-packages/IPython/core/display.py:1045\u001b[0m, in \u001b[0;36mImage._data_and_metadata\u001b[0;34m(self, always_both)\u001b[0m\n\u001b[1;32m   1044\u001b[0m \u001b[38;5;28;01mtry\u001b[39;00m:\n\u001b[0;32m-> 1045\u001b[0m     b64_data \u001b[38;5;241m=\u001b[39m b2a_base64(\u001b[38;5;28mself\u001b[39m\u001b[38;5;241m.\u001b[39mdata, newline\u001b[38;5;241m=\u001b[39m\u001b[38;5;28;01mFalse\u001b[39;00m)\u001b[38;5;241m.\u001b[39mdecode(\u001b[38;5;124m\"\u001b[39m\u001b[38;5;124mascii\u001b[39m\u001b[38;5;124m\"\u001b[39m)\n\u001b[1;32m   1046\u001b[0m \u001b[38;5;28;01mexcept\u001b[39;00m \u001b[38;5;167;01mTypeError\u001b[39;00m \u001b[38;5;28;01mas\u001b[39;00m e:\n",
      "\u001b[0;31mTypeError\u001b[0m: a bytes-like object is required, not 'str'",
      "\nThe above exception was the direct cause of the following exception:\n",
      "\u001b[0;31mFileNotFoundError\u001b[0m                         Traceback (most recent call last)",
      "File \u001b[0;32m/opt/anaconda3/lib/python3.12/site-packages/IPython/core/formatters.py:977\u001b[0m, in \u001b[0;36mMimeBundleFormatter.__call__\u001b[0;34m(self, obj, include, exclude)\u001b[0m\n\u001b[1;32m    974\u001b[0m     method \u001b[38;5;241m=\u001b[39m get_real_method(obj, \u001b[38;5;28mself\u001b[39m\u001b[38;5;241m.\u001b[39mprint_method)\n\u001b[1;32m    976\u001b[0m     \u001b[38;5;28;01mif\u001b[39;00m method \u001b[38;5;129;01mis\u001b[39;00m \u001b[38;5;129;01mnot\u001b[39;00m \u001b[38;5;28;01mNone\u001b[39;00m:\n\u001b[0;32m--> 977\u001b[0m         \u001b[38;5;28;01mreturn\u001b[39;00m method(include\u001b[38;5;241m=\u001b[39minclude, exclude\u001b[38;5;241m=\u001b[39mexclude)\n\u001b[1;32m    978\u001b[0m     \u001b[38;5;28;01mreturn\u001b[39;00m \u001b[38;5;28;01mNone\u001b[39;00m\n\u001b[1;32m    979\u001b[0m \u001b[38;5;28;01melse\u001b[39;00m:\n",
      "File \u001b[0;32m/opt/anaconda3/lib/python3.12/site-packages/IPython/core/display.py:1035\u001b[0m, in \u001b[0;36mImage._repr_mimebundle_\u001b[0;34m(self, include, exclude)\u001b[0m\n\u001b[1;32m   1033\u001b[0m \u001b[38;5;28;01mif\u001b[39;00m \u001b[38;5;28mself\u001b[39m\u001b[38;5;241m.\u001b[39membed:\n\u001b[1;32m   1034\u001b[0m     mimetype \u001b[38;5;241m=\u001b[39m \u001b[38;5;28mself\u001b[39m\u001b[38;5;241m.\u001b[39m_mimetype\n\u001b[0;32m-> 1035\u001b[0m     data, metadata \u001b[38;5;241m=\u001b[39m \u001b[38;5;28mself\u001b[39m\u001b[38;5;241m.\u001b[39m_data_and_metadata(always_both\u001b[38;5;241m=\u001b[39m\u001b[38;5;28;01mTrue\u001b[39;00m)\n\u001b[1;32m   1036\u001b[0m     \u001b[38;5;28;01mif\u001b[39;00m metadata:\n\u001b[1;32m   1037\u001b[0m         metadata \u001b[38;5;241m=\u001b[39m {mimetype: metadata}\n",
      "File \u001b[0;32m/opt/anaconda3/lib/python3.12/site-packages/IPython/core/display.py:1047\u001b[0m, in \u001b[0;36mImage._data_and_metadata\u001b[0;34m(self, always_both)\u001b[0m\n\u001b[1;32m   1045\u001b[0m     b64_data \u001b[38;5;241m=\u001b[39m b2a_base64(\u001b[38;5;28mself\u001b[39m\u001b[38;5;241m.\u001b[39mdata, newline\u001b[38;5;241m=\u001b[39m\u001b[38;5;28;01mFalse\u001b[39;00m)\u001b[38;5;241m.\u001b[39mdecode(\u001b[38;5;124m\"\u001b[39m\u001b[38;5;124mascii\u001b[39m\u001b[38;5;124m\"\u001b[39m)\n\u001b[1;32m   1046\u001b[0m \u001b[38;5;28;01mexcept\u001b[39;00m \u001b[38;5;167;01mTypeError\u001b[39;00m \u001b[38;5;28;01mas\u001b[39;00m e:\n\u001b[0;32m-> 1047\u001b[0m     \u001b[38;5;28;01mraise\u001b[39;00m \u001b[38;5;167;01mFileNotFoundError\u001b[39;00m(\n\u001b[1;32m   1048\u001b[0m         \u001b[38;5;124m\"\u001b[39m\u001b[38;5;124mNo such file or directory: \u001b[39m\u001b[38;5;124m'\u001b[39m\u001b[38;5;132;01m%s\u001b[39;00m\u001b[38;5;124m'\u001b[39m\u001b[38;5;124m\"\u001b[39m \u001b[38;5;241m%\u001b[39m (\u001b[38;5;28mself\u001b[39m\u001b[38;5;241m.\u001b[39mdata)) \u001b[38;5;28;01mfrom\u001b[39;00m \u001b[38;5;21;01me\u001b[39;00m\n\u001b[1;32m   1049\u001b[0m md \u001b[38;5;241m=\u001b[39m {}\n\u001b[1;32m   1050\u001b[0m \u001b[38;5;28;01mif\u001b[39;00m \u001b[38;5;28mself\u001b[39m\u001b[38;5;241m.\u001b[39mmetadata:\n",
      "\u001b[0;31mFileNotFoundError\u001b[0m: No such file or directory: 'loops-00.png'"
     ]
    },
    {
     "ename": "FileNotFoundError",
     "evalue": "No such file or directory: 'loops-00.png'",
     "output_type": "error",
     "traceback": [
      "\u001b[0;31m---------------------------------------------------------------------------\u001b[0m",
      "\u001b[0;31mTypeError\u001b[0m                                 Traceback (most recent call last)",
      "File \u001b[0;32m/opt/anaconda3/lib/python3.12/site-packages/IPython/core/display.py:1045\u001b[0m, in \u001b[0;36mImage._data_and_metadata\u001b[0;34m(self, always_both)\u001b[0m\n\u001b[1;32m   1044\u001b[0m \u001b[38;5;28;01mtry\u001b[39;00m:\n\u001b[0;32m-> 1045\u001b[0m     b64_data \u001b[38;5;241m=\u001b[39m b2a_base64(\u001b[38;5;28mself\u001b[39m\u001b[38;5;241m.\u001b[39mdata, newline\u001b[38;5;241m=\u001b[39m\u001b[38;5;28;01mFalse\u001b[39;00m)\u001b[38;5;241m.\u001b[39mdecode(\u001b[38;5;124m\"\u001b[39m\u001b[38;5;124mascii\u001b[39m\u001b[38;5;124m\"\u001b[39m)\n\u001b[1;32m   1046\u001b[0m \u001b[38;5;28;01mexcept\u001b[39;00m \u001b[38;5;167;01mTypeError\u001b[39;00m \u001b[38;5;28;01mas\u001b[39;00m e:\n",
      "\u001b[0;31mTypeError\u001b[0m: a bytes-like object is required, not 'str'",
      "\nThe above exception was the direct cause of the following exception:\n",
      "\u001b[0;31mFileNotFoundError\u001b[0m                         Traceback (most recent call last)",
      "File \u001b[0;32m/opt/anaconda3/lib/python3.12/site-packages/IPython/core/formatters.py:347\u001b[0m, in \u001b[0;36mBaseFormatter.__call__\u001b[0;34m(self, obj)\u001b[0m\n\u001b[1;32m    345\u001b[0m     method \u001b[38;5;241m=\u001b[39m get_real_method(obj, \u001b[38;5;28mself\u001b[39m\u001b[38;5;241m.\u001b[39mprint_method)\n\u001b[1;32m    346\u001b[0m     \u001b[38;5;28;01mif\u001b[39;00m method \u001b[38;5;129;01mis\u001b[39;00m \u001b[38;5;129;01mnot\u001b[39;00m \u001b[38;5;28;01mNone\u001b[39;00m:\n\u001b[0;32m--> 347\u001b[0m         \u001b[38;5;28;01mreturn\u001b[39;00m method()\n\u001b[1;32m    348\u001b[0m     \u001b[38;5;28;01mreturn\u001b[39;00m \u001b[38;5;28;01mNone\u001b[39;00m\n\u001b[1;32m    349\u001b[0m \u001b[38;5;28;01melse\u001b[39;00m:\n",
      "File \u001b[0;32m/opt/anaconda3/lib/python3.12/site-packages/IPython/core/display.py:1067\u001b[0m, in \u001b[0;36mImage._repr_png_\u001b[0;34m(self)\u001b[0m\n\u001b[1;32m   1065\u001b[0m \u001b[38;5;28;01mdef\u001b[39;00m \u001b[38;5;21m_repr_png_\u001b[39m(\u001b[38;5;28mself\u001b[39m):\n\u001b[1;32m   1066\u001b[0m     \u001b[38;5;28;01mif\u001b[39;00m \u001b[38;5;28mself\u001b[39m\u001b[38;5;241m.\u001b[39membed \u001b[38;5;129;01mand\u001b[39;00m \u001b[38;5;28mself\u001b[39m\u001b[38;5;241m.\u001b[39mformat \u001b[38;5;241m==\u001b[39m \u001b[38;5;28mself\u001b[39m\u001b[38;5;241m.\u001b[39m_FMT_PNG:\n\u001b[0;32m-> 1067\u001b[0m         \u001b[38;5;28;01mreturn\u001b[39;00m \u001b[38;5;28mself\u001b[39m\u001b[38;5;241m.\u001b[39m_data_and_metadata()\n",
      "File \u001b[0;32m/opt/anaconda3/lib/python3.12/site-packages/IPython/core/display.py:1047\u001b[0m, in \u001b[0;36mImage._data_and_metadata\u001b[0;34m(self, always_both)\u001b[0m\n\u001b[1;32m   1045\u001b[0m     b64_data \u001b[38;5;241m=\u001b[39m b2a_base64(\u001b[38;5;28mself\u001b[39m\u001b[38;5;241m.\u001b[39mdata, newline\u001b[38;5;241m=\u001b[39m\u001b[38;5;28;01mFalse\u001b[39;00m)\u001b[38;5;241m.\u001b[39mdecode(\u001b[38;5;124m\"\u001b[39m\u001b[38;5;124mascii\u001b[39m\u001b[38;5;124m\"\u001b[39m)\n\u001b[1;32m   1046\u001b[0m \u001b[38;5;28;01mexcept\u001b[39;00m \u001b[38;5;167;01mTypeError\u001b[39;00m \u001b[38;5;28;01mas\u001b[39;00m e:\n\u001b[0;32m-> 1047\u001b[0m     \u001b[38;5;28;01mraise\u001b[39;00m \u001b[38;5;167;01mFileNotFoundError\u001b[39;00m(\n\u001b[1;32m   1048\u001b[0m         \u001b[38;5;124m\"\u001b[39m\u001b[38;5;124mNo such file or directory: \u001b[39m\u001b[38;5;124m'\u001b[39m\u001b[38;5;132;01m%s\u001b[39;00m\u001b[38;5;124m'\u001b[39m\u001b[38;5;124m\"\u001b[39m \u001b[38;5;241m%\u001b[39m (\u001b[38;5;28mself\u001b[39m\u001b[38;5;241m.\u001b[39mdata)) \u001b[38;5;28;01mfrom\u001b[39;00m \u001b[38;5;21;01me\u001b[39;00m\n\u001b[1;32m   1049\u001b[0m md \u001b[38;5;241m=\u001b[39m {}\n\u001b[1;32m   1050\u001b[0m \u001b[38;5;28;01mif\u001b[39;00m \u001b[38;5;28mself\u001b[39m\u001b[38;5;241m.\u001b[39mmetadata:\n",
      "\u001b[0;31mFileNotFoundError\u001b[0m: No such file or directory: 'loops-00.png'"
     ]
    },
    {
     "data": {
      "text/plain": [
       "<IPython.core.display.Image object>"
      ]
     },
     "execution_count": 13,
     "metadata": {},
     "output_type": "execute_result"
    }
   ],
   "source": [
    "Image('loops-00.png', width=200)"
   ]
  },
  {
   "cell_type": "code",
   "execution_count": null,
   "id": "a1ac1f74-5089-4d55-8a60-101e79ab5b5e",
   "metadata": {},
   "outputs": [],
   "source": [
    "# Try different numbers\n",
    "n = 10\n",
    "\n",
    "# initialize sum and counter\n",
    "sum = 0\n",
    "i   = 1\n",
    "\n",
    "while i <= n:\n",
    "    sum = sum + i\n",
    "    i   = i+1      # update counter\n",
    "\n",
    "# print the sum\n",
    "print(\"The sum is\",sum)"
   ]
  },
  {
   "cell_type": "markdown",
   "id": "272a8b69-5e64-41f9-a060-5aea7f0bb27e",
   "metadata": {},
   "source": [
    "#### Loop with condition in the middle\n",
    "This kind of loop can be implemented using an `infinite` loop along with a `conditional break` in between the body of the loop."
   ]
  },
  {
   "cell_type": "code",
   "execution_count": null,
   "id": "f47641da-e8a0-40b9-91d7-fa1930afdff8",
   "metadata": {},
   "outputs": [],
   "source": [
    "Image('loops-01.png', width=200)"
   ]
  },
  {
   "cell_type": "code",
   "execution_count": null,
   "id": "bf33cbdd-d6dc-42be-b4e1-6c2093a12744",
   "metadata": {},
   "outputs": [],
   "source": [
    "vowels = \"aeiouAEIOU\"\n",
    "\n",
    "# infinite loop\n",
    "while True:\n",
    "    v = input(\"Enter a vowel: \")\n",
    "    \n",
    "    # condition in the middle\n",
    "    if v in vowels:\n",
    "        break\n",
    "    \n",
    "    print(\"That is not a vowel. Try again!\")\n",
    "\n",
    "print(\"Thank you!\")"
   ]
  },
  {
   "cell_type": "markdown",
   "id": "691d74a8-9d6c-4799-8aef-edb8dded4f5f",
   "metadata": {},
   "source": [
    "#### Loop with condition at the bottom\n",
    "This kind of loop ensures that the body of the loop is executed at least once. \n",
    "\n",
    "It can be implemented using an `infinite loop` along with a `conditional break` at the `end`. "
   ]
  },
  {
   "cell_type": "code",
   "execution_count": null,
   "id": "9e9510fa-892d-4530-adf6-042eb0da6b4a",
   "metadata": {},
   "outputs": [],
   "source": [
    "import random"
   ]
  },
  {
   "cell_type": "code",
   "execution_count": null,
   "id": "8a56d5b7-dec0-4414-9513-9f782eeb4b74",
   "metadata": {},
   "outputs": [],
   "source": [
    "random.randint(10, 60)"
   ]
  },
  {
   "cell_type": "code",
   "execution_count": null,
   "id": "6d34431e-b342-4f6b-850a-7557dccd7017",
   "metadata": {},
   "outputs": [],
   "source": [
    "# import random module\n",
    "import random\n",
    "\n",
    "while True:\n",
    "    input(\"Press enter to roll the dice\")\n",
    "\n",
    "    # get a number between 1 to 6\n",
    "    num = random.randint(1,6)\n",
    "    \n",
    "    print(\"You got\", num)\n",
    "    option = input(\"Roll again?(y/n) \")\n",
    "\n",
    "    # condition\n",
    "    if option == 'n':\n",
    "        break\n",
    "    "
   ]
  },
  {
   "cell_type": "code",
   "execution_count": null,
   "id": "657230db-da40-44e7-a723-47879be0fa8a",
   "metadata": {},
   "outputs": [],
   "source": [
    "# Program to find the sum of all numbers stored in a list\n",
    "\n",
    "# List of numbers\n",
    "numbers = [6, 5, 3, 8, 4, 2, 5, 4, 11]\n",
    "\n",
    "# variable to store the sum\n",
    "summ = 0\n",
    "\n",
    "# iterate over the list\n",
    "for val in numbers:\n",
    "\tsumm = summ + val\n",
    "\n",
    "print(\"The sum is\", summ)"
   ]
  },
  {
   "cell_type": "code",
   "execution_count": null,
   "id": "4cb3ad53-9f95-45f3-a6db-a5cadfb747cd",
   "metadata": {},
   "outputs": [],
   "source": [
    "# Program to iterate through a list using indexing\n",
    "\n",
    "genre = ['pop', 'rock', 'jazz']\n",
    "\n",
    "# iterate over the list using index\n",
    "for each_genre in range(len(genre)):\n",
    "    \n",
    "    print(\"I like\", genre[each_genre])"
   ]
  },
  {
   "cell_type": "markdown",
   "id": "29eb9d92-416c-4c6f-8c74-71a11a7dcd12",
   "metadata": {},
   "source": [
    "#### for loop with else\n",
    "- A `for loop` can have an optional `else` block as well. The `else` part is executed if the items in the sequence used in for loop exhausts.\n",
    "\n",
    "- The `break` keyword can be used to stop a for loop. `In such cases, the else part is ignored.`\n",
    "\n",
    "- Hence, a for loop's else part runs if no break occurs."
   ]
  },
  {
   "cell_type": "code",
   "execution_count": null,
   "id": "a6b49962-84e6-4cf2-bbad-19ddad870b17",
   "metadata": {},
   "outputs": [],
   "source": [
    "digits = [0, 1, 5]\n",
    "\n",
    "for i in digits:\n",
    "    print(i)\n",
    "else:\n",
    "    print(\"No items left.\")"
   ]
  },
  {
   "cell_type": "code",
   "execution_count": null,
   "id": "86195e04-2c95-4b7f-828e-bc1dc508ccb1",
   "metadata": {},
   "outputs": [],
   "source": [
    "# program to display student's marks from record\n",
    "student_name = 'Ramki'\n",
    "\n",
    "marks = {'Dave': 90, 'Bhupen': 55, 'Brat': 77}\n",
    "\n",
    "for student in marks:\n",
    "    if student == student_name:\n",
    "        print(marks[student])\n",
    "        break\n",
    "else:\n",
    "    print('No entry with name {} found.'.format(student_name))"
   ]
  },
  {
   "cell_type": "markdown",
   "id": "b61926a4-a465-4114-a9f3-b5e8b78a5604",
   "metadata": {},
   "source": [
    "---------------------\n",
    "## Simple Projects on loops\n",
    "--------------------\n",
    "\n",
    "#### Write a program to calculate factorial of a number. (while loop)"
   ]
  },
  {
   "cell_type": "code",
   "execution_count": null,
   "id": "390a26e7-c85d-4548-b3e1-fc7ac06f394f",
   "metadata": {},
   "outputs": [],
   "source": [
    "print (\"Enter number: \")\n",
    "number = int(input())\n",
    "\n",
    "number_entered = number\n",
    "\n",
    "fac = 1\n",
    "\n",
    "if number == 0:\n",
    "    result = 1\n",
    "else:\n",
    "    while number>=1:\n",
    "        fac    = fac * number\n",
    "        number = number-1\n",
    "    result = fac\n",
    "    \n",
    "print('Factorial of {} is {}'.format(number_entered, result))"
   ]
  },
  {
   "cell_type": "code",
   "execution_count": null,
   "id": "43c90311-4ff9-47bd-bc22-49211362becd",
   "metadata": {},
   "outputs": [],
   "source": [
    "name_participant = 'Ankur'"
   ]
  },
  {
   "cell_type": "code",
   "execution_count": null,
   "id": "95a299ed-a4c4-4dfe-a397-62212e551878",
   "metadata": {},
   "outputs": [],
   "source": [
    "print(\"Pace is slow, reported by one participant {}\".format(name_participant))"
   ]
  },
  {
   "cell_type": "markdown",
   "id": "1e4fe5a1-fbe4-452e-bf6d-a9bfe3b2ed00",
   "metadata": {},
   "source": [
    "#### write a program to generate fibbonaci numbers (using while loop)"
   ]
  },
  {
   "cell_type": "code",
   "execution_count": null,
   "id": "5426fbd7-264e-436f-8af0-cd16982f7cc0",
   "metadata": {},
   "outputs": [],
   "source": [
    "count = int (input (\"How many fibbonaci numbers you would like to generate\"))\n",
    "\n",
    "i = 1\n",
    "if count == 0:\n",
    "    fib = []\n",
    "elif count == 1:\n",
    "    fib = [1]\n",
    "elif count == 2:\n",
    "    fib = [1, 1]\n",
    "\n",
    "while i < (count -1):\n",
    "    fib.append (fib[i] + fib [i-1])\n",
    "    i += 1\n",
    "\n",
    "# print the series\n",
    "print (fib)"
   ]
  },
  {
   "cell_type": "markdown",
   "id": "d6d6617f-b965-4b1f-a92d-22620fab62ee",
   "metadata": {},
   "source": [
    "#### Write a program which takes 2 digits, X,Y as input and generates a 2-dimensional array. \n",
    "\n",
    "The element value in the i-th row and j-th column of the array should be i*j.\n",
    "Note: i=0,1.., X-1; j=0,1,¡­Y-1.\n",
    "\n",
    "Suppose the following inputs are given to the program: 3,5\n",
    "\n",
    "Then, the output of the program should be:\n",
    "\n",
    "[[0, 0, 0, 0, 0], \n",
    "[0, 1, 2, 3, 4], \n",
    "[0, 2, 4, 6, 8]] "
   ]
  },
  {
   "cell_type": "code",
   "execution_count": 27,
   "id": "c73b5985-7a79-4838-b3d6-7b9efa1cc736",
   "metadata": {},
   "outputs": [
    {
     "name": "stdin",
     "output_type": "stream",
     "text": [
      "Enter array dimension (m , n e.g. 3 , 5) :  2,3\n"
     ]
    },
    {
     "name": "stdout",
     "output_type": "stream",
     "text": [
      "2,3\n",
      "[[0, 0, 0], [0, 0, 0]]\n",
      "[[0, 0, 0], [0, 1, 2]]\n"
     ]
    }
   ],
   "source": [
    "input_str = input('Enter array dimension (m , n e.g. 3 , 5) : ')\n",
    "\n",
    "print(input_str)\n",
    "\n",
    "dimension = [ int(x) for x in input_str.split(',')]\n",
    "rowNum = dimension[0]\n",
    "colNum = dimension[1]\n",
    "\n",
    "multilist = [[0 for col in range(colNum)] for row in range(rowNum)]\n",
    "print (multilist)\n",
    "\n",
    "for row in range(rowNum):\n",
    "    for col in range(colNum):\n",
    "        multilist[row][col] = row*col\n",
    "\n",
    "print (multilist)"
   ]
  },
  {
   "cell_type": "markdown",
   "id": "8a9d44ff-f934-4c96-9ae7-197672caea5b",
   "metadata": {},
   "source": [
    "#### write a script to transpose of a matrix"
   ]
  },
  {
   "cell_type": "code",
   "execution_count": 30,
   "id": "994b3393-deec-4201-b71d-1ce3daf26d3e",
   "metadata": {},
   "outputs": [
    {
     "data": {
      "text/plain": [
       "[[4, 7, 5], [5, 1, 6], [3, 8, 4], [9, 2, 7]]"
      ]
     },
     "execution_count": 30,
     "metadata": {},
     "output_type": "execute_result"
    }
   ],
   "source": [
    "A = [[4, 5, 3, 9], \n",
    "     [7, 1, 8, 2], \n",
    "     [5, 6, 4, 7]] \n",
    "\n",
    "B = []\n",
    "  \n",
    "# iterate over list A to the length of an item  \n",
    "for i in range(len(A[0])): \n",
    "\n",
    "    row =[] \n",
    "    for item in A: \n",
    "\n",
    "        # appending to new list with values and index positions \n",
    "        # i contains index position and item contains values \n",
    "        row.append(item[i]) \n",
    "\n",
    "    B.append(row) \n",
    "\n",
    "B"
   ]
  },
  {
   "cell_type": "code",
   "execution_count": null,
   "id": "60ce902e-d295-4dc3-8d43-e772c91af823",
   "metadata": {},
   "outputs": [],
   "source": []
  }
 ],
 "metadata": {
  "kernelspec": {
   "display_name": "Python 3 (ipykernel)",
   "language": "python",
   "name": "python3"
  },
  "language_info": {
   "codemirror_mode": {
    "name": "ipython",
    "version": 3
   },
   "file_extension": ".py",
   "mimetype": "text/x-python",
   "name": "python",
   "nbconvert_exporter": "python",
   "pygments_lexer": "ipython3",
   "version": "3.12.4"
  }
 },
 "nbformat": 4,
 "nbformat_minor": 5
}
