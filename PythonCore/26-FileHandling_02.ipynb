{
 "cells": [
  {
   "cell_type": "markdown",
   "id": "74d1f704-e84e-46d7-bf8d-132ac54d7eea",
   "metadata": {},
   "source": [
    "---------------\n",
    "### File and Dir handling\n",
    "-----------"
   ]
  },
  {
   "cell_type": "markdown",
   "id": "05ec2a5b-6c65-4103-a52b-38bd7d773d07",
   "metadata": {},
   "source": [
    "#### os module\n",
    "\n",
    "The os module provides a way to interact with the operating system. It offers functions to manipulate file paths, create and delete directories, check file existence, and more. \n",
    "\n",
    "Some commonly used functions include:\n",
    "\n",
    "- `os.path`: A submodule that provides various functions for working with file paths, such as join(), split(), basename(), dirname(), etc.\n",
    "- `os.mkdir()`: Creates a new directory.\n",
    "- `os.rmdir()`: Removes an empty directory.\n",
    "- `os.remove()`: Deletes a file.\n",
    "- `os.listdir()`: Returns a list of files in a directory."
   ]
  },
  {
   "cell_type": "code",
   "execution_count": 3,
   "id": "87c73034-3f28-4039-bccb-67f08dba3509",
   "metadata": {},
   "outputs": [],
   "source": [
    "import os"
   ]
  },
  {
   "cell_type": "code",
   "execution_count": 6,
   "id": "caf60384-b0d8-48ca-9b04-e8884ffc0050",
   "metadata": {},
   "outputs": [
    {
     "name": "stdout",
     "output_type": "stream",
     "text": [
      "file_handling.txt exists!\n"
     ]
    }
   ],
   "source": [
    "# Checking if a file exists\n",
    "if os.path.exists('file_handling.txt'):\n",
    "    print(\"file_handling.txt exists!\")\n",
    "else:\n",
    "    print(\"file_handling.txt does not exist!\")"
   ]
  },
  {
   "cell_type": "code",
   "execution_count": 8,
   "id": "02c9a32a-d7d9-4203-877a-05ba5b48b5ef",
   "metadata": {},
   "outputs": [
    {
     "name": "stdout",
     "output_type": "stream",
     "text": [
      "example_directory created!\n"
     ]
    }
   ],
   "source": [
    "# Creating a new directory\n",
    "if not os.path.exists('example_directory'):\n",
    "    os.mkdir('example_directory')\n",
    "    print(\"example_directory created!\")"
   ]
  },
  {
   "cell_type": "markdown",
   "id": "8ba9b2fa-0a22-4978-9a59-ef25b9c10583",
   "metadata": {},
   "source": [
    "# Writing to a file\n",
    "with open('example.txt', 'w') as file:\n",
    "    file.write(\"Hello, this is an example.\\n\")\n",
    "    file.write(\"Welcome to Python file I/O operations.\\n\")\n",
    "    print(\"Data written to example.txt!\")"
   ]
  },
  {
   "cell_type": "code",
   "execution_count": 12,
   "id": "491541ae-df45-42c4-a0ae-018d5ee27498",
   "metadata": {},
   "outputs": [
    {
     "name": "stdout",
     "output_type": "stream",
     "text": [
      "File content:\n",
      "Hello, this is an example.\n",
      "Welcome to Python file I/O operations.\n",
      "\n"
     ]
    }
   ],
   "source": [
    "# Reading from a file\n",
    "with open('example.txt', 'r') as file:\n",
    "    content = file.read()\n",
    "    print(\"File content:\")\n",
    "    print(content)"
   ]
  },
  {
   "cell_type": "code",
   "execution_count": 14,
   "id": "4730a004-384e-4e20-aa8c-99c673560836",
   "metadata": {},
   "outputs": [
    {
     "name": "stdout",
     "output_type": "stream",
     "text": [
      "Files in the 'example_directory':\n"
     ]
    }
   ],
   "source": [
    "# Listing files in a directory\n",
    "print(\"Files in the 'example_directory':\")\n",
    "for filename in os.listdir('example_directory'):\n",
    "    print(filename)"
   ]
  },
  {
   "cell_type": "code",
   "execution_count": 16,
   "id": "9e1beb94-bb7a-4c3a-9f00-8842cc6cb880",
   "metadata": {},
   "outputs": [
    {
     "name": "stdout",
     "output_type": "stream",
     "text": [
      "example_directory removed!\n"
     ]
    }
   ],
   "source": [
    "# Removing a directory\n",
    "os.rmdir('example_directory')\n",
    "print(\"example_directory removed!\")"
   ]
  },
  {
   "cell_type": "markdown",
   "id": "d402dce9-b33c-440b-b9d0-44cc14f80294",
   "metadata": {},
   "source": [
    "#### shutil module\n",
    "\n",
    "- The shutil module provides higher-level file operations that are often used when working with files and directories. \n",
    "- Some useful functions include \n",
    "    - copying files (shutil.copy()), \n",
    "    - copying directories recursively (shutil.copytree()), \n",
    "    - moving files or directories (shutil.move()), and \n",
    "    - deleting directories recursively (shutil.rmtree())."
   ]
  },
  {
   "cell_type": "code",
   "execution_count": 21,
   "id": "a792692f-fe2c-42ad-8363-c339566723d8",
   "metadata": {},
   "outputs": [],
   "source": [
    "import shutil"
   ]
  },
  {
   "cell_type": "code",
   "execution_count": 35,
   "id": "52a9a92d-96e6-418e-9068-070f3d562e3e",
   "metadata": {},
   "outputs": [
    {
     "name": "stdout",
     "output_type": "stream",
     "text": [
      "example.txt copied to example_copy.txt!\n",
      "source_directory copied to destination_directory!\n",
      "example.txt moved to new_location!\n",
      "destination_directory removed!\n"
     ]
    }
   ],
   "source": [
    "# Copying a file\n",
    "shutil.copy('example.txt', 'example_copy.txt')\n",
    "print(\"example.txt copied to example_copy.txt!\")\n",
    "\n",
    "# Copying a directory recursively\n",
    "shutil.copytree('source_directory', 'destination_directory')\n",
    "print(\"source_directory copied to destination_directory!\")\n",
    "\n",
    "# Moving a file\n",
    "shutil.move('example.txt', 'new_location/example.txt')\n",
    "print(\"example.txt moved to new_location!\")\n",
    "\n",
    "# Deleting a directory recursively\n",
    "shutil.rmtree('destination_directory')\n",
    "print(\"destination_directory removed!\")"
   ]
  },
  {
   "cell_type": "markdown",
   "id": "b7f6b134-2f36-4eba-bde9-b053b141bb49",
   "metadata": {},
   "source": [
    "#### glob module:\n",
    "The glob module is used to find all the pathnames matching a specified pattern according to the rules used by the Unix shell. This module is handy when you want to retrieve a list of files in a directory based on specific patterns (e.g., all .txt files, all files with a certain prefix, etc.). The main function is glob.glob()."
   ]
  },
  {
   "cell_type": "code",
   "execution_count": 38,
   "id": "b8bb25b4-7859-460f-ad4c-fa32380a115c",
   "metadata": {},
   "outputs": [
    {
     "name": "stdout",
     "output_type": "stream",
     "text": [
      "Python files in the 'my_code' directory:\n",
      "[]\n"
     ]
    }
   ],
   "source": [
    "import glob\n",
    "\n",
    "# List all Python files (*.py) in the 'my_code' directory\n",
    "python_files = glob.glob('my_code/*.py')\n",
    "print(\"Python files in the 'my_code' directory:\")\n",
    "print(python_files)"
   ]
  },
  {
   "cell_type": "code",
   "execution_count": 48,
   "id": "d03f9ce3-5021-4763-96ee-46b75f0e6b06",
   "metadata": {},
   "outputs": [
    {
     "name": "stdout",
     "output_type": "stream",
     "text": [
      "Python files in the 'my_code' directory:\n",
      "['21-scope-and-lifetime-of-variables.ipynb', '04-Var-assignments.ipynb', '02-dataTypes.ipynb', '01-variables.ipynb', '15-String_sample_programs.ipynb', '05-basic-operations.ipynb', '19-WhatIsFunctions.ipynb', '09-Lists.ipynb', '16-MembershipStatements.ipynb', '14-Strings.ipynb', '25-FileHandling_01.ipynb', '18-NumericOperations.ipynb', '26-FileHandling_02.ipynb', '08-Exercise.ipynb', '03-dynamicTyping.ipynb', '23-Lambda-functions-basics.ipynb', '07-Compoung-if.ipynb', '13-Exercise.ipynb', '20-Built-in-and-user-defined-functions.ipynb.ipynb', '17-Mutable_And_Imutable_objects.ipynb', '12-Tuple.ipynb', '22-Exercise-functions.ipynb', '11-Dictionary.ipynb', '06-Compound-loop-projects.ipynb', '24-Lambda.ipynb', '10-Sets.ipynb']\n"
     ]
    }
   ],
   "source": [
    "python_files = glob.glob('*.ipynb')\n",
    "print(\"Python files in the 'my_code' directory:\")\n",
    "print(python_files)"
   ]
  },
  {
   "cell_type": "code",
   "execution_count": 50,
   "id": "86cbac57-919f-4c81-877c-fbbcb89fbabc",
   "metadata": {},
   "outputs": [
    {
     "name": "stdout",
     "output_type": "stream",
     "text": [
      "Files with prefix 'data_' in 'data_files' directory and subdirectories:\n",
      "[]\n"
     ]
    }
   ],
   "source": [
    "# Find all files with the prefix 'data_' in the 'data_files' directory and its subdirectories\n",
    "data_files = glob.glob('data_files/**/data_*.csv', recursive=True)\n",
    "print(\"Files with prefix 'data_' in 'data_files' directory and subdirectories:\")\n",
    "print(data_files)"
   ]
  },
  {
   "cell_type": "code",
   "execution_count": 52,
   "id": "a695f54f-19bf-475a-ad14-79bd291dfce1",
   "metadata": {},
   "outputs": [
    {
     "name": "stdout",
     "output_type": "stream",
     "text": [
      "Image files in the 'images' directory:\n",
      "['images/im_saved.jpg', 'images/dict_00.png', 'images/dict_01.png']\n"
     ]
    }
   ],
   "source": [
    "# Find all files with extensions either '.jpg' or '.png' in the 'images' directory\n",
    "image_files = glob.glob('images/*.jpg') + glob.glob('images/*.png')\n",
    "print(\"Image files in the 'images' directory:\")\n",
    "print(image_files)"
   ]
  },
  {
   "cell_type": "code",
   "execution_count": 54,
   "id": "8871ecb8-fce6-4d97-8aed-928d37d1511b",
   "metadata": {},
   "outputs": [
    {
     "name": "stdout",
     "output_type": "stream",
     "text": [
      "All files in 'my_folder' directory and subdirectories:\n",
      "[]\n"
     ]
    }
   ],
   "source": [
    "# List all files in the 'my_folder' directory and its subdirectories\n",
    "all_files = glob.glob('my_folder/**', recursive=True)\n",
    "print(\"All files in 'my_folder' directory and subdirectories:\")\n",
    "print(all_files)"
   ]
  },
  {
   "cell_type": "markdown",
   "id": "d678dae1-fd1e-4a8b-925d-2ec29bfc76fc",
   "metadata": {},
   "source": [
    "#### os.path module (part of os):"
   ]
  },
  {
   "cell_type": "code",
   "execution_count": 59,
   "id": "93195088-0964-477d-9889-b5c2056dfed0",
   "metadata": {},
   "outputs": [
    {
     "name": "stdout",
     "output_type": "stream",
     "text": [
      "example_copy.txt exists!\n",
      "example_copy.txt is a file!\n"
     ]
    }
   ],
   "source": [
    "path = 'example_copy.txt'\n",
    "\n",
    "# Check if the path exists\n",
    "if os.path.exists(path):\n",
    "    print(f\"{path} exists!\")\n",
    "    \n",
    "# Check if it's a directory\n",
    "if os.path.isdir(path):\n",
    "    print(f\"{path} is a directory!\")\n",
    "    \n",
    "# Check if it's a file\n",
    "if os.path.isfile(path):\n",
    "    print(f\"{path} is a file!\")"
   ]
  },
  {
   "cell_type": "code",
   "execution_count": 61,
   "id": "8e0b7352-9e04-49e0-9d69-d8da0a5aff8a",
   "metadata": {},
   "outputs": [
    {
     "name": "stdout",
     "output_type": "stream",
     "text": [
      "Joined path: my_folder/example.txt\n",
      "Absolute path: /Users/mamalkani/Documents/AI and ML/Project/PythonCore/my_folder/example.txt\n"
     ]
    }
   ],
   "source": [
    "import os\n",
    "\n",
    "# Join paths using os.path.join()\n",
    "directory = 'my_folder'\n",
    "file_name = 'example.txt'\n",
    "joined_path = os.path.join(directory, file_name)\n",
    "print(\"Joined path:\", joined_path)\n",
    "\n",
    "# Get the absolute path of a file\n",
    "absolute_path = os.path.abspath(joined_path)\n",
    "print(\"Absolute path:\", absolute_path)"
   ]
  },
  {
   "cell_type": "code",
   "execution_count": 63,
   "id": "89de54d1-1724-4ec1-8988-4068beeae4a4",
   "metadata": {},
   "outputs": [
    {
     "name": "stdout",
     "output_type": "stream",
     "text": [
      "Directory: /home/user/documents\n",
      "Filename: example.txt\n",
      "Directory: /home/user/documents\n",
      "Filename: example.txt\n"
     ]
    }
   ],
   "source": [
    "file_path = '/home/user/documents/example.txt'\n",
    "\n",
    "# Split the file path into directory and filename using os.path.split()\n",
    "directory, filename = os.path.split(file_path)\n",
    "print(\"Directory:\", directory)\n",
    "print(\"Filename:\", filename)\n",
    "\n",
    "# Alternatively, you can use os.path.dirname() and os.path.basename()\n",
    "directory = os.path.dirname(file_path)\n",
    "filename = os.path.basename(file_path)\n",
    "print(\"Directory:\", directory)\n",
    "print(\"Filename:\", filename)"
   ]
  },
  {
   "cell_type": "code",
   "execution_count": 65,
   "id": "17711b14-ff96-4c9f-861e-98c455503d93",
   "metadata": {},
   "outputs": [
    {
     "name": "stdout",
     "output_type": "stream",
     "text": [
      "File extension: .txt\n",
      "File name without extension: my_folder/example\n"
     ]
    }
   ],
   "source": [
    "file_path = 'my_folder/example.txt'\n",
    "\n",
    "# Get the file extension\n",
    "file_extension = os.path.splitext(file_path)[1]\n",
    "print(\"File extension:\", file_extension)\n",
    "\n",
    "# Get the file name without extension\n",
    "file_name_without_extension = os.path.splitext(file_path)[0]\n",
    "print(\"File name without extension:\", file_name_without_extension)"
   ]
  },
  {
   "cell_type": "code",
   "execution_count": 69,
   "id": "16bf1d6a-285f-4f11-8be2-fbae629aec57",
   "metadata": {},
   "outputs": [
    {
     "name": "stdout",
     "output_type": "stream",
     "text": [
      "File size (bytes): 66\n",
      "Last modification time: 1736249554.7343292\n"
     ]
    }
   ],
   "source": [
    "file_path = 'file_handling.txt'\n",
    "\n",
    "# Get the size of the file\n",
    "file_size = os.path.getsize(file_path)\n",
    "print(\"File size (bytes):\", file_size)\n",
    "\n",
    "# Get the last modification time of the file\n",
    "modification_time = os.path.getmtime(file_path)\n",
    "print(\"Last modification time:\", modification_time)"
   ]
  },
  {
   "cell_type": "markdown",
   "id": "38a1e845-7a8a-4cef-bb41-2b65012ea6bc",
   "metadata": {},
   "source": [
    "#### fileinput module:\n",
    "The fileinput module is used to iterate over lines from multiple input sources (files or standard input) in a convenient manner. It simplifies the process of looping through multiple files and reading their contents line-by-line."
   ]
  },
  {
   "cell_type": "code",
   "execution_count": 76,
   "id": "4f2f23f0-e085-4c8f-ae03-be91d04b7082",
   "metadata": {},
   "outputs": [
    {
     "name": "stdout",
     "output_type": "stream",
     "text": [
      "Manali\n",
      "Malkani\n",
      "Amaira\n",
      "Bhardwaj\n",
      "Ankit\n",
      "Arnika\n",
      "Atharv\n",
      "Hello, this is an example.\n",
      "Welcome to Python file I/O operations.\n"
     ]
    }
   ],
   "source": [
    "import fileinput\n",
    "\n",
    "# Reading lines from a file using fileinput\n",
    "with fileinput.input(files=('file_handling.txt', 'example_copy.txt')) as f:\n",
    "    for line in f:\n",
    "        print(line.strip())"
   ]
  },
  {
   "cell_type": "code",
   "execution_count": null,
   "id": "d60a9ed6-2910-48cd-aa35-72ecdd7e721d",
   "metadata": {},
   "outputs": [],
   "source": []
  }
 ],
 "metadata": {
  "kernelspec": {
   "display_name": "Python 3 (ipykernel)",
   "language": "python",
   "name": "python3"
  },
  "language_info": {
   "codemirror_mode": {
    "name": "ipython",
    "version": 3
   },
   "file_extension": ".py",
   "mimetype": "text/x-python",
   "name": "python",
   "nbconvert_exporter": "python",
   "pygments_lexer": "ipython3",
   "version": "3.12.4"
  }
 },
 "nbformat": 4,
 "nbformat_minor": 5
}
