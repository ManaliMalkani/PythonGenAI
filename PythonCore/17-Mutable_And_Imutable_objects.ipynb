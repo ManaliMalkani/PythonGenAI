{
 "cells": [
  {
   "cell_type": "markdown",
   "id": "13079058-c5e1-4582-ac35-59a816c4d7d4",
   "metadata": {},
   "source": [
    "#### Mutable vs Immutable Objects"
   ]
  },
  {
   "cell_type": "markdown",
   "id": "8b3f9bda-021f-459b-ad00-f91ec0defb3b",
   "metadata": {},
   "source": [
    "`Mutable Objects:`\n",
    "\n",
    "Mutable objects are objects whose content or value `can be modified` after creation. \n",
    "\n",
    "This means you can change their internal state without creating a new object with a different value. \n",
    "\n",
    "Some examples of mutable objects in Python are:"
   ]
  },
  {
   "cell_type": "markdown",
   "id": "453a3c26-e03f-451b-9e84-3b3deb0a2479",
   "metadata": {},
   "source": [
    "`Lists`: You can modify the elements in a list, add new elements, or remove existing elements without creating a new list.\n",
    "\n",
    "`Dictionaries`: You can add, modify, or delete key-value pairs within a dictionary without creating a new dictionary.\n",
    "\n",
    "`Sets`: You can add or remove elements from a set without creating a new set.\n",
    "\n",
    "`Custom Objects`: If you create your own class and design it to be mutable, you can change the attributes of instances of that class after they are created."
   ]
  },
  {
   "cell_type": "code",
   "execution_count": 4,
   "id": "d0dc72d8-7564-4e62-b8c2-cab250c62ed0",
   "metadata": {},
   "outputs": [
    {
     "name": "stdout",
     "output_type": "stream",
     "text": [
      "Original List: [1, 2, 3]\n",
      "Modified List: [10, 2, 3]\n"
     ]
    }
   ],
   "source": [
    "# Mutable Object - List\n",
    "my_list = [1, 2, 3]\n",
    "print(\"Original List:\", my_list)\n",
    "\n",
    "# Modify the list\n",
    "my_list[0] = 10\n",
    "print(\"Modified List:\", my_list)  # Output: [10, 2, 3]"
   ]
  },
  {
   "cell_type": "markdown",
   "id": "63f23f42-3db1-4ba8-b234-6f114ee2f275",
   "metadata": {},
   "source": [
    "`Immutable Objects:`\n",
    "\n",
    "Immutable objects, on the other hand, are objects whose state cannot be changed after they are created. Once an immutable object is created, you cannot modify its content; you can only create new objects with updated values. Some examples of immutable objects in Python are:\n",
    "\n",
    "- Integers\n",
    "- Floats\n",
    "- Strings\n",
    "- Tuples"
   ]
  },
  {
   "cell_type": "code",
   "execution_count": 7,
   "id": "949a45e1-0546-4f08-9d5d-a257066788de",
   "metadata": {},
   "outputs": [
    {
     "name": "stdout",
     "output_type": "stream",
     "text": [
      "Original String: Hello\n"
     ]
    }
   ],
   "source": [
    "# Immutable Object - String\n",
    "my_string = \"Hello\"\n",
    "print(\"Original String:\", my_string)"
   ]
  },
  {
   "cell_type": "code",
   "execution_count": 9,
   "id": "327a5aeb-8901-4a83-924e-5d1e5e457e95",
   "metadata": {},
   "outputs": [
    {
     "ename": "TypeError",
     "evalue": "'str' object does not support item assignment",
     "output_type": "error",
     "traceback": [
      "\u001b[0;31m---------------------------------------------------------------------------\u001b[0m",
      "\u001b[0;31mTypeError\u001b[0m                                 Traceback (most recent call last)",
      "Cell \u001b[0;32mIn[9], line 2\u001b[0m\n\u001b[1;32m      1\u001b[0m \u001b[38;5;66;03m# Attempting to modify the string (will raise an error)\u001b[39;00m\n\u001b[0;32m----> 2\u001b[0m my_string[\u001b[38;5;241m0\u001b[39m] \u001b[38;5;241m=\u001b[39m \u001b[38;5;124m\"\u001b[39m\u001b[38;5;124mh\u001b[39m\u001b[38;5;124m\"\u001b[39m\n",
      "\u001b[0;31mTypeError\u001b[0m: 'str' object does not support item assignment"
     ]
    }
   ],
   "source": [
    "# Attempting to modify the string (will raise an error)\n",
    "my_string[0] = \"h\"  # Uncomment this line to see the error"
   ]
  },
  {
   "cell_type": "code",
   "execution_count": 11,
   "id": "e17dbeb7-bcb4-4afd-a997-99010530b41f",
   "metadata": {},
   "outputs": [
    {
     "name": "stdout",
     "output_type": "stream",
     "text": [
      "Modified String: hello\n"
     ]
    }
   ],
   "source": [
    "# Instead, you need to create a new string with the updated value\n",
    "new_string = \"h\" + my_string[1:]\n",
    "print(\"Modified String:\", new_string)  # Output: \"hello\""
   ]
  },
  {
   "cell_type": "markdown",
   "id": "aa0ff8aa-8cd5-4244-9afc-112327d9977a",
   "metadata": {},
   "source": [
    "The `distinction` between mutable and immutable objects is crucial because it impacts how Python handles variables and memory management. Understanding this distinction helps you write more efficient and bug-free code."
   ]
  },
  {
   "cell_type": "code",
   "execution_count": null,
   "id": "6e69c319-463a-4bb1-9045-29a30d8a16d4",
   "metadata": {},
   "outputs": [],
   "source": []
  }
 ],
 "metadata": {
  "kernelspec": {
   "display_name": "Python 3 (ipykernel)",
   "language": "python",
   "name": "python3"
  },
  "language_info": {
   "codemirror_mode": {
    "name": "ipython",
    "version": 3
   },
   "file_extension": ".py",
   "mimetype": "text/x-python",
   "name": "python",
   "nbconvert_exporter": "python",
   "pygments_lexer": "ipython3",
   "version": "3.12.4"
  }
 },
 "nbformat": 4,
 "nbformat_minor": 5
}
