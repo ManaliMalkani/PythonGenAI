{
 "cells": [
  {
   "cell_type": "code",
   "execution_count": 1,
   "id": "9dadc552-e3ac-4bab-8461-64629ddcf7d8",
   "metadata": {},
   "outputs": [],
   "source": [
    "from IPython.display import Image"
   ]
  },
  {
   "cell_type": "markdown",
   "id": "454f711b-2aa8-46ea-b589-c21926349e6b",
   "metadata": {},
   "source": [
    "------------------------------\n",
    "## Tuples data structures\n",
    "-----------------------"
   ]
  },
  {
   "cell_type": "markdown",
   "id": "1fc7a71f-b13a-4ec5-8743-51d71b4b0ee9",
   "metadata": {},
   "source": [
    "- A `tuple` in Python is `similar` to a `list`. \n",
    "\n",
    "- The difference between the two is that we cannot change the elements of a tuple once it is assigned whereas we can change the elements of a list."
   ]
  },
  {
   "cell_type": "code",
   "execution_count": 7,
   "id": "442dec5b-91c3-4102-bb32-a1677d60a84b",
   "metadata": {},
   "outputs": [
    {
     "ename": "SyntaxError",
     "evalue": "invalid syntax (1846228230.py, line 2)",
     "output_type": "error",
     "traceback": [
      "\u001b[0;36m  Cell \u001b[0;32mIn[7], line 2\u001b[0;36m\u001b[0m\n\u001b[0;31m    - A tuple is created by placing all the items (elements) inside parentheses (), separated by commas.\u001b[0m\n\u001b[0m        ^\u001b[0m\n\u001b[0;31mSyntaxError\u001b[0m\u001b[0;31m:\u001b[0m invalid syntax\n"
     ]
    }
   ],
   "source": [
    "#### Creating a Tuple\n",
    "- A tuple is created by placing all the items (elements) inside parentheses (), separated by commas. \n",
    "\n",
    "- The parentheses are optional, however, it is a good practice to use them.\n",
    "\n",
    "- A tuple can have any number of items and they may be of different types (integer, float, list, string, etc.)."
   ]
  },
  {
   "cell_type": "code",
   "execution_count": 17,
   "id": "9d9b321d-0b28-4404-b7ce-6142f9abf52f",
   "metadata": {},
   "outputs": [
    {
     "name": "stdout",
     "output_type": "stream",
     "text": [
      "A blank tuple ()\n",
      "A tuple set without parenthesis: (33, 35, 77) type: <class 'tuple'>\n",
      "A tuple of numbers: (33, 55, 77)\n",
      "A tuple of mixed numbers: (33, 3.3, (3+3j))\n",
      "A tuple of mixed data types: (33, '33', [3, 3])\n",
      "A tuple of tuples: (('x', 'y', 'z'), ('X', 'Y', 'Z'))\n"
     ]
    }
   ],
   "source": [
    "# create an empty tuple\n",
    "py_tuple = ()\n",
    "print(\"A blank tuple\", py_tuple)\n",
    "\n",
    "# create a tuple without using round brackets\n",
    "py_tuple = 33,35,77\n",
    "print(\"A tuple set without parenthesis:\", py_tuple, \"type:\", type(py_tuple))\n",
    "\n",
    "# create a tuple of numbers\n",
    "py_tuple = (33, 55, 77)\n",
    "print(\"A tuple of numbers:\", py_tuple)\n",
    "\n",
    "# create a tuple of mixed numbers\n",
    "# such as integer, float, imaginary\n",
    "py_tuple = (33, 3.3, 3+3j)\n",
    "print(\"A tuple of mixed numbers:\", py_tuple)\n",
    "\n",
    "# create a tuple of mixed data types\n",
    "# such as numbers, strings, lists\n",
    "py_tuple = (33, \"33\", [3, 3])\n",
    "print(\"A tuple of mixed data types:\", py_tuple)\n",
    "\n",
    "# create a tuple of tuples\n",
    "# i.e. a nested tuple\n",
    "py_tuple = (('x', 'y', 'z'), ('X', 'Y', 'Z'))\n",
    "print(\"A tuple of tuples:\", py_tuple)\n"
   ]
  },
  {
   "cell_type": "code",
   "execution_count": 19,
   "id": "dd7d684e-bf73-4ac3-bde9-49aca543f88e",
   "metadata": {},
   "outputs": [
    {
     "data": {
      "text/plain": [
       "(33, 77, 55)"
      ]
     },
     "execution_count": 19,
     "metadata": {},
     "output_type": "execute_result"
    }
   ],
   "source": [
    "# creating a tuple from a set\n",
    "py_tuple = tuple({33, 55 , 77})\n",
    "type(py_tuple)\n",
    "\n",
    "py_tuple"
   ]
  },
  {
   "cell_type": "code",
   "execution_count": 21,
   "id": "fb62fd35-fdbb-4dc4-b8e0-4b51b2f49480",
   "metadata": {},
   "outputs": [
    {
     "data": {
      "text/plain": [
       "(33, 55, 77)"
      ]
     },
     "execution_count": 21,
     "metadata": {},
     "output_type": "execute_result"
    }
   ],
   "source": [
    "# creating a tuple from a list\n",
    "py_tuple = tuple([33, 55 , 77])\n",
    "type(py_tuple)\n",
    "\n",
    "py_tuple"
   ]
  },
  {
   "cell_type": "code",
   "execution_count": 23,
   "id": "af7a139b-d48f-47c3-a400-0588260237dc",
   "metadata": {},
   "outputs": [
    {
     "data": {
      "text/plain": [
       "tuple"
      ]
     },
     "execution_count": 23,
     "metadata": {},
     "output_type": "execute_result"
    }
   ],
   "source": [
    "# You need to place a comma after the first element to create a tuple of size \"one\"\n",
    "py_tuple = ('single',)\n",
    "type(py_tuple)"
   ]
  },
  {
   "cell_type": "code",
   "execution_count": 25,
   "id": "4e373617-64a2-45a4-920a-d47874c96ad0",
   "metadata": {},
   "outputs": [
    {
     "data": {
      "text/plain": [
       "tuple"
      ]
     },
     "execution_count": 25,
     "metadata": {},
     "output_type": "execute_result"
    }
   ],
   "source": [
    "# You can use a list of one element and convert it to a tuple\n",
    "py_tuple = tuple(['single'])\n",
    "type(py_tuple)"
   ]
  },
  {
   "cell_type": "code",
   "execution_count": 27,
   "id": "768d994b-b7ea-4abb-9bc5-b30e2ba99460",
   "metadata": {},
   "outputs": [
    {
     "data": {
      "text/plain": [
       "tuple"
      ]
     },
     "execution_count": 27,
     "metadata": {},
     "output_type": "execute_result"
    }
   ],
   "source": [
    "# You can use a set of one element and convert it to a tuple\n",
    "py_tuple = tuple({'single'})\n",
    "type(py_tuple)"
   ]
  },
  {
   "cell_type": "markdown",
   "id": "9004f364-5d6b-4a1d-a00a-5a2f1fdd33df",
   "metadata": {},
   "source": [
    "#### accessing first element\n",
    "\n",
    "-  Via Indexing"
   ]
  },
  {
   "cell_type": "code",
   "execution_count": 30,
   "id": "e248e5b3-9b93-4849-95fd-e86cfc49aba9",
   "metadata": {},
   "outputs": [],
   "source": [
    "# Accessing tuple elements using indexing\n",
    "my_tuple = ('p','e','r','m','i','t')"
   ]
  },
  {
   "cell_type": "code",
   "execution_count": 32,
   "id": "0c488e82-ede0-447d-92cf-a7d192942094",
   "metadata": {},
   "outputs": [
    {
     "name": "stdout",
     "output_type": "stream",
     "text": [
      "p\n",
      "e\n"
     ]
    }
   ],
   "source": [
    "print(my_tuple[0])\n",
    "print(my_tuple[1])"
   ]
  },
  {
   "cell_type": "code",
   "execution_count": 36,
   "id": "b5615885-f5fb-4963-8761-1d55ac8f55db",
   "metadata": {},
   "outputs": [
    {
     "name": "stdout",
     "output_type": "stream",
     "text": [
      "The tuple: ('a', 'e', 'i', 'o', 'u') Length: 5\n",
      "OP(vowel_tuple[length-1]): u\n"
     ]
    }
   ],
   "source": [
    "vowel_tuple = ('a','e','i','o','u')\n",
    "\n",
    "print(\"The tuple:\", vowel_tuple, \"Length:\", len(vowel_tuple))\n",
    "\n",
    "# Indexing the last element\n",
    "print(\"OP(vowel_tuple[length-1]):\", vowel_tuple[len(vowel_tuple) - 1])"
   ]
  },
  {
   "cell_type": "markdown",
   "id": "44ea31b8-0aea-4d8e-a12a-609697427196",
   "metadata": {},
   "source": [
    "Index out of range will give errors"
   ]
  },
  {
   "cell_type": "code",
   "execution_count": 41,
   "id": "682b9895-a76a-4060-9e1a-091cca61fb7b",
   "metadata": {},
   "outputs": [
    {
     "ename": "IndexError",
     "evalue": "tuple index out of range",
     "output_type": "error",
     "traceback": [
      "\u001b[0;31m---------------------------------------------------------------------------\u001b[0m",
      "\u001b[0;31mIndexError\u001b[0m                                Traceback (most recent call last)",
      "Cell \u001b[0;32mIn[41], line 1\u001b[0m\n\u001b[0;32m----> 1\u001b[0m \u001b[38;5;28mprint\u001b[39m(vowel_tuple[\u001b[38;5;28mlen\u001b[39m(vowel_tuple)\u001b[38;5;241m+\u001b[39m\u001b[38;5;241m1\u001b[39m])\n",
      "\u001b[0;31mIndexError\u001b[0m: tuple index out of range"
     ]
    }
   ],
   "source": [
    "# print(vowel_tuple[len(vowel_tuple)+1])"
   ]
  },
  {
   "cell_type": "code",
   "execution_count": 43,
   "id": "5d00c183-1fb9-435d-b49d-48af5d559b59",
   "metadata": {},
   "outputs": [
    {
     "ename": "TypeError",
     "evalue": "tuple indices must be integers or slices, not float",
     "output_type": "error",
     "traceback": [
      "\u001b[0;31m---------------------------------------------------------------------------\u001b[0m",
      "\u001b[0;31mTypeError\u001b[0m                                 Traceback (most recent call last)",
      "Cell \u001b[0;32mIn[43], line 2\u001b[0m\n\u001b[1;32m      1\u001b[0m \u001b[38;5;66;03m# Indexing with a non-integer index will raise the TypeError\u001b[39;00m\n\u001b[0;32m----> 2\u001b[0m \u001b[38;5;28mprint\u001b[39m(vowel_tuple[\u001b[38;5;241m0.0\u001b[39m])\n",
      "\u001b[0;31mTypeError\u001b[0m: tuple indices must be integers or slices, not float"
     ]
    }
   ],
   "source": [
    "# Indexing with a non-integer index will raise the TypeError\n",
    "# print(vowel_tuple[0.0])"
   ]
  },
  {
   "cell_type": "code",
   "execution_count": 47,
   "id": "95d0fdc8-514d-42f8-aae8-0339fb837b1c",
   "metadata": {},
   "outputs": [
    {
     "name": "stdout",
     "output_type": "stream",
     "text": [
      "mar\n",
      "wed\n"
     ]
    }
   ],
   "source": [
    "my_tuple = (\n",
    "            ('jan', 'feb', 'mar'), \n",
    "            ('sun', 'mon', 'wed')\n",
    "           )\n",
    "\n",
    "# Accessing elements from the first sub tuple\n",
    "print(my_tuple[0][2])\n",
    "\n",
    "# Accessing elements from the second sub tuple\n",
    "print(my_tuple[1][2])"
   ]
  },
  {
   "cell_type": "markdown",
   "id": "1469e0ab-0c8a-4214-8adc-fe2624a908b1",
   "metadata": {},
   "source": [
    "#### Negative Indexing\n",
    "\n",
    "- The index of -1 refers to the last item, -2 to the second last item and so on."
   ]
  },
  {
   "cell_type": "code",
   "execution_count": 50,
   "id": "30ff8f0d-349d-4a66-ba78-f4e8a1a316f8",
   "metadata": {},
   "outputs": [
    {
     "name": "stdout",
     "output_type": "stream",
     "text": [
      "t\n",
      "p\n"
     ]
    }
   ],
   "source": [
    "# Negative indexing for accessing tuple elements\n",
    "my_tuple = ('p', 'e', 'r', 'm', 'i', 't')\n",
    "\n",
    "# Output: 't'\n",
    "print(my_tuple[-1])\n",
    "\n",
    "# Output: 'p'\n",
    "print(my_tuple[-6])"
   ]
  },
  {
   "cell_type": "markdown",
   "id": "624f2129-31ea-4319-9049-32f2f6a054bb",
   "metadata": {},
   "source": [
    "#### Slicing\n",
    "- We can access a range of items in a tuple by using the slicing operator colon `:`"
   ]
  },
  {
   "cell_type": "code",
   "execution_count": 55,
   "id": "c2a321cb-9047-4385-baf1-d3236ac5c77c",
   "metadata": {},
   "outputs": [
    {
     "name": "stdout",
     "output_type": "stream",
     "text": [
      "('r', 'o', 'g')\n",
      "('p', 'r')\n",
      "('i', 'z')\n",
      "('p', 'r', 'o', 'g', 'r', 'a', 'm', 'i', 'z')\n"
     ]
    }
   ],
   "source": [
    "# Accessing tuple elements using slicing\n",
    "my_tuple = ('p','r','o','g','r','a','m','i','z')\n",
    "\n",
    "# elements 2nd to 4th\n",
    "print(my_tuple[1:4])\n",
    "\n",
    "# elements beginning to 2nd\n",
    "print(my_tuple[:-7])\n",
    "\n",
    "# elements 8th to end\n",
    "print(my_tuple[7:])\n",
    "\n",
    "# elements beginning to end\n",
    "print(my_tuple[:])"
   ]
  },
  {
   "cell_type": "markdown",
   "id": "b2288ec1-ebc9-401a-bef7-eb61d7e71095",
   "metadata": {},
   "source": [
    "#### Changing a Tuple\n",
    "- Unlike `lists`, `tuples are immutable`.\n",
    "\n",
    "- This means that elements of a `tuple cannot be changed` once they have been assigned. \n",
    "- But, if the `element is itself a mutable` data type like a `list`, its nested items can be changed.\n",
    "\n",
    "- We can also assign a tuple to different values (reassignment)."
   ]
  },
  {
   "cell_type": "code",
   "execution_count": 58,
   "id": "1f6d2790-549c-4b3d-ab2d-591c9fc925fb",
   "metadata": {},
   "outputs": [
    {
     "name": "stdout",
     "output_type": "stream",
     "text": [
      "(1, [9, 8, 7], 'World')\n"
     ]
    },
    {
     "ename": "TypeError",
     "evalue": "'tuple' object does not support item assignment",
     "output_type": "error",
     "traceback": [
      "\u001b[0;31m---------------------------------------------------------------------------\u001b[0m",
      "\u001b[0;31mTypeError\u001b[0m                                 Traceback (most recent call last)",
      "Cell \u001b[0;32mIn[58], line 5\u001b[0m\n\u001b[1;32m      2\u001b[0m my_data \u001b[38;5;241m=\u001b[39m (\u001b[38;5;241m1\u001b[39m, [\u001b[38;5;241m9\u001b[39m, \u001b[38;5;241m8\u001b[39m, \u001b[38;5;241m7\u001b[39m], \u001b[38;5;124m\"\u001b[39m\u001b[38;5;124mWorld\u001b[39m\u001b[38;5;124m\"\u001b[39m)\n\u001b[1;32m      3\u001b[0m \u001b[38;5;28mprint\u001b[39m(my_data)\n\u001b[0;32m----> 5\u001b[0m my_data[\u001b[38;5;241m0\u001b[39m] \u001b[38;5;241m=\u001b[39m \u001b[38;5;241m101\u001b[39m\n",
      "\u001b[0;31mTypeError\u001b[0m: 'tuple' object does not support item assignment"
     ]
    }
   ],
   "source": [
    "# changing the tuple element\n",
    "my_data = (1, [9, 8, 7], \"World\")\n",
    "print(my_data)\n",
    "\n",
    "my_data[0] = 101"
   ]
  },
  {
   "cell_type": "code",
   "execution_count": 60,
   "id": "259a7dbb-5ef4-4a3f-89bb-dcb28f3f60b9",
   "metadata": {},
   "outputs": [
    {
     "name": "stdout",
     "output_type": "stream",
     "text": [
      "(1, [9, 8, 7], 'World')\n",
      "(1, [9, 8, 99], 'World')\n"
     ]
    }
   ],
   "source": [
    "# changing the tuple element, which are mutable\n",
    "my_data = (1, [9, 8, 7], \"World\")\n",
    "print(my_data)\n",
    "\n",
    "my_data[1][2] = 99\n",
    "print(my_data)"
   ]
  },
  {
   "cell_type": "markdown",
   "id": "c88dfc33-5e43-40a4-8cf3-e66f315546ad",
   "metadata": {},
   "source": [
    "#### Deleting a Tuple\n",
    "- As discussed above, we cannot change the elements in a tuple. It means that we cannot delete or remove items from a tuple.\n",
    "\n",
    "- Deleting a tuple entirely, however, is possible using the keyword del."
   ]
  },
  {
   "cell_type": "code",
   "execution_count": 63,
   "id": "954b7128-b9cb-4ea0-ac0d-c0cad0256ad4",
   "metadata": {},
   "outputs": [
    {
     "ename": "TypeError",
     "evalue": "'tuple' object doesn't support item deletion",
     "output_type": "error",
     "traceback": [
      "\u001b[0;31m---------------------------------------------------------------------------\u001b[0m",
      "\u001b[0;31mTypeError\u001b[0m                                 Traceback (most recent call last)",
      "Cell \u001b[0;32mIn[63], line 5\u001b[0m\n\u001b[1;32m      2\u001b[0m my_data \u001b[38;5;241m=\u001b[39m (\u001b[38;5;241m1\u001b[39m, \u001b[38;5;241m2\u001b[39m, \u001b[38;5;241m3\u001b[39m, \u001b[38;5;241m4\u001b[39m, \u001b[38;5;241m5\u001b[39m, \u001b[38;5;241m6\u001b[39m)\n\u001b[1;32m      4\u001b[0m \u001b[38;5;66;03m# not possible ,  error\u001b[39;00m\n\u001b[0;32m----> 5\u001b[0m \u001b[38;5;28;01mdel\u001b[39;00m my_data[\u001b[38;5;241m2\u001b[39m]\n",
      "\u001b[0;31mTypeError\u001b[0m: 'tuple' object doesn't support item deletion"
     ]
    }
   ],
   "source": [
    "# deleting tuple elements\n",
    "my_data = (1, 2, 3, 4, 5, 6)\n",
    "\n",
    "# not possible ,  error\n",
    "del my_data[2]"
   ]
  },
  {
   "cell_type": "code",
   "execution_count": 65,
   "id": "becea109-85ff-420d-ad2e-e4b291e5a8bf",
   "metadata": {},
   "outputs": [],
   "source": [
    "# deleting entire tuple is possible\n",
    "del my_data"
   ]
  },
  {
   "cell_type": "markdown",
   "id": "eec5e542-653b-4411-b90e-00158f72176c",
   "metadata": {},
   "source": [
    "#### Tuple Methods\n",
    "Methods that add items or remove items are not available with tuple. Only the following two methods are available."
   ]
  },
  {
   "cell_type": "code",
   "execution_count": 68,
   "id": "3f466dc3-2668-4cb4-b17a-3f3ae76b1984",
   "metadata": {},
   "outputs": [
    {
     "name": "stdout",
     "output_type": "stream",
     "text": [
      "2\n",
      "3\n"
     ]
    }
   ],
   "source": [
    "my_tuple = ('a', 'p', 'p', 'l', 'e',)\n",
    "\n",
    "print(my_tuple.count('p'))  # Output: 2\n",
    "print(my_tuple.index('l'))  # Output: 3"
   ]
  },
  {
   "cell_type": "markdown",
   "id": "be4c4ed9-103e-4e6a-86a3-91e6d17f15cb",
   "metadata": {},
   "source": [
    "#### Tuple Membership Test\n",
    "- We can test if an item exists in a tuple or not, using the keyword `in`."
   ]
  },
  {
   "cell_type": "code",
   "execution_count": 73,
   "id": "663037e3-b4f1-4b2d-a90b-8a1cff992142",
   "metadata": {},
   "outputs": [
    {
     "name": "stdout",
     "output_type": "stream",
     "text": [
      "(11, 22, 33, 44, 55, 66, 77, 88, 99)\n",
      "True\n",
      "False\n",
      "False\n",
      "True\n"
     ]
    }
   ],
   "source": [
    "my_data = (11, 22, 33, 44, 55, 66, 77, 88, 99)\n",
    "print(my_data)\n",
    "\n",
    "# true\n",
    "print(22 in my_data)\n",
    "\n",
    "# false\n",
    "print(2 in my_data)\n",
    "\n",
    "# false\n",
    "print(88 not in my_data)\n",
    "\n",
    "# true\n",
    "print(101 not in my_data)"
   ]
  },
  {
   "cell_type": "markdown",
   "id": "2125cb02-02e2-472c-b467-4656ba97ed37",
   "metadata": {},
   "source": [
    "#### Iterating a tuple\n",
    "- We can use a for loop to iterate through each item in a tuple."
   ]
  },
  {
   "cell_type": "code",
   "execution_count": 76,
   "id": "867f497b-0384-4ce6-82b4-29c2720aadee",
   "metadata": {},
   "outputs": [
    {
     "name": "stdout",
     "output_type": "stream",
     "text": [
      "Apple\n",
      "Orange\n",
      "Grapes\n",
      "Banana\n"
     ]
    }
   ],
   "source": [
    "my_tuple = (\"Apple\", \"Orange\", \"Grapes\", \"Banana\")\n",
    "\n",
    "for fruit in my_tuple:\n",
    "    print(fruit)"
   ]
  },
  {
   "cell_type": "markdown",
   "id": "f0f5a65b-1012-469c-a1a9-eb4b8e7766a3",
   "metadata": {},
   "source": [
    "--------------------------\n",
    "#### Exercises\n",
    "---------------------------"
   ]
  },
  {
   "cell_type": "markdown",
   "id": "50f6d57b-8fa5-4dfb-aa9d-077d4a6888f2",
   "metadata": {},
   "source": [
    "##### 1. Unpack the following tuple into 4 variables"
   ]
  },
  {
   "cell_type": "code",
   "execution_count": 80,
   "id": "513aa56e-d4a1-4c0f-9f71-3f7a006baa70",
   "metadata": {},
   "outputs": [],
   "source": [
    "aTuple = (10, 20, 30, 40)"
   ]
  },
  {
   "cell_type": "code",
   "execution_count": 82,
   "id": "be5162cd-5a0e-4402-97a8-7f7dc57d5524",
   "metadata": {},
   "outputs": [
    {
     "name": "stdout",
     "output_type": "stream",
     "text": [
      "10\n",
      "20\n",
      "30\n",
      "40\n"
     ]
    }
   ],
   "source": [
    "a, b, c, d = aTuple\n",
    "print(a)\n",
    "print(b)\n",
    "print(c)\n",
    "print(d)"
   ]
  },
  {
   "cell_type": "markdown",
   "id": "8a9bbc24-05ad-4d2d-812f-bdd945f4796d",
   "metadata": {},
   "source": [
    "##### 2. Swap the following two tuples"
   ]
  },
  {
   "cell_type": "code",
   "execution_count": 85,
   "id": "059feac8-9493-4910-ab47-9146bfe085ee",
   "metadata": {},
   "outputs": [],
   "source": [
    "tuple1 = (11, 22)\n",
    "tuple2 = (99, 88)"
   ]
  },
  {
   "cell_type": "code",
   "execution_count": 87,
   "id": "a2fe8c63-9a2a-4458-b017-9c3a71bea362",
   "metadata": {},
   "outputs": [
    {
     "name": "stdout",
     "output_type": "stream",
     "text": [
      "(11, 22)\n",
      "(99, 88)\n"
     ]
    }
   ],
   "source": [
    "tuple1, tuple2 = tuple2, tuple1\n",
    "print(tuple2)\n",
    "print(tuple1)"
   ]
  },
  {
   "cell_type": "markdown",
   "id": "d5c35c7b-f70e-41f9-b0a6-34f04237df81",
   "metadata": {},
   "source": [
    "##### 3. Copy element 44 and 55 from the following tuple into a new tuple"
   ]
  },
  {
   "cell_type": "code",
   "execution_count": 90,
   "id": "e6829ad3-3f88-4491-bcdc-2677aa3e9812",
   "metadata": {},
   "outputs": [],
   "source": [
    "tuple1 = (11, 22, 33, 44, 55, 66)"
   ]
  },
  {
   "cell_type": "code",
   "execution_count": 92,
   "id": "f044db1e-627e-4f6c-8011-c3d451f2ddeb",
   "metadata": {},
   "outputs": [
    {
     "name": "stdout",
     "output_type": "stream",
     "text": [
      "(44, 55)\n"
     ]
    }
   ],
   "source": [
    "tuple2 = tuple1[3:-1]\n",
    "print(tuple2)"
   ]
  },
  {
   "cell_type": "markdown",
   "id": "e7528b04-cafd-4fa7-8e25-b0aa31390255",
   "metadata": {},
   "source": [
    "##### 4. Modify the first item (22) of a list inside a following tuple to 222"
   ]
  },
  {
   "cell_type": "code",
   "execution_count": 95,
   "id": "a3bbc910-d081-4d10-b218-c284633a0186",
   "metadata": {},
   "outputs": [],
   "source": [
    "tuple1 = (11, [22, 33], 44, 55)"
   ]
  },
  {
   "cell_type": "code",
   "execution_count": 97,
   "id": "39c54fbe-b421-4f77-8b00-fc4536ac8da1",
   "metadata": {},
   "outputs": [
    {
     "name": "stdout",
     "output_type": "stream",
     "text": [
      "(11, [222, 33], 44, 55)\n"
     ]
    }
   ],
   "source": [
    "tuple1[1][0] = 222\n",
    "print(tuple1)"
   ]
  },
  {
   "cell_type": "markdown",
   "id": "57986b87-39be-4f7b-acdd-be44b070b839",
   "metadata": {},
   "source": [
    "##### 5. Counts the number of occurrences of item 50 from a tuple"
   ]
  },
  {
   "cell_type": "code",
   "execution_count": 100,
   "id": "2cd304d2-63e0-4b41-966a-b460a654de8e",
   "metadata": {},
   "outputs": [
    {
     "name": "stdout",
     "output_type": "stream",
     "text": [
      "2\n"
     ]
    }
   ],
   "source": [
    "tuple1 = (50, 10, 60, 70, 50)\n",
    "print(tuple1.count(50))"
   ]
  },
  {
   "cell_type": "markdown",
   "id": "00fb6be9-b2df-4d45-aa1b-070b4c8e85b4",
   "metadata": {},
   "source": [
    "##### 6. Check if all items in the following tuple are the same"
   ]
  },
  {
   "cell_type": "code",
   "execution_count": 105,
   "id": "0ffac570-a6eb-4576-8a86-0c7bc8f9fe85",
   "metadata": {},
   "outputs": [
    {
     "name": "stdout",
     "output_type": "stream",
     "text": [
      "all elements in tuple are SAME\n"
     ]
    }
   ],
   "source": [
    "tuple1 = (45, 45, 45, 45)\n",
    "\n",
    "n = len(tuple1)\n",
    "\n",
    "total = 0\n",
    "\n",
    "for each_ele in tuple1:\n",
    "    total += each_ele\n",
    "    \n",
    "if total//n == tuple1[0] and total%n ==0:\n",
    "    print('all elements in tuple are SAME')\n",
    "else:\n",
    "    print('all elements in tuple are NOT SAME')"
   ]
  },
  {
   "cell_type": "markdown",
   "id": "732d6fc9-6c11-40f7-abbc-37b6f313a6cb",
   "metadata": {},
   "source": [
    "##### 7. implement some basic statistical algorithms"
   ]
  },
  {
   "cell_type": "markdown",
   "id": "315878fd-a2b7-4f2b-93c0-19974f52bc43",
   "metadata": {},
   "source": [
    "|Purchase Date\t|Purchase Price\t|Shares\t|Symbol\t|Current Price|\n",
    "|---------------|---------------|------|-------|--------------|\n",
    "|25 Jan 2001|\t43.50|\t25|\tCAT|\t92.45|\n",
    "|25 Jan 2001|\t42.80|\t50|\tDD|\t51.19|\n",
    "|25 Jan 2001|\t42.10|\t75|\tEK|\t34.87|\n",
    "|25 Jan 2001|\t37.58|\t100|\tGM|\t37.58|"
   ]
  },
  {
   "cell_type": "code",
   "execution_count": 111,
   "id": "f46753d7-9a22-4621-819e-3eb2738ec0ac",
   "metadata": {},
   "outputs": [],
   "source": [
    "portfolio= [ \n",
    "             ( \"25-Jan-2001\", 43.50, 25, 'CAT', 92.45 ),\n",
    "             ( \"25-Jan-2001\", 42.80, 50, 'DD', 51.19 ),\n",
    "             ( \"25-Jan-2001\", 42.10, 75, 'EK', 34.87 ),\n",
    "             ( \"25-Jan-2001\", 37.58, 100, 'GM', 37.58 )\n",
    "]"
   ]
  },
  {
   "cell_type": "markdown",
   "id": "9762f293-7b74-4a84-b504-70b88ec501a0",
   "metadata": {},
   "source": [
    "- determine the total purchase price of the portfolio"
   ]
  },
  {
   "cell_type": "code",
   "execution_count": 114,
   "id": "c264945e-3b22-4848-b8bf-ebdda95c4cae",
   "metadata": {},
   "outputs": [
    {
     "name": "stdout",
     "output_type": "stream",
     "text": [
      "portfolio cost : 10143.0\n"
     ]
    }
   ],
   "source": [
    "total_portfolio_cost = 0\n",
    "\n",
    "for each_stock in portfolio:\n",
    "    total_portfolio_cost = total_portfolio_cost + each_stock[1]* each_stock[2]\n",
    "\n",
    "print(\"portfolio cost : {}\".format(total_portfolio_cost))"
   ]
  },
  {
   "cell_type": "markdown",
   "id": "c07c164d-e9fc-48c1-bf23-6e4b32fe71f8",
   "metadata": {},
   "source": [
    "- determine the total amount gained or lost.\n",
    "  "
   ]
  },
  {
   "cell_type": "code",
   "execution_count": 117,
   "id": "2ade0f7f-36b2-4da6-a283-92ef17fe9eba",
   "metadata": {},
   "outputs": [
    {
     "name": "stdout",
     "output_type": "stream",
     "text": [
      "portfolio cost :   10143.0000, \n",
      "current value  :    9092.7904, gain/loss = -1050.21\n"
     ]
    }
   ],
   "source": [
    "total_portfolio_cost  = 0\n",
    "total_portfolio_value = 0\n",
    "\n",
    "for each_stock in portfolio:\n",
    "    total_portfolio_cost  = total_portfolio_cost  + each_stock[1]* each_stock[2]\n",
    "    total_portfolio_value = total_portfolio_value + each_stock[1]* each_stock[4]\n",
    "\n",
    "print(\"portfolio cost : {:12.4f}, \\ncurrent value  : {:12.4f}, gain/loss = {:.2f}\".format(total_portfolio_cost, total_portfolio_value, total_portfolio_value-total_portfolio_cost))"
   ]
  },
  {
   "cell_type": "markdown",
   "id": "ffc59e6c-4439-4502-a1f4-98b7350e6088",
   "metadata": {},
   "source": [
    "#### Summarize"
   ]
  },
  {
   "cell_type": "code",
   "execution_count": 120,
   "id": "d681cb99-3381-4e2d-9230-72a83ffc6699",
   "metadata": {},
   "outputs": [],
   "source": [
    "# Creating a Tuple\n",
    "person_tuple = (\"John\", 30, \"New York\")"
   ]
  },
  {
   "cell_type": "code",
   "execution_count": 122,
   "id": "973e77fc-8932-4a3c-9caf-4301cdbe7f8e",
   "metadata": {},
   "outputs": [
    {
     "name": "stdout",
     "output_type": "stream",
     "text": [
      "Name: John\n",
      "Age: 30\n"
     ]
    }
   ],
   "source": [
    "# Accessing Values using Indexing\n",
    "print(\"Name:\", person_tuple[0])  # Output: \"John\"\n",
    "print(\"Age:\", person_tuple[1])   # Output: 30"
   ]
  },
  {
   "cell_type": "code",
   "execution_count": 124,
   "id": "2f5ab1f8-3705-4677-b7f6-98ef8013c227",
   "metadata": {},
   "outputs": [
    {
     "name": "stdout",
     "output_type": "stream",
     "text": [
      "Name: John\n",
      "Age: 30\n",
      "City: New York\n"
     ]
    }
   ],
   "source": [
    "# Tuple Unpacking\n",
    "name, age, city = person_tuple\n",
    "print(\"Name:\", name)   # Output: \"John\"\n",
    "print(\"Age:\", age)     # Output: 30\n",
    "print(\"City:\", city)   # Output: \"New York\""
   ]
  },
  {
   "cell_type": "code",
   "execution_count": 126,
   "id": "3ffe8a50-2ef6-4873-866f-3574b0eaa74d",
   "metadata": {},
   "outputs": [
    {
     "name": "stdout",
     "output_type": "stream",
     "text": [
      "Number of Items in Tuple: 3\n"
     ]
    }
   ],
   "source": [
    "# Tuple Length (Number of elements in the tuple)\n",
    "num_items = len(person_tuple)\n",
    "print(\"Number of Items in Tuple:\", num_items)  # Output: 3"
   ]
  },
  {
   "cell_type": "code",
   "execution_count": 128,
   "id": "07f1a2fb-52d8-41f3-99b9-ce76b3f4a9f2",
   "metadata": {},
   "outputs": [
    {
     "name": "stdout",
     "output_type": "stream",
     "text": [
      "All Info: ('John', 30, 'New York', 'Engineer', 'male')\n"
     ]
    }
   ],
   "source": [
    "# Concatenating Tuples\n",
    "more_info = (\"Engineer\", \"male\")\n",
    "all_info  = person_tuple + more_info\n",
    "print(\"All Info:\", all_info)  # Output: (\"John\", 30, \"New York\", \"Engineer\", \"male\")"
   ]
  },
  {
   "cell_type": "code",
   "execution_count": 130,
   "id": "2f64007e-bc8a-4213-a196-22dbc10f3fe1",
   "metadata": {},
   "outputs": [
    {
     "name": "stdout",
     "output_type": "stream",
     "text": [
      "True\n",
      "True\n"
     ]
    }
   ],
   "source": [
    "# Checking for Element Existence in a Tuple\n",
    "print(\"John\" in person_tuple)  # Output: True\n",
    "print(\"Female\" not in person_tuple)  # Output: True"
   ]
  },
  {
   "cell_type": "code",
   "execution_count": 132,
   "id": "15623237-3b89-48c6-8bbd-207879d9afef",
   "metadata": {},
   "outputs": [
    {
     "name": "stdout",
     "output_type": "stream",
     "text": [
      "Occurrences of 'John': 1\n"
     ]
    }
   ],
   "source": [
    "# Counting Occurrences of an Element in a Tuple\n",
    "num_occurrences = person_tuple.count(\"John\")\n",
    "print(\"Occurrences of 'John':\", num_occurrences)  # Output: 1"
   ]
  },
  {
   "cell_type": "code",
   "execution_count": 134,
   "id": "9d61fcb2-80de-402e-8f0d-de812a1e1595",
   "metadata": {},
   "outputs": [
    {
     "name": "stdout",
     "output_type": "stream",
     "text": [
      "Name and Age: ('John', 30)\n"
     ]
    }
   ],
   "source": [
    "# Slicing Tuples\n",
    "name_and_age = person_tuple[:2]\n",
    "print(\"Name and Age:\", name_and_age)  # Output: (\"John\", 30)"
   ]
  },
  {
   "cell_type": "code",
   "execution_count": 136,
   "id": "5ab99782-2b19-4a82-88e2-b9f7cb340443",
   "metadata": {},
   "outputs": [
    {
     "name": "stdout",
     "output_type": "stream",
     "text": [
      "apple\n"
     ]
    }
   ],
   "source": [
    "# Nested Tuples\n",
    "nested_tuple = (1, 2, (\"apple\", \"banana\"))\n",
    "print(nested_tuple[2][0])  # Output: \"apple\""
   ]
  },
  {
   "cell_type": "code",
   "execution_count": 138,
   "id": "cdf75640-f557-4391-9d3a-8a3b2a4b1152",
   "metadata": {},
   "outputs": [
    {
     "name": "stdout",
     "output_type": "stream",
     "text": [
      "New York\n"
     ]
    }
   ],
   "source": [
    "# Using a Tuple as a Key in a Dictionary\n",
    "person_info = {\n",
    "    (\"John\", 30): \"New York\",\n",
    "    (\"Alice\", 25): \"California\"\n",
    "}\n",
    "print(person_info[(\"John\", 30)])  # Output: \"New York\""
   ]
  },
  {
   "cell_type": "markdown",
   "id": "998e0fb3-7ea1-4eb6-abc8-319f8144dd2d",
   "metadata": {},
   "source": [
    "- Tuples are used to represent fixed collections of items, and their immutability ensures data integrity and prevents accidental modifications after creation.\n",
    "- Tuples offer faster access times compared to lists due to their immutability and fixed size.\n",
    "- Tuples can be used as keys in dictionaries because of their immutability and hashability, making them suitable for data mapping.\n",
    "- Tuples can also be elements in sets, providing the benefit of unique collections of immutable items.\n",
    "- Tuples are valuable in scenarios where data integrity, consistency, and stability are crucial, as their content cannot be accidentally changed."
   ]
  },
  {
   "cell_type": "code",
   "execution_count": null,
   "id": "9702f7e6-cbd2-4790-adb1-67878cc0cb12",
   "metadata": {},
   "outputs": [],
   "source": []
  }
 ],
 "metadata": {
  "kernelspec": {
   "display_name": "Python 3 (ipykernel)",
   "language": "python",
   "name": "python3"
  },
  "language_info": {
   "codemirror_mode": {
    "name": "ipython",
    "version": 3
   },
   "file_extension": ".py",
   "mimetype": "text/x-python",
   "name": "python",
   "nbconvert_exporter": "python",
   "pygments_lexer": "ipython3",
   "version": "3.12.4"
  }
 },
 "nbformat": 4,
 "nbformat_minor": 5
}
