{
 "cells": [
  {
   "cell_type": "markdown",
   "id": "7c3bf6e9-83d6-4a92-8ddf-e133ba0cf949",
   "metadata": {},
   "source": [
    "**Exercise 01**\n",
    "\n",
    "- find the top n items which highest values in a dictionary"
   ]
  },
  {
   "cell_type": "code",
   "execution_count": 2,
   "id": "d385537c-a2f8-48ef-9fd6-b06d9ce16d9b",
   "metadata": {},
   "outputs": [],
   "source": [
    "data = {'python' : 1000, 'c' : 9898, 'js': 100001, 'mysql': 109383}"
   ]
  },
  {
   "cell_type": "code",
   "execution_count": 4,
   "id": "55a7334f-4510-4824-8669-6f0a680bd825",
   "metadata": {},
   "outputs": [
    {
     "data": {
      "text/plain": [
       "dict_items([('python', 1000), ('c', 9898), ('js', 100001), ('mysql', 109383)])"
      ]
     },
     "execution_count": 4,
     "metadata": {},
     "output_type": "execute_result"
    }
   ],
   "source": [
    "data.items()"
   ]
  },
  {
   "cell_type": "code",
   "execution_count": 6,
   "id": "c3f0c75a-0bc1-40e5-a9d1-4f0e814efff2",
   "metadata": {},
   "outputs": [],
   "source": [
    "n = 2"
   ]
  },
  {
   "cell_type": "code",
   "execution_count": 8,
   "id": "d601510d-1d45-4ce4-a094-1201990bc6c2",
   "metadata": {},
   "outputs": [
    {
     "data": {
      "text/plain": [
       "{'python': 1000, 'c': 9898, 'js': 100001, 'mysql': 109383}"
      ]
     },
     "execution_count": 8,
     "metadata": {},
     "output_type": "execute_result"
    }
   ],
   "source": [
    "data"
   ]
  },
  {
   "cell_type": "code",
   "execution_count": 12,
   "id": "2b5b55eb-a111-46cd-8cfd-16fc069dbb17",
   "metadata": {},
   "outputs": [
    {
     "data": {
      "text/plain": [
       "['c', 'js', 'mysql', 'python']"
      ]
     },
     "execution_count": 12,
     "metadata": {},
     "output_type": "execute_result"
    }
   ],
   "source": [
    "sorted(data)"
   ]
  },
  {
   "cell_type": "code",
   "execution_count": 14,
   "id": "90e02ee7-6ccf-4f9b-b213-e9e8e679e393",
   "metadata": {},
   "outputs": [
    {
     "data": {
      "text/plain": [
       "[('mysql', 109383), ('js', 100001), ('c', 9898), ('python', 1000)]"
      ]
     },
     "execution_count": 14,
     "metadata": {},
     "output_type": "execute_result"
    }
   ],
   "source": [
    "sorted(data.items(),reverse = True, key = lambda item: item[1])"
   ]
  },
  {
   "cell_type": "code",
   "execution_count": null,
   "id": "6e5af6a6-87de-432d-b376-e5203fee8aae",
   "metadata": {},
   "outputs": [],
   "source": [
    "sorted(data.items(), reverse=True, key= lambda item: item[1])[:n]"
   ]
  }
 ],
 "metadata": {
  "kernelspec": {
   "display_name": "Python 3 (ipykernel)",
   "language": "python",
   "name": "python3"
  },
  "language_info": {
   "codemirror_mode": {
    "name": "ipython",
    "version": 3
   },
   "file_extension": ".py",
   "mimetype": "text/x-python",
   "name": "python",
   "nbconvert_exporter": "python",
   "pygments_lexer": "ipython3",
   "version": "3.12.4"
  }
 },
 "nbformat": 4,
 "nbformat_minor": 5
}
