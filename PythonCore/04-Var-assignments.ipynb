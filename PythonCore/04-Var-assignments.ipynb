{
 "cells": [
  {
   "cell_type": "markdown",
   "id": "f1203217-858d-4260-9e83-2b6f90ac9a68",
   "metadata": {},
   "source": [
    "-------------------\n",
    "### Variable assignment - reassignment\n",
    "\n",
    "--------------------"
   ]
  },
  {
   "cell_type": "code",
   "execution_count": 2,
   "id": "5c656361-d051-4b68-a706-8d5347635510",
   "metadata": {},
   "outputs": [],
   "source": [
    "# Variable Assignment\n",
    "x    = 10\n",
    "name = \"John\"\n",
    "pi   = 3.14"
   ]
  },
  {
   "cell_type": "code",
   "execution_count": 4,
   "id": "9db91c34-b754-4219-b7ed-7b22285a5cff",
   "metadata": {},
   "outputs": [
    {
     "data": {
      "text/plain": [
       "(4369834888, 5094968608, 5094524688)"
      ]
     },
     "execution_count": 4,
     "metadata": {},
     "output_type": "execute_result"
    }
   ],
   "source": [
    "id(x), id(name), id(pi)"
   ]
  },
  {
   "cell_type": "code",
   "execution_count": 6,
   "id": "50ebec71-45b6-418d-be4a-f1b9af637bdb",
   "metadata": {},
   "outputs": [],
   "source": [
    "# Variable Reassignment\n",
    "x    = 20\n",
    "name = \"Alice\"\n",
    "pi   = 3.14159"
   ]
  },
  {
   "cell_type": "code",
   "execution_count": 8,
   "id": "3961a2fe-0448-42e2-a80b-ed6aff6dd537",
   "metadata": {},
   "outputs": [
    {
     "data": {
      "text/plain": [
       "(4369835208, 5094974368, 5095221168)"
      ]
     },
     "execution_count": 8,
     "metadata": {},
     "output_type": "execute_result"
    }
   ],
   "source": [
    "id(x), id(name), id(pi)"
   ]
  },
  {
   "cell_type": "code",
   "execution_count": 10,
   "id": "d01155e4-e02a-434a-b7a1-430180d04762",
   "metadata": {},
   "outputs": [
    {
     "name": "stdout",
     "output_type": "stream",
     "text": [
      "x contains: 100 with data type: <class 'int'>\n",
      "x contains: Hello, World! with data type: <class 'str'>\n"
     ]
    }
   ],
   "source": [
    "# Variable Reassignment with Different Data Types\n",
    "x = 100\n",
    "print(\"x contains:\", x, \"with data type:\", type(x))  # Output: x contains: 100 with data type: <class 'int'>\n",
    "\n",
    "x = \"Hello, World!\"\n",
    "print(\"x contains:\", x, \"with data type:\", type(x))  # Output: x contains: Hello, World! with data type: <class 'str'>"
   ]
  },
  {
   "cell_type": "markdown",
   "id": "2b92bc2d-f6cf-4a93-910d-9078e9abf289",
   "metadata": {},
   "source": [
    "`Variable Naming Rules`: Variable names must adhere to the rules mentioned earlier, which include starting with a letter or underscore, consisting of letters, digits, and underscores, being case-sensitive, and avoiding reserved words.\n",
    "\n",
    "`Assignment Operator`: The equal sign (=) is used as the assignment operator to assign values to variables. It does not imply mathematical equality but rather assigns the value on the right-hand side to the variable on the left-hand side.\n",
    "\n",
    "`Dynamic Typing`: Python is dynamically-typed, so you don't need to specify the data type of the variable explicitly. The data type is determined automatically based on the value assigned to the variable."
   ]
  },
  {
   "cell_type": "markdown",
   "id": "530d2cd3-a2d0-4c27-b789-ebb2d95ead2b",
   "metadata": {},
   "source": [
    "**Multiple Assignments:**\n",
    "\n",
    "Python allows you to assign multiple variables in a single line."
   ]
  },
  {
   "cell_type": "code",
   "execution_count": 14,
   "id": "b7690f8d-428e-4302-9331-be7bb4c71e21",
   "metadata": {},
   "outputs": [],
   "source": [
    "a, b, c = 10, 20, 30"
   ]
  },
  {
   "cell_type": "markdown",
   "id": "ac8102b3-e2f7-49a1-a685-7dfd7ba09f1d",
   "metadata": {},
   "source": [
    "**Augmented Assignment:**\n",
    "\n",
    "Python supports augmented assignment operators, which perform an operation and assign the result to the same variable."
   ]
  },
  {
   "cell_type": "code",
   "execution_count": 21,
   "id": "b18ab806-7aff-4103-a44b-f36a20011cfc",
   "metadata": {},
   "outputs": [
    {
     "name": "stdout",
     "output_type": "stream",
     "text": [
      "7\n"
     ]
    }
   ],
   "source": [
    "x = 5\n",
    "x += 2   # Equivalent to x = x + 2\n",
    "print(x) # Output: 7"
   ]
  },
  {
   "cell_type": "code",
   "execution_count": null,
   "id": "5ad6edff-86aa-46b4-88b1-fceed6d8322b",
   "metadata": {},
   "outputs": [],
   "source": []
  },
  {
   "cell_type": "markdown",
   "id": "1a642f54-9b01-4c70-9d52-592eee5c2f5a",
   "metadata": {},
   "source": [
    "**Swapping Variables**\n",
    "\n",
    "Python allows you to swap the values of two variables in a single line using multiple assignments."
   ]
  },
  {
   "cell_type": "code",
   "execution_count": 24,
   "id": "01650123-845d-4907-a02f-833b9d45bc97",
   "metadata": {},
   "outputs": [
    {
     "name": "stdout",
     "output_type": "stream",
     "text": [
      "20 10\n"
     ]
    }
   ],
   "source": [
    "a, b = 10, 20\n",
    "a, b = b, a  # Swap the values of a and b\n",
    "print(a, b)  # Output: 20, 10"
   ]
  },
  {
   "cell_type": "markdown",
   "id": "b92d1ea3-61fb-42cb-8283-97cc063e2902",
   "metadata": {},
   "source": [
    "**Unpacking:**\n",
    "\n",
    "Python allows you to unpack elements from a list, tuple, or dictionary into individual variables using multiple assignments."
   ]
  },
  {
   "cell_type": "code",
   "execution_count": 27,
   "id": "148220f8-f903-4b37-9e61-341d227cb162",
   "metadata": {},
   "outputs": [
    {
     "name": "stdout",
     "output_type": "stream",
     "text": [
      "1 2 3\n"
     ]
    }
   ],
   "source": [
    "my_list = [1, 2, 3]\n",
    "x, y, z = my_list\n",
    "print(x, y, z)  # Output: 1, 2, 3"
   ]
  },
  {
   "cell_type": "code",
   "execution_count": 29,
   "id": "c8e67c4a-8ccf-40c4-bcf7-014a64d1ca7f",
   "metadata": {},
   "outputs": [
    {
     "name": "stdout",
     "output_type": "stream",
     "text": [
      "1 2 3\n"
     ]
    }
   ],
   "source": [
    "my_list = (1, 2, 3)\n",
    "x, y, z = my_list\n",
    "print(x, y, z)  # Output: 1, 2, 3"
   ]
  },
  {
   "cell_type": "code",
   "execution_count": 31,
   "id": "7282caf6-a528-40a1-b06c-9f4615499b12",
   "metadata": {},
   "outputs": [
    {
     "name": "stdout",
     "output_type": "stream",
     "text": [
      "a b c\n"
     ]
    }
   ],
   "source": [
    "my_list = {'a': 1, 'b': 2, 'c':3}\n",
    "x, y, z = my_list\n",
    "print(x, y, z)  "
   ]
  },
  {
   "cell_type": "markdown",
   "id": "61bf6a85-81ad-4cdc-8974-4e23c870a3a3",
   "metadata": {},
   "source": [
    "**Extended Unpacking (Python 3.5+):**\n",
    "\n",
    "In Python 3.5 and later versions, you can use the extended unpacking syntax to assign multiple values and capture the remaining values in a single variable using the asterisk (*)."
   ]
  },
  {
   "cell_type": "code",
   "execution_count": 35,
   "id": "019b9797-2a8b-4329-9e7b-24e3834fd4bb",
   "metadata": {},
   "outputs": [
    {
     "name": "stdout",
     "output_type": "stream",
     "text": [
      "1\n",
      "[2, 3, 4, 5]\n"
     ]
    }
   ],
   "source": [
    "# Extended unpacking\n",
    "a, *rest = [1, 2, 3, 4, 5]\n",
    "\n",
    "print(a)    # Output: 1\n",
    "print(rest) # Output: [2, 3, 4, 5]"
   ]
  },
  {
   "cell_type": "code",
   "execution_count": null,
   "id": "700ee4cc-73e5-4172-8421-024b8b7379ec",
   "metadata": {},
   "outputs": [],
   "source": []
  }
 ],
 "metadata": {
  "kernelspec": {
   "display_name": "Python 3 (ipykernel)",
   "language": "python",
   "name": "python3"
  },
  "language_info": {
   "codemirror_mode": {
    "name": "ipython",
    "version": 3
   },
   "file_extension": ".py",
   "mimetype": "text/x-python",
   "name": "python",
   "nbconvert_exporter": "python",
   "pygments_lexer": "ipython3",
   "version": "3.12.4"
  }
 },
 "nbformat": 4,
 "nbformat_minor": 5
}
