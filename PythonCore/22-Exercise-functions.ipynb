{
 "cells": [
  {
   "cell_type": "code",
   "execution_count": 1,
   "id": "4c724aa6-99b8-43a7-9737-93cfb33d56aa",
   "metadata": {},
   "outputs": [
    {
     "name": "stdout",
     "output_type": "stream",
     "text": [
      "Maximum Number: 10\n"
     ]
    }
   ],
   "source": [
    "def find_max(num_list):\n",
    "    \"\"\"This function finds the maximum number in a given list.\"\"\"\n",
    "    if not num_list:\n",
    "        return None\n",
    "\n",
    "    max_num = num_list[0]\n",
    "    for num in num_list:\n",
    "        if num > max_num:\n",
    "            max_num = num\n",
    "\n",
    "    return max_num\n",
    "\n",
    "# Test the function\n",
    "numbers    = [5, 10, 2, 8, 3]\n",
    "max_number = find_max(numbers)\n",
    "\n",
    "print(\"Maximum Number:\", max_number)\n",
    "# Output: Maximum Number: 10"
   ]
  },
  {
   "cell_type": "markdown",
   "id": "9c7f245c-d243-4018-b10f-c03340a405d7",
   "metadata": {},
   "source": [
    "**Exercise 01**\n",
    "\n",
    "- Calculate the Factorial of a Number\n",
    "    - Write a function that calculates the factorial of a given non-negative integer."
   ]
  },
  {
   "cell_type": "code",
   "execution_count": 3,
   "id": "855ae4eb-3d55-4448-808e-b134dd042030",
   "metadata": {},
   "outputs": [],
   "source": [
    "def factorial(n):\n",
    "    if n == 0:\n",
    "        return 1\n",
    "    else:\n",
    "        return n * factorial(n - 1)"
   ]
  },
  {
   "cell_type": "code",
   "execution_count": 4,
   "id": "a7bad4bb-e192-419d-87e4-6b41ec2b9bd3",
   "metadata": {},
   "outputs": [
    {
     "name": "stdout",
     "output_type": "stream",
     "text": [
      "Factorial of 5 is: 120\n"
     ]
    }
   ],
   "source": [
    "# Test the function\n",
    "num = 5\n",
    "print(\"Factorial of\", num, \"is:\", factorial(num))"
   ]
  },
  {
   "cell_type": "markdown",
   "id": "5e73804f-f929-4657-a001-2be89a1dbc83",
   "metadata": {},
   "source": [
    "**Exercise 02** \n",
    "\n",
    "- Check for `Palindrome`\n",
    "    - Write a function that takes a string as input and returns True if it is a palindrome (reads the same forwards and backwards), and False otherwise."
   ]
  },
  {
   "cell_type": "code",
   "execution_count": 6,
   "id": "b85d9c27-62f6-474f-981c-59385a902c1a",
   "metadata": {},
   "outputs": [],
   "source": [
    "def is_palindrome(text):\n",
    "    return text == text[::-1]"
   ]
  },
  {
   "cell_type": "code",
   "execution_count": 7,
   "id": "24bd46f6-e487-4336-90e7-e4d5337bab62",
   "metadata": {},
   "outputs": [
    {
     "name": "stdout",
     "output_type": "stream",
     "text": [
      "radarkk is a palindrome: False\n"
     ]
    }
   ],
   "source": [
    "# Test the function\n",
    "word = \"radarkk\"\n",
    "print(word, \"is a palindrome:\", is_palindrome(word))"
   ]
  },
  {
   "cell_type": "markdown",
   "id": "7b001012-ffee-4a30-bfbf-f05f7892b434",
   "metadata": {},
   "source": [
    "`Function to Calculate the Area of a Circle`"
   ]
  },
  {
   "cell_type": "code",
   "execution_count": 9,
   "id": "660e4c15-c5d9-4324-a4a9-456d7076545b",
   "metadata": {},
   "outputs": [
    {
     "name": "stdout",
     "output_type": "stream",
     "text": [
      "Area of the circle with radius 5 is 78.53981633974483\n"
     ]
    }
   ],
   "source": [
    "def area_of_circle(radius):\n",
    "    \"\"\"This function calculates the area of a circle given its radius.\"\"\"\n",
    "    import math\n",
    "    return math.pi * radius ** 2\n",
    "\n",
    "# Test the function\n",
    "radius = 5\n",
    "area = area_of_circle(radius)\n",
    "print(\"Area of the circle with radius\", radius, \"is\", area)\n",
    "# Output: Area of the circle with radius 5 is 78.53981633974483"
   ]
  },
  {
   "cell_type": "markdown",
   "id": "26e9c955-1f83-4ec1-bc02-7c254fdf118c",
   "metadata": {},
   "source": [
    "`Function to Check if a Number is Prime`"
   ]
  },
  {
   "cell_type": "code",
   "execution_count": 11,
   "id": "5067fd98-b27d-4fcc-ace9-d2670bab2a5d",
   "metadata": {},
   "outputs": [
    {
     "name": "stdout",
     "output_type": "stream",
     "text": [
      "17 is a prime number? True\n",
      "27 is a prime number? False\n"
     ]
    }
   ],
   "source": [
    "def is_prime(num):\n",
    "    \"\"\"This function checks if a given number is prime.\"\"\"\n",
    "    if num <= 1:\n",
    "        return False\n",
    "\n",
    "    for i in range(2, int(num ** 0.5) + 1):\n",
    "        if num % i == 0:\n",
    "            return False\n",
    "\n",
    "    return True\n",
    "\n",
    "# Test the function\n",
    "number1 = 17\n",
    "number2 = 27\n",
    "print(number1, \"is a prime number?\", is_prime(number1))  # Output: 17 is a prime number? True\n",
    "print(number2, \"is a prime number?\", is_prime(number2))  # Output: 27 is a prime number? False"
   ]
  },
  {
   "cell_type": "markdown",
   "id": "06077128-5338-4aff-91ac-595f7639fc3b",
   "metadata": {},
   "source": [
    "**Exercise 03**\n",
    "- Next word prediction"
   ]
  },
  {
   "cell_type": "code",
   "execution_count": 13,
   "id": "17fbd2e7-4b9c-4b0c-9a80-a303fc1b607e",
   "metadata": {},
   "outputs": [
    {
     "data": {
      "text/plain": [
       "['fkfkfk', 'kfkfkf', 'kfkfkfk']"
      ]
     },
     "execution_count": 13,
     "metadata": {},
     "output_type": "execute_result"
    }
   ],
   "source": [
    "'fkfkfk  kfkfkf  kfkfkfk '.split()"
   ]
  },
  {
   "cell_type": "code",
   "execution_count": 32,
   "id": "20613bd4-acc9-4686-b218-a478906304c8",
   "metadata": {},
   "outputs": [],
   "source": [
    "def build_language_model(corpus):\n",
    "    language_model = {}\n",
    "    words          = corpus.split()\n",
    "\n",
    "    for i in range(len(words) - 1):\n",
    "        current_word = words[i]\n",
    "        next_word    = words[i + 1]\n",
    "\n",
    "        if current_word in language_model:\n",
    "            language_model[current_word].append(next_word)\n",
    "        else:\n",
    "            language_model[current_word] = [next_word]\n",
    "\n",
    "    return language_model"
   ]
  },
  {
   "cell_type": "code",
   "execution_count": 44,
   "id": "df33492e-311b-4421-8d7d-5e94f0afefd1",
   "metadata": {},
   "outputs": [],
   "source": [
    "def predict_next_word(language_model, seed_word):\n",
    "    if seed_word in language_model:\n",
    "        possible_next_words = language_model[seed_word]\n",
    "        print(possible_next_words)\n",
    "        return random.choice(possible_next_words)\n",
    "    else:\n",
    "        return None"
   ]
  },
  {
   "cell_type": "code",
   "execution_count": 24,
   "id": "227d4cf8-8be2-4ef5-871b-fed072857cc7",
   "metadata": {},
   "outputs": [],
   "source": [
    "# Example corpus\n",
    "corpus = '''New York is a vibrant city known for its iconic landmarks such as the Statue of \n",
    "Liberty Times Square and Central Park It is a melting pot of cultures and offers a diverse \n",
    "range of cuisines arts and entertainment options New Delhi is the capital city of \n",
    "India and boasts a rich history and culture It is home to magnificent historical sites \n",
    "like the Red Fort Qutub Minar and India Gate The city also offers a mix of traditional \n",
    "and modern attractions and is famous for its bustling markets and delicious street food \n",
    "New Mexico is a southwestern U.S. state known for its stunning landscapes including deserts \n",
    "canyons and mountains The state's unique blend of Native American Spanish and \n",
    "Mexican heritage is reflected in its art architecture and cuisine Visitors can explore \n",
    "national parks ancient ruins and vibrant art scenes'''"
   ]
  },
  {
   "cell_type": "code",
   "execution_count": 46,
   "id": "d4f66233-6bb6-4d13-a655-e1935e963e91",
   "metadata": {},
   "outputs": [],
   "source": [
    "# Build the language model\n",
    "language_model = build_language_model(corpus)"
   ]
  },
  {
   "cell_type": "code",
   "execution_count": 38,
   "id": "fc2eb5ca-2a2e-4b36-a0c1-f5b33cbede70",
   "metadata": {},
   "outputs": [
    {
     "data": {
      "text/plain": [
       "{'New': ['York', 'Delhi', 'Mexico'],\n",
       " 'York': ['is'],\n",
       " 'is': ['a', 'a', 'the', 'home', 'famous', 'a', 'reflected'],\n",
       " 'a': ['vibrant', 'melting', 'diverse', 'rich', 'mix', 'southwestern'],\n",
       " 'vibrant': ['city', 'art'],\n",
       " 'city': ['known', 'of', 'also'],\n",
       " 'known': ['for', 'for'],\n",
       " 'for': ['its', 'its', 'its'],\n",
       " 'its': ['iconic', 'bustling', 'stunning', 'art'],\n",
       " 'iconic': ['landmarks'],\n",
       " 'landmarks': ['such'],\n",
       " 'such': ['as'],\n",
       " 'as': ['the'],\n",
       " 'the': ['Statue', 'capital', 'Red'],\n",
       " 'Statue': ['of'],\n",
       " 'of': ['Liberty', 'cultures', 'cuisines', 'India', 'traditional', 'Native'],\n",
       " 'Liberty': ['Times'],\n",
       " 'Times': ['Square'],\n",
       " 'Square': ['and'],\n",
       " 'and': ['Central',\n",
       "  'offers',\n",
       "  'entertainment',\n",
       "  'boasts',\n",
       "  'culture',\n",
       "  'India',\n",
       "  'modern',\n",
       "  'is',\n",
       "  'delicious',\n",
       "  'mountains',\n",
       "  'Mexican',\n",
       "  'cuisine',\n",
       "  'vibrant'],\n",
       " 'Central': ['Park'],\n",
       " 'Park': ['It'],\n",
       " 'It': ['is', 'is'],\n",
       " 'melting': ['pot'],\n",
       " 'pot': ['of'],\n",
       " 'cultures': ['and'],\n",
       " 'offers': ['a', 'a'],\n",
       " 'diverse': ['range'],\n",
       " 'range': ['of'],\n",
       " 'cuisines': ['arts'],\n",
       " 'arts': ['and'],\n",
       " 'entertainment': ['options'],\n",
       " 'options': ['New'],\n",
       " 'Delhi': ['is'],\n",
       " 'capital': ['city'],\n",
       " 'India': ['and', 'Gate'],\n",
       " 'boasts': ['a'],\n",
       " 'rich': ['history'],\n",
       " 'history': ['and'],\n",
       " 'culture': ['It'],\n",
       " 'home': ['to'],\n",
       " 'to': ['magnificent'],\n",
       " 'magnificent': ['historical'],\n",
       " 'historical': ['sites'],\n",
       " 'sites': ['like'],\n",
       " 'like': ['the'],\n",
       " 'Red': ['Fort'],\n",
       " 'Fort': ['Qutub'],\n",
       " 'Qutub': ['Minar'],\n",
       " 'Minar': ['and'],\n",
       " 'Gate': ['The'],\n",
       " 'The': ['city', \"state's\"],\n",
       " 'also': ['offers'],\n",
       " 'mix': ['of'],\n",
       " 'traditional': ['and'],\n",
       " 'modern': ['attractions'],\n",
       " 'attractions': ['and'],\n",
       " 'famous': ['for'],\n",
       " 'bustling': ['markets'],\n",
       " 'markets': ['and'],\n",
       " 'delicious': ['street'],\n",
       " 'street': ['food'],\n",
       " 'food': ['New'],\n",
       " 'Mexico': ['is'],\n",
       " 'southwestern': ['U.S.'],\n",
       " 'U.S.': ['state'],\n",
       " 'state': ['known'],\n",
       " 'stunning': ['landscapes'],\n",
       " 'landscapes': ['including'],\n",
       " 'including': ['deserts'],\n",
       " 'deserts': ['canyons'],\n",
       " 'canyons': ['and'],\n",
       " 'mountains': ['The'],\n",
       " \"state's\": ['unique'],\n",
       " 'unique': ['blend'],\n",
       " 'blend': ['of'],\n",
       " 'Native': ['American'],\n",
       " 'American': ['Spanish'],\n",
       " 'Spanish': ['and'],\n",
       " 'Mexican': ['heritage'],\n",
       " 'heritage': ['is'],\n",
       " 'reflected': ['in'],\n",
       " 'in': ['its'],\n",
       " 'art': ['architecture', 'scenes'],\n",
       " 'architecture': ['and'],\n",
       " 'cuisine': ['Visitors'],\n",
       " 'Visitors': ['can'],\n",
       " 'can': ['explore'],\n",
       " 'explore': ['national'],\n",
       " 'national': ['parks'],\n",
       " 'parks': ['ancient'],\n",
       " 'ancient': ['ruins'],\n",
       " 'ruins': ['and']}"
      ]
     },
     "execution_count": 38,
     "metadata": {},
     "output_type": "execute_result"
    }
   ],
   "source": [
    "language_model"
   ]
  },
  {
   "cell_type": "code",
   "execution_count": 40,
   "id": "1119194c-8043-4105-9627-fbbebd7c552b",
   "metadata": {},
   "outputs": [],
   "source": [
    "# Seed word for prediction\n",
    "seed_word = \"of\""
   ]
  },
  {
   "cell_type": "code",
   "execution_count": 48,
   "id": "af936d24-cda9-42e4-9a33-00960bb81eb8",
   "metadata": {},
   "outputs": [
    {
     "name": "stdout",
     "output_type": "stream",
     "text": [
      "['Liberty', 'cultures', 'cuisines', 'India', 'traditional', 'Native']\n",
      "Predicted next word for 'of': India\n"
     ]
    }
   ],
   "source": [
    "# Predict the next word\n",
    "import random\n",
    "predicted_word = predict_next_word(language_model, seed_word)\n",
    "\n",
    "if predicted_word:\n",
    "    print(f\"Predicted next word for '{seed_word}': {predicted_word}\")\n",
    "else:\n",
    "    print(f\"'{seed_word}' not found in the corpus or has no following words.\")"
   ]
  },
  {
   "cell_type": "code",
   "execution_count": null,
   "id": "f9a9131a-4d38-4974-91ad-421614f05022",
   "metadata": {},
   "outputs": [],
   "source": []
  }
 ],
 "metadata": {
  "kernelspec": {
   "display_name": "Python 3 (ipykernel)",
   "language": "python",
   "name": "python3"
  },
  "language_info": {
   "codemirror_mode": {
    "name": "ipython",
    "version": 3
   },
   "file_extension": ".py",
   "mimetype": "text/x-python",
   "name": "python",
   "nbconvert_exporter": "python",
   "pygments_lexer": "ipython3",
   "version": "3.12.4"
  }
 },
 "nbformat": 4,
 "nbformat_minor": 5
}
