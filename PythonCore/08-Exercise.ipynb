{
 "cells": [
  {
   "cell_type": "markdown",
   "id": "01410633-1d40-4ecf-a288-f5b7b4f6c945",
   "metadata": {},
   "source": [
    "-------------------------\n",
    "### Exercises on IF/Loops/LISTs\n",
    "----------------------------"
   ]
  },
  {
   "cell_type": "markdown",
   "id": "2b50bf63-151a-4203-83eb-d308701a8528",
   "metadata": {},
   "source": [
    "**Exercise 01**\n",
    "\n",
    "Check if a number is Positive , negative or Zero\n",
    "\n",
    "- use IF/elif, else"
   ]
  },
  {
   "cell_type": "code",
   "execution_count": 5,
   "id": "5d7a6d7e-b32a-4bc6-93cf-3998265e90db",
   "metadata": {},
   "outputs": [],
   "source": [
    "given_nbr = 0"
   ]
  },
  {
   "cell_type": "code",
   "execution_count": 7,
   "id": "4b3ecad3-7faa-4423-90aa-238a8c756fc4",
   "metadata": {},
   "outputs": [
    {
     "name": "stdout",
     "output_type": "stream",
     "text": [
      "it is zero\n"
     ]
    }
   ],
   "source": [
    "if given_nbr > 0:\n",
    "    print('given number : {} is positive'.format(given_nbr))\n",
    "elif given_nbr < 0:\n",
    "    print('given number : {} is negative'.format(given_nbr))\n",
    "else:\n",
    "    print('it is zero')\n"
   ]
  },
  {
   "cell_type": "markdown",
   "id": "557089f7-0755-4e57-8f0e-7a1a67028f99",
   "metadata": {},
   "source": [
    "**Exercise 02**\n",
    "\n",
    "determine the type of triangle based on it's sides, length\n",
    "\n",
    "- equilateral triangle\n",
    "- isoceles triangle\n",
    "- scalene triangle\n",
    "\n",
    "use the following semantics\n",
    "- use IF/elif/else\n",
    "- and & ==\n",
    "- or"
   ]
  },
  {
   "cell_type": "code",
   "execution_count": 10,
   "id": "5673c67d-1838-40c3-abb8-a5e5b915e548",
   "metadata": {},
   "outputs": [],
   "source": [
    "side1 = 20\n",
    "side2 = 21\n",
    "side3 = 22"
   ]
  },
  {
   "cell_type": "code",
   "execution_count": 12,
   "id": "f3b1bb37-3730-4eeb-90bb-1bb58d5d431f",
   "metadata": {},
   "outputs": [
    {
     "name": "stdout",
     "output_type": "stream",
     "text": [
      "Scalene\n"
     ]
    }
   ],
   "source": [
    "if side1 == side2 ==side3:\n",
    "    print(\"EQ\")\n",
    "elif side1 == side2 or side1 == side3 or side2 == side3:\n",
    "    print(\"ISQ\")\n",
    "else:\n",
    "    print(\"Scalene\")"
   ]
  },
  {
   "cell_type": "markdown",
   "id": "b7654f18-ddec-4449-aabe-eff487f4a69b",
   "metadata": {},
   "source": [
    "**Exercise 03**\n",
    "\n",
    "check if a given year in 4 digit is a LEAP YEAR\n",
    "\n",
    "LEAP YEAR\n",
    "- divisible by 400\n",
    "- divisible by 4 and 100"
   ]
  },
  {
   "cell_type": "code",
   "execution_count": 51,
   "id": "46f5d7fc-5772-46bf-9c60-78dd30c04b4b",
   "metadata": {},
   "outputs": [
    {
     "name": "stdout",
     "output_type": "stream",
     "text": [
      "Year is a leap year\n"
     ]
    }
   ],
   "source": [
    "year = 2000\n",
    "\n",
    "if (year % 400 == 0) and (year % 4 == 0) and (year % 100 == 0):\n",
    "#if year % 400 == 0:\n",
    "    print(\"Year is a leap year\")\n",
    "#elif year % 4 == 0:\n",
    "    #if year % 100 == 0:\n",
    "        #print(\"Year is a leap year\")\n",
    "    #else:\n",
    "        #print(\"Year is not a leap year\")\n",
    "else:\n",
    "    print(\"Year is not a leap year\")"
   ]
  },
  {
   "cell_type": "markdown",
   "id": "de4cd9bd-b6a5-40c4-b3a8-c3bb8dcd4170",
   "metadata": {},
   "source": [
    "**Exercise 04**\n",
    "\n",
    "Agewise ticket price\n",
    "\n",
    "- 0 - 20 , INR 100\n",
    "- 21 - 25, INR 500\n",
    "- others INR 1000"
   ]
  },
  {
   "cell_type": "code",
   "execution_count": 47,
   "id": "3a07e015-162d-43a2-baa9-7f65276a1620",
   "metadata": {},
   "outputs": [
    {
     "name": "stdout",
     "output_type": "stream",
     "text": [
      "Ticket price is 100\n"
     ]
    }
   ],
   "source": [
    "age = 20\n",
    "\n",
    "if age <= 20:\n",
    "    print(\"Ticket price is 100\")\n",
    "elif age >= 21 and age <= 25:\n",
    "    print(\"Ticket price is 500\")\n",
    "else:\n",
    "    print(\"Ticket price is 1000\")"
   ]
  },
  {
   "cell_type": "markdown",
   "id": "b5b1303f-838f-4fde-a17e-6e3f0b09a3b0",
   "metadata": {},
   "source": [
    "**Exercise 05**\n",
    "\n",
    "Find out MAX, MIN value in a LIST"
   ]
  },
  {
   "cell_type": "code",
   "execution_count": 54,
   "id": "41752f30-63ca-45b4-82ca-e827801340af",
   "metadata": {},
   "outputs": [],
   "source": [
    "given_list = [ 10, 4, 56, 34, 67, 88, 76]"
   ]
  },
  {
   "cell_type": "code",
   "execution_count": 56,
   "id": "18f7ebf9-f9c4-4a16-8455-d2c82d0e9b26",
   "metadata": {},
   "outputs": [
    {
     "data": {
      "text/plain": [
       "88"
      ]
     },
     "execution_count": 56,
     "metadata": {},
     "output_type": "execute_result"
    }
   ],
   "source": [
    "max(given_list)"
   ]
  },
  {
   "cell_type": "code",
   "execution_count": 58,
   "id": "fe4b27e8-9856-4d15-9f0c-2f81ea083b7c",
   "metadata": {},
   "outputs": [
    {
     "data": {
      "text/plain": [
       "4"
      ]
     },
     "execution_count": 58,
     "metadata": {},
     "output_type": "execute_result"
    }
   ],
   "source": [
    "min(given_list)"
   ]
  },
  {
   "cell_type": "code",
   "execution_count": 62,
   "id": "4c7a7c0c-c522-49f1-abbb-86db9a14ed4c",
   "metadata": {},
   "outputs": [],
   "source": [
    "max_val = min_val = given_list[0]"
   ]
  },
  {
   "cell_type": "code",
   "execution_count": 66,
   "id": "dd9ebe3f-8004-43e1-b012-065796f3cb9d",
   "metadata": {},
   "outputs": [
    {
     "name": "stdout",
     "output_type": "stream",
     "text": [
      "Maximum value in the list: 88\n",
      "Minimum value in the list: 4\n"
     ]
    }
   ],
   "source": [
    "for each_nbr in given_list:\n",
    "    if each_nbr > max_val:\n",
    "        max_val = each_nbr\n",
    "    elif each_nbr < min_val:\n",
    "        min_val = each_nbr\n",
    "\n",
    "print('Maximum value in the list: {}'.format(max_val))\n",
    "print('Minimum value in the list: {}'.format(min_val))"
   ]
  },
  {
   "cell_type": "code",
   "execution_count": 70,
   "id": "3fc123b4-3a96-4b3a-b3d0-89b24bc032c5",
   "metadata": {},
   "outputs": [
    {
     "data": {
      "text/plain": [
       "[88, 76, 67, 56, 34, 10, 4]"
      ]
     },
     "execution_count": 70,
     "metadata": {},
     "output_type": "execute_result"
    }
   ],
   "source": [
    "a = sorted(given_list, reverse = True)\n",
    "a"
   ]
  },
  {
   "cell_type": "code",
   "execution_count": 72,
   "id": "05159760-7c3a-4e14-a6dd-d880cf6b3d6d",
   "metadata": {},
   "outputs": [
    {
     "data": {
      "text/plain": [
       "[10, 4, 56, 34, 67, 88, 76]"
      ]
     },
     "execution_count": 72,
     "metadata": {},
     "output_type": "execute_result"
    }
   ],
   "source": [
    "given_list"
   ]
  },
  {
   "cell_type": "markdown",
   "id": "89efa247-5fbf-45ae-bd2d-7c0bb8c2c104",
   "metadata": {},
   "source": [
    "**Exercise 06**\n",
    "\n",
    "Given list of numbers\n",
    "\n",
    "and we have check if the given list is already sorted (asc or desc)"
   ]
  },
  {
   "cell_type": "code",
   "execution_count": 75,
   "id": "0cbf3c40-7afa-4560-8595-7404f7df9986",
   "metadata": {},
   "outputs": [],
   "source": [
    "given_list1 = [ 10, 4, 56, 34, 67, 88, 76]\n",
    "given_list2 = [ 1,2,4,77,88,99]\n",
    "given_list3 = [ 99,66,55,44,33,22,11]"
   ]
  },
  {
   "cell_type": "code",
   "execution_count": 77,
   "id": "417d7b62-955b-4309-a3e8-63993a2a5b94",
   "metadata": {},
   "outputs": [],
   "source": [
    "import random"
   ]
  },
  {
   "cell_type": "code",
   "execution_count": 79,
   "id": "308cbe30-87bc-4767-9845-917c6ba1e288",
   "metadata": {},
   "outputs": [],
   "source": [
    "start_range = 10\n",
    "end_range   = 20"
   ]
  },
  {
   "cell_type": "code",
   "execution_count": 81,
   "id": "5ab289fb-f759-49cf-ace0-916cc60b69e8",
   "metadata": {},
   "outputs": [
    {
     "data": {
      "text/plain": [
       "16"
      ]
     },
     "execution_count": 81,
     "metadata": {},
     "output_type": "execute_result"
    }
   ],
   "source": [
    "random.randint(start_range, end_range)"
   ]
  },
  {
   "cell_type": "code",
   "execution_count": 83,
   "id": "572fc966-682e-491f-a0ee-5f6d5da532de",
   "metadata": {},
   "outputs": [
    {
     "data": {
      "text/plain": [
       "range(0, 5)"
      ]
     },
     "execution_count": 83,
     "metadata": {},
     "output_type": "execute_result"
    }
   ],
   "source": [
    "range(5)"
   ]
  },
  {
   "cell_type": "code",
   "execution_count": 115,
   "id": "e39f28db-d2dc-47a2-923a-494bb1019344",
   "metadata": {},
   "outputs": [
    {
     "name": "stdout",
     "output_type": "stream",
     "text": [
      "Exp liters = 100, number of times sorted list was generated = 3\n",
      "Exp liters = 500, number of times sorted list was generated = 22\n",
      "Exp liters = 1000, number of times sorted list was generated = 36\n",
      "Exp liters = 1500, number of times sorted list was generated = 73\n"
     ]
    }
   ],
   "source": [
    "gen_list = []\n",
    "\n",
    "start_range = 10\n",
    "end_range = 20\n",
    "\n",
    "# try nbr_iters = 100, 500, 1000\n",
    "\n",
    "iter_loop_list = [100, 500, 1000, 1500]\n",
    "\n",
    "sorted_count = 0\n",
    "\n",
    "for nbr_iters in iter_loop_list:\n",
    "    #print(\"Number of iterator is \", nbr_iters)\n",
    "\n",
    "    for iters in range(nbr_iters):\n",
    "        #print(\"Iter is \", iters)\n",
    "\n",
    "        gen_list = []\n",
    "\n",
    "        for each in range(0, 5):\n",
    "            #print (\"Each is \", each)\n",
    "            gen_list.append(random.randint(start_range, end_range))\n",
    "            #print(\"GeneratedList is \", gen_list)\n",
    "\n",
    "        if gen_list == sorted(gen_list) or gen_list == sorted(gen_list, reverse=True):\n",
    "            sorted_count += 1\n",
    "            #print(\"Sorted_count\", sorted_count)\n",
    "\n",
    "    print('Exp liters = {}, number of times sorted list was generated = {}'.format(nbr_iters, sorted_count))\n",
    "    sorted_count = 0"
   ]
  },
  {
   "cell_type": "markdown",
   "id": "5216735a-d2f6-4f4c-9cf4-9abf20d610c1",
   "metadata": {},
   "source": [
    "**Exercise 07**\n",
    "\n",
    "Given 2 lists, each lits with 10 integers, between 1 and 20\n",
    "\n",
    "- list1 = [...]\n",
    "- list2 = [...]\n",
    "\n",
    "use `randint` function of `random` library to generate the lists. \n",
    "\n",
    "Find number of common elements in the two lists"
   ]
  },
  {
   "cell_type": "code",
   "execution_count": 120,
   "id": "98f3c3ba-bdbf-4746-9a85-2f9afae176c6",
   "metadata": {},
   "outputs": [],
   "source": [
    "nbr_of_values = 15\n",
    "start_range = 10\n",
    "end_range = 20\n",
    "\n",
    "list1 = []\n",
    "list2 = []\n",
    "\n",
    "for iter in range(nbr_of_values):\n",
    "    list1.append(random.randint(start_range, end_range))\n",
    "    list2.append(random.randint(start_range, end_range))"
   ]
  },
  {
   "cell_type": "code",
   "execution_count": 122,
   "id": "c9892179-022f-4478-9faf-baa7755ed9ff",
   "metadata": {},
   "outputs": [
    {
     "data": {
      "text/plain": [
       "([14, 11, 15, 19, 16, 14, 13, 13, 12, 17, 16, 15, 10, 18, 16],\n",
       " [10, 12, 12, 15, 13, 16, 13, 20, 11, 19, 19, 11, 13, 14, 17])"
      ]
     },
     "execution_count": 122,
     "metadata": {},
     "output_type": "execute_result"
    }
   ],
   "source": [
    "list1, list2"
   ]
  },
  {
   "cell_type": "markdown",
   "id": "be95d2a8-8ac4-4187-93dd-ceb5096d3a4a",
   "metadata": {},
   "source": [
    "find the common elements"
   ]
  },
  {
   "cell_type": "code",
   "execution_count": 127,
   "id": "4a8eeca1-57ad-43f0-bb73-5e3851e1a289",
   "metadata": {},
   "outputs": [],
   "source": [
    "common_list = []\n",
    "\n",
    "for each_val_list1 in list1:\n",
    "\n",
    "    if each_val_list1  in list2:\n",
    "        if each_val_list1 not in common_list:\n",
    "            common_list.append(each_val_list1)\n",
    "\n",
    "    common_list"
   ]
  },
  {
   "cell_type": "code",
   "execution_count": 129,
   "id": "5476a6ef-ffb8-4538-b796-a1c65adc2cae",
   "metadata": {},
   "outputs": [
    {
     "data": {
      "text/plain": [
       "[14, 11, 15, 19, 16, 13, 12, 17, 10]"
      ]
     },
     "execution_count": 129,
     "metadata": {},
     "output_type": "execute_result"
    }
   ],
   "source": [
    "common_list"
   ]
  },
  {
   "cell_type": "markdown",
   "id": "666f4db5-9f23-4f0e-b884-6c865fe49bc8",
   "metadata": {},
   "source": [
    "find the union of list1 and list2"
   ]
  },
  {
   "cell_type": "markdown",
   "id": "5e9e3fc2-7edf-410b-a4e2-b42e76e41bee",
   "metadata": {},
   "source": [
    "**Exercise 08**\n",
    "\n",
    "Given 1 list, with 10 integers, between 1 and 20\n",
    "\n",
    "- list1 = [...]\n",
    "\n",
    "use `randint` function of `random` library to generate the lists. \n",
    "\n",
    "Find the kth largest number in the list"
   ]
  },
  {
   "cell_type": "code",
   "execution_count": 133,
   "id": "0d33c5a2-1dc2-4d26-8c2b-d5915e02acc4",
   "metadata": {},
   "outputs": [],
   "source": [
    "nbr_of_values = 15\n",
    "start_range = 10\n",
    "end_range = 20\n",
    "\n",
    "list1 = []\n",
    "\n",
    "for iter in range(nbr_of_values):\n",
    "    list1.append(random.randint(start_range, end_range))"
   ]
  },
  {
   "cell_type": "code",
   "execution_count": 135,
   "id": "c11db231-79b3-4e03-b974-40861a329920",
   "metadata": {},
   "outputs": [
    {
     "data": {
      "text/plain": [
       "[18, 19, 15, 19, 10, 16, 17, 13, 20, 16, 15, 17, 10, 10, 14]"
      ]
     },
     "execution_count": 135,
     "metadata": {},
     "output_type": "execute_result"
    }
   ],
   "source": [
    "list1"
   ]
  },
  {
   "cell_type": "code",
   "execution_count": 137,
   "id": "acf3770f-35e3-4305-9541-6ba6fe707fa7",
   "metadata": {},
   "outputs": [
    {
     "data": {
      "text/plain": [
       "[10, 10, 10, 13, 14, 15, 15, 16, 16, 17, 17, 18, 19, 19, 20]"
      ]
     },
     "execution_count": 137,
     "metadata": {},
     "output_type": "execute_result"
    }
   ],
   "source": [
    "k = 4\n",
    "# find the 4th largest number in the list\n",
    "sorted_list1 = sorted(list1)\n",
    "\n",
    "sorted_list1"
   ]
  },
  {
   "cell_type": "code",
   "execution_count": 139,
   "id": "12743096-5230-4abc-b333-0fbd5f91f877",
   "metadata": {},
   "outputs": [
    {
     "data": {
      "text/plain": [
       "18"
      ]
     },
     "execution_count": 139,
     "metadata": {},
     "output_type": "execute_result"
    }
   ],
   "source": [
    "sorted_list1[-k]"
   ]
  },
  {
   "cell_type": "code",
   "execution_count": null,
   "id": "3612c956-8ac1-43b8-b50b-8697750abbaf",
   "metadata": {},
   "outputs": [],
   "source": []
  }
 ],
 "metadata": {
  "kernelspec": {
   "display_name": "Python 3 (ipykernel)",
   "language": "python",
   "name": "python3"
  },
  "language_info": {
   "codemirror_mode": {
    "name": "ipython",
    "version": 3
   },
   "file_extension": ".py",
   "mimetype": "text/x-python",
   "name": "python",
   "nbconvert_exporter": "python",
   "pygments_lexer": "ipython3",
   "version": "3.12.4"
  }
 },
 "nbformat": 4,
 "nbformat_minor": 5
}
