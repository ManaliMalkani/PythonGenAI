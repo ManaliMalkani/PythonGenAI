{
 "cells": [
  {
   "cell_type": "markdown",
   "id": "74b0bda3-4327-47a5-aaa1-a78e742c17da",
   "metadata": {},
   "source": [
    "---------------------\n",
    "#### Data structure\n",
    "---------------------\n",
    "- Any computer lang provides a set of basis data types\n",
    "    - int\n",
    "    - float\n",
    "    - char\n",
    "    \n",
    "- using the basic data types\n",
    "    - not user friendly\n",
    "    \n",
    "- Why we need `ADT`? (`Abstract Data type`)\n",
    "    - most real life data needs some ABSTRACTION (make it user friendly)\n",
    "    - the ADTs must provide some useful functions which apply to the ADTs"
   ]
  },
  {
   "cell_type": "code",
   "execution_count": 2,
   "id": "3f47b11f-de1b-450b-9772-7c34962bce63",
   "metadata": {},
   "outputs": [],
   "source": [
    "#!pip install graphviz\n",
    "\n",
    "# you may need to download graphviz separately and assign the path of install to the PATH env var"
   ]
  },
  {
   "cell_type": "code",
   "execution_count": 3,
   "id": "6272fce4-8e1f-4eab-94d8-3e3f387b4cc9",
   "metadata": {},
   "outputs": [],
   "source": [
    "my_list = [10,2,20,36,3,36,38]"
   ]
  },
  {
   "cell_type": "code",
   "execution_count": 4,
   "id": "313401ac-338b-476d-a89b-120374c30a5f",
   "metadata": {},
   "outputs": [],
   "source": [
    "#!pip install lolviz"
   ]
  },
  {
   "cell_type": "code",
   "execution_count": 5,
   "id": "77095b22-b19f-4366-bee7-02f2ae5dca8e",
   "metadata": {},
   "outputs": [],
   "source": [
    "#lolviz.objviz(my_list)"
   ]
  },
  {
   "cell_type": "code",
   "execution_count": 6,
   "id": "240eb024-97b3-4fea-8063-7a315172e373",
   "metadata": {},
   "outputs": [],
   "source": [
    "#import lolviz     # list of list"
   ]
  },
  {
   "cell_type": "code",
   "execution_count": 7,
   "id": "2391705b-39b1-43f8-b9dc-3b38f56d323d",
   "metadata": {},
   "outputs": [],
   "source": [
    "# empty list\n",
    "my_list = []\n",
    "\n",
    "# list of integers\n",
    "my_list = [1,2,3]\n",
    "\n",
    "# list with mixed datatypes\n",
    "my_list = [1, \"Hello\", 3.4]  # is this useful in DS\n",
    "\n",
    "# nested list\n",
    "n_list = [\"Happy\", [2,0,1,5]]"
   ]
  },
  {
   "cell_type": "code",
   "execution_count": 8,
   "id": "ba56066d-4b48-47c5-96fe-9bb6a58ae90c",
   "metadata": {},
   "outputs": [
    {
     "name": "stdout",
     "output_type": "stream",
     "text": [
      "1\n",
      "Hello\n",
      "3.4\n"
     ]
    }
   ],
   "source": [
    "for i in my_list:\n",
    "    print(i)"
   ]
  },
  {
   "cell_type": "code",
   "execution_count": 9,
   "id": "556d261c-4f14-430c-be2b-189e30c55be2",
   "metadata": {},
   "outputs": [
    {
     "name": "stdout",
     "output_type": "stream",
     "text": [
      "I have 4 items to purchase\n",
      "These items are:\n",
      "apple : banana : mango : carrot : "
     ]
    }
   ],
   "source": [
    "shopList = [\"apple\", \"banana\", \"mango\",\"carrot\"]\n",
    "print('I have', len(shopList), 'items to purchase')\n",
    "\n",
    "print('These items are:')\n",
    "\n",
    "for item in shopList:\n",
    "    print(item, end=' : ')\n",
    "    "
   ]
  },
  {
   "cell_type": "code",
   "execution_count": 10,
   "id": "b62d3f36-a883-40cc-ab54-e0c04c01be56",
   "metadata": {},
   "outputs": [
    {
     "name": "stdout",
     "output_type": "stream",
     "text": [
      "apple : wait for the next: banana : wait for the next: mango : wait for the next: carrot : wait for the next: "
     ]
    }
   ],
   "source": [
    "for item in shopList:\n",
    "    print(item, end=' : wait for the next: ')"
   ]
  },
  {
   "cell_type": "code",
   "execution_count": 11,
   "id": "c706b825-ed85-445d-912e-ce12fd71c4c9",
   "metadata": {},
   "outputs": [
    {
     "name": "stdout",
     "output_type": "stream",
     "text": [
      "Welcome to... GeeksForGeeks\n"
     ]
    }
   ],
   "source": [
    "# By default python’s print() function ends with a newline. \n",
    "# how to print without newline.\n",
    "\n",
    "# Python’s print() function comes with a parameter called ‘end’. \n",
    "# By default, the value of this parameter is ‘\\n’, i.e. the new line character. \n",
    "# You can end a print statement with any character/string using this parameter.\n",
    "# ends the output with a <space> \n",
    "\n",
    "print(\"Welcome to\", end = '...')\n",
    "print(\" GeeksForGeeks\")"
   ]
  },
  {
   "cell_type": "code",
   "execution_count": 12,
   "id": "074fc181-e1ed-467e-85b0-fba883a3db24",
   "metadata": {},
   "outputs": [
    {
     "name": "stdout",
     "output_type": "stream",
     "text": [
      "Welcome to\n",
      "GeeksforGeeks\n"
     ]
    }
   ],
   "source": [
    "print(\"Welcome to\" ) \n",
    "print(\"GeeksforGeeks\")"
   ]
  },
  {
   "cell_type": "code",
   "execution_count": 13,
   "id": "c4b08f3a-dea7-4420-9f3d-c16d6c41a1a6",
   "metadata": {},
   "outputs": [
    {
     "name": "stdout",
     "output_type": "stream",
     "text": [
      "\n",
      "I also have to buy rice.\n",
      "My shopping list is now ['apple', 'banana', 'mango', 'carrot', 'rice']\n",
      "My shopping list is now ['apple', 'banana', 'mango', 'carrot', 'rice', 'table', 'chair', 'pen']\n",
      "My shopping list is now ['apple', 'banana', 'mango', 'carrot', 'rice', 'table', 'chair', 'pen', 'a', 'b', 'c']\n"
     ]
    }
   ],
   "source": [
    "# append to list\n",
    "# add one item to a list using append() method or \n",
    "# add several items using extend()\n",
    "print('\\nI also have to buy rice.')\n",
    "shopList.append('rice')\n",
    "print('My shopping list is now', shopList)\n",
    "\n",
    "shopList.extend(['table', 'chair', 'pen'])\n",
    "print('My shopping list is now', shopList)\n",
    "\n",
    "# use + operator to combine two lists. This is also called concatenation.\n",
    "shoplist1 = ['a','b','c']\n",
    "\n",
    "shopList = shopList + shoplist1\n",
    "print('My shopping list is now', shopList)"
   ]
  },
  {
   "cell_type": "code",
   "execution_count": 14,
   "id": "c53c433d-5742-43d3-aca6-6e34381e9e55",
   "metadata": {},
   "outputs": [],
   "source": [
    "nums = [10, 20, 30, 40, 50, 60, 70, 80, 90]"
   ]
  },
  {
   "cell_type": "code",
   "execution_count": 15,
   "id": "305266d6-b041-4184-80cb-e71391c21db3",
   "metadata": {},
   "outputs": [
    {
     "data": {
      "text/plain": [
       "[10, 30]"
      ]
     },
     "execution_count": 15,
     "metadata": {},
     "output_type": "execute_result"
    }
   ],
   "source": [
    "nums[0:3:2]"
   ]
  },
  {
   "cell_type": "code",
   "execution_count": 16,
   "id": "bf1a71ca-ab48-4e7a-8fb9-c88cef256af2",
   "metadata": {},
   "outputs": [
    {
     "data": {
      "text/plain": [
       "[30, 50, 70]"
      ]
     },
     "execution_count": 16,
     "metadata": {},
     "output_type": "execute_result"
    }
   ],
   "source": [
    "nums[2:7:2]"
   ]
  },
  {
   "cell_type": "markdown",
   "id": "fbd3bb1a-934d-4cb9-9c5f-42e8183eadab",
   "metadata": {},
   "source": [
    "#### The full slice syntax is--> start : stop : step\n",
    "\n",
    "- start refers to the index of the element which is used as a start of our slice. \n",
    "- stop refers to the index of the element we should stop just before to finish our slice. \n",
    "- step allows you to take each nth-element within a start:stop range."
   ]
  },
  {
   "cell_type": "markdown",
   "id": "12b2b102-d8f7-46cf-be6a-430eeb3359e8",
   "metadata": {},
   "source": [
    "In our example start equals 2, so our slice starts from value 30. stop is 7, so the last element of the slice is 70 with index 6. "
   ]
  },
  {
   "cell_type": "code",
   "execution_count": 19,
   "id": "f43189d9-3b79-4da2-9c02-cfb986fc2b8f",
   "metadata": {},
   "outputs": [
    {
     "data": {
      "text/plain": [
       "[10, 20, 30, 40, 50]"
      ]
     },
     "execution_count": 19,
     "metadata": {},
     "output_type": "execute_result"
    }
   ],
   "source": [
    "nums[:5]"
   ]
  },
  {
   "cell_type": "markdown",
   "id": "4bc6979c-15c9-45c0-84c1-4dc73a22515f",
   "metadata": {},
   "source": [
    "So, nums[:5] is equivalent to nums[0:5]. "
   ]
  },
  {
   "cell_type": "markdown",
   "id": "8ebf2663-e1b7-4229-9a84-ef10c027d10f",
   "metadata": {},
   "source": [
    "#### Taking n last elements of a list\n",
    "Negative indexes allow us to easily take n-last elements of a list:"
   ]
  },
  {
   "cell_type": "code",
   "execution_count": 22,
   "id": "b6d52a8b-59d0-4cd8-9c60-5f4bab390039",
   "metadata": {},
   "outputs": [
    {
     "data": {
      "text/plain": [
       "[40]"
      ]
     },
     "execution_count": 22,
     "metadata": {},
     "output_type": "execute_result"
    }
   ],
   "source": [
    "nums = [10, 20, 30, 40, 50, 60, 70, 80, 90]\n",
    "nums[3:5:2]"
   ]
  },
  {
   "cell_type": "code",
   "execution_count": 23,
   "id": "21d1ab62-1e33-48fd-a718-0df045cbfaed",
   "metadata": {},
   "outputs": [
    {
     "data": {
      "text/plain": [
       "[20, 30, 40, 50, 60, 70]"
      ]
     },
     "execution_count": 23,
     "metadata": {},
     "output_type": "execute_result"
    }
   ],
   "source": [
    "nums[1:-2]"
   ]
  },
  {
   "cell_type": "code",
   "execution_count": 24,
   "id": "4d95ea52-5c67-4191-a58c-3973ccf46a79",
   "metadata": {},
   "outputs": [
    {
     "data": {
      "text/plain": [
       "[70, 80]"
      ]
     },
     "execution_count": 24,
     "metadata": {},
     "output_type": "execute_result"
    }
   ],
   "source": [
    "nums[-3:8]"
   ]
  },
  {
   "cell_type": "code",
   "execution_count": 25,
   "id": "cf4219d2-00f3-4686-b510-8c9c318c3551",
   "metadata": {},
   "outputs": [
    {
     "data": {
      "text/plain": [
       "[50, 60, 70, 80]"
      ]
     },
     "execution_count": 25,
     "metadata": {},
     "output_type": "execute_result"
    }
   ],
   "source": [
    "nums[-5:-1]"
   ]
  },
  {
   "cell_type": "code",
   "execution_count": 26,
   "id": "f50fffc8-9e17-4ee0-a696-a414cb8f1ebf",
   "metadata": {},
   "outputs": [
    {
     "data": {
      "text/plain": [
       "[10, 20, 30, 40, 50, 60, 70]"
      ]
     },
     "execution_count": 26,
     "metadata": {},
     "output_type": "execute_result"
    }
   ],
   "source": [
    "nums[:-2]"
   ]
  },
  {
   "cell_type": "markdown",
   "id": "f5dbd66b-b408-4d9f-a503-ceb48522a48b",
   "metadata": {},
   "source": [
    "#### Taking every nth-element of a list\n",
    "What if we want to have only every 2-nd element of nums? This is where the step parameter comes into play:"
   ]
  },
  {
   "cell_type": "code",
   "execution_count": 28,
   "id": "865ea7a9-ccaf-4b65-907c-5824b51157a4",
   "metadata": {},
   "outputs": [],
   "source": [
    "nums = [10, 20, 30, 40, 50, 60, 70, 80, 90]"
   ]
  },
  {
   "cell_type": "code",
   "execution_count": 29,
   "id": "d2a174f5-c2f3-4222-91f1-feb8c80ea437",
   "metadata": {},
   "outputs": [
    {
     "data": {
      "text/plain": [
       "[10, 30, 50, 70, 90]"
      ]
     },
     "execution_count": 29,
     "metadata": {},
     "output_type": "execute_result"
    }
   ],
   "source": [
    "nums[::2]"
   ]
  },
  {
   "cell_type": "markdown",
   "id": "f78598d2-0188-42a5-b576-6b143f0c7c7e",
   "metadata": {},
   "source": [
    "Here we omit start/stop parameters and use only step.\n",
    "\n",
    "By providing start we can skip some elements:"
   ]
  },
  {
   "cell_type": "code",
   "execution_count": 31,
   "id": "9a50885c-97ca-4534-8dd5-35208d66aa26",
   "metadata": {},
   "outputs": [
    {
     "data": {
      "text/plain": [
       "[20, 40, 60, 80]"
      ]
     },
     "execution_count": 31,
     "metadata": {},
     "output_type": "execute_result"
    }
   ],
   "source": [
    "nums[1::2]"
   ]
  },
  {
   "cell_type": "markdown",
   "id": "d815575c-a449-405c-b513-39ed2cbda68f",
   "metadata": {},
   "source": [
    "And if we don’t want to include some elements at the end, we can also add the stop parameter:"
   ]
  },
  {
   "cell_type": "code",
   "execution_count": 33,
   "id": "ae47af37-8b11-4545-8463-449d5bf94e21",
   "metadata": {},
   "outputs": [
    {
     "data": {
      "text/plain": [
       "[20, 40, 60]"
      ]
     },
     "execution_count": 33,
     "metadata": {},
     "output_type": "execute_result"
    }
   ],
   "source": [
    "nums[1:-3:2]"
   ]
  },
  {
   "cell_type": "markdown",
   "id": "5e17775d-b2f5-4017-bd40-f79a5eb3866e",
   "metadata": {},
   "source": [
    "#### Using Negative Step and Reversed List"
   ]
  },
  {
   "cell_type": "code",
   "execution_count": 35,
   "id": "a0cc7fae-4b9f-4543-b8c5-1c392302302d",
   "metadata": {},
   "outputs": [
    {
     "data": {
      "text/plain": [
       "[90, 70, 50, 30, 10]"
      ]
     },
     "execution_count": 35,
     "metadata": {},
     "output_type": "execute_result"
    }
   ],
   "source": [
    "nums[::-2]"
   ]
  },
  {
   "cell_type": "markdown",
   "id": "0af1e582-cb9e-4bb5-827b-c4d1b2ce2ea6",
   "metadata": {},
   "source": [
    "Negative step changes a way, slice notation works. It makes the slice be built from the tail of the list. So, it goes from the last element to the first element. That’s why we get a reversed list with a negative step."
   ]
  },
  {
   "cell_type": "markdown",
   "id": "e61d0558-869d-4ad6-ab47-fcfcd2c666dd",
   "metadata": {},
   "source": [
    "reversed list which starts from 80"
   ]
  },
  {
   "cell_type": "code",
   "execution_count": 38,
   "id": "aa133caf-68cd-4882-b31a-e36a2c588f33",
   "metadata": {},
   "outputs": [
    {
     "data": {
      "text/plain": [
       "[80, 70, 60, 50, 40, 30, 20, 10]"
      ]
     },
     "execution_count": 38,
     "metadata": {},
     "output_type": "execute_result"
    }
   ],
   "source": [
    "nums[-2::-1]"
   ]
  },
  {
   "cell_type": "markdown",
   "id": "ca9daa7a-11e4-41f3-878a-fa1c0ab1264b",
   "metadata": {},
   "source": [
    "We can use stop value to stop taking before some element. E.g., let’s not include 20 and 10 values:"
   ]
  },
  {
   "cell_type": "code",
   "execution_count": 40,
   "id": "c9297f3f-339a-4dc7-8be4-5d6db372247d",
   "metadata": {},
   "outputs": [
    {
     "data": {
      "text/plain": [
       "[80, 70, 60, 50, 40, 30]"
      ]
     },
     "execution_count": 40,
     "metadata": {},
     "output_type": "execute_result"
    }
   ],
   "source": [
    "nums[-2:1:-1]"
   ]
  },
  {
   "cell_type": "markdown",
   "id": "5edfe696-806f-4266-acec-5740c4dfe04a",
   "metadata": {},
   "source": [
    "We use 1 for stop index, which is the element with value 20. So, we go from 80 till 30, not including value 20."
   ]
  },
  {
   "cell_type": "code",
   "execution_count": 42,
   "id": "effb80e5-9fbc-4d7b-9185-83b37c572e72",
   "metadata": {},
   "outputs": [
    {
     "data": {
      "text/plain": [
       "['apple',\n",
       " 'banana',\n",
       " 'mango',\n",
       " 'carrot',\n",
       " 'rice',\n",
       " 'table',\n",
       " 'chair',\n",
       " 'pen',\n",
       " 'a',\n",
       " 'b',\n",
       " 'c']"
      ]
     },
     "execution_count": 42,
     "metadata": {},
     "output_type": "execute_result"
    }
   ],
   "source": [
    "shopList"
   ]
  },
  {
   "cell_type": "code",
   "execution_count": 43,
   "id": "5ee3a351-1cd9-4453-a7df-a473f135339e",
   "metadata": {},
   "outputs": [
    {
     "name": "stdout",
     "output_type": "stream",
     "text": [
      "apple\n",
      "banana\n",
      "p\n",
      "a\n"
     ]
    }
   ],
   "source": [
    "print(shopList[0])\n",
    "print(shopList[1])\n",
    "print(shopList[0][1])\n",
    "print(shopList[1][3])"
   ]
  },
  {
   "cell_type": "code",
   "execution_count": 44,
   "id": "1611f67a-44af-4e4e-b4b2-1361018ad67f",
   "metadata": {},
   "outputs": [
    {
     "name": "stdout",
     "output_type": "stream",
     "text": [
      "c\n",
      "chair\n"
     ]
    }
   ],
   "source": [
    "# Negative indexing\n",
    "# Python allows negative indexing for its sequences. \n",
    "# The index of -1 refers to the last item, -2 to the second last item and so on.\n",
    "print(shopList[-1])\n",
    "print(shopList[-5])"
   ]
  },
  {
   "cell_type": "code",
   "execution_count": 45,
   "id": "dfe6a281-5219-4647-85b4-f70a226d10c6",
   "metadata": {},
   "outputs": [
    {
     "name": "stdout",
     "output_type": "stream",
     "text": [
      "['apple', 'banana', 'mango', 'carrot', 'rice', 'table', 'chair', 'pen', 'a', 'b', 'c']\n"
     ]
    }
   ],
   "source": [
    "print(shopList)"
   ]
  },
  {
   "cell_type": "code",
   "execution_count": 46,
   "id": "7dc50699-e857-4310-9c9e-2e512b828c3d",
   "metadata": {},
   "outputs": [
    {
     "name": "stdout",
     "output_type": "stream",
     "text": [
      "['apple', 'banana', 'mango']\n"
     ]
    }
   ],
   "source": [
    "print(shopList[:3])"
   ]
  },
  {
   "cell_type": "code",
   "execution_count": 47,
   "id": "ba6e1983-8aa5-4c16-bc6f-c1316da48b23",
   "metadata": {},
   "outputs": [
    {
     "name": "stdout",
     "output_type": "stream",
     "text": [
      "['mango', 'carrot', 'rice', 'table', 'chair', 'pen', 'a', 'b', 'c']\n"
     ]
    }
   ],
   "source": [
    "print(shopList[2:])"
   ]
  },
  {
   "cell_type": "code",
   "execution_count": 48,
   "id": "f998f843-8872-44ea-8c9b-cecc731053a9",
   "metadata": {},
   "outputs": [
    {
     "name": "stdout",
     "output_type": "stream",
     "text": [
      "['apple', 'banana', 'mango', 'carrot', 'rice', 'table', 'chair', 'pen', 'a', 'b', 'c']\n"
     ]
    }
   ],
   "source": [
    "print(shopList[:])"
   ]
  },
  {
   "cell_type": "code",
   "execution_count": 49,
   "id": "19b00dad-f4cb-4459-876d-962043706302",
   "metadata": {},
   "outputs": [
    {
     "name": "stdout",
     "output_type": "stream",
     "text": [
      "I will sort my list now\n",
      "Sorted shopping list is ['a', 'apple', 'b', 'banana', 'c', 'carrot', 'chair', 'mango', 'pen', 'rice', 'table']\n"
     ]
    }
   ],
   "source": [
    "# sort the list\n",
    "print('I will sort my list now')\n",
    "shopList.sort()\n",
    "\n",
    "print('Sorted shopping list is', shopList)"
   ]
  },
  {
   "cell_type": "code",
   "execution_count": 50,
   "id": "17e53891-a628-4e2b-9ee9-33071b8385cc",
   "metadata": {},
   "outputs": [
    {
     "name": "stdout",
     "output_type": "stream",
     "text": [
      "['a', 'new itemmmm', 'b', 'banana', 'c', 'carrot', 'chair', 'mango', 'pen', 'rice', 'table']\n"
     ]
    }
   ],
   "source": [
    "# make changes to list\n",
    "shopList[1] = \"new itemmmm\"\n",
    "print(shopList[:])"
   ]
  },
  {
   "cell_type": "code",
   "execution_count": 51,
   "id": "165139d2-f4fc-4a07-ab16-225da08d27f7",
   "metadata": {},
   "outputs": [
    {
     "name": "stdout",
     "output_type": "stream",
     "text": [
      "The first item I will buy is a\n",
      "I bought the a\n",
      "My shopping list is now ['new itemmmm', 'b', 'banana', 'c', 'carrot', 'chair', 'mango', 'pen', 'rice', 'table']\n"
     ]
    }
   ],
   "source": [
    "# delete a list item\n",
    "print('The first item I will buy is', shopList[0])\n",
    "olditem = shopList[0]\n",
    "\n",
    "del shopList[0]\n",
    "print('I bought the', olditem)\n",
    "print('My shopping list is now', shopList)"
   ]
  },
  {
   "cell_type": "code",
   "execution_count": 52,
   "id": "c8454d55-d94d-4e38-ab14-00243ef7cbc3",
   "metadata": {},
   "outputs": [],
   "source": [
    "# Remove method: takes a value as input, searches for it, \n",
    "# removes the first match. If the item is not found it errors out\n",
    "\n",
    "# del function: removes an item at a specific index, can delete all elements or a slice\n",
    "# pop method: by default, it removes and returns the last element but you \n",
    "# can pop any element by providing an index"
   ]
  },
  {
   "cell_type": "code",
   "execution_count": 53,
   "id": "be02b5e2-6d3e-4428-afa8-b0d3de3f2849",
   "metadata": {},
   "outputs": [
    {
     "name": "stdout",
     "output_type": "stream",
     "text": [
      "Example 1: A = [1, 2, 3, 4]\n"
     ]
    }
   ],
   "source": [
    "A = [1,2,4,3,4]\n",
    "A.remove(4)\n",
    "\n",
    "# This will print [1, 2, 3, 4]\n",
    "print(\"Example 1: A = {}\".format(A))"
   ]
  },
  {
   "cell_type": "code",
   "execution_count": 54,
   "id": "9631ff43-a6f5-4b25-a872-3b2592110e3c",
   "metadata": {},
   "outputs": [
    {
     "name": "stdout",
     "output_type": "stream",
     "text": [
      "Example 2 : A = [1, 2, 3, 4]\n"
     ]
    }
   ],
   "source": [
    "# (2) Delete an item with index\n",
    "A = [1,2,4,3,4]\n",
    "del A[2]\n",
    "\n",
    "# This will print [1, 2, 3, 4]\n",
    "print(\"Example 2 : A = {}\".format(A))"
   ]
  },
  {
   "cell_type": "code",
   "execution_count": 55,
   "id": "50f08744-ef27-43e6-b616-1203469e4688",
   "metadata": {},
   "outputs": [
    {
     "name": "stdout",
     "output_type": "stream",
     "text": [
      "Example 3 : A = []\n"
     ]
    }
   ],
   "source": [
    "# (3) Delete all items\n",
    "A = [1, 2, 4, 3, 4]\n",
    "del A[:]\n",
    "\n",
    "# This will print []\n",
    "print(\"Example 3 : A = {}\".format(A))"
   ]
  },
  {
   "cell_type": "code",
   "execution_count": 56,
   "id": "b87639eb-0259-4fd1-b79b-ac6e18365307",
   "metadata": {},
   "outputs": [
    {
     "name": "stdout",
     "output_type": "stream",
     "text": [
      "Example 3 : A = [1, 3, 4]\n"
     ]
    }
   ],
   "source": [
    "# (4) Delete a slice 2, 4\n",
    "A = [1, 2, 4, 3, 4]\n",
    "del A[1:3]\n",
    "\n",
    "# This will print [1,3,4]\n",
    "print(\"Example 3 : A = {}\".format(A))"
   ]
  },
  {
   "cell_type": "code",
   "execution_count": 57,
   "id": "97ec83b6-6595-4d54-95b2-35f7329b81a1",
   "metadata": {},
   "outputs": [
    {
     "data": {
      "text/plain": [
       "5"
      ]
     },
     "execution_count": 57,
     "metadata": {},
     "output_type": "execute_result"
    }
   ],
   "source": [
    "A = [1, 2, 4, 3, 5]\n",
    "A.pop()"
   ]
  },
  {
   "cell_type": "code",
   "execution_count": 58,
   "id": "2665d50a-9990-4f31-890b-8a4c5aad5482",
   "metadata": {},
   "outputs": [
    {
     "data": {
      "text/plain": [
       "[1, 2, 4, 3]"
      ]
     },
     "execution_count": 58,
     "metadata": {},
     "output_type": "execute_result"
    }
   ],
   "source": [
    "A"
   ]
  },
  {
   "cell_type": "code",
   "execution_count": 59,
   "id": "1375e267-c374-4bdd-8ed8-c00300deb9bd",
   "metadata": {},
   "outputs": [
    {
     "name": "stdout",
     "output_type": "stream",
     "text": [
      "Example 5 : A = [1, 2, 4, 3]\n",
      "Example 5 : x = 5\n"
     ]
    }
   ],
   "source": [
    "# (5) pop: remove and get the last item\n",
    "A = [1, 2, 4, 3, 5]\n",
    "x = A.pop()\n",
    "# This will print [1, 2, 4, 3]\n",
    "print(\"Example 5 : A = {}\".format(A))\n",
    "\n",
    "# This will print 4\n",
    "print(\"Example 5 : x = {}\".format(x))"
   ]
  },
  {
   "cell_type": "code",
   "execution_count": 60,
   "id": "dcd687d5-8b8e-470d-abc0-15f1f2eea100",
   "metadata": {},
   "outputs": [
    {
     "name": "stdout",
     "output_type": "stream",
     "text": [
      "Example 6 : A = [1, 4, 3, 4]\n",
      "Example 6 : x = 2\n"
     ]
    }
   ],
   "source": [
    "# (6) pop with index: remove and get the second item\n",
    "A = [1, 2, 4, 3, 4]\n",
    "x = A.pop(1)\n",
    "\n",
    "# This will print [1, 4, 3, 4]\n",
    "print(\"Example 6 : A = {}\".format(A))\n",
    "# This will print 2\n",
    "print(\"Example 6 : x = {}\".format(x))"
   ]
  },
  {
   "cell_type": "code",
   "execution_count": 61,
   "id": "7d60e171-c05a-4e36-9ee2-f6cc67ff1a04",
   "metadata": {},
   "outputs": [
    {
     "data": {
      "text/plain": [
       "'\\nappend() - Add an element to the end of the list\\nextend() - Add all elements of a list to the another list\\ninsert() - Insert an item at the defined index\\nremove() - Removes an item from the list\\npop() - Removes and returns an element at the given index\\nclear() - Removes all items from the list\\nindex() - Returns the index of the first matched item\\ncount() - Returns the count of number of items passed as an argument\\nsort() - Sort items in a list in ascending order\\nreverse() - Reverse the order of items in the list\\ncopy() - Returns a shallow copy of the list\\n'"
      ]
     },
     "execution_count": 61,
     "metadata": {},
     "output_type": "execute_result"
    }
   ],
   "source": [
    "# Python List Methods\n",
    "# Methods that are available with list object \n",
    "\n",
    "# Are accessed as list.method(). \n",
    "'''\n",
    "append() - Add an element to the end of the list\n",
    "extend() - Add all elements of a list to the another list\n",
    "insert() - Insert an item at the defined index\n",
    "remove() - Removes an item from the list\n",
    "pop() - Removes and returns an element at the given index\n",
    "clear() - Removes all items from the list\n",
    "index() - Returns the index of the first matched item\n",
    "count() - Returns the count of number of items passed as an argument\n",
    "sort() - Sort items in a list in ascending order\n",
    "reverse() - Reverse the order of items in the list\n",
    "copy() - Returns a shallow copy of the list\n",
    "'''"
   ]
  },
  {
   "cell_type": "code",
   "execution_count": 62,
   "id": "83721f11-167f-4ec7-b983-bcc5d4df6346",
   "metadata": {},
   "outputs": [],
   "source": [
    "shoplist_copy = shopList"
   ]
  },
  {
   "cell_type": "code",
   "execution_count": 63,
   "id": "449a4042-c39e-4170-b773-24dc83c6cff7",
   "metadata": {},
   "outputs": [
    {
     "data": {
      "text/plain": [
       "'new itemmmm'"
      ]
     },
     "execution_count": 63,
     "metadata": {},
     "output_type": "execute_result"
    }
   ],
   "source": [
    "shoplist_copy[0]"
   ]
  },
  {
   "cell_type": "code",
   "execution_count": 64,
   "id": "d0ab28e7-4e91-4608-aa54-51ab74eae0b0",
   "metadata": {},
   "outputs": [],
   "source": [
    "shoplist_copy[0] ='KolkaTa'"
   ]
  },
  {
   "cell_type": "code",
   "execution_count": 65,
   "id": "505e3b68-85f3-439b-9b13-399102fc7720",
   "metadata": {},
   "outputs": [
    {
     "data": {
      "text/plain": [
       "['KolkaTa',\n",
       " 'b',\n",
       " 'banana',\n",
       " 'c',\n",
       " 'carrot',\n",
       " 'chair',\n",
       " 'mango',\n",
       " 'pen',\n",
       " 'rice',\n",
       " 'table']"
      ]
     },
     "execution_count": 65,
     "metadata": {},
     "output_type": "execute_result"
    }
   ],
   "source": [
    "shoplist_copy"
   ]
  },
  {
   "cell_type": "code",
   "execution_count": 66,
   "id": "e8a91ec1-a394-4f11-ae9b-b5ddf10c5e15",
   "metadata": {},
   "outputs": [
    {
     "data": {
      "text/plain": [
       "['KolkaTa',\n",
       " 'b',\n",
       " 'banana',\n",
       " 'c',\n",
       " 'carrot',\n",
       " 'chair',\n",
       " 'mango',\n",
       " 'pen',\n",
       " 'rice',\n",
       " 'table']"
      ]
     },
     "execution_count": 66,
     "metadata": {},
     "output_type": "execute_result"
    }
   ],
   "source": [
    "shopList"
   ]
  },
  {
   "cell_type": "code",
   "execution_count": 67,
   "id": "22c36dce-8cc4-488e-a514-13e12020f31d",
   "metadata": {},
   "outputs": [
    {
     "name": "stdout",
     "output_type": "stream",
     "text": [
      "My shopping list is now ['KolkaTa', 'b', 'INSERTED ITEM', 'banana', 'c', 'carrot', 'chair', 'mango', 'pen', 'rice', 'table']\n"
     ]
    }
   ],
   "source": [
    "# insert() \t\t- Insert an item at the defined index\n",
    "shopList.insert(2, \"INSERTED ITEM\")\n",
    "print('My shopping list is now', shopList)"
   ]
  },
  {
   "cell_type": "code",
   "execution_count": 68,
   "id": "322bbb2d-1cba-4aa9-9d11-712af0cdd8db",
   "metadata": {},
   "outputs": [
    {
     "name": "stdout",
     "output_type": "stream",
     "text": [
      "My shopping list is now ['KolkaTa', 'b', 'banana', 'c', 'carrot', 'chair', 'mango', 'pen', 'rice', 'table']\n"
     ]
    }
   ],
   "source": [
    "# remove() - Removes an item from the list\n",
    "shopList.remove(\"INSERTED ITEM\")\n",
    "print('My shopping list is now', shopList)"
   ]
  },
  {
   "cell_type": "code",
   "execution_count": 69,
   "id": "88e3e7a2-4215-475c-bc1c-8a1bab494bfa",
   "metadata": {},
   "outputs": [
    {
     "name": "stdout",
     "output_type": "stream",
     "text": [
      "My shopping list is now ['KolkaTa', 'b', 'banana', 'c', 'carrot', 'chair', 'mango', 'pen', 'rice']\n"
     ]
    }
   ],
   "source": [
    "# pop() - Removes and returns an element at the given index\n",
    "shopList.pop()\n",
    "print('My shopping list is now', shopList)"
   ]
  },
  {
   "cell_type": "code",
   "execution_count": 70,
   "id": "78b84473-b27d-41dc-8363-5da6a65747ad",
   "metadata": {},
   "outputs": [
    {
     "name": "stdout",
     "output_type": "stream",
     "text": [
      "position of matched item is :  4\n"
     ]
    }
   ],
   "source": [
    "# index() - Returns the index of the first matched item\n",
    "pos = shopList.index('carrot')\n",
    "print('position of matched item is : ', pos)"
   ]
  },
  {
   "cell_type": "code",
   "execution_count": 71,
   "id": "32c088e8-912a-4835-9238-06b5e41fd31d",
   "metadata": {},
   "outputs": [
    {
     "name": "stdout",
     "output_type": "stream",
     "text": [
      "count of matched item is :  1\n"
     ]
    }
   ],
   "source": [
    "# count() - Returns the number of occurances of the matched item\n",
    "count = shopList.count('carrot')\n",
    "print('count of matched item is : ', count)"
   ]
  },
  {
   "cell_type": "code",
   "execution_count": 72,
   "id": "038c1eee-95e3-47e0-8d35-df814e308043",
   "metadata": {},
   "outputs": [
    {
     "name": "stdout",
     "output_type": "stream",
     "text": [
      "[1, 2, 4, 8, 16, 32, 64, 128, 256, 512]\n"
     ]
    }
   ],
   "source": [
    "# creating list of \n",
    "powerList = []\n",
    "for x in range(10):\n",
    "    powerList.append(2 ** x)\n",
    "\n",
    "print(powerList)"
   ]
  },
  {
   "cell_type": "code",
   "execution_count": 73,
   "id": "38b42fb6-96f8-4aaa-81dd-3976c6dfd420",
   "metadata": {},
   "outputs": [],
   "source": [
    "# list comprehension\n",
    "# List comprehension consists of an expression followed by for statement \n",
    "# inside squar ** x for x in range(10)e brackets.\n",
    "powerList = [2]"
   ]
  },
  {
   "cell_type": "code",
   "execution_count": 74,
   "id": "90c5821a-847f-4735-8b8a-cece94435188",
   "metadata": {},
   "outputs": [
    {
     "name": "stdout",
     "output_type": "stream",
     "text": [
      "[1, 2, 4, 8, 16, 32, 64, 128, 256, 512]\n"
     ]
    }
   ],
   "source": [
    "powerList = [2 ** x for x in range(10)]\n",
    "print(powerList)"
   ]
  },
  {
   "cell_type": "code",
   "execution_count": 75,
   "id": "9e05a981-1c98-46bc-a1e8-8b66c2a6069a",
   "metadata": {},
   "outputs": [
    {
     "name": "stdout",
     "output_type": "stream",
     "text": [
      "0\n",
      "1\n",
      "2\n",
      "3\n",
      "4\n",
      "5\n",
      "6\n",
      "7\n",
      "8\n",
      "9\n"
     ]
    }
   ],
   "source": [
    "for x in range(10):\n",
    "    print(x)"
   ]
  },
  {
   "cell_type": "code",
   "execution_count": 76,
   "id": "f5a7207f-5ba6-4a9c-a110-6e60824c0b23",
   "metadata": {},
   "outputs": [
    {
     "name": "stdout",
     "output_type": "stream",
     "text": [
      "[2, 8, 32, 128, 512, 2048, 8192, 32768, 131072, 524288]\n"
     ]
    }
   ],
   "source": [
    "# build powerList of odd numbers\n",
    "oddPowerList = [2 ** x for x in range (20) if x % 2 == 1]\n",
    "print(oddPowerList)"
   ]
  },
  {
   "cell_type": "code",
   "execution_count": 77,
   "id": "12335baa-51b3-4e1d-a89a-3fd2387a70ab",
   "metadata": {},
   "outputs": [
    {
     "name": "stdout",
     "output_type": "stream",
     "text": [
      "[1, 4, 16, 64, 256, 1024, 4096, 16384, 65536, 262144]\n"
     ]
    }
   ],
   "source": [
    "# build powerList of even numbers\n",
    "evenpowerList = [2 ** x for x in range(20) if x % 2 == 0]\n",
    "print(evenpowerList)"
   ]
  },
  {
   "cell_type": "code",
   "execution_count": 78,
   "id": "c9b98a40-f622-4af7-bfd8-d1211761c7e6",
   "metadata": {},
   "outputs": [
    {
     "name": "stdout",
     "output_type": "stream",
     "text": [
      "I like - KolkaTa\n",
      "I like - b\n",
      "I like - banana\n",
      "I like - c\n",
      "I like - carrot\n",
      "I like - chair\n",
      "I like - mango\n",
      "I like - pen\n",
      "I like - rice\n"
     ]
    }
   ],
   "source": [
    "# Iterating Through a List\n",
    "for listItem in shopList:\n",
    "    print(\"I like -\", listItem)"
   ]
  },
  {
   "cell_type": "code",
   "execution_count": 79,
   "id": "4eb81bec-4417-499e-bb3c-ee3ebdf2ceea",
   "metadata": {},
   "outputs": [
    {
     "data": {
      "text/plain": [
       "'\\nBuilt-in Functions with List\\nall()\\tReturn True if all elements of the list are true \\n        (or if the list is empty).\\nany()\\tReturn True if any element of the list is true. \\n        If the list is empty, return False.\\nenumerate()\\tReturn an enumerate object. It contains the index \\n            and value of all the items of list as a tuple.\\nlen()\\tReturn the length (the number of items) in the list.\\nlist()\\tConvert an iterable (tuple, string, set, dictionary) to a list.\\nmax()\\tReturn the largest item in the list.\\nmin()\\tReturn the smallest item in the list\\nsorted()\\tReturn a new sorted list (does not sort the list itself).\\nsum()\\tReturn the sum of all elements in the list.\\n'"
      ]
     },
     "execution_count": 79,
     "metadata": {},
     "output_type": "execute_result"
    }
   ],
   "source": [
    "'''\n",
    "Built-in Functions with List\n",
    "all()\tReturn True if all elements of the list are true \n",
    "        (or if the list is empty).\n",
    "any()\tReturn True if any element of the list is true. \n",
    "        If the list is empty, return False.\n",
    "enumerate()\tReturn an enumerate object. It contains the index \n",
    "            and value of all the items of list as a tuple.\n",
    "len()\tReturn the length (the number of items) in the list.\n",
    "list()\tConvert an iterable (tuple, string, set, dictionary) to a list.\n",
    "max()\tReturn the largest item in the list.\n",
    "min()\tReturn the smallest item in the list\n",
    "sorted()\tReturn a new sorted list (does not sort the list itself).\n",
    "sum()\tReturn the sum of all elements in the list.\n",
    "'''"
   ]
  },
  {
   "cell_type": "code",
   "execution_count": 80,
   "id": "cc3a5b04-d150-4e28-99af-fb9d8aae0402",
   "metadata": {},
   "outputs": [
    {
     "data": {
      "text/plain": [
       "False"
      ]
     },
     "execution_count": 80,
     "metadata": {},
     "output_type": "execute_result"
    }
   ],
   "source": [
    "lst = [1, 2, 3, 4, 1, 3, 2, False]\n",
    "all(lst)"
   ]
  },
  {
   "cell_type": "code",
   "execution_count": 81,
   "id": "0deeee9d-6acb-4c10-ac23-a9b753543467",
   "metadata": {},
   "outputs": [
    {
     "name": "stdout",
     "output_type": "stream",
     "text": [
      "[(0, 'bread'), (1, 'milk'), (2, 'butter')]\n"
     ]
    }
   ],
   "source": [
    "# enumerate()\n",
    "grocery = ['bread', 'milk', 'butter']\n",
    "\n",
    "enumerateGrocery = enumerate(grocery)\n",
    "\n",
    "print(list(enumerateGrocery))"
   ]
  },
  {
   "cell_type": "code",
   "execution_count": 82,
   "id": "85000175-5a65-4900-8f04-af23b9b7bd53",
   "metadata": {},
   "outputs": [
    {
     "name": "stdout",
     "output_type": "stream",
     "text": [
      "[(100, 'bread'), (101, 'milk'), (102, 'butter')]\n"
     ]
    }
   ],
   "source": [
    "# enumerate()\n",
    "grocery = ['bread', 'milk', 'butter']\n",
    "\n",
    "enumerateGrocery = enumerate(grocery, 100)\n",
    "print(list(enumerateGrocery))"
   ]
  },
  {
   "cell_type": "code",
   "execution_count": 83,
   "id": "9d63d455-dae2-4a81-86f6-6b13d4d7d3f8",
   "metadata": {},
   "outputs": [
    {
     "name": "stdout",
     "output_type": "stream",
     "text": [
      "Index: 0, Value: apple\n",
      "Index: 1, Value: banana\n",
      "Index: 2, Value: cherry\n",
      "100\n",
      "101\n",
      "102\n"
     ]
    }
   ],
   "source": [
    "# Looping Over an Enumerate object\n",
    "\n",
    "# Example list\n",
    "my_list = ['apple', 'banana', 'cherry']\n",
    "\n",
    "for index, value in enumerate(my_list):\n",
    "    print(f\"Index: {index}, Value: {value}\")\n",
    "\n",
    "enumerateGrocery = enumerate(grocery, 100)\n",
    "for item, value in enumerateGrocery:\n",
    "    print(item)"
   ]
  },
  {
   "cell_type": "code",
   "execution_count": 84,
   "id": "afed26be-a85b-4a47-9850-766efbbcb7ef",
   "metadata": {},
   "outputs": [
    {
     "data": {
      "text/plain": [
       "3"
      ]
     },
     "execution_count": 84,
     "metadata": {},
     "output_type": "execute_result"
    }
   ],
   "source": [
    "# len()\n",
    "grocery = ['bread', 'milk', 'butter']\n",
    "len(grocery)"
   ]
  },
  {
   "cell_type": "code",
   "execution_count": 85,
   "id": "0c1e8948-e0ff-402a-9123-f48a5a42c195",
   "metadata": {},
   "outputs": [
    {
     "data": {
      "text/plain": [
       "'milk'"
      ]
     },
     "execution_count": 85,
     "metadata": {},
     "output_type": "execute_result"
    }
   ],
   "source": [
    "max(grocery)"
   ]
  },
  {
   "cell_type": "code",
   "execution_count": 86,
   "id": "c2b7873f-45c2-43c7-b68a-c547bc1d302c",
   "metadata": {},
   "outputs": [
    {
     "data": {
      "text/plain": [
       "'bread'"
      ]
     },
     "execution_count": 86,
     "metadata": {},
     "output_type": "execute_result"
    }
   ],
   "source": [
    "min(grocery)"
   ]
  },
  {
   "cell_type": "markdown",
   "id": "6cef2359-ff1b-4fd4-a506-1315ef651936",
   "metadata": {},
   "source": [
    "#### Summarize"
   ]
  },
  {
   "cell_type": "code",
   "execution_count": 88,
   "id": "701c0a56-9a44-47f6-a6c8-661aaf6f3111",
   "metadata": {},
   "outputs": [],
   "source": [
    "fruits= ['apple', 'banana', 'orange','apple', 'banana', 'orange']\n",
    "new_fruits = fruits.copy()"
   ]
  },
  {
   "cell_type": "code",
   "execution_count": 89,
   "id": "eb04e8ac-11b8-4b23-bb6a-9bff0935a5c8",
   "metadata": {},
   "outputs": [
    {
     "data": {
      "text/plain": [
       "(['apple', 'banana', 'orange', 'apple', 'banana', 'orange'],\n",
       " ['apple', 'banana', 'orange', 'apple', 'banana', 'orange'])"
      ]
     },
     "execution_count": 89,
     "metadata": {},
     "output_type": "execute_result"
    }
   ],
   "source": [
    "new_fruits, fruits"
   ]
  },
  {
   "cell_type": "code",
   "execution_count": 90,
   "id": "66dc0eaf-2941-4d9c-a38d-23c8747a2ebb",
   "metadata": {},
   "outputs": [],
   "source": [
    "new_fruits[0]= \"peculiar fruit\""
   ]
  },
  {
   "cell_type": "code",
   "execution_count": 91,
   "id": "524be8e6-83db-4167-9d50-02fdaf7435b2",
   "metadata": {},
   "outputs": [
    {
     "data": {
      "text/plain": [
       "(['peculiar fruit', 'banana', 'orange', 'apple', 'banana', 'orange'],\n",
       " ['apple', 'banana', 'orange', 'apple', 'banana', 'orange'])"
      ]
     },
     "execution_count": 91,
     "metadata": {},
     "output_type": "execute_result"
    }
   ],
   "source": [
    "new_fruits, fruits"
   ]
  },
  {
   "cell_type": "code",
   "execution_count": 92,
   "id": "e994c032-ed68-4cfb-b405-b13052c8ce52",
   "metadata": {},
   "outputs": [],
   "source": [
    "# Creating a List\n",
    "fruits = [\"apple\", \"banana\", \"orange\"]"
   ]
  },
  {
   "cell_type": "code",
   "execution_count": 93,
   "id": "6108ff34-40ea-478f-b0c1-d10975b07748",
   "metadata": {},
   "outputs": [
    {
     "name": "stdout",
     "output_type": "stream",
     "text": [
      "apple\n",
      "banana\n",
      "orange\n"
     ]
    }
   ],
   "source": [
    "# Accessing Elements\n",
    "print(fruits[0])  # Output: \"apple\"\n",
    "print(fruits[1])  # Output: \"banana\"\n",
    "print(fruits[-1]) # Output: \"orange\" (Negative index counts from the end)\n"
   ]
  },
  {
   "cell_type": "code",
   "execution_count": 94,
   "id": "057b38fa-b94c-467d-ba47-8a2a437d1c5f",
   "metadata": {},
   "outputs": [
    {
     "name": "stdout",
     "output_type": "stream",
     "text": [
      "['apple', 'grape', 'orange']\n"
     ]
    }
   ],
   "source": [
    "# Modifying Elements\n",
    "fruits[1] = \"grape\"\n",
    "print(fruits)  # Output: [\"apple\", \"grape\", \"orange\"]"
   ]
  },
  {
   "cell_type": "code",
   "execution_count": 95,
   "id": "62905f9c-cd17-46a8-9c8c-7185a9fdbb50",
   "metadata": {},
   "outputs": [
    {
     "name": "stdout",
     "output_type": "stream",
     "text": [
      "3\n"
     ]
    }
   ],
   "source": [
    "# List Length (Number of elements in the list)\n",
    "num_fruits = len(fruits)\n",
    "print(num_fruits)  # Output: 3"
   ]
  },
  {
   "cell_type": "code",
   "execution_count": 96,
   "id": "a40680c9-7a24-42be-8b15-2b09d5b92d59",
   "metadata": {},
   "outputs": [
    {
     "name": "stdout",
     "output_type": "stream",
     "text": [
      "['apple', 'grape', 'orange', 'mango']\n",
      "['apple', 'kiwi', 'grape', 'orange', 'mango']\n"
     ]
    }
   ],
   "source": [
    "# Adding Elements to the End of the List\n",
    "fruits.append(\"mango\")\n",
    "print(fruits)  # Output: [\"apple\", \"grape\", \"orange\", \"mango\"]\n",
    "\n",
    "# Inserting Element at a Specific Index\n",
    "fruits.insert(1, \"kiwi\")\n",
    "print(fruits)  # Output: [\"apple\", \"kiwi\", \"grape\", \"orange\", \"mango\"]"
   ]
  },
  {
   "cell_type": "code",
   "execution_count": 97,
   "id": "261f655b-f1e8-47bc-b86b-71fb5d2dcafe",
   "metadata": {},
   "outputs": [
    {
     "name": "stdout",
     "output_type": "stream",
     "text": [
      "['apple', 'grape', 'orange', 'mango']\n",
      "Removed Item: grape\n",
      "['apple', 'orange', 'mango']\n"
     ]
    }
   ],
   "source": [
    "# Removing Elements by Value\n",
    "fruits.remove(\"kiwi\")\n",
    "print(fruits)  # Output: [\"apple\", \"grape\", \"orange\", \"mango\"]\n",
    "\n",
    "# Removing Elements by Index\n",
    "removed_item = fruits.pop(1)\n",
    "print(\"Removed Item:\", removed_item)  # Output: \"grape\"\n",
    "print(fruits)  # Output: [\"apple\", \"orange\", \"mango\"]"
   ]
  },
  {
   "cell_type": "code",
   "execution_count": 98,
   "id": "b9b47499-28c0-4e3e-816d-db20be7b9827",
   "metadata": {},
   "outputs": [
    {
     "name": "stdout",
     "output_type": "stream",
     "text": [
      "['orange', 'mango']\n",
      "['apple', 'mango']\n"
     ]
    }
   ],
   "source": [
    "# Slicing Lists\n",
    "subset = fruits[1:3]\n",
    "print(subset)  # Output: [\"orange\", \"mango\"]\n",
    "\n",
    "# Slicing with a Step\n",
    "every_other = fruits[::2]\n",
    "print(every_other)  # Output: [\"apple\", \"mango\"]"
   ]
  },
  {
   "cell_type": "code",
   "execution_count": 99,
   "id": "025c6fed-66d6-41a6-9040-036b7714b2ee",
   "metadata": {},
   "outputs": [
    {
     "name": "stdout",
     "output_type": "stream",
     "text": [
      "['apple', 'orange', 'mango', 'kiwi', 'papaya']\n"
     ]
    }
   ],
   "source": [
    "# Concatenating Lists\n",
    "more_fruits = [\"kiwi\", \"papaya\"]\n",
    "all_fruits  = fruits + more_fruits\n",
    "print(all_fruits)  # Output: [\"apple\", \"orange\", \"mango\", \"kiwi\", \"papaya\"]\n"
   ]
  },
  {
   "cell_type": "code",
   "execution_count": 100,
   "id": "e5d6d1c1-9a66-488e-890a-3d4e3ac337cd",
   "metadata": {},
   "outputs": [
    {
     "data": {
      "text/plain": [
       "True"
      ]
     },
     "execution_count": 100,
     "metadata": {},
     "output_type": "execute_result"
    }
   ],
   "source": [
    "\"apple\" in fruits"
   ]
  },
  {
   "cell_type": "code",
   "execution_count": 101,
   "id": "c36ed197-1188-43de-b4ad-b36609ccf326",
   "metadata": {},
   "outputs": [
    {
     "name": "stdout",
     "output_type": "stream",
     "text": [
      "True\n",
      "True\n"
     ]
    }
   ],
   "source": [
    "# List Membership (Checking if an element is present in the list)\n",
    "print(\"apple\" in fruits)       # Output: True\n",
    "print(\"banana\" not in fruits)  # Output: True\n"
   ]
  },
  {
   "cell_type": "code",
   "execution_count": 102,
   "id": "7a27736f-3ab6-4169-87f5-45dc1ac7ce6d",
   "metadata": {},
   "outputs": [
    {
     "name": "stdout",
     "output_type": "stream",
     "text": [
      "['apple', 'mango', 'orange']\n"
     ]
    }
   ],
   "source": [
    "# Sorting the List (in-place)\n",
    "fruits.sort()\n",
    "print(fruits)  # Output: [\"apple\", \"mango\", \"orange\"]"
   ]
  },
  {
   "cell_type": "code",
   "execution_count": 103,
   "id": "da4c6fa0-e763-4f5c-8206-1ff300c084a8",
   "metadata": {},
   "outputs": [
    {
     "name": "stdout",
     "output_type": "stream",
     "text": [
      "1\n"
     ]
    }
   ],
   "source": [
    "# Counting Occurrences of an Element in the List\n",
    "num_oranges = fruits.count(\"orange\")\n",
    "print(num_oranges)  # Output: 1"
   ]
  },
  {
   "cell_type": "code",
   "execution_count": null,
   "id": "0baf5ac3-f3b2-496a-a7ac-91af4442f5f8",
   "metadata": {},
   "outputs": [],
   "source": []
  },
  {
   "cell_type": "code",
   "execution_count": null,
   "id": "496db9ab-1454-4d89-885f-3771287b80ee",
   "metadata": {},
   "outputs": [],
   "source": []
  }
 ],
 "metadata": {
  "kernelspec": {
   "display_name": "Python 3 (ipykernel)",
   "language": "python",
   "name": "python3"
  },
  "language_info": {
   "codemirror_mode": {
    "name": "ipython",
    "version": 3
   },
   "file_extension": ".py",
   "mimetype": "text/x-python",
   "name": "python",
   "nbconvert_exporter": "python",
   "pygments_lexer": "ipython3",
   "version": "3.12.4"
  }
 },
 "nbformat": 4,
 "nbformat_minor": 5
}
