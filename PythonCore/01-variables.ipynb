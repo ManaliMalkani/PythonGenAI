{
 "cells": [
  {
   "cell_type": "markdown",
   "id": "29157917-d95e-4de5-9eb7-fa497a01d43d",
   "metadata": {},
   "source": [
    "--------------------\n",
    "### working with variables\n",
    "----------------------\n",
    "\n",
    "In Python, creating a variable is a simple process. \n",
    "\n",
    "To define a variable, you provide a name for it and assign a value using the equal sign (=). \n",
    "\n",
    "Unlike some other programming languages, Python is dynamically typed, which means you don't need to explicitly specify the data type when creating a variable. \n",
    "\n",
    "The Python interpreter automatically determines the type based on the assigned value."
   ]
  },
  {
   "cell_type": "markdown",
   "id": "7a35a872-2495-44dc-8fe1-30a073020edb",
   "metadata": {},
   "source": [
    "**Variable assignment**"
   ]
  },
  {
   "cell_type": "code",
   "execution_count": 3,
   "id": "4ed0c2bd-d7c3-4104-a49f-56930a84fc55",
   "metadata": {},
   "outputs": [],
   "source": [
    "age        = 30\n",
    "name       = \"John Doe\"\n",
    "is_student = True"
   ]
  },
  {
   "cell_type": "markdown",
   "id": "10a78249-b321-4f95-85bc-dae60a8d939b",
   "metadata": {},
   "source": [
    "**get memory address of variable**"
   ]
  },
  {
   "cell_type": "code",
   "execution_count": 5,
   "id": "109b6007-4be8-4405-8137-ca775deaaaf6",
   "metadata": {},
   "outputs": [
    {
     "data": {
      "text/plain": [
       "4302611976"
      ]
     },
     "execution_count": 5,
     "metadata": {},
     "output_type": "execute_result"
    }
   ],
   "source": [
    "id(age)"
   ]
  },
  {
   "cell_type": "markdown",
   "id": "384304c0-3a42-4cd6-bfa9-aae4aef8bf18",
   "metadata": {},
   "source": [
    "**Variables referring same address**"
   ]
  },
  {
   "cell_type": "code",
   "execution_count": 7,
   "id": "933efe1b-44ea-4a9a-bcd3-8081b2d69b72",
   "metadata": {},
   "outputs": [],
   "source": [
    "another_age = age"
   ]
  },
  {
   "cell_type": "code",
   "execution_count": 8,
   "id": "c5f2c810-3dfb-4821-b126-893b9bb0b2f9",
   "metadata": {},
   "outputs": [
    {
     "data": {
      "text/plain": [
       "(4302611976, 4302611976)"
      ]
     },
     "execution_count": 8,
     "metadata": {},
     "output_type": "execute_result"
    }
   ],
   "source": [
    "id(age), id(another_age)"
   ]
  },
  {
   "cell_type": "markdown",
   "id": "53c3ca3a-5702-4ed8-97c7-e31a49c025dd",
   "metadata": {},
   "source": [
    "but ..."
   ]
  },
  {
   "cell_type": "code",
   "execution_count": 10,
   "id": "ee8c4ef3-da21-417e-8cdc-483cd97dd763",
   "metadata": {},
   "outputs": [],
   "source": [
    "another_age = age\n",
    "age         = age -1"
   ]
  },
  {
   "cell_type": "code",
   "execution_count": 11,
   "id": "da474c59-b127-4352-992d-d91221e7d371",
   "metadata": {},
   "outputs": [
    {
     "data": {
      "text/plain": [
       "(4302611944, 4302611976)"
      ]
     },
     "execution_count": 11,
     "metadata": {},
     "output_type": "execute_result"
    }
   ],
   "source": [
    "id(age), id(another_age)"
   ]
  },
  {
   "cell_type": "markdown",
   "id": "f06a2581-e0b1-422f-bd91-4ded9c868b9e",
   "metadata": {},
   "source": [
    "**Variable Naming and Rules**"
   ]
  },
  {
   "cell_type": "markdown",
   "id": "8e7a1787-f9d4-47c0-b3e3-c7b356f09c86",
   "metadata": {},
   "source": [
    "`Valid characters`: Variable names can consist of letters (both lowercase and uppercase), digits, and underscores. They must start with a letter or an underscore but cannot begin with a digit.\n",
    "\n",
    "`Case sensitivity`: Python is case-sensitive, meaning variables named \"myVar\" and \"myvar\" are treated as different variables.\n",
    "\n",
    "`Reserved words`: You cannot use Python reserved words (keywords) as variable names. Examples of reserved words include \"if,\" \"else,\" \"while,\" \"for,\" \"def,\" \"class,\" \"import,\" and so on.\n",
    "\n",
    "`Length`: Variable names can be of any length, but it's best to keep them concise and descriptive.\n",
    "\n",
    "`Avoid special characters`: Special characters like spaces, hyphens, or punctuation marks are not allowed in variable names. Use `underscores` instead.\n",
    "\n",
    "`Meaningful names`: Choose descriptive and meaningful names for your variables to make the code more readable and maintainable"
   ]
  },
  {
   "cell_type": "markdown",
   "id": "849131e8-0494-4486-b455-e30cfa1ad303",
   "metadata": {},
   "source": [
    "`valid variable names`"
   ]
  },
  {
   "cell_type": "code",
   "execution_count": 15,
   "id": "87a2a734-c0b3-41e2-b105-1edd08a67074",
   "metadata": {},
   "outputs": [],
   "source": [
    "age          = 25\n",
    "name         = \"John\"\n",
    "is_student   = True\n",
    "counter_1    = 0\n",
    "total_amount = 100.50"
   ]
  },
  {
   "cell_type": "markdown",
   "id": "d13be5b1-d7b5-4b48-9eef-5f039ec1a0f8",
   "metadata": {},
   "source": [
    "`invalid variable names`"
   ]
  },
  {
   "cell_type": "code",
   "execution_count": 17,
   "id": "5248d1a5-2bfb-41f0-95ad-cb908467c090",
   "metadata": {},
   "outputs": [],
   "source": [
    "# 1st_variable = 10     # Cannot start with a digit\n",
    "# for = \"loop\"          # \"for\" is a reserved word\n",
    "# my-variable = 5       # Hyphens are not allowed\n",
    "# total$ = 50           # Special characters ($) are not allowed"
   ]
  },
  {
   "cell_type": "code",
   "execution_count": null,
   "id": "aada5c3c-7fb9-4c19-8b72-68677b2ca063",
   "metadata": {},
   "outputs": [],
   "source": []
  }
 ],
 "metadata": {
  "kernelspec": {
   "display_name": "Python 3 (ipykernel)",
   "language": "python",
   "name": "python3"
  },
  "language_info": {
   "codemirror_mode": {
    "name": "ipython",
    "version": 3
   },
   "file_extension": ".py",
   "mimetype": "text/x-python",
   "name": "python",
   "nbconvert_exporter": "python",
   "pygments_lexer": "ipython3",
   "version": "3.12.4"
  }
 },
 "nbformat": 4,
 "nbformat_minor": 5
}
