{
 "cells": [
  {
   "cell_type": "markdown",
   "id": "e8af4f44-cc4b-4f1b-8f50-71c8c764f828",
   "metadata": {},
   "source": [
    "----------------------\n",
    "#### Dyamic Typing\n",
    "-----------------------\n",
    "\n",
    "- Dynamic typing is a feature of programming languages where the data type of a variable is determined at runtime, and it can change during the execution of a program. \n",
    "\n",
    "- Python is a dynamically typed language, which means that you don't need to explicitly declare the data type of a variable before using it. \n",
    "\n",
    "- The type of a variable is automatically inferred based on the value assigned to it."
   ]
  },
  {
   "cell_type": "code",
   "execution_count": 2,
   "id": "3e89140a-04be-4c24-99db-7faea60b7da1",
   "metadata": {},
   "outputs": [
    {
     "name": "stdout",
     "output_type": "stream",
     "text": [
      "Variable x contains: 10 with data type: <class 'int'>\n",
      "Variable x contains: Hello, World! with data type: <class 'str'>\n",
      "Variable x contains: 3.14 with data type: <class 'float'>\n"
     ]
    }
   ],
   "source": [
    "# Initially, variable 'x' is assigned an integer value\n",
    "x = 10\n",
    "print(\"Variable x contains:\", x, \"with data type:\", type(x))\n",
    "\n",
    "# Now, we can reassign 'x' to a string\n",
    "x = \"Hello, World!\"\n",
    "print(\"Variable x contains:\", x, \"with data type:\", type(x))\n",
    "\n",
    "# Later on, we can reassign 'x' to a float\n",
    "x = 3.14\n",
    "print(\"Variable x contains:\", x, \"with data type:\", type(x))"
   ]
  },
  {
   "cell_type": "markdown",
   "id": "a25e5f9e-203e-470a-beac-98ce4c0e5ec3",
   "metadata": {},
   "source": [
    "- This dynamic typing feature in Python allows for flexibility and concise code, as you don't need to explicitly declare data types for variables, and you can easily change the data stored in a variable as needed during the program's execution. \n",
    "\n",
    "- However, it also requires careful attention to ensure that variables contain the expected data type at any given point in the code."
   ]
  },
  {
   "cell_type": "code",
   "execution_count": 6,
   "id": "b07bbcf6-8fc5-4ffa-84cb-2c9232c66a51",
   "metadata": {},
   "outputs": [
    {
     "name": "stdout",
     "output_type": "stream",
     "text": [
      "Message: Hello, John\n",
      "Name as string: John\n"
     ]
    }
   ],
   "source": [
    "# Dynamic Typing with Strings and Lists\n",
    "\n",
    "greeting = \"Hello, \"\n",
    "name = \"John\"\n",
    "\n",
    "# Concatenate the strings\n",
    "message = greeting + name\n",
    "print(\"Message:\", message)  # Output: \"Hello, John\"\n",
    "\n",
    "# Reassign 'name' as a list\n",
    "name = [\"J\", \"o\", \"h\", \"n\"]\n",
    "\n",
    "# Concatenate the list elements to create a string\n",
    "name_string = \"\".join(name)\n",
    "print(\"Name as string:\", name_string)  # Output: \"John\""
   ]
  },
  {
   "cell_type": "markdown",
   "id": "b7c55446-d59f-43f2-8305-adf465354910",
   "metadata": {},
   "source": [
    "**type conversion**\n",
    "\n",
    "- Type casting is useful when you need to ensure that the variable has a specific data type before performing certain operations or when converting user inputs from strings to numerical types for calculations."
   ]
  },
  {
   "cell_type": "code",
   "execution_count": 9,
   "id": "c7aafc55-c1b3-4085-aa98-2ca935530a4e",
   "metadata": {},
   "outputs": [
    {
     "name": "stdout",
     "output_type": "stream",
     "text": [
      "10\n"
     ]
    }
   ],
   "source": [
    "num_str = \"10\"\n",
    "num_int = int(num_str)\n",
    "print(num_int)  # Output: 10"
   ]
  },
  {
   "cell_type": "code",
   "execution_count": 11,
   "id": "04f84a8c-1aca-4dca-854c-a122bf0b9dc7",
   "metadata": {},
   "outputs": [
    {
     "name": "stdout",
     "output_type": "stream",
     "text": [
      "3.14\n"
     ]
    }
   ],
   "source": [
    "num_str = \"3.14\"\n",
    "num_float = float(num_str)\n",
    "print(num_float)  # Output: 3.14"
   ]
  },
  {
   "cell_type": "code",
   "execution_count": 15,
   "id": "f2fa9354-43d5-47cc-a663-c31089560ef0",
   "metadata": {},
   "outputs": [
    {
     "name": "stdout",
     "output_type": "stream",
     "text": [
      "42\n"
     ]
    }
   ],
   "source": [
    "num_int = 42\n",
    "num_str = str(num_int)\n",
    "print(num_str)  # Output: \"42\""
   ]
  },
  {
   "cell_type": "code",
   "execution_count": 17,
   "id": "1190d497-916a-4bc4-a192-0d4a606e4a0e",
   "metadata": {},
   "outputs": [
    {
     "name": "stdout",
     "output_type": "stream",
     "text": [
      "True\n"
     ]
    }
   ],
   "source": [
    "value = 1\n",
    "value_bool = bool(value)\n",
    "print(value_bool)  # Output: True"
   ]
  },
  {
   "cell_type": "code",
   "execution_count": 19,
   "id": "3f557aac-2e1c-45e0-bae5-13cf44dfcc4c",
   "metadata": {},
   "outputs": [
    {
     "name": "stdout",
     "output_type": "stream",
     "text": [
      "['1', '2', '3', '4', '5']\n",
      "('1', '2', '3', '4', '5')\n",
      "{'4', '3', '5', '1', '2'}\n"
     ]
    }
   ],
   "source": [
    "# List\n",
    "numbers_str = \"1 2 3 4 5\"\n",
    "numbers_list = list(numbers_str.split())\n",
    "print(numbers_list)  # Output: ['1', '2', '3', '4', '5']\n",
    "\n",
    "# Tuple\n",
    "numbers_tuple = tuple(numbers_list)\n",
    "print(numbers_tuple)  # Output: ('1', '2', '3', '4', '5')\n",
    "\n",
    "# Set\n",
    "numbers_set = set(numbers_list)\n",
    "print(numbers_set)    # Output: {'1', '2', '3', '4', '5'}"
   ]
  },
  {
   "cell_type": "code",
   "execution_count": 21,
   "id": "2691fd41-7b6e-425d-a562-0aac72be9f49",
   "metadata": {},
   "outputs": [
    {
     "name": "stdout",
     "output_type": "stream",
     "text": [
      "{'apple': 1, 'banana': 2, 'orange': 3}\n"
     ]
    }
   ],
   "source": [
    "# List of tuples\n",
    "items_list = [('apple', 1), ('banana', 2), ('orange', 3)]\n",
    "items_dict = dict(items_list)\n",
    "print(items_dict)  # Output: {'apple': 1, 'banana': 2, 'orange': 3}"
   ]
  },
  {
   "cell_type": "markdown",
   "id": "e21fd10e-b36c-415b-bf89-ff85c33e3238",
   "metadata": {},
   "source": [
    "**Best Practices**\n",
    "\n",
    "1. Use `descriptive` variable names: Choose meaningful names for variables to make your code more readable. Clear variable names can help you and other developers understand the purpose and expected data type of each variable.\n",
    "\n",
    "2. Handle `type` conversions explicitly: When converting between data types, use explicit type conversion functions like int(), float(), str(), etc., to make the code more readable and avoid potential errors.\n",
    "\n",
    "3. Use `type hints` (Python 3.5+): Python's type hinting allows you to annotate variables and function parameters with the expected data types. While type hints are not enforced by the interpreter, they can serve as documentation and help IDEs provide better code suggestions and error checking."
   ]
  },
  {
   "cell_type": "code",
   "execution_count": 24,
   "id": "e28128b0-578a-49ce-bd00-cd723ac41c15",
   "metadata": {},
   "outputs": [],
   "source": [
    "def add_numbers(a: int, b: int) -> int:\n",
    "    return a + b"
   ]
  },
  {
   "cell_type": "markdown",
   "id": "34f9a9b4-d0d4-40ea-a5c4-6ec16bb1bdc1",
   "metadata": {},
   "source": [
    "4. Be mindful of error handling: Since Python allows dynamic typing, errors related to incorrect data types may occur at runtime. Properly handle these potential errors to prevent unexpected behavior."
   ]
  },
  {
   "cell_type": "code",
   "execution_count": null,
   "id": "4752cf0e-ca24-4551-a926-9cab19cd5236",
   "metadata": {},
   "outputs": [],
   "source": []
  }
 ],
 "metadata": {
  "kernelspec": {
   "display_name": "Python 3 (ipykernel)",
   "language": "python",
   "name": "python3"
  },
  "language_info": {
   "codemirror_mode": {
    "name": "ipython",
    "version": 3
   },
   "file_extension": ".py",
   "mimetype": "text/x-python",
   "name": "python",
   "nbconvert_exporter": "python",
   "pygments_lexer": "ipython3",
   "version": "3.12.4"
  }
 },
 "nbformat": 4,
 "nbformat_minor": 5
}
